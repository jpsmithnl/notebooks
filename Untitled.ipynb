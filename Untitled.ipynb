{
 "cells": [
  {
   "cell_type": "markdown",
   "metadata": {},
   "source": [
    "## Overview\n",
    "* Background\n",
    "* Interpretability and Explainability\n",
    "  * background\n",
    "    * Right to explanation / Transparency\n",
    "    * Saving yourself headaches\n",
    "  * Interpretability vs explainability\n",
    "  * Implicitly interpretable models\n",
    "  * Review of model agnostic methods\n",
    "  * Example based explanations\n",
    "* Ethical considerations\n",
    "  * Fairness\n",
    "  * Privacy\n",
    "  * Trust\n",
    "  * Inclusion\n",
    "* Design with AI\n",
    "  * Human centered AI\n",
    "  * UX of AI"
   ]
  }
 ],
 "metadata": {
  "kernelspec": {
   "display_name": "notebooks",
   "language": "python",
   "name": "notebooks"
  },
  "language_info": {
   "codemirror_mode": {
    "name": "ipython",
    "version": 3
   },
   "file_extension": ".py",
   "mimetype": "text/x-python",
   "name": "python",
   "nbconvert_exporter": "python",
   "pygments_lexer": "ipython3",
   "version": "3.6.4"
  }
 },
 "nbformat": 4,
 "nbformat_minor": 2
}
