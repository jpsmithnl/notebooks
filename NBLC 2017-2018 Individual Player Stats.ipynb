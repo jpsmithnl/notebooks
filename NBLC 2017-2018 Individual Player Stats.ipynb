<!DOCTYPE html>
<html>
<head><meta charset="utf-8" />
<title>NBLC 2017-2018 Individual Player Stats</title><script src="https://cdnjs.cloudflare.com/ajax/libs/require.js/2.1.10/require.min.js"></script>
<script src="https://cdnjs.cloudflare.com/ajax/libs/jquery/2.0.3/jquery.min.js"></script>

<style type="text/css">
    /*!
*
* Twitter Bootstrap
*
*/
/*!
 * Bootstrap v3.3.7 (http://getbootstrap.com)
 * Copyright 2011-2016 Twitter, Inc.
 * Licensed under MIT (https://github.com/twbs/bootstrap/blob/master/LICENSE)
 */
/*! normalize.css v3.0.3 | MIT License | github.com/necolas/normalize.css */
html {
  font-family: sans-serif;
  -ms-text-size-adjust: 100%;
  -webkit-text-size-adjust: 100%;
}
body {
  margin: 0;
}
article,
aside,
details,
figcaption,
figure,
footer,
header,
hgroup,
main,
menu,
nav,
section,
summary {
  display: block;
}
audio,
canvas,
progress,
video {
  display: inline-block;
  vertical-align: baseline;
}
audio:not([controls]) {
  display: none;
  height: 0;
}
[hidden],
template {
  display: none;
}
a {
  background-color: transparent;
}
a:active,
a:hover {
  outline: 0;
}
abbr[title] {
  border-bottom: 1px dotted;
}
b,
strong {
  font-weight: bold;
}
dfn {
  font-style: italic;
}
h1 {
  font-size: 2em;
  margin: 0.67em 0;
}
mark {
  background: #ff0;
  color: #000;
}
small {
  font-size: 80%;
}
sub,
sup {
  font-size: 75%;
  line-height: 0;
  position: relative;
  vertical-align: baseline;
}
sup {
  top: -0.5em;
}
sub {
  bottom: -0.25em;
}
img {
  border: 0;
}
svg:not(:root) {
  overflow: hidden;
}
figure {
  margin: 1em 40px;
}
hr {
  box-sizing: content-box;
  height: 0;
}
pre {
  overflow: auto;
}
code,
kbd,
pre,
samp {
  font-family: monospace, monospace;
  font-size: 1em;
}
button,
input,
optgroup,
select,
textarea {
  color: inherit;
  font: inherit;
  margin: 0;
}
button {
  overflow: visible;
}
button,
select {
  text-transform: none;
}
button,
html input[type="button"],
input[type="reset"],
input[type="submit"] {
  -webkit-appearance: button;
  cursor: pointer;
}
button[disabled],
html input[disabled] {
  cursor: default;
}
button::-moz-focus-inner,
input::-moz-focus-inner {
  border: 0;
  padding: 0;
}
input {
  line-height: normal;
}
input[type="checkbox"],
input[type="radio"] {
  box-sizing: border-box;
  padding: 0;
}
input[type="number"]::-webkit-inner-spin-button,
input[type="number"]::-webkit-outer-spin-button {
  height: auto;
}
input[type="search"] {
  -webkit-appearance: textfield;
  box-sizing: content-box;
}
input[type="search"]::-webkit-search-cancel-button,
input[type="search"]::-webkit-search-decoration {
  -webkit-appearance: none;
}
fieldset {
  border: 1px solid #c0c0c0;
  margin: 0 2px;
  padding: 0.35em 0.625em 0.75em;
}
legend {
  border: 0;
  padding: 0;
}
textarea {
  overflow: auto;
}
optgroup {
  font-weight: bold;
}
table {
  border-collapse: collapse;
  border-spacing: 0;
}
td,
th {
  padding: 0;
}
/*! Source: https://github.com/h5bp/html5-boilerplate/blob/master/src/css/main.css */
@media print {
  *,
  *:before,
  *:after {
    background: transparent !important;
    color: #000 !important;
    box-shadow: none !important;
    text-shadow: none !important;
  }
  a,
  a:visited {
    text-decoration: underline;
  }
  a[href]:after {
    content: " (" attr(href) ")";
  }
  abbr[title]:after {
    content: " (" attr(title) ")";
  }
  a[href^="#"]:after,
  a[href^="javascript:"]:after {
    content: "";
  }
  pre,
  blockquote {
    border: 1px solid #999;
    page-break-inside: avoid;
  }
  thead {
    display: table-header-group;
  }
  tr,
  img {
    page-break-inside: avoid;
  }
  img {
    max-width: 100% !important;
  }
  p,
  h2,
  h3 {
    orphans: 3;
    widows: 3;
  }
  h2,
  h3 {
    page-break-after: avoid;
  }
  .navbar {
    display: none;
  }
  .btn > .caret,
  .dropup > .btn > .caret {
    border-top-color: #000 !important;
  }
  .label {
    border: 1px solid #000;
  }
  .table {
    border-collapse: collapse !important;
  }
  .table td,
  .table th {
    background-color: #fff !important;
  }
  .table-bordered th,
  .table-bordered td {
    border: 1px solid #ddd !important;
  }
}
@font-face {
  font-family: 'Glyphicons Halflings';
  src: url('../components/bootstrap/fonts/glyphicons-halflings-regular.eot');
  src: url('../components/bootstrap/fonts/glyphicons-halflings-regular.eot?#iefix') format('embedded-opentype'), url('../components/bootstrap/fonts/glyphicons-halflings-regular.woff2') format('woff2'), url('../components/bootstrap/fonts/glyphicons-halflings-regular.woff') format('woff'), url('../components/bootstrap/fonts/glyphicons-halflings-regular.ttf') format('truetype'), url('../components/bootstrap/fonts/glyphicons-halflings-regular.svg#glyphicons_halflingsregular') format('svg');
}
.glyphicon {
  position: relative;
  top: 1px;
  display: inline-block;
  font-family: 'Glyphicons Halflings';
  font-style: normal;
  font-weight: normal;
  line-height: 1;
  -webkit-font-smoothing: antialiased;
  -moz-osx-font-smoothing: grayscale;
}
.glyphicon-asterisk:before {
  content: "\002a";
}
.glyphicon-plus:before {
  content: "\002b";
}
.glyphicon-euro:before,
.glyphicon-eur:before {
  content: "\20ac";
}
.glyphicon-minus:before {
  content: "\2212";
}
.glyphicon-cloud:before {
  content: "\2601";
}
.glyphicon-envelope:before {
  content: "\2709";
}
.glyphicon-pencil:before {
  content: "\270f";
}
.glyphicon-glass:before {
  content: "\e001";
}
.glyphicon-music:before {
  content: "\e002";
}
.glyphicon-search:before {
  content: "\e003";
}
.glyphicon-heart:before {
  content: "\e005";
}
.glyphicon-star:before {
  content: "\e006";
}
.glyphicon-star-empty:before {
  content: "\e007";
}
.glyphicon-user:before {
  content: "\e008";
}
.glyphicon-film:before {
  content: "\e009";
}
.glyphicon-th-large:before {
  content: "\e010";
}
.glyphicon-th:before {
  content: "\e011";
}
.glyphicon-th-list:before {
  content: "\e012";
}
.glyphicon-ok:before {
  content: "\e013";
}
.glyphicon-remove:before {
  content: "\e014";
}
.glyphicon-zoom-in:before {
  content: "\e015";
}
.glyphicon-zoom-out:before {
  content: "\e016";
}
.glyphicon-off:before {
  content: "\e017";
}
.glyphicon-signal:before {
  content: "\e018";
}
.glyphicon-cog:before {
  content: "\e019";
}
.glyphicon-trash:before {
  content: "\e020";
}
.glyphicon-home:before {
  content: "\e021";
}
.glyphicon-file:before {
  content: "\e022";
}
.glyphicon-time:before {
  content: "\e023";
}
.glyphicon-road:before {
  content: "\e024";
}
.glyphicon-download-alt:before {
  content: "\e025";
}
.glyphicon-download:before {
  content: "\e026";
}
.glyphicon-upload:before {
  content: "\e027";
}
.glyphicon-inbox:before {
  content: "\e028";
}
.glyphicon-play-circle:before {
  content: "\e029";
}
.glyphicon-repeat:before {
  content: "\e030";
}
.glyphicon-refresh:before {
  content: "\e031";
}
.glyphicon-list-alt:before {
  content: "\e032";
}
.glyphicon-lock:before {
  content: "\e033";
}
.glyphicon-flag:before {
  content: "\e034";
}
.glyphicon-headphones:before {
  content: "\e035";
}
.glyphicon-volume-off:before {
  content: "\e036";
}
.glyphicon-volume-down:before {
  content: "\e037";
}
.glyphicon-volume-up:before {
  content: "\e038";
}
.glyphicon-qrcode:before {
  content: "\e039";
}
.glyphicon-barcode:before {
  content: "\e040";
}
.glyphicon-tag:before {
  content: "\e041";
}
.glyphicon-tags:before {
  content: "\e042";
}
.glyphicon-book:before {
  content: "\e043";
}
.glyphicon-bookmark:before {
  content: "\e044";
}
.glyphicon-print:before {
  content: "\e045";
}
.glyphicon-camera:before {
  content: "\e046";
}
.glyphicon-font:before {
  content: "\e047";
}
.glyphicon-bold:before {
  content: "\e048";
}
.glyphicon-italic:before {
  content: "\e049";
}
.glyphicon-text-height:before {
  content: "\e050";
}
.glyphicon-text-width:before {
  content: "\e051";
}
.glyphicon-align-left:before {
  content: "\e052";
}
.glyphicon-align-center:before {
  content: "\e053";
}
.glyphicon-align-right:before {
  content: "\e054";
}
.glyphicon-align-justify:before {
  content: "\e055";
}
.glyphicon-list:before {
  content: "\e056";
}
.glyphicon-indent-left:before {
  content: "\e057";
}
.glyphicon-indent-right:before {
  content: "\e058";
}
.glyphicon-facetime-video:before {
  content: "\e059";
}
.glyphicon-picture:before {
  content: "\e060";
}
.glyphicon-map-marker:before {
  content: "\e062";
}
.glyphicon-adjust:before {
  content: "\e063";
}
.glyphicon-tint:before {
  content: "\e064";
}
.glyphicon-edit:before {
  content: "\e065";
}
.glyphicon-share:before {
  content: "\e066";
}
.glyphicon-check:before {
  content: "\e067";
}
.glyphicon-move:before {
  content: "\e068";
}
.glyphicon-step-backward:before {
  content: "\e069";
}
.glyphicon-fast-backward:before {
  content: "\e070";
}
.glyphicon-backward:before {
  content: "\e071";
}
.glyphicon-play:before {
  content: "\e072";
}
.glyphicon-pause:before {
  content: "\e073";
}
.glyphicon-stop:before {
  content: "\e074";
}
.glyphicon-forward:before {
  content: "\e075";
}
.glyphicon-fast-forward:before {
  content: "\e076";
}
.glyphicon-step-forward:before {
  content: "\e077";
}
.glyphicon-eject:before {
  content: "\e078";
}
.glyphicon-chevron-left:before {
  content: "\e079";
}
.glyphicon-chevron-right:before {
  content: "\e080";
}
.glyphicon-plus-sign:before {
  content: "\e081";
}
.glyphicon-minus-sign:before {
  content: "\e082";
}
.glyphicon-remove-sign:before {
  content: "\e083";
}
.glyphicon-ok-sign:before {
  content: "\e084";
}
.glyphicon-question-sign:before {
  content: "\e085";
}
.glyphicon-info-sign:before {
  content: "\e086";
}
.glyphicon-screenshot:before {
  content: "\e087";
}
.glyphicon-remove-circle:before {
  content: "\e088";
}
.glyphicon-ok-circle:before {
  content: "\e089";
}
.glyphicon-ban-circle:before {
  content: "\e090";
}
.glyphicon-arrow-left:before {
  content: "\e091";
}
.glyphicon-arrow-right:before {
  content: "\e092";
}
.glyphicon-arrow-up:before {
  content: "\e093";
}
.glyphicon-arrow-down:before {
  content: "\e094";
}
.glyphicon-share-alt:before {
  content: "\e095";
}
.glyphicon-resize-full:before {
  content: "\e096";
}
.glyphicon-resize-small:before {
  content: "\e097";
}
.glyphicon-exclamation-sign:before {
  content: "\e101";
}
.glyphicon-gift:before {
  content: "\e102";
}
.glyphicon-leaf:before {
  content: "\e103";
}
.glyphicon-fire:before {
  content: "\e104";
}
.glyphicon-eye-open:before {
  content: "\e105";
}
.glyphicon-eye-close:before {
  content: "\e106";
}
.glyphicon-warning-sign:before {
  content: "\e107";
}
.glyphicon-plane:before {
  content: "\e108";
}
.glyphicon-calendar:before {
  content: "\e109";
}
.glyphicon-random:before {
  content: "\e110";
}
.glyphicon-comment:before {
  content: "\e111";
}
.glyphicon-magnet:before {
  content: "\e112";
}
.glyphicon-chevron-up:before {
  content: "\e113";
}
.glyphicon-chevron-down:before {
  content: "\e114";
}
.glyphicon-retweet:before {
  content: "\e115";
}
.glyphicon-shopping-cart:before {
  content: "\e116";
}
.glyphicon-folder-close:before {
  content: "\e117";
}
.glyphicon-folder-open:before {
  content: "\e118";
}
.glyphicon-resize-vertical:before {
  content: "\e119";
}
.glyphicon-resize-horizontal:before {
  content: "\e120";
}
.glyphicon-hdd:before {
  content: "\e121";
}
.glyphicon-bullhorn:before {
  content: "\e122";
}
.glyphicon-bell:before {
  content: "\e123";
}
.glyphicon-certificate:before {
  content: "\e124";
}
.glyphicon-thumbs-up:before {
  content: "\e125";
}
.glyphicon-thumbs-down:before {
  content: "\e126";
}
.glyphicon-hand-right:before {
  content: "\e127";
}
.glyphicon-hand-left:before {
  content: "\e128";
}
.glyphicon-hand-up:before {
  content: "\e129";
}
.glyphicon-hand-down:before {
  content: "\e130";
}
.glyphicon-circle-arrow-right:before {
  content: "\e131";
}
.glyphicon-circle-arrow-left:before {
  content: "\e132";
}
.glyphicon-circle-arrow-up:before {
  content: "\e133";
}
.glyphicon-circle-arrow-down:before {
  content: "\e134";
}
.glyphicon-globe:before {
  content: "\e135";
}
.glyphicon-wrench:before {
  content: "\e136";
}
.glyphicon-tasks:before {
  content: "\e137";
}
.glyphicon-filter:before {
  content: "\e138";
}
.glyphicon-briefcase:before {
  content: "\e139";
}
.glyphicon-fullscreen:before {
  content: "\e140";
}
.glyphicon-dashboard:before {
  content: "\e141";
}
.glyphicon-paperclip:before {
  content: "\e142";
}
.glyphicon-heart-empty:before {
  content: "\e143";
}
.glyphicon-link:before {
  content: "\e144";
}
.glyphicon-phone:before {
  content: "\e145";
}
.glyphicon-pushpin:before {
  content: "\e146";
}
.glyphicon-usd:before {
  content: "\e148";
}
.glyphicon-gbp:before {
  content: "\e149";
}
.glyphicon-sort:before {
  content: "\e150";
}
.glyphicon-sort-by-alphabet:before {
  content: "\e151";
}
.glyphicon-sort-by-alphabet-alt:before {
  content: "\e152";
}
.glyphicon-sort-by-order:before {
  content: "\e153";
}
.glyphicon-sort-by-order-alt:before {
  content: "\e154";
}
.glyphicon-sort-by-attributes:before {
  content: "\e155";
}
.glyphicon-sort-by-attributes-alt:before {
  content: "\e156";
}
.glyphicon-unchecked:before {
  content: "\e157";
}
.glyphicon-expand:before {
  content: "\e158";
}
.glyphicon-collapse-down:before {
  content: "\e159";
}
.glyphicon-collapse-up:before {
  content: "\e160";
}
.glyphicon-log-in:before {
  content: "\e161";
}
.glyphicon-flash:before {
  content: "\e162";
}
.glyphicon-log-out:before {
  content: "\e163";
}
.glyphicon-new-window:before {
  content: "\e164";
}
.glyphicon-record:before {
  content: "\e165";
}
.glyphicon-save:before {
  content: "\e166";
}
.glyphicon-open:before {
  content: "\e167";
}
.glyphicon-saved:before {
  content: "\e168";
}
.glyphicon-import:before {
  content: "\e169";
}
.glyphicon-export:before {
  content: "\e170";
}
.glyphicon-send:before {
  content: "\e171";
}
.glyphicon-floppy-disk:before {
  content: "\e172";
}
.glyphicon-floppy-saved:before {
  content: "\e173";
}
.glyphicon-floppy-remove:before {
  content: "\e174";
}
.glyphicon-floppy-save:before {
  content: "\e175";
}
.glyphicon-floppy-open:before {
  content: "\e176";
}
.glyphicon-credit-card:before {
  content: "\e177";
}
.glyphicon-transfer:before {
  content: "\e178";
}
.glyphicon-cutlery:before {
  content: "\e179";
}
.glyphicon-header:before {
  content: "\e180";
}
.glyphicon-compressed:before {
  content: "\e181";
}
.glyphicon-earphone:before {
  content: "\e182";
}
.glyphicon-phone-alt:before {
  content: "\e183";
}
.glyphicon-tower:before {
  content: "\e184";
}
.glyphicon-stats:before {
  content: "\e185";
}
.glyphicon-sd-video:before {
  content: "\e186";
}
.glyphicon-hd-video:before {
  content: "\e187";
}
.glyphicon-subtitles:before {
  content: "\e188";
}
.glyphicon-sound-stereo:before {
  content: "\e189";
}
.glyphicon-sound-dolby:before {
  content: "\e190";
}
.glyphicon-sound-5-1:before {
  content: "\e191";
}
.glyphicon-sound-6-1:before {
  content: "\e192";
}
.glyphicon-sound-7-1:before {
  content: "\e193";
}
.glyphicon-copyright-mark:before {
  content: "\e194";
}
.glyphicon-registration-mark:before {
  content: "\e195";
}
.glyphicon-cloud-download:before {
  content: "\e197";
}
.glyphicon-cloud-upload:before {
  content: "\e198";
}
.glyphicon-tree-conifer:before {
  content: "\e199";
}
.glyphicon-tree-deciduous:before {
  content: "\e200";
}
.glyphicon-cd:before {
  content: "\e201";
}
.glyphicon-save-file:before {
  content: "\e202";
}
.glyphicon-open-file:before {
  content: "\e203";
}
.glyphicon-level-up:before {
  content: "\e204";
}
.glyphicon-copy:before {
  content: "\e205";
}
.glyphicon-paste:before {
  content: "\e206";
}
.glyphicon-alert:before {
  content: "\e209";
}
.glyphicon-equalizer:before {
  content: "\e210";
}
.glyphicon-king:before {
  content: "\e211";
}
.glyphicon-queen:before {
  content: "\e212";
}
.glyphicon-pawn:before {
  content: "\e213";
}
.glyphicon-bishop:before {
  content: "\e214";
}
.glyphicon-knight:before {
  content: "\e215";
}
.glyphicon-baby-formula:before {
  content: "\e216";
}
.glyphicon-tent:before {
  content: "\26fa";
}
.glyphicon-blackboard:before {
  content: "\e218";
}
.glyphicon-bed:before {
  content: "\e219";
}
.glyphicon-apple:before {
  content: "\f8ff";
}
.glyphicon-erase:before {
  content: "\e221";
}
.glyphicon-hourglass:before {
  content: "\231b";
}
.glyphicon-lamp:before {
  content: "\e223";
}
.glyphicon-duplicate:before {
  content: "\e224";
}
.glyphicon-piggy-bank:before {
  content: "\e225";
}
.glyphicon-scissors:before {
  content: "\e226";
}
.glyphicon-bitcoin:before {
  content: "\e227";
}
.glyphicon-btc:before {
  content: "\e227";
}
.glyphicon-xbt:before {
  content: "\e227";
}
.glyphicon-yen:before {
  content: "\00a5";
}
.glyphicon-jpy:before {
  content: "\00a5";
}
.glyphicon-ruble:before {
  content: "\20bd";
}
.glyphicon-rub:before {
  content: "\20bd";
}
.glyphicon-scale:before {
  content: "\e230";
}
.glyphicon-ice-lolly:before {
  content: "\e231";
}
.glyphicon-ice-lolly-tasted:before {
  content: "\e232";
}
.glyphicon-education:before {
  content: "\e233";
}
.glyphicon-option-horizontal:before {
  content: "\e234";
}
.glyphicon-option-vertical:before {
  content: "\e235";
}
.glyphicon-menu-hamburger:before {
  content: "\e236";
}
.glyphicon-modal-window:before {
  content: "\e237";
}
.glyphicon-oil:before {
  content: "\e238";
}
.glyphicon-grain:before {
  content: "\e239";
}
.glyphicon-sunglasses:before {
  content: "\e240";
}
.glyphicon-text-size:before {
  content: "\e241";
}
.glyphicon-text-color:before {
  content: "\e242";
}
.glyphicon-text-background:before {
  content: "\e243";
}
.glyphicon-object-align-top:before {
  content: "\e244";
}
.glyphicon-object-align-bottom:before {
  content: "\e245";
}
.glyphicon-object-align-horizontal:before {
  content: "\e246";
}
.glyphicon-object-align-left:before {
  content: "\e247";
}
.glyphicon-object-align-vertical:before {
  content: "\e248";
}
.glyphicon-object-align-right:before {
  content: "\e249";
}
.glyphicon-triangle-right:before {
  content: "\e250";
}
.glyphicon-triangle-left:before {
  content: "\e251";
}
.glyphicon-triangle-bottom:before {
  content: "\e252";
}
.glyphicon-triangle-top:before {
  content: "\e253";
}
.glyphicon-console:before {
  content: "\e254";
}
.glyphicon-superscript:before {
  content: "\e255";
}
.glyphicon-subscript:before {
  content: "\e256";
}
.glyphicon-menu-left:before {
  content: "\e257";
}
.glyphicon-menu-right:before {
  content: "\e258";
}
.glyphicon-menu-down:before {
  content: "\e259";
}
.glyphicon-menu-up:before {
  content: "\e260";
}
* {
  -webkit-box-sizing: border-box;
  -moz-box-sizing: border-box;
  box-sizing: border-box;
}
*:before,
*:after {
  -webkit-box-sizing: border-box;
  -moz-box-sizing: border-box;
  box-sizing: border-box;
}
html {
  font-size: 10px;
  -webkit-tap-highlight-color: rgba(0, 0, 0, 0);
}
body {
  font-family: "Helvetica Neue", Helvetica, Arial, sans-serif;
  font-size: 13px;
  line-height: 1.42857143;
  color: #000;
  background-color: #fff;
}
input,
button,
select,
textarea {
  font-family: inherit;
  font-size: inherit;
  line-height: inherit;
}
a {
  color: #337ab7;
  text-decoration: none;
}
a:hover,
a:focus {
  color: #23527c;
  text-decoration: underline;
}
a:focus {
  outline: 5px auto -webkit-focus-ring-color;
  outline-offset: -2px;
}
figure {
  margin: 0;
}
img {
  vertical-align: middle;
}
.img-responsive,
.thumbnail > img,
.thumbnail a > img,
.carousel-inner > .item > img,
.carousel-inner > .item > a > img {
  display: block;
  max-width: 100%;
  height: auto;
}
.img-rounded {
  border-radius: 3px;
}
.img-thumbnail {
  padding: 4px;
  line-height: 1.42857143;
  background-color: #fff;
  border: 1px solid #ddd;
  border-radius: 2px;
  -webkit-transition: all 0.2s ease-in-out;
  -o-transition: all 0.2s ease-in-out;
  transition: all 0.2s ease-in-out;
  display: inline-block;
  max-width: 100%;
  height: auto;
}
.img-circle {
  border-radius: 50%;
}
hr {
  margin-top: 18px;
  margin-bottom: 18px;
  border: 0;
  border-top: 1px solid #eeeeee;
}
.sr-only {
  position: absolute;
  width: 1px;
  height: 1px;
  margin: -1px;
  padding: 0;
  overflow: hidden;
  clip: rect(0, 0, 0, 0);
  border: 0;
}
.sr-only-focusable:active,
.sr-only-focusable:focus {
  position: static;
  width: auto;
  height: auto;
  margin: 0;
  overflow: visible;
  clip: auto;
}
[role="button"] {
  cursor: pointer;
}
h1,
h2,
h3,
h4,
h5,
h6,
.h1,
.h2,
.h3,
.h4,
.h5,
.h6 {
  font-family: inherit;
  font-weight: 500;
  line-height: 1.1;
  color: inherit;
}
h1 small,
h2 small,
h3 small,
h4 small,
h5 small,
h6 small,
.h1 small,
.h2 small,
.h3 small,
.h4 small,
.h5 small,
.h6 small,
h1 .small,
h2 .small,
h3 .small,
h4 .small,
h5 .small,
h6 .small,
.h1 .small,
.h2 .small,
.h3 .small,
.h4 .small,
.h5 .small,
.h6 .small {
  font-weight: normal;
  line-height: 1;
  color: #777777;
}
h1,
.h1,
h2,
.h2,
h3,
.h3 {
  margin-top: 18px;
  margin-bottom: 9px;
}
h1 small,
.h1 small,
h2 small,
.h2 small,
h3 small,
.h3 small,
h1 .small,
.h1 .small,
h2 .small,
.h2 .small,
h3 .small,
.h3 .small {
  font-size: 65%;
}
h4,
.h4,
h5,
.h5,
h6,
.h6 {
  margin-top: 9px;
  margin-bottom: 9px;
}
h4 small,
.h4 small,
h5 small,
.h5 small,
h6 small,
.h6 small,
h4 .small,
.h4 .small,
h5 .small,
.h5 .small,
h6 .small,
.h6 .small {
  font-size: 75%;
}
h1,
.h1 {
  font-size: 33px;
}
h2,
.h2 {
  font-size: 27px;
}
h3,
.h3 {
  font-size: 23px;
}
h4,
.h4 {
  font-size: 17px;
}
h5,
.h5 {
  font-size: 13px;
}
h6,
.h6 {
  font-size: 12px;
}
p {
  margin: 0 0 9px;
}
.lead {
  margin-bottom: 18px;
  font-size: 14px;
  font-weight: 300;
  line-height: 1.4;
}
@media (min-width: 768px) {
  .lead {
    font-size: 19.5px;
  }
}
small,
.small {
  font-size: 92%;
}
mark,
.mark {
  background-color: #fcf8e3;
  padding: .2em;
}
.text-left {
  text-align: left;
}
.text-right {
  text-align: right;
}
.text-center {
  text-align: center;
}
.text-justify {
  text-align: justify;
}
.text-nowrap {
  white-space: nowrap;
}
.text-lowercase {
  text-transform: lowercase;
}
.text-uppercase {
  text-transform: uppercase;
}
.text-capitalize {
  text-transform: capitalize;
}
.text-muted {
  color: #777777;
}
.text-primary {
  color: #337ab7;
}
a.text-primary:hover,
a.text-primary:focus {
  color: #286090;
}
.text-success {
  color: #3c763d;
}
a.text-success:hover,
a.text-success:focus {
  color: #2b542c;
}
.text-info {
  color: #31708f;
}
a.text-info:hover,
a.text-info:focus {
  color: #245269;
}
.text-warning {
  color: #8a6d3b;
}
a.text-warning:hover,
a.text-warning:focus {
  color: #66512c;
}
.text-danger {
  color: #a94442;
}
a.text-danger:hover,
a.text-danger:focus {
  color: #843534;
}
.bg-primary {
  color: #fff;
  background-color: #337ab7;
}
a.bg-primary:hover,
a.bg-primary:focus {
  background-color: #286090;
}
.bg-success {
  background-color: #dff0d8;
}
a.bg-success:hover,
a.bg-success:focus {
  background-color: #c1e2b3;
}
.bg-info {
  background-color: #d9edf7;
}
a.bg-info:hover,
a.bg-info:focus {
  background-color: #afd9ee;
}
.bg-warning {
  background-color: #fcf8e3;
}
a.bg-warning:hover,
a.bg-warning:focus {
  background-color: #f7ecb5;
}
.bg-danger {
  background-color: #f2dede;
}
a.bg-danger:hover,
a.bg-danger:focus {
  background-color: #e4b9b9;
}
.page-header {
  padding-bottom: 8px;
  margin: 36px 0 18px;
  border-bottom: 1px solid #eeeeee;
}
ul,
ol {
  margin-top: 0;
  margin-bottom: 9px;
}
ul ul,
ol ul,
ul ol,
ol ol {
  margin-bottom: 0;
}
.list-unstyled {
  padding-left: 0;
  list-style: none;
}
.list-inline {
  padding-left: 0;
  list-style: none;
  margin-left: -5px;
}
.list-inline > li {
  display: inline-block;
  padding-left: 5px;
  padding-right: 5px;
}
dl {
  margin-top: 0;
  margin-bottom: 18px;
}
dt,
dd {
  line-height: 1.42857143;
}
dt {
  font-weight: bold;
}
dd {
  margin-left: 0;
}
@media (min-width: 541px) {
  .dl-horizontal dt {
    float: left;
    width: 160px;
    clear: left;
    text-align: right;
    overflow: hidden;
    text-overflow: ellipsis;
    white-space: nowrap;
  }
  .dl-horizontal dd {
    margin-left: 180px;
  }
}
abbr[title],
abbr[data-original-title] {
  cursor: help;
  border-bottom: 1px dotted #777777;
}
.initialism {
  font-size: 90%;
  text-transform: uppercase;
}
blockquote {
  padding: 9px 18px;
  margin: 0 0 18px;
  font-size: inherit;
  border-left: 5px solid #eeeeee;
}
blockquote p:last-child,
blockquote ul:last-child,
blockquote ol:last-child {
  margin-bottom: 0;
}
blockquote footer,
blockquote small,
blockquote .small {
  display: block;
  font-size: 80%;
  line-height: 1.42857143;
  color: #777777;
}
blockquote footer:before,
blockquote small:before,
blockquote .small:before {
  content: '\2014 \00A0';
}
.blockquote-reverse,
blockquote.pull-right {
  padding-right: 15px;
  padding-left: 0;
  border-right: 5px solid #eeeeee;
  border-left: 0;
  text-align: right;
}
.blockquote-reverse footer:before,
blockquote.pull-right footer:before,
.blockquote-reverse small:before,
blockquote.pull-right small:before,
.blockquote-reverse .small:before,
blockquote.pull-right .small:before {
  content: '';
}
.blockquote-reverse footer:after,
blockquote.pull-right footer:after,
.blockquote-reverse small:after,
blockquote.pull-right small:after,
.blockquote-reverse .small:after,
blockquote.pull-right .small:after {
  content: '\00A0 \2014';
}
address {
  margin-bottom: 18px;
  font-style: normal;
  line-height: 1.42857143;
}
code,
kbd,
pre,
samp {
  font-family: monospace;
}
code {
  padding: 2px 4px;
  font-size: 90%;
  color: #c7254e;
  background-color: #f9f2f4;
  border-radius: 2px;
}
kbd {
  padding: 2px 4px;
  font-size: 90%;
  color: #888;
  background-color: transparent;
  border-radius: 1px;
  box-shadow: inset 0 -1px 0 rgba(0, 0, 0, 0.25);
}
kbd kbd {
  padding: 0;
  font-size: 100%;
  font-weight: bold;
  box-shadow: none;
}
pre {
  display: block;
  padding: 8.5px;
  margin: 0 0 9px;
  font-size: 12px;
  line-height: 1.42857143;
  word-break: break-all;
  word-wrap: break-word;
  color: #333333;
  background-color: #f5f5f5;
  border: 1px solid #ccc;
  border-radius: 2px;
}
pre code {
  padding: 0;
  font-size: inherit;
  color: inherit;
  white-space: pre-wrap;
  background-color: transparent;
  border-radius: 0;
}
.pre-scrollable {
  max-height: 340px;
  overflow-y: scroll;
}
.container {
  margin-right: auto;
  margin-left: auto;
  padding-left: 0px;
  padding-right: 0px;
}
@media (min-width: 768px) {
  .container {
    width: 768px;
  }
}
@media (min-width: 992px) {
  .container {
    width: 940px;
  }
}
@media (min-width: 1200px) {
  .container {
    width: 1140px;
  }
}
.container-fluid {
  margin-right: auto;
  margin-left: auto;
  padding-left: 0px;
  padding-right: 0px;
}
.row {
  margin-left: 0px;
  margin-right: 0px;
}
.col-xs-1, .col-sm-1, .col-md-1, .col-lg-1, .col-xs-2, .col-sm-2, .col-md-2, .col-lg-2, .col-xs-3, .col-sm-3, .col-md-3, .col-lg-3, .col-xs-4, .col-sm-4, .col-md-4, .col-lg-4, .col-xs-5, .col-sm-5, .col-md-5, .col-lg-5, .col-xs-6, .col-sm-6, .col-md-6, .col-lg-6, .col-xs-7, .col-sm-7, .col-md-7, .col-lg-7, .col-xs-8, .col-sm-8, .col-md-8, .col-lg-8, .col-xs-9, .col-sm-9, .col-md-9, .col-lg-9, .col-xs-10, .col-sm-10, .col-md-10, .col-lg-10, .col-xs-11, .col-sm-11, .col-md-11, .col-lg-11, .col-xs-12, .col-sm-12, .col-md-12, .col-lg-12 {
  position: relative;
  min-height: 1px;
  padding-left: 0px;
  padding-right: 0px;
}
.col-xs-1, .col-xs-2, .col-xs-3, .col-xs-4, .col-xs-5, .col-xs-6, .col-xs-7, .col-xs-8, .col-xs-9, .col-xs-10, .col-xs-11, .col-xs-12 {
  float: left;
}
.col-xs-12 {
  width: 100%;
}
.col-xs-11 {
  width: 91.66666667%;
}
.col-xs-10 {
  width: 83.33333333%;
}
.col-xs-9 {
  width: 75%;
}
.col-xs-8 {
  width: 66.66666667%;
}
.col-xs-7 {
  width: 58.33333333%;
}
.col-xs-6 {
  width: 50%;
}
.col-xs-5 {
  width: 41.66666667%;
}
.col-xs-4 {
  width: 33.33333333%;
}
.col-xs-3 {
  width: 25%;
}
.col-xs-2 {
  width: 16.66666667%;
}
.col-xs-1 {
  width: 8.33333333%;
}
.col-xs-pull-12 {
  right: 100%;
}
.col-xs-pull-11 {
  right: 91.66666667%;
}
.col-xs-pull-10 {
  right: 83.33333333%;
}
.col-xs-pull-9 {
  right: 75%;
}
.col-xs-pull-8 {
  right: 66.66666667%;
}
.col-xs-pull-7 {
  right: 58.33333333%;
}
.col-xs-pull-6 {
  right: 50%;
}
.col-xs-pull-5 {
  right: 41.66666667%;
}
.col-xs-pull-4 {
  right: 33.33333333%;
}
.col-xs-pull-3 {
  right: 25%;
}
.col-xs-pull-2 {
  right: 16.66666667%;
}
.col-xs-pull-1 {
  right: 8.33333333%;
}
.col-xs-pull-0 {
  right: auto;
}
.col-xs-push-12 {
  left: 100%;
}
.col-xs-push-11 {
  left: 91.66666667%;
}
.col-xs-push-10 {
  left: 83.33333333%;
}
.col-xs-push-9 {
  left: 75%;
}
.col-xs-push-8 {
  left: 66.66666667%;
}
.col-xs-push-7 {
  left: 58.33333333%;
}
.col-xs-push-6 {
  left: 50%;
}
.col-xs-push-5 {
  left: 41.66666667%;
}
.col-xs-push-4 {
  left: 33.33333333%;
}
.col-xs-push-3 {
  left: 25%;
}
.col-xs-push-2 {
  left: 16.66666667%;
}
.col-xs-push-1 {
  left: 8.33333333%;
}
.col-xs-push-0 {
  left: auto;
}
.col-xs-offset-12 {
  margin-left: 100%;
}
.col-xs-offset-11 {
  margin-left: 91.66666667%;
}
.col-xs-offset-10 {
  margin-left: 83.33333333%;
}
.col-xs-offset-9 {
  margin-left: 75%;
}
.col-xs-offset-8 {
  margin-left: 66.66666667%;
}
.col-xs-offset-7 {
  margin-left: 58.33333333%;
}
.col-xs-offset-6 {
  margin-left: 50%;
}
.col-xs-offset-5 {
  margin-left: 41.66666667%;
}
.col-xs-offset-4 {
  margin-left: 33.33333333%;
}
.col-xs-offset-3 {
  margin-left: 25%;
}
.col-xs-offset-2 {
  margin-left: 16.66666667%;
}
.col-xs-offset-1 {
  margin-left: 8.33333333%;
}
.col-xs-offset-0 {
  margin-left: 0%;
}
@media (min-width: 768px) {
  .col-sm-1, .col-sm-2, .col-sm-3, .col-sm-4, .col-sm-5, .col-sm-6, .col-sm-7, .col-sm-8, .col-sm-9, .col-sm-10, .col-sm-11, .col-sm-12 {
    float: left;
  }
  .col-sm-12 {
    width: 100%;
  }
  .col-sm-11 {
    width: 91.66666667%;
  }
  .col-sm-10 {
    width: 83.33333333%;
  }
  .col-sm-9 {
    width: 75%;
  }
  .col-sm-8 {
    width: 66.66666667%;
  }
  .col-sm-7 {
    width: 58.33333333%;
  }
  .col-sm-6 {
    width: 50%;
  }
  .col-sm-5 {
    width: 41.66666667%;
  }
  .col-sm-4 {
    width: 33.33333333%;
  }
  .col-sm-3 {
    width: 25%;
  }
  .col-sm-2 {
    width: 16.66666667%;
  }
  .col-sm-1 {
    width: 8.33333333%;
  }
  .col-sm-pull-12 {
    right: 100%;
  }
  .col-sm-pull-11 {
    right: 91.66666667%;
  }
  .col-sm-pull-10 {
    right: 83.33333333%;
  }
  .col-sm-pull-9 {
    right: 75%;
  }
  .col-sm-pull-8 {
    right: 66.66666667%;
  }
  .col-sm-pull-7 {
    right: 58.33333333%;
  }
  .col-sm-pull-6 {
    right: 50%;
  }
  .col-sm-pull-5 {
    right: 41.66666667%;
  }
  .col-sm-pull-4 {
    right: 33.33333333%;
  }
  .col-sm-pull-3 {
    right: 25%;
  }
  .col-sm-pull-2 {
    right: 16.66666667%;
  }
  .col-sm-pull-1 {
    right: 8.33333333%;
  }
  .col-sm-pull-0 {
    right: auto;
  }
  .col-sm-push-12 {
    left: 100%;
  }
  .col-sm-push-11 {
    left: 91.66666667%;
  }
  .col-sm-push-10 {
    left: 83.33333333%;
  }
  .col-sm-push-9 {
    left: 75%;
  }
  .col-sm-push-8 {
    left: 66.66666667%;
  }
  .col-sm-push-7 {
    left: 58.33333333%;
  }
  .col-sm-push-6 {
    left: 50%;
  }
  .col-sm-push-5 {
    left: 41.66666667%;
  }
  .col-sm-push-4 {
    left: 33.33333333%;
  }
  .col-sm-push-3 {
    left: 25%;
  }
  .col-sm-push-2 {
    left: 16.66666667%;
  }
  .col-sm-push-1 {
    left: 8.33333333%;
  }
  .col-sm-push-0 {
    left: auto;
  }
  .col-sm-offset-12 {
    margin-left: 100%;
  }
  .col-sm-offset-11 {
    margin-left: 91.66666667%;
  }
  .col-sm-offset-10 {
    margin-left: 83.33333333%;
  }
  .col-sm-offset-9 {
    margin-left: 75%;
  }
  .col-sm-offset-8 {
    margin-left: 66.66666667%;
  }
  .col-sm-offset-7 {
    margin-left: 58.33333333%;
  }
  .col-sm-offset-6 {
    margin-left: 50%;
  }
  .col-sm-offset-5 {
    margin-left: 41.66666667%;
  }
  .col-sm-offset-4 {
    margin-left: 33.33333333%;
  }
  .col-sm-offset-3 {
    margin-left: 25%;
  }
  .col-sm-offset-2 {
    margin-left: 16.66666667%;
  }
  .col-sm-offset-1 {
    margin-left: 8.33333333%;
  }
  .col-sm-offset-0 {
    margin-left: 0%;
  }
}
@media (min-width: 992px) {
  .col-md-1, .col-md-2, .col-md-3, .col-md-4, .col-md-5, .col-md-6, .col-md-7, .col-md-8, .col-md-9, .col-md-10, .col-md-11, .col-md-12 {
    float: left;
  }
  .col-md-12 {
    width: 100%;
  }
  .col-md-11 {
    width: 91.66666667%;
  }
  .col-md-10 {
    width: 83.33333333%;
  }
  .col-md-9 {
    width: 75%;
  }
  .col-md-8 {
    width: 66.66666667%;
  }
  .col-md-7 {
    width: 58.33333333%;
  }
  .col-md-6 {
    width: 50%;
  }
  .col-md-5 {
    width: 41.66666667%;
  }
  .col-md-4 {
    width: 33.33333333%;
  }
  .col-md-3 {
    width: 25%;
  }
  .col-md-2 {
    width: 16.66666667%;
  }
  .col-md-1 {
    width: 8.33333333%;
  }
  .col-md-pull-12 {
    right: 100%;
  }
  .col-md-pull-11 {
    right: 91.66666667%;
  }
  .col-md-pull-10 {
    right: 83.33333333%;
  }
  .col-md-pull-9 {
    right: 75%;
  }
  .col-md-pull-8 {
    right: 66.66666667%;
  }
  .col-md-pull-7 {
    right: 58.33333333%;
  }
  .col-md-pull-6 {
    right: 50%;
  }
  .col-md-pull-5 {
    right: 41.66666667%;
  }
  .col-md-pull-4 {
    right: 33.33333333%;
  }
  .col-md-pull-3 {
    right: 25%;
  }
  .col-md-pull-2 {
    right: 16.66666667%;
  }
  .col-md-pull-1 {
    right: 8.33333333%;
  }
  .col-md-pull-0 {
    right: auto;
  }
  .col-md-push-12 {
    left: 100%;
  }
  .col-md-push-11 {
    left: 91.66666667%;
  }
  .col-md-push-10 {
    left: 83.33333333%;
  }
  .col-md-push-9 {
    left: 75%;
  }
  .col-md-push-8 {
    left: 66.66666667%;
  }
  .col-md-push-7 {
    left: 58.33333333%;
  }
  .col-md-push-6 {
    left: 50%;
  }
  .col-md-push-5 {
    left: 41.66666667%;
  }
  .col-md-push-4 {
    left: 33.33333333%;
  }
  .col-md-push-3 {
    left: 25%;
  }
  .col-md-push-2 {
    left: 16.66666667%;
  }
  .col-md-push-1 {
    left: 8.33333333%;
  }
  .col-md-push-0 {
    left: auto;
  }
  .col-md-offset-12 {
    margin-left: 100%;
  }
  .col-md-offset-11 {
    margin-left: 91.66666667%;
  }
  .col-md-offset-10 {
    margin-left: 83.33333333%;
  }
  .col-md-offset-9 {
    margin-left: 75%;
  }
  .col-md-offset-8 {
    margin-left: 66.66666667%;
  }
  .col-md-offset-7 {
    margin-left: 58.33333333%;
  }
  .col-md-offset-6 {
    margin-left: 50%;
  }
  .col-md-offset-5 {
    margin-left: 41.66666667%;
  }
  .col-md-offset-4 {
    margin-left: 33.33333333%;
  }
  .col-md-offset-3 {
    margin-left: 25%;
  }
  .col-md-offset-2 {
    margin-left: 16.66666667%;
  }
  .col-md-offset-1 {
    margin-left: 8.33333333%;
  }
  .col-md-offset-0 {
    margin-left: 0%;
  }
}
@media (min-width: 1200px) {
  .col-lg-1, .col-lg-2, .col-lg-3, .col-lg-4, .col-lg-5, .col-lg-6, .col-lg-7, .col-lg-8, .col-lg-9, .col-lg-10, .col-lg-11, .col-lg-12 {
    float: left;
  }
  .col-lg-12 {
    width: 100%;
  }
  .col-lg-11 {
    width: 91.66666667%;
  }
  .col-lg-10 {
    width: 83.33333333%;
  }
  .col-lg-9 {
    width: 75%;
  }
  .col-lg-8 {
    width: 66.66666667%;
  }
  .col-lg-7 {
    width: 58.33333333%;
  }
  .col-lg-6 {
    width: 50%;
  }
  .col-lg-5 {
    width: 41.66666667%;
  }
  .col-lg-4 {
    width: 33.33333333%;
  }
  .col-lg-3 {
    width: 25%;
  }
  .col-lg-2 {
    width: 16.66666667%;
  }
  .col-lg-1 {
    width: 8.33333333%;
  }
  .col-lg-pull-12 {
    right: 100%;
  }
  .col-lg-pull-11 {
    right: 91.66666667%;
  }
  .col-lg-pull-10 {
    right: 83.33333333%;
  }
  .col-lg-pull-9 {
    right: 75%;
  }
  .col-lg-pull-8 {
    right: 66.66666667%;
  }
  .col-lg-pull-7 {
    right: 58.33333333%;
  }
  .col-lg-pull-6 {
    right: 50%;
  }
  .col-lg-pull-5 {
    right: 41.66666667%;
  }
  .col-lg-pull-4 {
    right: 33.33333333%;
  }
  .col-lg-pull-3 {
    right: 25%;
  }
  .col-lg-pull-2 {
    right: 16.66666667%;
  }
  .col-lg-pull-1 {
    right: 8.33333333%;
  }
  .col-lg-pull-0 {
    right: auto;
  }
  .col-lg-push-12 {
    left: 100%;
  }
  .col-lg-push-11 {
    left: 91.66666667%;
  }
  .col-lg-push-10 {
    left: 83.33333333%;
  }
  .col-lg-push-9 {
    left: 75%;
  }
  .col-lg-push-8 {
    left: 66.66666667%;
  }
  .col-lg-push-7 {
    left: 58.33333333%;
  }
  .col-lg-push-6 {
    left: 50%;
  }
  .col-lg-push-5 {
    left: 41.66666667%;
  }
  .col-lg-push-4 {
    left: 33.33333333%;
  }
  .col-lg-push-3 {
    left: 25%;
  }
  .col-lg-push-2 {
    left: 16.66666667%;
  }
  .col-lg-push-1 {
    left: 8.33333333%;
  }
  .col-lg-push-0 {
    left: auto;
  }
  .col-lg-offset-12 {
    margin-left: 100%;
  }
  .col-lg-offset-11 {
    margin-left: 91.66666667%;
  }
  .col-lg-offset-10 {
    margin-left: 83.33333333%;
  }
  .col-lg-offset-9 {
    margin-left: 75%;
  }
  .col-lg-offset-8 {
    margin-left: 66.66666667%;
  }
  .col-lg-offset-7 {
    margin-left: 58.33333333%;
  }
  .col-lg-offset-6 {
    margin-left: 50%;
  }
  .col-lg-offset-5 {
    margin-left: 41.66666667%;
  }
  .col-lg-offset-4 {
    margin-left: 33.33333333%;
  }
  .col-lg-offset-3 {
    margin-left: 25%;
  }
  .col-lg-offset-2 {
    margin-left: 16.66666667%;
  }
  .col-lg-offset-1 {
    margin-left: 8.33333333%;
  }
  .col-lg-offset-0 {
    margin-left: 0%;
  }
}
table {
  background-color: transparent;
}
caption {
  padding-top: 8px;
  padding-bottom: 8px;
  color: #777777;
  text-align: left;
}
th {
  text-align: left;
}
.table {
  width: 100%;
  max-width: 100%;
  margin-bottom: 18px;
}
.table > thead > tr > th,
.table > tbody > tr > th,
.table > tfoot > tr > th,
.table > thead > tr > td,
.table > tbody > tr > td,
.table > tfoot > tr > td {
  padding: 8px;
  line-height: 1.42857143;
  vertical-align: top;
  border-top: 1px solid #ddd;
}
.table > thead > tr > th {
  vertical-align: bottom;
  border-bottom: 2px solid #ddd;
}
.table > caption + thead > tr:first-child > th,
.table > colgroup + thead > tr:first-child > th,
.table > thead:first-child > tr:first-child > th,
.table > caption + thead > tr:first-child > td,
.table > colgroup + thead > tr:first-child > td,
.table > thead:first-child > tr:first-child > td {
  border-top: 0;
}
.table > tbody + tbody {
  border-top: 2px solid #ddd;
}
.table .table {
  background-color: #fff;
}
.table-condensed > thead > tr > th,
.table-condensed > tbody > tr > th,
.table-condensed > tfoot > tr > th,
.table-condensed > thead > tr > td,
.table-condensed > tbody > tr > td,
.table-condensed > tfoot > tr > td {
  padding: 5px;
}
.table-bordered {
  border: 1px solid #ddd;
}
.table-bordered > thead > tr > th,
.table-bordered > tbody > tr > th,
.table-bordered > tfoot > tr > th,
.table-bordered > thead > tr > td,
.table-bordered > tbody > tr > td,
.table-bordered > tfoot > tr > td {
  border: 1px solid #ddd;
}
.table-bordered > thead > tr > th,
.table-bordered > thead > tr > td {
  border-bottom-width: 2px;
}
.table-striped > tbody > tr:nth-of-type(odd) {
  background-color: #f9f9f9;
}
.table-hover > tbody > tr:hover {
  background-color: #f5f5f5;
}
table col[class*="col-"] {
  position: static;
  float: none;
  display: table-column;
}
table td[class*="col-"],
table th[class*="col-"] {
  position: static;
  float: none;
  display: table-cell;
}
.table > thead > tr > td.active,
.table > tbody > tr > td.active,
.table > tfoot > tr > td.active,
.table > thead > tr > th.active,
.table > tbody > tr > th.active,
.table > tfoot > tr > th.active,
.table > thead > tr.active > td,
.table > tbody > tr.active > td,
.table > tfoot > tr.active > td,
.table > thead > tr.active > th,
.table > tbody > tr.active > th,
.table > tfoot > tr.active > th {
  background-color: #f5f5f5;
}
.table-hover > tbody > tr > td.active:hover,
.table-hover > tbody > tr > th.active:hover,
.table-hover > tbody > tr.active:hover > td,
.table-hover > tbody > tr:hover > .active,
.table-hover > tbody > tr.active:hover > th {
  background-color: #e8e8e8;
}
.table > thead > tr > td.success,
.table > tbody > tr > td.success,
.table > tfoot > tr > td.success,
.table > thead > tr > th.success,
.table > tbody > tr > th.success,
.table > tfoot > tr > th.success,
.table > thead > tr.success > td,
.table > tbody > tr.success > td,
.table > tfoot > tr.success > td,
.table > thead > tr.success > th,
.table > tbody > tr.success > th,
.table > tfoot > tr.success > th {
  background-color: #dff0d8;
}
.table-hover > tbody > tr > td.success:hover,
.table-hover > tbody > tr > th.success:hover,
.table-hover > tbody > tr.success:hover > td,
.table-hover > tbody > tr:hover > .success,
.table-hover > tbody > tr.success:hover > th {
  background-color: #d0e9c6;
}
.table > thead > tr > td.info,
.table > tbody > tr > td.info,
.table > tfoot > tr > td.info,
.table > thead > tr > th.info,
.table > tbody > tr > th.info,
.table > tfoot > tr > th.info,
.table > thead > tr.info > td,
.table > tbody > tr.info > td,
.table > tfoot > tr.info > td,
.table > thead > tr.info > th,
.table > tbody > tr.info > th,
.table > tfoot > tr.info > th {
  background-color: #d9edf7;
}
.table-hover > tbody > tr > td.info:hover,
.table-hover > tbody > tr > th.info:hover,
.table-hover > tbody > tr.info:hover > td,
.table-hover > tbody > tr:hover > .info,
.table-hover > tbody > tr.info:hover > th {
  background-color: #c4e3f3;
}
.table > thead > tr > td.warning,
.table > tbody > tr > td.warning,
.table > tfoot > tr > td.warning,
.table > thead > tr > th.warning,
.table > tbody > tr > th.warning,
.table > tfoot > tr > th.warning,
.table > thead > tr.warning > td,
.table > tbody > tr.warning > td,
.table > tfoot > tr.warning > td,
.table > thead > tr.warning > th,
.table > tbody > tr.warning > th,
.table > tfoot > tr.warning > th {
  background-color: #fcf8e3;
}
.table-hover > tbody > tr > td.warning:hover,
.table-hover > tbody > tr > th.warning:hover,
.table-hover > tbody > tr.warning:hover > td,
.table-hover > tbody > tr:hover > .warning,
.table-hover > tbody > tr.warning:hover > th {
  background-color: #faf2cc;
}
.table > thead > tr > td.danger,
.table > tbody > tr > td.danger,
.table > tfoot > tr > td.danger,
.table > thead > tr > th.danger,
.table > tbody > tr > th.danger,
.table > tfoot > tr > th.danger,
.table > thead > tr.danger > td,
.table > tbody > tr.danger > td,
.table > tfoot > tr.danger > td,
.table > thead > tr.danger > th,
.table > tbody > tr.danger > th,
.table > tfoot > tr.danger > th {
  background-color: #f2dede;
}
.table-hover > tbody > tr > td.danger:hover,
.table-hover > tbody > tr > th.danger:hover,
.table-hover > tbody > tr.danger:hover > td,
.table-hover > tbody > tr:hover > .danger,
.table-hover > tbody > tr.danger:hover > th {
  background-color: #ebcccc;
}
.table-responsive {
  overflow-x: auto;
  min-height: 0.01%;
}
@media screen and (max-width: 767px) {
  .table-responsive {
    width: 100%;
    margin-bottom: 13.5px;
    overflow-y: hidden;
    -ms-overflow-style: -ms-autohiding-scrollbar;
    border: 1px solid #ddd;
  }
  .table-responsive > .table {
    margin-bottom: 0;
  }
  .table-responsive > .table > thead > tr > th,
  .table-responsive > .table > tbody > tr > th,
  .table-responsive > .table > tfoot > tr > th,
  .table-responsive > .table > thead > tr > td,
  .table-responsive > .table > tbody > tr > td,
  .table-responsive > .table > tfoot > tr > td {
    white-space: nowrap;
  }
  .table-responsive > .table-bordered {
    border: 0;
  }
  .table-responsive > .table-bordered > thead > tr > th:first-child,
  .table-responsive > .table-bordered > tbody > tr > th:first-child,
  .table-responsive > .table-bordered > tfoot > tr > th:first-child,
  .table-responsive > .table-bordered > thead > tr > td:first-child,
  .table-responsive > .table-bordered > tbody > tr > td:first-child,
  .table-responsive > .table-bordered > tfoot > tr > td:first-child {
    border-left: 0;
  }
  .table-responsive > .table-bordered > thead > tr > th:last-child,
  .table-responsive > .table-bordered > tbody > tr > th:last-child,
  .table-responsive > .table-bordered > tfoot > tr > th:last-child,
  .table-responsive > .table-bordered > thead > tr > td:last-child,
  .table-responsive > .table-bordered > tbody > tr > td:last-child,
  .table-responsive > .table-bordered > tfoot > tr > td:last-child {
    border-right: 0;
  }
  .table-responsive > .table-bordered > tbody > tr:last-child > th,
  .table-responsive > .table-bordered > tfoot > tr:last-child > th,
  .table-responsive > .table-bordered > tbody > tr:last-child > td,
  .table-responsive > .table-bordered > tfoot > tr:last-child > td {
    border-bottom: 0;
  }
}
fieldset {
  padding: 0;
  margin: 0;
  border: 0;
  min-width: 0;
}
legend {
  display: block;
  width: 100%;
  padding: 0;
  margin-bottom: 18px;
  font-size: 19.5px;
  line-height: inherit;
  color: #333333;
  border: 0;
  border-bottom: 1px solid #e5e5e5;
}
label {
  display: inline-block;
  max-width: 100%;
  margin-bottom: 5px;
  font-weight: bold;
}
input[type="search"] {
  -webkit-box-sizing: border-box;
  -moz-box-sizing: border-box;
  box-sizing: border-box;
}
input[type="radio"],
input[type="checkbox"] {
  margin: 4px 0 0;
  margin-top: 1px \9;
  line-height: normal;
}
input[type="file"] {
  display: block;
}
input[type="range"] {
  display: block;
  width: 100%;
}
select[multiple],
select[size] {
  height: auto;
}
input[type="file"]:focus,
input[type="radio"]:focus,
input[type="checkbox"]:focus {
  outline: 5px auto -webkit-focus-ring-color;
  outline-offset: -2px;
}
output {
  display: block;
  padding-top: 7px;
  font-size: 13px;
  line-height: 1.42857143;
  color: #555555;
}
.form-control {
  display: block;
  width: 100%;
  height: 32px;
  padding: 6px 12px;
  font-size: 13px;
  line-height: 1.42857143;
  color: #555555;
  background-color: #fff;
  background-image: none;
  border: 1px solid #ccc;
  border-radius: 2px;
  -webkit-box-shadow: inset 0 1px 1px rgba(0, 0, 0, 0.075);
  box-shadow: inset 0 1px 1px rgba(0, 0, 0, 0.075);
  -webkit-transition: border-color ease-in-out .15s, box-shadow ease-in-out .15s;
  -o-transition: border-color ease-in-out .15s, box-shadow ease-in-out .15s;
  transition: border-color ease-in-out .15s, box-shadow ease-in-out .15s;
}
.form-control:focus {
  border-color: #66afe9;
  outline: 0;
  -webkit-box-shadow: inset 0 1px 1px rgba(0,0,0,.075), 0 0 8px rgba(102, 175, 233, 0.6);
  box-shadow: inset 0 1px 1px rgba(0,0,0,.075), 0 0 8px rgba(102, 175, 233, 0.6);
}
.form-control::-moz-placeholder {
  color: #999;
  opacity: 1;
}
.form-control:-ms-input-placeholder {
  color: #999;
}
.form-control::-webkit-input-placeholder {
  color: #999;
}
.form-control::-ms-expand {
  border: 0;
  background-color: transparent;
}
.form-control[disabled],
.form-control[readonly],
fieldset[disabled] .form-control {
  background-color: #eeeeee;
  opacity: 1;
}
.form-control[disabled],
fieldset[disabled] .form-control {
  cursor: not-allowed;
}
textarea.form-control {
  height: auto;
}
input[type="search"] {
  -webkit-appearance: none;
}
@media screen and (-webkit-min-device-pixel-ratio: 0) {
  input[type="date"].form-control,
  input[type="time"].form-control,
  input[type="datetime-local"].form-control,
  input[type="month"].form-control {
    line-height: 32px;
  }
  input[type="date"].input-sm,
  input[type="time"].input-sm,
  input[type="datetime-local"].input-sm,
  input[type="month"].input-sm,
  .input-group-sm input[type="date"],
  .input-group-sm input[type="time"],
  .input-group-sm input[type="datetime-local"],
  .input-group-sm input[type="month"] {
    line-height: 30px;
  }
  input[type="date"].input-lg,
  input[type="time"].input-lg,
  input[type="datetime-local"].input-lg,
  input[type="month"].input-lg,
  .input-group-lg input[type="date"],
  .input-group-lg input[type="time"],
  .input-group-lg input[type="datetime-local"],
  .input-group-lg input[type="month"] {
    line-height: 45px;
  }
}
.form-group {
  margin-bottom: 15px;
}
.radio,
.checkbox {
  position: relative;
  display: block;
  margin-top: 10px;
  margin-bottom: 10px;
}
.radio label,
.checkbox label {
  min-height: 18px;
  padding-left: 20px;
  margin-bottom: 0;
  font-weight: normal;
  cursor: pointer;
}
.radio input[type="radio"],
.radio-inline input[type="radio"],
.checkbox input[type="checkbox"],
.checkbox-inline input[type="checkbox"] {
  position: absolute;
  margin-left: -20px;
  margin-top: 4px \9;
}
.radio + .radio,
.checkbox + .checkbox {
  margin-top: -5px;
}
.radio-inline,
.checkbox-inline {
  position: relative;
  display: inline-block;
  padding-left: 20px;
  margin-bottom: 0;
  vertical-align: middle;
  font-weight: normal;
  cursor: pointer;
}
.radio-inline + .radio-inline,
.checkbox-inline + .checkbox-inline {
  margin-top: 0;
  margin-left: 10px;
}
input[type="radio"][disabled],
input[type="checkbox"][disabled],
input[type="radio"].disabled,
input[type="checkbox"].disabled,
fieldset[disabled] input[type="radio"],
fieldset[disabled] input[type="checkbox"] {
  cursor: not-allowed;
}
.radio-inline.disabled,
.checkbox-inline.disabled,
fieldset[disabled] .radio-inline,
fieldset[disabled] .checkbox-inline {
  cursor: not-allowed;
}
.radio.disabled label,
.checkbox.disabled label,
fieldset[disabled] .radio label,
fieldset[disabled] .checkbox label {
  cursor: not-allowed;
}
.form-control-static {
  padding-top: 7px;
  padding-bottom: 7px;
  margin-bottom: 0;
  min-height: 31px;
}
.form-control-static.input-lg,
.form-control-static.input-sm {
  padding-left: 0;
  padding-right: 0;
}
.input-sm {
  height: 30px;
  padding: 5px 10px;
  font-size: 12px;
  line-height: 1.5;
  border-radius: 1px;
}
select.input-sm {
  height: 30px;
  line-height: 30px;
}
textarea.input-sm,
select[multiple].input-sm {
  height: auto;
}
.form-group-sm .form-control {
  height: 30px;
  padding: 5px 10px;
  font-size: 12px;
  line-height: 1.5;
  border-radius: 1px;
}
.form-group-sm select.form-control {
  height: 30px;
  line-height: 30px;
}
.form-group-sm textarea.form-control,
.form-group-sm select[multiple].form-control {
  height: auto;
}
.form-group-sm .form-control-static {
  height: 30px;
  min-height: 30px;
  padding: 6px 10px;
  font-size: 12px;
  line-height: 1.5;
}
.input-lg {
  height: 45px;
  padding: 10px 16px;
  font-size: 17px;
  line-height: 1.3333333;
  border-radius: 3px;
}
select.input-lg {
  height: 45px;
  line-height: 45px;
}
textarea.input-lg,
select[multiple].input-lg {
  height: auto;
}
.form-group-lg .form-control {
  height: 45px;
  padding: 10px 16px;
  font-size: 17px;
  line-height: 1.3333333;
  border-radius: 3px;
}
.form-group-lg select.form-control {
  height: 45px;
  line-height: 45px;
}
.form-group-lg textarea.form-control,
.form-group-lg select[multiple].form-control {
  height: auto;
}
.form-group-lg .form-control-static {
  height: 45px;
  min-height: 35px;
  padding: 11px 16px;
  font-size: 17px;
  line-height: 1.3333333;
}
.has-feedback {
  position: relative;
}
.has-feedback .form-control {
  padding-right: 40px;
}
.form-control-feedback {
  position: absolute;
  top: 0;
  right: 0;
  z-index: 2;
  display: block;
  width: 32px;
  height: 32px;
  line-height: 32px;
  text-align: center;
  pointer-events: none;
}
.input-lg + .form-control-feedback,
.input-group-lg + .form-control-feedback,
.form-group-lg .form-control + .form-control-feedback {
  width: 45px;
  height: 45px;
  line-height: 45px;
}
.input-sm + .form-control-feedback,
.input-group-sm + .form-control-feedback,
.form-group-sm .form-control + .form-control-feedback {
  width: 30px;
  height: 30px;
  line-height: 30px;
}
.has-success .help-block,
.has-success .control-label,
.has-success .radio,
.has-success .checkbox,
.has-success .radio-inline,
.has-success .checkbox-inline,
.has-success.radio label,
.has-success.checkbox label,
.has-success.radio-inline label,
.has-success.checkbox-inline label {
  color: #3c763d;
}
.has-success .form-control {
  border-color: #3c763d;
  -webkit-box-shadow: inset 0 1px 1px rgba(0, 0, 0, 0.075);
  box-shadow: inset 0 1px 1px rgba(0, 0, 0, 0.075);
}
.has-success .form-control:focus {
  border-color: #2b542c;
  -webkit-box-shadow: inset 0 1px 1px rgba(0, 0, 0, 0.075), 0 0 6px #67b168;
  box-shadow: inset 0 1px 1px rgba(0, 0, 0, 0.075), 0 0 6px #67b168;
}
.has-success .input-group-addon {
  color: #3c763d;
  border-color: #3c763d;
  background-color: #dff0d8;
}
.has-success .form-control-feedback {
  color: #3c763d;
}
.has-warning .help-block,
.has-warning .control-label,
.has-warning .radio,
.has-warning .checkbox,
.has-warning .radio-inline,
.has-warning .checkbox-inline,
.has-warning.radio label,
.has-warning.checkbox label,
.has-warning.radio-inline label,
.has-warning.checkbox-inline label {
  color: #8a6d3b;
}
.has-warning .form-control {
  border-color: #8a6d3b;
  -webkit-box-shadow: inset 0 1px 1px rgba(0, 0, 0, 0.075);
  box-shadow: inset 0 1px 1px rgba(0, 0, 0, 0.075);
}
.has-warning .form-control:focus {
  border-color: #66512c;
  -webkit-box-shadow: inset 0 1px 1px rgba(0, 0, 0, 0.075), 0 0 6px #c0a16b;
  box-shadow: inset 0 1px 1px rgba(0, 0, 0, 0.075), 0 0 6px #c0a16b;
}
.has-warning .input-group-addon {
  color: #8a6d3b;
  border-color: #8a6d3b;
  background-color: #fcf8e3;
}
.has-warning .form-control-feedback {
  color: #8a6d3b;
}
.has-error .help-block,
.has-error .control-label,
.has-error .radio,
.has-error .checkbox,
.has-error .radio-inline,
.has-error .checkbox-inline,
.has-error.radio label,
.has-error.checkbox label,
.has-error.radio-inline label,
.has-error.checkbox-inline label {
  color: #a94442;
}
.has-error .form-control {
  border-color: #a94442;
  -webkit-box-shadow: inset 0 1px 1px rgba(0, 0, 0, 0.075);
  box-shadow: inset 0 1px 1px rgba(0, 0, 0, 0.075);
}
.has-error .form-control:focus {
  border-color: #843534;
  -webkit-box-shadow: inset 0 1px 1px rgba(0, 0, 0, 0.075), 0 0 6px #ce8483;
  box-shadow: inset 0 1px 1px rgba(0, 0, 0, 0.075), 0 0 6px #ce8483;
}
.has-error .input-group-addon {
  color: #a94442;
  border-color: #a94442;
  background-color: #f2dede;
}
.has-error .form-control-feedback {
  color: #a94442;
}
.has-feedback label ~ .form-control-feedback {
  top: 23px;
}
.has-feedback label.sr-only ~ .form-control-feedback {
  top: 0;
}
.help-block {
  display: block;
  margin-top: 5px;
  margin-bottom: 10px;
  color: #404040;
}
@media (min-width: 768px) {
  .form-inline .form-group {
    display: inline-block;
    margin-bottom: 0;
    vertical-align: middle;
  }
  .form-inline .form-control {
    display: inline-block;
    width: auto;
    vertical-align: middle;
  }
  .form-inline .form-control-static {
    display: inline-block;
  }
  .form-inline .input-group {
    display: inline-table;
    vertical-align: middle;
  }
  .form-inline .input-group .input-group-addon,
  .form-inline .input-group .input-group-btn,
  .form-inline .input-group .form-control {
    width: auto;
  }
  .form-inline .input-group > .form-control {
    width: 100%;
  }
  .form-inline .control-label {
    margin-bottom: 0;
    vertical-align: middle;
  }
  .form-inline .radio,
  .form-inline .checkbox {
    display: inline-block;
    margin-top: 0;
    margin-bottom: 0;
    vertical-align: middle;
  }
  .form-inline .radio label,
  .form-inline .checkbox label {
    padding-left: 0;
  }
  .form-inline .radio input[type="radio"],
  .form-inline .checkbox input[type="checkbox"] {
    position: relative;
    margin-left: 0;
  }
  .form-inline .has-feedback .form-control-feedback {
    top: 0;
  }
}
.form-horizontal .radio,
.form-horizontal .checkbox,
.form-horizontal .radio-inline,
.form-horizontal .checkbox-inline {
  margin-top: 0;
  margin-bottom: 0;
  padding-top: 7px;
}
.form-horizontal .radio,
.form-horizontal .checkbox {
  min-height: 25px;
}
.form-horizontal .form-group {
  margin-left: 0px;
  margin-right: 0px;
}
@media (min-width: 768px) {
  .form-horizontal .control-label {
    text-align: right;
    margin-bottom: 0;
    padding-top: 7px;
  }
}
.form-horizontal .has-feedback .form-control-feedback {
  right: 0px;
}
@media (min-width: 768px) {
  .form-horizontal .form-group-lg .control-label {
    padding-top: 11px;
    font-size: 17px;
  }
}
@media (min-width: 768px) {
  .form-horizontal .form-group-sm .control-label {
    padding-top: 6px;
    font-size: 12px;
  }
}
.btn {
  display: inline-block;
  margin-bottom: 0;
  font-weight: normal;
  text-align: center;
  vertical-align: middle;
  touch-action: manipulation;
  cursor: pointer;
  background-image: none;
  border: 1px solid transparent;
  white-space: nowrap;
  padding: 6px 12px;
  font-size: 13px;
  line-height: 1.42857143;
  border-radius: 2px;
  -webkit-user-select: none;
  -moz-user-select: none;
  -ms-user-select: none;
  user-select: none;
}
.btn:focus,
.btn:active:focus,
.btn.active:focus,
.btn.focus,
.btn:active.focus,
.btn.active.focus {
  outline: 5px auto -webkit-focus-ring-color;
  outline-offset: -2px;
}
.btn:hover,
.btn:focus,
.btn.focus {
  color: #333;
  text-decoration: none;
}
.btn:active,
.btn.active {
  outline: 0;
  background-image: none;
  -webkit-box-shadow: inset 0 3px 5px rgba(0, 0, 0, 0.125);
  box-shadow: inset 0 3px 5px rgba(0, 0, 0, 0.125);
}
.btn.disabled,
.btn[disabled],
fieldset[disabled] .btn {
  cursor: not-allowed;
  opacity: 0.65;
  filter: alpha(opacity=65);
  -webkit-box-shadow: none;
  box-shadow: none;
}
a.btn.disabled,
fieldset[disabled] a.btn {
  pointer-events: none;
}
.btn-default {
  color: #333;
  background-color: #fff;
  border-color: #ccc;
}
.btn-default:focus,
.btn-default.focus {
  color: #333;
  background-color: #e6e6e6;
  border-color: #8c8c8c;
}
.btn-default:hover {
  color: #333;
  background-color: #e6e6e6;
  border-color: #adadad;
}
.btn-default:active,
.btn-default.active,
.open > .dropdown-toggle.btn-default {
  color: #333;
  background-color: #e6e6e6;
  border-color: #adadad;
}
.btn-default:active:hover,
.btn-default.active:hover,
.open > .dropdown-toggle.btn-default:hover,
.btn-default:active:focus,
.btn-default.active:focus,
.open > .dropdown-toggle.btn-default:focus,
.btn-default:active.focus,
.btn-default.active.focus,
.open > .dropdown-toggle.btn-default.focus {
  color: #333;
  background-color: #d4d4d4;
  border-color: #8c8c8c;
}
.btn-default:active,
.btn-default.active,
.open > .dropdown-toggle.btn-default {
  background-image: none;
}
.btn-default.disabled:hover,
.btn-default[disabled]:hover,
fieldset[disabled] .btn-default:hover,
.btn-default.disabled:focus,
.btn-default[disabled]:focus,
fieldset[disabled] .btn-default:focus,
.btn-default.disabled.focus,
.btn-default[disabled].focus,
fieldset[disabled] .btn-default.focus {
  background-color: #fff;
  border-color: #ccc;
}
.btn-default .badge {
  color: #fff;
  background-color: #333;
}
.btn-primary {
  color: #fff;
  background-color: #337ab7;
  border-color: #2e6da4;
}
.btn-primary:focus,
.btn-primary.focus {
  color: #fff;
  background-color: #286090;
  border-color: #122b40;
}
.btn-primary:hover {
  color: #fff;
  background-color: #286090;
  border-color: #204d74;
}
.btn-primary:active,
.btn-primary.active,
.open > .dropdown-toggle.btn-primary {
  color: #fff;
  background-color: #286090;
  border-color: #204d74;
}
.btn-primary:active:hover,
.btn-primary.active:hover,
.open > .dropdown-toggle.btn-primary:hover,
.btn-primary:active:focus,
.btn-primary.active:focus,
.open > .dropdown-toggle.btn-primary:focus,
.btn-primary:active.focus,
.btn-primary.active.focus,
.open > .dropdown-toggle.btn-primary.focus {
  color: #fff;
  background-color: #204d74;
  border-color: #122b40;
}
.btn-primary:active,
.btn-primary.active,
.open > .dropdown-toggle.btn-primary {
  background-image: none;
}
.btn-primary.disabled:hover,
.btn-primary[disabled]:hover,
fieldset[disabled] .btn-primary:hover,
.btn-primary.disabled:focus,
.btn-primary[disabled]:focus,
fieldset[disabled] .btn-primary:focus,
.btn-primary.disabled.focus,
.btn-primary[disabled].focus,
fieldset[disabled] .btn-primary.focus {
  background-color: #337ab7;
  border-color: #2e6da4;
}
.btn-primary .badge {
  color: #337ab7;
  background-color: #fff;
}
.btn-success {
  color: #fff;
  background-color: #5cb85c;
  border-color: #4cae4c;
}
.btn-success:focus,
.btn-success.focus {
  color: #fff;
  background-color: #449d44;
  border-color: #255625;
}
.btn-success:hover {
  color: #fff;
  background-color: #449d44;
  border-color: #398439;
}
.btn-success:active,
.btn-success.active,
.open > .dropdown-toggle.btn-success {
  color: #fff;
  background-color: #449d44;
  border-color: #398439;
}
.btn-success:active:hover,
.btn-success.active:hover,
.open > .dropdown-toggle.btn-success:hover,
.btn-success:active:focus,
.btn-success.active:focus,
.open > .dropdown-toggle.btn-success:focus,
.btn-success:active.focus,
.btn-success.active.focus,
.open > .dropdown-toggle.btn-success.focus {
  color: #fff;
  background-color: #398439;
  border-color: #255625;
}
.btn-success:active,
.btn-success.active,
.open > .dropdown-toggle.btn-success {
  background-image: none;
}
.btn-success.disabled:hover,
.btn-success[disabled]:hover,
fieldset[disabled] .btn-success:hover,
.btn-success.disabled:focus,
.btn-success[disabled]:focus,
fieldset[disabled] .btn-success:focus,
.btn-success.disabled.focus,
.btn-success[disabled].focus,
fieldset[disabled] .btn-success.focus {
  background-color: #5cb85c;
  border-color: #4cae4c;
}
.btn-success .badge {
  color: #5cb85c;
  background-color: #fff;
}
.btn-info {
  color: #fff;
  background-color: #5bc0de;
  border-color: #46b8da;
}
.btn-info:focus,
.btn-info.focus {
  color: #fff;
  background-color: #31b0d5;
  border-color: #1b6d85;
}
.btn-info:hover {
  color: #fff;
  background-color: #31b0d5;
  border-color: #269abc;
}
.btn-info:active,
.btn-info.active,
.open > .dropdown-toggle.btn-info {
  color: #fff;
  background-color: #31b0d5;
  border-color: #269abc;
}
.btn-info:active:hover,
.btn-info.active:hover,
.open > .dropdown-toggle.btn-info:hover,
.btn-info:active:focus,
.btn-info.active:focus,
.open > .dropdown-toggle.btn-info:focus,
.btn-info:active.focus,
.btn-info.active.focus,
.open > .dropdown-toggle.btn-info.focus {
  color: #fff;
  background-color: #269abc;
  border-color: #1b6d85;
}
.btn-info:active,
.btn-info.active,
.open > .dropdown-toggle.btn-info {
  background-image: none;
}
.btn-info.disabled:hover,
.btn-info[disabled]:hover,
fieldset[disabled] .btn-info:hover,
.btn-info.disabled:focus,
.btn-info[disabled]:focus,
fieldset[disabled] .btn-info:focus,
.btn-info.disabled.focus,
.btn-info[disabled].focus,
fieldset[disabled] .btn-info.focus {
  background-color: #5bc0de;
  border-color: #46b8da;
}
.btn-info .badge {
  color: #5bc0de;
  background-color: #fff;
}
.btn-warning {
  color: #fff;
  background-color: #f0ad4e;
  border-color: #eea236;
}
.btn-warning:focus,
.btn-warning.focus {
  color: #fff;
  background-color: #ec971f;
  border-color: #985f0d;
}
.btn-warning:hover {
  color: #fff;
  background-color: #ec971f;
  border-color: #d58512;
}
.btn-warning:active,
.btn-warning.active,
.open > .dropdown-toggle.btn-warning {
  color: #fff;
  background-color: #ec971f;
  border-color: #d58512;
}
.btn-warning:active:hover,
.btn-warning.active:hover,
.open > .dropdown-toggle.btn-warning:hover,
.btn-warning:active:focus,
.btn-warning.active:focus,
.open > .dropdown-toggle.btn-warning:focus,
.btn-warning:active.focus,
.btn-warning.active.focus,
.open > .dropdown-toggle.btn-warning.focus {
  color: #fff;
  background-color: #d58512;
  border-color: #985f0d;
}
.btn-warning:active,
.btn-warning.active,
.open > .dropdown-toggle.btn-warning {
  background-image: none;
}
.btn-warning.disabled:hover,
.btn-warning[disabled]:hover,
fieldset[disabled] .btn-warning:hover,
.btn-warning.disabled:focus,
.btn-warning[disabled]:focus,
fieldset[disabled] .btn-warning:focus,
.btn-warning.disabled.focus,
.btn-warning[disabled].focus,
fieldset[disabled] .btn-warning.focus {
  background-color: #f0ad4e;
  border-color: #eea236;
}
.btn-warning .badge {
  color: #f0ad4e;
  background-color: #fff;
}
.btn-danger {
  color: #fff;
  background-color: #d9534f;
  border-color: #d43f3a;
}
.btn-danger:focus,
.btn-danger.focus {
  color: #fff;
  background-color: #c9302c;
  border-color: #761c19;
}
.btn-danger:hover {
  color: #fff;
  background-color: #c9302c;
  border-color: #ac2925;
}
.btn-danger:active,
.btn-danger.active,
.open > .dropdown-toggle.btn-danger {
  color: #fff;
  background-color: #c9302c;
  border-color: #ac2925;
}
.btn-danger:active:hover,
.btn-danger.active:hover,
.open > .dropdown-toggle.btn-danger:hover,
.btn-danger:active:focus,
.btn-danger.active:focus,
.open > .dropdown-toggle.btn-danger:focus,
.btn-danger:active.focus,
.btn-danger.active.focus,
.open > .dropdown-toggle.btn-danger.focus {
  color: #fff;
  background-color: #ac2925;
  border-color: #761c19;
}
.btn-danger:active,
.btn-danger.active,
.open > .dropdown-toggle.btn-danger {
  background-image: none;
}
.btn-danger.disabled:hover,
.btn-danger[disabled]:hover,
fieldset[disabled] .btn-danger:hover,
.btn-danger.disabled:focus,
.btn-danger[disabled]:focus,
fieldset[disabled] .btn-danger:focus,
.btn-danger.disabled.focus,
.btn-danger[disabled].focus,
fieldset[disabled] .btn-danger.focus {
  background-color: #d9534f;
  border-color: #d43f3a;
}
.btn-danger .badge {
  color: #d9534f;
  background-color: #fff;
}
.btn-link {
  color: #337ab7;
  font-weight: normal;
  border-radius: 0;
}
.btn-link,
.btn-link:active,
.btn-link.active,
.btn-link[disabled],
fieldset[disabled] .btn-link {
  background-color: transparent;
  -webkit-box-shadow: none;
  box-shadow: none;
}
.btn-link,
.btn-link:hover,
.btn-link:focus,
.btn-link:active {
  border-color: transparent;
}
.btn-link:hover,
.btn-link:focus {
  color: #23527c;
  text-decoration: underline;
  background-color: transparent;
}
.btn-link[disabled]:hover,
fieldset[disabled] .btn-link:hover,
.btn-link[disabled]:focus,
fieldset[disabled] .btn-link:focus {
  color: #777777;
  text-decoration: none;
}
.btn-lg,
.btn-group-lg > .btn {
  padding: 10px 16px;
  font-size: 17px;
  line-height: 1.3333333;
  border-radius: 3px;
}
.btn-sm,
.btn-group-sm > .btn {
  padding: 5px 10px;
  font-size: 12px;
  line-height: 1.5;
  border-radius: 1px;
}
.btn-xs,
.btn-group-xs > .btn {
  padding: 1px 5px;
  font-size: 12px;
  line-height: 1.5;
  border-radius: 1px;
}
.btn-block {
  display: block;
  width: 100%;
}
.btn-block + .btn-block {
  margin-top: 5px;
}
input[type="submit"].btn-block,
input[type="reset"].btn-block,
input[type="button"].btn-block {
  width: 100%;
}
.fade {
  opacity: 0;
  -webkit-transition: opacity 0.15s linear;
  -o-transition: opacity 0.15s linear;
  transition: opacity 0.15s linear;
}
.fade.in {
  opacity: 1;
}
.collapse {
  display: none;
}
.collapse.in {
  display: block;
}
tr.collapse.in {
  display: table-row;
}
tbody.collapse.in {
  display: table-row-group;
}
.collapsing {
  position: relative;
  height: 0;
  overflow: hidden;
  -webkit-transition-property: height, visibility;
  transition-property: height, visibility;
  -webkit-transition-duration: 0.35s;
  transition-duration: 0.35s;
  -webkit-transition-timing-function: ease;
  transition-timing-function: ease;
}
.caret {
  display: inline-block;
  width: 0;
  height: 0;
  margin-left: 2px;
  vertical-align: middle;
  border-top: 4px dashed;
  border-top: 4px solid \9;
  border-right: 4px solid transparent;
  border-left: 4px solid transparent;
}
.dropup,
.dropdown {
  position: relative;
}
.dropdown-toggle:focus {
  outline: 0;
}
.dropdown-menu {
  position: absolute;
  top: 100%;
  left: 0;
  z-index: 1000;
  display: none;
  float: left;
  min-width: 160px;
  padding: 5px 0;
  margin: 2px 0 0;
  list-style: none;
  font-size: 13px;
  text-align: left;
  background-color: #fff;
  border: 1px solid #ccc;
  border: 1px solid rgba(0, 0, 0, 0.15);
  border-radius: 2px;
  -webkit-box-shadow: 0 6px 12px rgba(0, 0, 0, 0.175);
  box-shadow: 0 6px 12px rgba(0, 0, 0, 0.175);
  background-clip: padding-box;
}
.dropdown-menu.pull-right {
  right: 0;
  left: auto;
}
.dropdown-menu .divider {
  height: 1px;
  margin: 8px 0;
  overflow: hidden;
  background-color: #e5e5e5;
}
.dropdown-menu > li > a {
  display: block;
  padding: 3px 20px;
  clear: both;
  font-weight: normal;
  line-height: 1.42857143;
  color: #333333;
  white-space: nowrap;
}
.dropdown-menu > li > a:hover,
.dropdown-menu > li > a:focus {
  text-decoration: none;
  color: #262626;
  background-color: #f5f5f5;
}
.dropdown-menu > .active > a,
.dropdown-menu > .active > a:hover,
.dropdown-menu > .active > a:focus {
  color: #fff;
  text-decoration: none;
  outline: 0;
  background-color: #337ab7;
}
.dropdown-menu > .disabled > a,
.dropdown-menu > .disabled > a:hover,
.dropdown-menu > .disabled > a:focus {
  color: #777777;
}
.dropdown-menu > .disabled > a:hover,
.dropdown-menu > .disabled > a:focus {
  text-decoration: none;
  background-color: transparent;
  background-image: none;
  filter: progid:DXImageTransform.Microsoft.gradient(enabled = false);
  cursor: not-allowed;
}
.open > .dropdown-menu {
  display: block;
}
.open > a {
  outline: 0;
}
.dropdown-menu-right {
  left: auto;
  right: 0;
}
.dropdown-menu-left {
  left: 0;
  right: auto;
}
.dropdown-header {
  display: block;
  padding: 3px 20px;
  font-size: 12px;
  line-height: 1.42857143;
  color: #777777;
  white-space: nowrap;
}
.dropdown-backdrop {
  position: fixed;
  left: 0;
  right: 0;
  bottom: 0;
  top: 0;
  z-index: 990;
}
.pull-right > .dropdown-menu {
  right: 0;
  left: auto;
}
.dropup .caret,
.navbar-fixed-bottom .dropdown .caret {
  border-top: 0;
  border-bottom: 4px dashed;
  border-bottom: 4px solid \9;
  content: "";
}
.dropup .dropdown-menu,
.navbar-fixed-bottom .dropdown .dropdown-menu {
  top: auto;
  bottom: 100%;
  margin-bottom: 2px;
}
@media (min-width: 541px) {
  .navbar-right .dropdown-menu {
    left: auto;
    right: 0;
  }
  .navbar-right .dropdown-menu-left {
    left: 0;
    right: auto;
  }
}
.btn-group,
.btn-group-vertical {
  position: relative;
  display: inline-block;
  vertical-align: middle;
}
.btn-group > .btn,
.btn-group-vertical > .btn {
  position: relative;
  float: left;
}
.btn-group > .btn:hover,
.btn-group-vertical > .btn:hover,
.btn-group > .btn:focus,
.btn-group-vertical > .btn:focus,
.btn-group > .btn:active,
.btn-group-vertical > .btn:active,
.btn-group > .btn.active,
.btn-group-vertical > .btn.active {
  z-index: 2;
}
.btn-group .btn + .btn,
.btn-group .btn + .btn-group,
.btn-group .btn-group + .btn,
.btn-group .btn-group + .btn-group {
  margin-left: -1px;
}
.btn-toolbar {
  margin-left: -5px;
}
.btn-toolbar .btn,
.btn-toolbar .btn-group,
.btn-toolbar .input-group {
  float: left;
}
.btn-toolbar > .btn,
.btn-toolbar > .btn-group,
.btn-toolbar > .input-group {
  margin-left: 5px;
}
.btn-group > .btn:not(:first-child):not(:last-child):not(.dropdown-toggle) {
  border-radius: 0;
}
.btn-group > .btn:first-child {
  margin-left: 0;
}
.btn-group > .btn:first-child:not(:last-child):not(.dropdown-toggle) {
  border-bottom-right-radius: 0;
  border-top-right-radius: 0;
}
.btn-group > .btn:last-child:not(:first-child),
.btn-group > .dropdown-toggle:not(:first-child) {
  border-bottom-left-radius: 0;
  border-top-left-radius: 0;
}
.btn-group > .btn-group {
  float: left;
}
.btn-group > .btn-group:not(:first-child):not(:last-child) > .btn {
  border-radius: 0;
}
.btn-group > .btn-group:first-child:not(:last-child) > .btn:last-child,
.btn-group > .btn-group:first-child:not(:last-child) > .dropdown-toggle {
  border-bottom-right-radius: 0;
  border-top-right-radius: 0;
}
.btn-group > .btn-group:last-child:not(:first-child) > .btn:first-child {
  border-bottom-left-radius: 0;
  border-top-left-radius: 0;
}
.btn-group .dropdown-toggle:active,
.btn-group.open .dropdown-toggle {
  outline: 0;
}
.btn-group > .btn + .dropdown-toggle {
  padding-left: 8px;
  padding-right: 8px;
}
.btn-group > .btn-lg + .dropdown-toggle {
  padding-left: 12px;
  padding-right: 12px;
}
.btn-group.open .dropdown-toggle {
  -webkit-box-shadow: inset 0 3px 5px rgba(0, 0, 0, 0.125);
  box-shadow: inset 0 3px 5px rgba(0, 0, 0, 0.125);
}
.btn-group.open .dropdown-toggle.btn-link {
  -webkit-box-shadow: none;
  box-shadow: none;
}
.btn .caret {
  margin-left: 0;
}
.btn-lg .caret {
  border-width: 5px 5px 0;
  border-bottom-width: 0;
}
.dropup .btn-lg .caret {
  border-width: 0 5px 5px;
}
.btn-group-vertical > .btn,
.btn-group-vertical > .btn-group,
.btn-group-vertical > .btn-group > .btn {
  display: block;
  float: none;
  width: 100%;
  max-width: 100%;
}
.btn-group-vertical > .btn-group > .btn {
  float: none;
}
.btn-group-vertical > .btn + .btn,
.btn-group-vertical > .btn + .btn-group,
.btn-group-vertical > .btn-group + .btn,
.btn-group-vertical > .btn-group + .btn-group {
  margin-top: -1px;
  margin-left: 0;
}
.btn-group-vertical > .btn:not(:first-child):not(:last-child) {
  border-radius: 0;
}
.btn-group-vertical > .btn:first-child:not(:last-child) {
  border-top-right-radius: 2px;
  border-top-left-radius: 2px;
  border-bottom-right-radius: 0;
  border-bottom-left-radius: 0;
}
.btn-group-vertical > .btn:last-child:not(:first-child) {
  border-top-right-radius: 0;
  border-top-left-radius: 0;
  border-bottom-right-radius: 2px;
  border-bottom-left-radius: 2px;
}
.btn-group-vertical > .btn-group:not(:first-child):not(:last-child) > .btn {
  border-radius: 0;
}
.btn-group-vertical > .btn-group:first-child:not(:last-child) > .btn:last-child,
.btn-group-vertical > .btn-group:first-child:not(:last-child) > .dropdown-toggle {
  border-bottom-right-radius: 0;
  border-bottom-left-radius: 0;
}
.btn-group-vertical > .btn-group:last-child:not(:first-child) > .btn:first-child {
  border-top-right-radius: 0;
  border-top-left-radius: 0;
}
.btn-group-justified {
  display: table;
  width: 100%;
  table-layout: fixed;
  border-collapse: separate;
}
.btn-group-justified > .btn,
.btn-group-justified > .btn-group {
  float: none;
  display: table-cell;
  width: 1%;
}
.btn-group-justified > .btn-group .btn {
  width: 100%;
}
.btn-group-justified > .btn-group .dropdown-menu {
  left: auto;
}
[data-toggle="buttons"] > .btn input[type="radio"],
[data-toggle="buttons"] > .btn-group > .btn input[type="radio"],
[data-toggle="buttons"] > .btn input[type="checkbox"],
[data-toggle="buttons"] > .btn-group > .btn input[type="checkbox"] {
  position: absolute;
  clip: rect(0, 0, 0, 0);
  pointer-events: none;
}
.input-group {
  position: relative;
  display: table;
  border-collapse: separate;
}
.input-group[class*="col-"] {
  float: none;
  padding-left: 0;
  padding-right: 0;
}
.input-group .form-control {
  position: relative;
  z-index: 2;
  float: left;
  width: 100%;
  margin-bottom: 0;
}
.input-group .form-control:focus {
  z-index: 3;
}
.input-group-lg > .form-control,
.input-group-lg > .input-group-addon,
.input-group-lg > .input-group-btn > .btn {
  height: 45px;
  padding: 10px 16px;
  font-size: 17px;
  line-height: 1.3333333;
  border-radius: 3px;
}
select.input-group-lg > .form-control,
select.input-group-lg > .input-group-addon,
select.input-group-lg > .input-group-btn > .btn {
  height: 45px;
  line-height: 45px;
}
textarea.input-group-lg > .form-control,
textarea.input-group-lg > .input-group-addon,
textarea.input-group-lg > .input-group-btn > .btn,
select[multiple].input-group-lg > .form-control,
select[multiple].input-group-lg > .input-group-addon,
select[multiple].input-group-lg > .input-group-btn > .btn {
  height: auto;
}
.input-group-sm > .form-control,
.input-group-sm > .input-group-addon,
.input-group-sm > .input-group-btn > .btn {
  height: 30px;
  padding: 5px 10px;
  font-size: 12px;
  line-height: 1.5;
  border-radius: 1px;
}
select.input-group-sm > .form-control,
select.input-group-sm > .input-group-addon,
select.input-group-sm > .input-group-btn > .btn {
  height: 30px;
  line-height: 30px;
}
textarea.input-group-sm > .form-control,
textarea.input-group-sm > .input-group-addon,
textarea.input-group-sm > .input-group-btn > .btn,
select[multiple].input-group-sm > .form-control,
select[multiple].input-group-sm > .input-group-addon,
select[multiple].input-group-sm > .input-group-btn > .btn {
  height: auto;
}
.input-group-addon,
.input-group-btn,
.input-group .form-control {
  display: table-cell;
}
.input-group-addon:not(:first-child):not(:last-child),
.input-group-btn:not(:first-child):not(:last-child),
.input-group .form-control:not(:first-child):not(:last-child) {
  border-radius: 0;
}
.input-group-addon,
.input-group-btn {
  width: 1%;
  white-space: nowrap;
  vertical-align: middle;
}
.input-group-addon {
  padding: 6px 12px;
  font-size: 13px;
  font-weight: normal;
  line-height: 1;
  color: #555555;
  text-align: center;
  background-color: #eeeeee;
  border: 1px solid #ccc;
  border-radius: 2px;
}
.input-group-addon.input-sm {
  padding: 5px 10px;
  font-size: 12px;
  border-radius: 1px;
}
.input-group-addon.input-lg {
  padding: 10px 16px;
  font-size: 17px;
  border-radius: 3px;
}
.input-group-addon input[type="radio"],
.input-group-addon input[type="checkbox"] {
  margin-top: 0;
}
.input-group .form-control:first-child,
.input-group-addon:first-child,
.input-group-btn:first-child > .btn,
.input-group-btn:first-child > .btn-group > .btn,
.input-group-btn:first-child > .dropdown-toggle,
.input-group-btn:last-child > .btn:not(:last-child):not(.dropdown-toggle),
.input-group-btn:last-child > .btn-group:not(:last-child) > .btn {
  border-bottom-right-radius: 0;
  border-top-right-radius: 0;
}
.input-group-addon:first-child {
  border-right: 0;
}
.input-group .form-control:last-child,
.input-group-addon:last-child,
.input-group-btn:last-child > .btn,
.input-group-btn:last-child > .btn-group > .btn,
.input-group-btn:last-child > .dropdown-toggle,
.input-group-btn:first-child > .btn:not(:first-child),
.input-group-btn:first-child > .btn-group:not(:first-child) > .btn {
  border-bottom-left-radius: 0;
  border-top-left-radius: 0;
}
.input-group-addon:last-child {
  border-left: 0;
}
.input-group-btn {
  position: relative;
  font-size: 0;
  white-space: nowrap;
}
.input-group-btn > .btn {
  position: relative;
}
.input-group-btn > .btn + .btn {
  margin-left: -1px;
}
.input-group-btn > .btn:hover,
.input-group-btn > .btn:focus,
.input-group-btn > .btn:active {
  z-index: 2;
}
.input-group-btn:first-child > .btn,
.input-group-btn:first-child > .btn-group {
  margin-right: -1px;
}
.input-group-btn:last-child > .btn,
.input-group-btn:last-child > .btn-group {
  z-index: 2;
  margin-left: -1px;
}
.nav {
  margin-bottom: 0;
  padding-left: 0;
  list-style: none;
}
.nav > li {
  position: relative;
  display: block;
}
.nav > li > a {
  position: relative;
  display: block;
  padding: 10px 15px;
}
.nav > li > a:hover,
.nav > li > a:focus {
  text-decoration: none;
  background-color: #eeeeee;
}
.nav > li.disabled > a {
  color: #777777;
}
.nav > li.disabled > a:hover,
.nav > li.disabled > a:focus {
  color: #777777;
  text-decoration: none;
  background-color: transparent;
  cursor: not-allowed;
}
.nav .open > a,
.nav .open > a:hover,
.nav .open > a:focus {
  background-color: #eeeeee;
  border-color: #337ab7;
}
.nav .nav-divider {
  height: 1px;
  margin: 8px 0;
  overflow: hidden;
  background-color: #e5e5e5;
}
.nav > li > a > img {
  max-width: none;
}
.nav-tabs {
  border-bottom: 1px solid #ddd;
}
.nav-tabs > li {
  float: left;
  margin-bottom: -1px;
}
.nav-tabs > li > a {
  margin-right: 2px;
  line-height: 1.42857143;
  border: 1px solid transparent;
  border-radius: 2px 2px 0 0;
}
.nav-tabs > li > a:hover {
  border-color: #eeeeee #eeeeee #ddd;
}
.nav-tabs > li.active > a,
.nav-tabs > li.active > a:hover,
.nav-tabs > li.active > a:focus {
  color: #555555;
  background-color: #fff;
  border: 1px solid #ddd;
  border-bottom-color: transparent;
  cursor: default;
}
.nav-tabs.nav-justified {
  width: 100%;
  border-bottom: 0;
}
.nav-tabs.nav-justified > li {
  float: none;
}
.nav-tabs.nav-justified > li > a {
  text-align: center;
  margin-bottom: 5px;
}
.nav-tabs.nav-justified > .dropdown .dropdown-menu {
  top: auto;
  left: auto;
}
@media (min-width: 768px) {
  .nav-tabs.nav-justified > li {
    display: table-cell;
    width: 1%;
  }
  .nav-tabs.nav-justified > li > a {
    margin-bottom: 0;
  }
}
.nav-tabs.nav-justified > li > a {
  margin-right: 0;
  border-radius: 2px;
}
.nav-tabs.nav-justified > .active > a,
.nav-tabs.nav-justified > .active > a:hover,
.nav-tabs.nav-justified > .active > a:focus {
  border: 1px solid #ddd;
}
@media (min-width: 768px) {
  .nav-tabs.nav-justified > li > a {
    border-bottom: 1px solid #ddd;
    border-radius: 2px 2px 0 0;
  }
  .nav-tabs.nav-justified > .active > a,
  .nav-tabs.nav-justified > .active > a:hover,
  .nav-tabs.nav-justified > .active > a:focus {
    border-bottom-color: #fff;
  }
}
.nav-pills > li {
  float: left;
}
.nav-pills > li > a {
  border-radius: 2px;
}
.nav-pills > li + li {
  margin-left: 2px;
}
.nav-pills > li.active > a,
.nav-pills > li.active > a:hover,
.nav-pills > li.active > a:focus {
  color: #fff;
  background-color: #337ab7;
}
.nav-stacked > li {
  float: none;
}
.nav-stacked > li + li {
  margin-top: 2px;
  margin-left: 0;
}
.nav-justified {
  width: 100%;
}
.nav-justified > li {
  float: none;
}
.nav-justified > li > a {
  text-align: center;
  margin-bottom: 5px;
}
.nav-justified > .dropdown .dropdown-menu {
  top: auto;
  left: auto;
}
@media (min-width: 768px) {
  .nav-justified > li {
    display: table-cell;
    width: 1%;
  }
  .nav-justified > li > a {
    margin-bottom: 0;
  }
}
.nav-tabs-justified {
  border-bottom: 0;
}
.nav-tabs-justified > li > a {
  margin-right: 0;
  border-radius: 2px;
}
.nav-tabs-justified > .active > a,
.nav-tabs-justified > .active > a:hover,
.nav-tabs-justified > .active > a:focus {
  border: 1px solid #ddd;
}
@media (min-width: 768px) {
  .nav-tabs-justified > li > a {
    border-bottom: 1px solid #ddd;
    border-radius: 2px 2px 0 0;
  }
  .nav-tabs-justified > .active > a,
  .nav-tabs-justified > .active > a:hover,
  .nav-tabs-justified > .active > a:focus {
    border-bottom-color: #fff;
  }
}
.tab-content > .tab-pane {
  display: none;
}
.tab-content > .active {
  display: block;
}
.nav-tabs .dropdown-menu {
  margin-top: -1px;
  border-top-right-radius: 0;
  border-top-left-radius: 0;
}
.navbar {
  position: relative;
  min-height: 30px;
  margin-bottom: 18px;
  border: 1px solid transparent;
}
@media (min-width: 541px) {
  .navbar {
    border-radius: 2px;
  }
}
@media (min-width: 541px) {
  .navbar-header {
    float: left;
  }
}
.navbar-collapse {
  overflow-x: visible;
  padding-right: 0px;
  padding-left: 0px;
  border-top: 1px solid transparent;
  box-shadow: inset 0 1px 0 rgba(255, 255, 255, 0.1);
  -webkit-overflow-scrolling: touch;
}
.navbar-collapse.in {
  overflow-y: auto;
}
@media (min-width: 541px) {
  .navbar-collapse {
    width: auto;
    border-top: 0;
    box-shadow: none;
  }
  .navbar-collapse.collapse {
    display: block !important;
    height: auto !important;
    padding-bottom: 0;
    overflow: visible !important;
  }
  .navbar-collapse.in {
    overflow-y: visible;
  }
  .navbar-fixed-top .navbar-collapse,
  .navbar-static-top .navbar-collapse,
  .navbar-fixed-bottom .navbar-collapse {
    padding-left: 0;
    padding-right: 0;
  }
}
.navbar-fixed-top .navbar-collapse,
.navbar-fixed-bottom .navbar-collapse {
  max-height: 340px;
}
@media (max-device-width: 540px) and (orientation: landscape) {
  .navbar-fixed-top .navbar-collapse,
  .navbar-fixed-bottom .navbar-collapse {
    max-height: 200px;
  }
}
.container > .navbar-header,
.container-fluid > .navbar-header,
.container > .navbar-collapse,
.container-fluid > .navbar-collapse {
  margin-right: 0px;
  margin-left: 0px;
}
@media (min-width: 541px) {
  .container > .navbar-header,
  .container-fluid > .navbar-header,
  .container > .navbar-collapse,
  .container-fluid > .navbar-collapse {
    margin-right: 0;
    margin-left: 0;
  }
}
.navbar-static-top {
  z-index: 1000;
  border-width: 0 0 1px;
}
@media (min-width: 541px) {
  .navbar-static-top {
    border-radius: 0;
  }
}
.navbar-fixed-top,
.navbar-fixed-bottom {
  position: fixed;
  right: 0;
  left: 0;
  z-index: 1030;
}
@media (min-width: 541px) {
  .navbar-fixed-top,
  .navbar-fixed-bottom {
    border-radius: 0;
  }
}
.navbar-fixed-top {
  top: 0;
  border-width: 0 0 1px;
}
.navbar-fixed-bottom {
  bottom: 0;
  margin-bottom: 0;
  border-width: 1px 0 0;
}
.navbar-brand {
  float: left;
  padding: 6px 0px;
  font-size: 17px;
  line-height: 18px;
  height: 30px;
}
.navbar-brand:hover,
.navbar-brand:focus {
  text-decoration: none;
}
.navbar-brand > img {
  display: block;
}
@media (min-width: 541px) {
  .navbar > .container .navbar-brand,
  .navbar > .container-fluid .navbar-brand {
    margin-left: 0px;
  }
}
.navbar-toggle {
  position: relative;
  float: right;
  margin-right: 0px;
  padding: 9px 10px;
  margin-top: -2px;
  margin-bottom: -2px;
  background-color: transparent;
  background-image: none;
  border: 1px solid transparent;
  border-radius: 2px;
}
.navbar-toggle:focus {
  outline: 0;
}
.navbar-toggle .icon-bar {
  display: block;
  width: 22px;
  height: 2px;
  border-radius: 1px;
}
.navbar-toggle .icon-bar + .icon-bar {
  margin-top: 4px;
}
@media (min-width: 541px) {
  .navbar-toggle {
    display: none;
  }
}
.navbar-nav {
  margin: 3px 0px;
}
.navbar-nav > li > a {
  padding-top: 10px;
  padding-bottom: 10px;
  line-height: 18px;
}
@media (max-width: 540px) {
  .navbar-nav .open .dropdown-menu {
    position: static;
    float: none;
    width: auto;
    margin-top: 0;
    background-color: transparent;
    border: 0;
    box-shadow: none;
  }
  .navbar-nav .open .dropdown-menu > li > a,
  .navbar-nav .open .dropdown-menu .dropdown-header {
    padding: 5px 15px 5px 25px;
  }
  .navbar-nav .open .dropdown-menu > li > a {
    line-height: 18px;
  }
  .navbar-nav .open .dropdown-menu > li > a:hover,
  .navbar-nav .open .dropdown-menu > li > a:focus {
    background-image: none;
  }
}
@media (min-width: 541px) {
  .navbar-nav {
    float: left;
    margin: 0;
  }
  .navbar-nav > li {
    float: left;
  }
  .navbar-nav > li > a {
    padding-top: 6px;
    padding-bottom: 6px;
  }
}
.navbar-form {
  margin-left: 0px;
  margin-right: 0px;
  padding: 10px 0px;
  border-top: 1px solid transparent;
  border-bottom: 1px solid transparent;
  -webkit-box-shadow: inset 0 1px 0 rgba(255, 255, 255, 0.1), 0 1px 0 rgba(255, 255, 255, 0.1);
  box-shadow: inset 0 1px 0 rgba(255, 255, 255, 0.1), 0 1px 0 rgba(255, 255, 255, 0.1);
  margin-top: -1px;
  margin-bottom: -1px;
}
@media (min-width: 768px) {
  .navbar-form .form-group {
    display: inline-block;
    margin-bottom: 0;
    vertical-align: middle;
  }
  .navbar-form .form-control {
    display: inline-block;
    width: auto;
    vertical-align: middle;
  }
  .navbar-form .form-control-static {
    display: inline-block;
  }
  .navbar-form .input-group {
    display: inline-table;
    vertical-align: middle;
  }
  .navbar-form .input-group .input-group-addon,
  .navbar-form .input-group .input-group-btn,
  .navbar-form .input-group .form-control {
    width: auto;
  }
  .navbar-form .input-group > .form-control {
    width: 100%;
  }
  .navbar-form .control-label {
    margin-bottom: 0;
    vertical-align: middle;
  }
  .navbar-form .radio,
  .navbar-form .checkbox {
    display: inline-block;
    margin-top: 0;
    margin-bottom: 0;
    vertical-align: middle;
  }
  .navbar-form .radio label,
  .navbar-form .checkbox label {
    padding-left: 0;
  }
  .navbar-form .radio input[type="radio"],
  .navbar-form .checkbox input[type="checkbox"] {
    position: relative;
    margin-left: 0;
  }
  .navbar-form .has-feedback .form-control-feedback {
    top: 0;
  }
}
@media (max-width: 540px) {
  .navbar-form .form-group {
    margin-bottom: 5px;
  }
  .navbar-form .form-group:last-child {
    margin-bottom: 0;
  }
}
@media (min-width: 541px) {
  .navbar-form {
    width: auto;
    border: 0;
    margin-left: 0;
    margin-right: 0;
    padding-top: 0;
    padding-bottom: 0;
    -webkit-box-shadow: none;
    box-shadow: none;
  }
}
.navbar-nav > li > .dropdown-menu {
  margin-top: 0;
  border-top-right-radius: 0;
  border-top-left-radius: 0;
}
.navbar-fixed-bottom .navbar-nav > li > .dropdown-menu {
  margin-bottom: 0;
  border-top-right-radius: 2px;
  border-top-left-radius: 2px;
  border-bottom-right-radius: 0;
  border-bottom-left-radius: 0;
}
.navbar-btn {
  margin-top: -1px;
  margin-bottom: -1px;
}
.navbar-btn.btn-sm {
  margin-top: 0px;
  margin-bottom: 0px;
}
.navbar-btn.btn-xs {
  margin-top: 4px;
  margin-bottom: 4px;
}
.navbar-text {
  margin-top: 6px;
  margin-bottom: 6px;
}
@media (min-width: 541px) {
  .navbar-text {
    float: left;
    margin-left: 0px;
    margin-right: 0px;
  }
}
@media (min-width: 541px) {
  .navbar-left {
    float: left !important;
    float: left;
  }
  .navbar-right {
    float: right !important;
    float: right;
    margin-right: 0px;
  }
  .navbar-right ~ .navbar-right {
    margin-right: 0;
  }
}
.navbar-default {
  background-color: #f8f8f8;
  border-color: #e7e7e7;
}
.navbar-default .navbar-brand {
  color: #777;
}
.navbar-default .navbar-brand:hover,
.navbar-default .navbar-brand:focus {
  color: #5e5e5e;
  background-color: transparent;
}
.navbar-default .navbar-text {
  color: #777;
}
.navbar-default .navbar-nav > li > a {
  color: #777;
}
.navbar-default .navbar-nav > li > a:hover,
.navbar-default .navbar-nav > li > a:focus {
  color: #333;
  background-color: transparent;
}
.navbar-default .navbar-nav > .active > a,
.navbar-default .navbar-nav > .active > a:hover,
.navbar-default .navbar-nav > .active > a:focus {
  color: #555;
  background-color: #e7e7e7;
}
.navbar-default .navbar-nav > .disabled > a,
.navbar-default .navbar-nav > .disabled > a:hover,
.navbar-default .navbar-nav > .disabled > a:focus {
  color: #ccc;
  background-color: transparent;
}
.navbar-default .navbar-toggle {
  border-color: #ddd;
}
.navbar-default .navbar-toggle:hover,
.navbar-default .navbar-toggle:focus {
  background-color: #ddd;
}
.navbar-default .navbar-toggle .icon-bar {
  background-color: #888;
}
.navbar-default .navbar-collapse,
.navbar-default .navbar-form {
  border-color: #e7e7e7;
}
.navbar-default .navbar-nav > .open > a,
.navbar-default .navbar-nav > .open > a:hover,
.navbar-default .navbar-nav > .open > a:focus {
  background-color: #e7e7e7;
  color: #555;
}
@media (max-width: 540px) {
  .navbar-default .navbar-nav .open .dropdown-menu > li > a {
    color: #777;
  }
  .navbar-default .navbar-nav .open .dropdown-menu > li > a:hover,
  .navbar-default .navbar-nav .open .dropdown-menu > li > a:focus {
    color: #333;
    background-color: transparent;
  }
  .navbar-default .navbar-nav .open .dropdown-menu > .active > a,
  .navbar-default .navbar-nav .open .dropdown-menu > .active > a:hover,
  .navbar-default .navbar-nav .open .dropdown-menu > .active > a:focus {
    color: #555;
    background-color: #e7e7e7;
  }
  .navbar-default .navbar-nav .open .dropdown-menu > .disabled > a,
  .navbar-default .navbar-nav .open .dropdown-menu > .disabled > a:hover,
  .navbar-default .navbar-nav .open .dropdown-menu > .disabled > a:focus {
    color: #ccc;
    background-color: transparent;
  }
}
.navbar-default .navbar-link {
  color: #777;
}
.navbar-default .navbar-link:hover {
  color: #333;
}
.navbar-default .btn-link {
  color: #777;
}
.navbar-default .btn-link:hover,
.navbar-default .btn-link:focus {
  color: #333;
}
.navbar-default .btn-link[disabled]:hover,
fieldset[disabled] .navbar-default .btn-link:hover,
.navbar-default .btn-link[disabled]:focus,
fieldset[disabled] .navbar-default .btn-link:focus {
  color: #ccc;
}
.navbar-inverse {
  background-color: #222;
  border-color: #080808;
}
.navbar-inverse .navbar-brand {
  color: #9d9d9d;
}
.navbar-inverse .navbar-brand:hover,
.navbar-inverse .navbar-brand:focus {
  color: #fff;
  background-color: transparent;
}
.navbar-inverse .navbar-text {
  color: #9d9d9d;
}
.navbar-inverse .navbar-nav > li > a {
  color: #9d9d9d;
}
.navbar-inverse .navbar-nav > li > a:hover,
.navbar-inverse .navbar-nav > li > a:focus {
  color: #fff;
  background-color: transparent;
}
.navbar-inverse .navbar-nav > .active > a,
.navbar-inverse .navbar-nav > .active > a:hover,
.navbar-inverse .navbar-nav > .active > a:focus {
  color: #fff;
  background-color: #080808;
}
.navbar-inverse .navbar-nav > .disabled > a,
.navbar-inverse .navbar-nav > .disabled > a:hover,
.navbar-inverse .navbar-nav > .disabled > a:focus {
  color: #444;
  background-color: transparent;
}
.navbar-inverse .navbar-toggle {
  border-color: #333;
}
.navbar-inverse .navbar-toggle:hover,
.navbar-inverse .navbar-toggle:focus {
  background-color: #333;
}
.navbar-inverse .navbar-toggle .icon-bar {
  background-color: #fff;
}
.navbar-inverse .navbar-collapse,
.navbar-inverse .navbar-form {
  border-color: #101010;
}
.navbar-inverse .navbar-nav > .open > a,
.navbar-inverse .navbar-nav > .open > a:hover,
.navbar-inverse .navbar-nav > .open > a:focus {
  background-color: #080808;
  color: #fff;
}
@media (max-width: 540px) {
  .navbar-inverse .navbar-nav .open .dropdown-menu > .dropdown-header {
    border-color: #080808;
  }
  .navbar-inverse .navbar-nav .open .dropdown-menu .divider {
    background-color: #080808;
  }
  .navbar-inverse .navbar-nav .open .dropdown-menu > li > a {
    color: #9d9d9d;
  }
  .navbar-inverse .navbar-nav .open .dropdown-menu > li > a:hover,
  .navbar-inverse .navbar-nav .open .dropdown-menu > li > a:focus {
    color: #fff;
    background-color: transparent;
  }
  .navbar-inverse .navbar-nav .open .dropdown-menu > .active > a,
  .navbar-inverse .navbar-nav .open .dropdown-menu > .active > a:hover,
  .navbar-inverse .navbar-nav .open .dropdown-menu > .active > a:focus {
    color: #fff;
    background-color: #080808;
  }
  .navbar-inverse .navbar-nav .open .dropdown-menu > .disabled > a,
  .navbar-inverse .navbar-nav .open .dropdown-menu > .disabled > a:hover,
  .navbar-inverse .navbar-nav .open .dropdown-menu > .disabled > a:focus {
    color: #444;
    background-color: transparent;
  }
}
.navbar-inverse .navbar-link {
  color: #9d9d9d;
}
.navbar-inverse .navbar-link:hover {
  color: #fff;
}
.navbar-inverse .btn-link {
  color: #9d9d9d;
}
.navbar-inverse .btn-link:hover,
.navbar-inverse .btn-link:focus {
  color: #fff;
}
.navbar-inverse .btn-link[disabled]:hover,
fieldset[disabled] .navbar-inverse .btn-link:hover,
.navbar-inverse .btn-link[disabled]:focus,
fieldset[disabled] .navbar-inverse .btn-link:focus {
  color: #444;
}
.breadcrumb {
  padding: 8px 15px;
  margin-bottom: 18px;
  list-style: none;
  background-color: #f5f5f5;
  border-radius: 2px;
}
.breadcrumb > li {
  display: inline-block;
}
.breadcrumb > li + li:before {
  content: "/\00a0";
  padding: 0 5px;
  color: #5e5e5e;
}
.breadcrumb > .active {
  color: #777777;
}
.pagination {
  display: inline-block;
  padding-left: 0;
  margin: 18px 0;
  border-radius: 2px;
}
.pagination > li {
  display: inline;
}
.pagination > li > a,
.pagination > li > span {
  position: relative;
  float: left;
  padding: 6px 12px;
  line-height: 1.42857143;
  text-decoration: none;
  color: #337ab7;
  background-color: #fff;
  border: 1px solid #ddd;
  margin-left: -1px;
}
.pagination > li:first-child > a,
.pagination > li:first-child > span {
  margin-left: 0;
  border-bottom-left-radius: 2px;
  border-top-left-radius: 2px;
}
.pagination > li:last-child > a,
.pagination > li:last-child > span {
  border-bottom-right-radius: 2px;
  border-top-right-radius: 2px;
}
.pagination > li > a:hover,
.pagination > li > span:hover,
.pagination > li > a:focus,
.pagination > li > span:focus {
  z-index: 2;
  color: #23527c;
  background-color: #eeeeee;
  border-color: #ddd;
}
.pagination > .active > a,
.pagination > .active > span,
.pagination > .active > a:hover,
.pagination > .active > span:hover,
.pagination > .active > a:focus,
.pagination > .active > span:focus {
  z-index: 3;
  color: #fff;
  background-color: #337ab7;
  border-color: #337ab7;
  cursor: default;
}
.pagination > .disabled > span,
.pagination > .disabled > span:hover,
.pagination > .disabled > span:focus,
.pagination > .disabled > a,
.pagination > .disabled > a:hover,
.pagination > .disabled > a:focus {
  color: #777777;
  background-color: #fff;
  border-color: #ddd;
  cursor: not-allowed;
}
.pagination-lg > li > a,
.pagination-lg > li > span {
  padding: 10px 16px;
  font-size: 17px;
  line-height: 1.3333333;
}
.pagination-lg > li:first-child > a,
.pagination-lg > li:first-child > span {
  border-bottom-left-radius: 3px;
  border-top-left-radius: 3px;
}
.pagination-lg > li:last-child > a,
.pagination-lg > li:last-child > span {
  border-bottom-right-radius: 3px;
  border-top-right-radius: 3px;
}
.pagination-sm > li > a,
.pagination-sm > li > span {
  padding: 5px 10px;
  font-size: 12px;
  line-height: 1.5;
}
.pagination-sm > li:first-child > a,
.pagination-sm > li:first-child > span {
  border-bottom-left-radius: 1px;
  border-top-left-radius: 1px;
}
.pagination-sm > li:last-child > a,
.pagination-sm > li:last-child > span {
  border-bottom-right-radius: 1px;
  border-top-right-radius: 1px;
}
.pager {
  padding-left: 0;
  margin: 18px 0;
  list-style: none;
  text-align: center;
}
.pager li {
  display: inline;
}
.pager li > a,
.pager li > span {
  display: inline-block;
  padding: 5px 14px;
  background-color: #fff;
  border: 1px solid #ddd;
  border-radius: 15px;
}
.pager li > a:hover,
.pager li > a:focus {
  text-decoration: none;
  background-color: #eeeeee;
}
.pager .next > a,
.pager .next > span {
  float: right;
}
.pager .previous > a,
.pager .previous > span {
  float: left;
}
.pager .disabled > a,
.pager .disabled > a:hover,
.pager .disabled > a:focus,
.pager .disabled > span {
  color: #777777;
  background-color: #fff;
  cursor: not-allowed;
}
.label {
  display: inline;
  padding: .2em .6em .3em;
  font-size: 75%;
  font-weight: bold;
  line-height: 1;
  color: #fff;
  text-align: center;
  white-space: nowrap;
  vertical-align: baseline;
  border-radius: .25em;
}
a.label:hover,
a.label:focus {
  color: #fff;
  text-decoration: none;
  cursor: pointer;
}
.label:empty {
  display: none;
}
.btn .label {
  position: relative;
  top: -1px;
}
.label-default {
  background-color: #777777;
}
.label-default[href]:hover,
.label-default[href]:focus {
  background-color: #5e5e5e;
}
.label-primary {
  background-color: #337ab7;
}
.label-primary[href]:hover,
.label-primary[href]:focus {
  background-color: #286090;
}
.label-success {
  background-color: #5cb85c;
}
.label-success[href]:hover,
.label-success[href]:focus {
  background-color: #449d44;
}
.label-info {
  background-color: #5bc0de;
}
.label-info[href]:hover,
.label-info[href]:focus {
  background-color: #31b0d5;
}
.label-warning {
  background-color: #f0ad4e;
}
.label-warning[href]:hover,
.label-warning[href]:focus {
  background-color: #ec971f;
}
.label-danger {
  background-color: #d9534f;
}
.label-danger[href]:hover,
.label-danger[href]:focus {
  background-color: #c9302c;
}
.badge {
  display: inline-block;
  min-width: 10px;
  padding: 3px 7px;
  font-size: 12px;
  font-weight: bold;
  color: #fff;
  line-height: 1;
  vertical-align: middle;
  white-space: nowrap;
  text-align: center;
  background-color: #777777;
  border-radius: 10px;
}
.badge:empty {
  display: none;
}
.btn .badge {
  position: relative;
  top: -1px;
}
.btn-xs .badge,
.btn-group-xs > .btn .badge {
  top: 0;
  padding: 1px 5px;
}
a.badge:hover,
a.badge:focus {
  color: #fff;
  text-decoration: none;
  cursor: pointer;
}
.list-group-item.active > .badge,
.nav-pills > .active > a > .badge {
  color: #337ab7;
  background-color: #fff;
}
.list-group-item > .badge {
  float: right;
}
.list-group-item > .badge + .badge {
  margin-right: 5px;
}
.nav-pills > li > a > .badge {
  margin-left: 3px;
}
.jumbotron {
  padding-top: 30px;
  padding-bottom: 30px;
  margin-bottom: 30px;
  color: inherit;
  background-color: #eeeeee;
}
.jumbotron h1,
.jumbotron .h1 {
  color: inherit;
}
.jumbotron p {
  margin-bottom: 15px;
  font-size: 20px;
  font-weight: 200;
}
.jumbotron > hr {
  border-top-color: #d5d5d5;
}
.container .jumbotron,
.container-fluid .jumbotron {
  border-radius: 3px;
  padding-left: 0px;
  padding-right: 0px;
}
.jumbotron .container {
  max-width: 100%;
}
@media screen and (min-width: 768px) {
  .jumbotron {
    padding-top: 48px;
    padding-bottom: 48px;
  }
  .container .jumbotron,
  .container-fluid .jumbotron {
    padding-left: 60px;
    padding-right: 60px;
  }
  .jumbotron h1,
  .jumbotron .h1 {
    font-size: 59px;
  }
}
.thumbnail {
  display: block;
  padding: 4px;
  margin-bottom: 18px;
  line-height: 1.42857143;
  background-color: #fff;
  border: 1px solid #ddd;
  border-radius: 2px;
  -webkit-transition: border 0.2s ease-in-out;
  -o-transition: border 0.2s ease-in-out;
  transition: border 0.2s ease-in-out;
}
.thumbnail > img,
.thumbnail a > img {
  margin-left: auto;
  margin-right: auto;
}
a.thumbnail:hover,
a.thumbnail:focus,
a.thumbnail.active {
  border-color: #337ab7;
}
.thumbnail .caption {
  padding: 9px;
  color: #000;
}
.alert {
  padding: 15px;
  margin-bottom: 18px;
  border: 1px solid transparent;
  border-radius: 2px;
}
.alert h4 {
  margin-top: 0;
  color: inherit;
}
.alert .alert-link {
  font-weight: bold;
}
.alert > p,
.alert > ul {
  margin-bottom: 0;
}
.alert > p + p {
  margin-top: 5px;
}
.alert-dismissable,
.alert-dismissible {
  padding-right: 35px;
}
.alert-dismissable .close,
.alert-dismissible .close {
  position: relative;
  top: -2px;
  right: -21px;
  color: inherit;
}
.alert-success {
  background-color: #dff0d8;
  border-color: #d6e9c6;
  color: #3c763d;
}
.alert-success hr {
  border-top-color: #c9e2b3;
}
.alert-success .alert-link {
  color: #2b542c;
}
.alert-info {
  background-color: #d9edf7;
  border-color: #bce8f1;
  color: #31708f;
}
.alert-info hr {
  border-top-color: #a6e1ec;
}
.alert-info .alert-link {
  color: #245269;
}
.alert-warning {
  background-color: #fcf8e3;
  border-color: #faebcc;
  color: #8a6d3b;
}
.alert-warning hr {
  border-top-color: #f7e1b5;
}
.alert-warning .alert-link {
  color: #66512c;
}
.alert-danger {
  background-color: #f2dede;
  border-color: #ebccd1;
  color: #a94442;
}
.alert-danger hr {
  border-top-color: #e4b9c0;
}
.alert-danger .alert-link {
  color: #843534;
}
@-webkit-keyframes progress-bar-stripes {
  from {
    background-position: 40px 0;
  }
  to {
    background-position: 0 0;
  }
}
@keyframes progress-bar-stripes {
  from {
    background-position: 40px 0;
  }
  to {
    background-position: 0 0;
  }
}
.progress {
  overflow: hidden;
  height: 18px;
  margin-bottom: 18px;
  background-color: #f5f5f5;
  border-radius: 2px;
  -webkit-box-shadow: inset 0 1px 2px rgba(0, 0, 0, 0.1);
  box-shadow: inset 0 1px 2px rgba(0, 0, 0, 0.1);
}
.progress-bar {
  float: left;
  width: 0%;
  height: 100%;
  font-size: 12px;
  line-height: 18px;
  color: #fff;
  text-align: center;
  background-color: #337ab7;
  -webkit-box-shadow: inset 0 -1px 0 rgba(0, 0, 0, 0.15);
  box-shadow: inset 0 -1px 0 rgba(0, 0, 0, 0.15);
  -webkit-transition: width 0.6s ease;
  -o-transition: width 0.6s ease;
  transition: width 0.6s ease;
}
.progress-striped .progress-bar,
.progress-bar-striped {
  background-image: -webkit-linear-gradient(45deg, rgba(255, 255, 255, 0.15) 25%, transparent 25%, transparent 50%, rgba(255, 255, 255, 0.15) 50%, rgba(255, 255, 255, 0.15) 75%, transparent 75%, transparent);
  background-image: -o-linear-gradient(45deg, rgba(255, 255, 255, 0.15) 25%, transparent 25%, transparent 50%, rgba(255, 255, 255, 0.15) 50%, rgba(255, 255, 255, 0.15) 75%, transparent 75%, transparent);
  background-image: linear-gradient(45deg, rgba(255, 255, 255, 0.15) 25%, transparent 25%, transparent 50%, rgba(255, 255, 255, 0.15) 50%, rgba(255, 255, 255, 0.15) 75%, transparent 75%, transparent);
  background-size: 40px 40px;
}
.progress.active .progress-bar,
.progress-bar.active {
  -webkit-animation: progress-bar-stripes 2s linear infinite;
  -o-animation: progress-bar-stripes 2s linear infinite;
  animation: progress-bar-stripes 2s linear infinite;
}
.progress-bar-success {
  background-color: #5cb85c;
}
.progress-striped .progress-bar-success {
  background-image: -webkit-linear-gradient(45deg, rgba(255, 255, 255, 0.15) 25%, transparent 25%, transparent 50%, rgba(255, 255, 255, 0.15) 50%, rgba(255, 255, 255, 0.15) 75%, transparent 75%, transparent);
  background-image: -o-linear-gradient(45deg, rgba(255, 255, 255, 0.15) 25%, transparent 25%, transparent 50%, rgba(255, 255, 255, 0.15) 50%, rgba(255, 255, 255, 0.15) 75%, transparent 75%, transparent);
  background-image: linear-gradient(45deg, rgba(255, 255, 255, 0.15) 25%, transparent 25%, transparent 50%, rgba(255, 255, 255, 0.15) 50%, rgba(255, 255, 255, 0.15) 75%, transparent 75%, transparent);
}
.progress-bar-info {
  background-color: #5bc0de;
}
.progress-striped .progress-bar-info {
  background-image: -webkit-linear-gradient(45deg, rgba(255, 255, 255, 0.15) 25%, transparent 25%, transparent 50%, rgba(255, 255, 255, 0.15) 50%, rgba(255, 255, 255, 0.15) 75%, transparent 75%, transparent);
  background-image: -o-linear-gradient(45deg, rgba(255, 255, 255, 0.15) 25%, transparent 25%, transparent 50%, rgba(255, 255, 255, 0.15) 50%, rgba(255, 255, 255, 0.15) 75%, transparent 75%, transparent);
  background-image: linear-gradient(45deg, rgba(255, 255, 255, 0.15) 25%, transparent 25%, transparent 50%, rgba(255, 255, 255, 0.15) 50%, rgba(255, 255, 255, 0.15) 75%, transparent 75%, transparent);
}
.progress-bar-warning {
  background-color: #f0ad4e;
}
.progress-striped .progress-bar-warning {
  background-image: -webkit-linear-gradient(45deg, rgba(255, 255, 255, 0.15) 25%, transparent 25%, transparent 50%, rgba(255, 255, 255, 0.15) 50%, rgba(255, 255, 255, 0.15) 75%, transparent 75%, transparent);
  background-image: -o-linear-gradient(45deg, rgba(255, 255, 255, 0.15) 25%, transparent 25%, transparent 50%, rgba(255, 255, 255, 0.15) 50%, rgba(255, 255, 255, 0.15) 75%, transparent 75%, transparent);
  background-image: linear-gradient(45deg, rgba(255, 255, 255, 0.15) 25%, transparent 25%, transparent 50%, rgba(255, 255, 255, 0.15) 50%, rgba(255, 255, 255, 0.15) 75%, transparent 75%, transparent);
}
.progress-bar-danger {
  background-color: #d9534f;
}
.progress-striped .progress-bar-danger {
  background-image: -webkit-linear-gradient(45deg, rgba(255, 255, 255, 0.15) 25%, transparent 25%, transparent 50%, rgba(255, 255, 255, 0.15) 50%, rgba(255, 255, 255, 0.15) 75%, transparent 75%, transparent);
  background-image: -o-linear-gradient(45deg, rgba(255, 255, 255, 0.15) 25%, transparent 25%, transparent 50%, rgba(255, 255, 255, 0.15) 50%, rgba(255, 255, 255, 0.15) 75%, transparent 75%, transparent);
  background-image: linear-gradient(45deg, rgba(255, 255, 255, 0.15) 25%, transparent 25%, transparent 50%, rgba(255, 255, 255, 0.15) 50%, rgba(255, 255, 255, 0.15) 75%, transparent 75%, transparent);
}
.media {
  margin-top: 15px;
}
.media:first-child {
  margin-top: 0;
}
.media,
.media-body {
  zoom: 1;
  overflow: hidden;
}
.media-body {
  width: 10000px;
}
.media-object {
  display: block;
}
.media-object.img-thumbnail {
  max-width: none;
}
.media-right,
.media > .pull-right {
  padding-left: 10px;
}
.media-left,
.media > .pull-left {
  padding-right: 10px;
}
.media-left,
.media-right,
.media-body {
  display: table-cell;
  vertical-align: top;
}
.media-middle {
  vertical-align: middle;
}
.media-bottom {
  vertical-align: bottom;
}
.media-heading {
  margin-top: 0;
  margin-bottom: 5px;
}
.media-list {
  padding-left: 0;
  list-style: none;
}
.list-group {
  margin-bottom: 20px;
  padding-left: 0;
}
.list-group-item {
  position: relative;
  display: block;
  padding: 10px 15px;
  margin-bottom: -1px;
  background-color: #fff;
  border: 1px solid #ddd;
}
.list-group-item:first-child {
  border-top-right-radius: 2px;
  border-top-left-radius: 2px;
}
.list-group-item:last-child {
  margin-bottom: 0;
  border-bottom-right-radius: 2px;
  border-bottom-left-radius: 2px;
}
a.list-group-item,
button.list-group-item {
  color: #555;
}
a.list-group-item .list-group-item-heading,
button.list-group-item .list-group-item-heading {
  color: #333;
}
a.list-group-item:hover,
button.list-group-item:hover,
a.list-group-item:focus,
button.list-group-item:focus {
  text-decoration: none;
  color: #555;
  background-color: #f5f5f5;
}
button.list-group-item {
  width: 100%;
  text-align: left;
}
.list-group-item.disabled,
.list-group-item.disabled:hover,
.list-group-item.disabled:focus {
  background-color: #eeeeee;
  color: #777777;
  cursor: not-allowed;
}
.list-group-item.disabled .list-group-item-heading,
.list-group-item.disabled:hover .list-group-item-heading,
.list-group-item.disabled:focus .list-group-item-heading {
  color: inherit;
}
.list-group-item.disabled .list-group-item-text,
.list-group-item.disabled:hover .list-group-item-text,
.list-group-item.disabled:focus .list-group-item-text {
  color: #777777;
}
.list-group-item.active,
.list-group-item.active:hover,
.list-group-item.active:focus {
  z-index: 2;
  color: #fff;
  background-color: #337ab7;
  border-color: #337ab7;
}
.list-group-item.active .list-group-item-heading,
.list-group-item.active:hover .list-group-item-heading,
.list-group-item.active:focus .list-group-item-heading,
.list-group-item.active .list-group-item-heading > small,
.list-group-item.active:hover .list-group-item-heading > small,
.list-group-item.active:focus .list-group-item-heading > small,
.list-group-item.active .list-group-item-heading > .small,
.list-group-item.active:hover .list-group-item-heading > .small,
.list-group-item.active:focus .list-group-item-heading > .small {
  color: inherit;
}
.list-group-item.active .list-group-item-text,
.list-group-item.active:hover .list-group-item-text,
.list-group-item.active:focus .list-group-item-text {
  color: #c7ddef;
}
.list-group-item-success {
  color: #3c763d;
  background-color: #dff0d8;
}
a.list-group-item-success,
button.list-group-item-success {
  color: #3c763d;
}
a.list-group-item-success .list-group-item-heading,
button.list-group-item-success .list-group-item-heading {
  color: inherit;
}
a.list-group-item-success:hover,
button.list-group-item-success:hover,
a.list-group-item-success:focus,
button.list-group-item-success:focus {
  color: #3c763d;
  background-color: #d0e9c6;
}
a.list-group-item-success.active,
button.list-group-item-success.active,
a.list-group-item-success.active:hover,
button.list-group-item-success.active:hover,
a.list-group-item-success.active:focus,
button.list-group-item-success.active:focus {
  color: #fff;
  background-color: #3c763d;
  border-color: #3c763d;
}
.list-group-item-info {
  color: #31708f;
  background-color: #d9edf7;
}
a.list-group-item-info,
button.list-group-item-info {
  color: #31708f;
}
a.list-group-item-info .list-group-item-heading,
button.list-group-item-info .list-group-item-heading {
  color: inherit;
}
a.list-group-item-info:hover,
button.list-group-item-info:hover,
a.list-group-item-info:focus,
button.list-group-item-info:focus {
  color: #31708f;
  background-color: #c4e3f3;
}
a.list-group-item-info.active,
button.list-group-item-info.active,
a.list-group-item-info.active:hover,
button.list-group-item-info.active:hover,
a.list-group-item-info.active:focus,
button.list-group-item-info.active:focus {
  color: #fff;
  background-color: #31708f;
  border-color: #31708f;
}
.list-group-item-warning {
  color: #8a6d3b;
  background-color: #fcf8e3;
}
a.list-group-item-warning,
button.list-group-item-warning {
  color: #8a6d3b;
}
a.list-group-item-warning .list-group-item-heading,
button.list-group-item-warning .list-group-item-heading {
  color: inherit;
}
a.list-group-item-warning:hover,
button.list-group-item-warning:hover,
a.list-group-item-warning:focus,
button.list-group-item-warning:focus {
  color: #8a6d3b;
  background-color: #faf2cc;
}
a.list-group-item-warning.active,
button.list-group-item-warning.active,
a.list-group-item-warning.active:hover,
button.list-group-item-warning.active:hover,
a.list-group-item-warning.active:focus,
button.list-group-item-warning.active:focus {
  color: #fff;
  background-color: #8a6d3b;
  border-color: #8a6d3b;
}
.list-group-item-danger {
  color: #a94442;
  background-color: #f2dede;
}
a.list-group-item-danger,
button.list-group-item-danger {
  color: #a94442;
}
a.list-group-item-danger .list-group-item-heading,
button.list-group-item-danger .list-group-item-heading {
  color: inherit;
}
a.list-group-item-danger:hover,
button.list-group-item-danger:hover,
a.list-group-item-danger:focus,
button.list-group-item-danger:focus {
  color: #a94442;
  background-color: #ebcccc;
}
a.list-group-item-danger.active,
button.list-group-item-danger.active,
a.list-group-item-danger.active:hover,
button.list-group-item-danger.active:hover,
a.list-group-item-danger.active:focus,
button.list-group-item-danger.active:focus {
  color: #fff;
  background-color: #a94442;
  border-color: #a94442;
}
.list-group-item-heading {
  margin-top: 0;
  margin-bottom: 5px;
}
.list-group-item-text {
  margin-bottom: 0;
  line-height: 1.3;
}
.panel {
  margin-bottom: 18px;
  background-color: #fff;
  border: 1px solid transparent;
  border-radius: 2px;
  -webkit-box-shadow: 0 1px 1px rgba(0, 0, 0, 0.05);
  box-shadow: 0 1px 1px rgba(0, 0, 0, 0.05);
}
.panel-body {
  padding: 15px;
}
.panel-heading {
  padding: 10px 15px;
  border-bottom: 1px solid transparent;
  border-top-right-radius: 1px;
  border-top-left-radius: 1px;
}
.panel-heading > .dropdown .dropdown-toggle {
  color: inherit;
}
.panel-title {
  margin-top: 0;
  margin-bottom: 0;
  font-size: 15px;
  color: inherit;
}
.panel-title > a,
.panel-title > small,
.panel-title > .small,
.panel-title > small > a,
.panel-title > .small > a {
  color: inherit;
}
.panel-footer {
  padding: 10px 15px;
  background-color: #f5f5f5;
  border-top: 1px solid #ddd;
  border-bottom-right-radius: 1px;
  border-bottom-left-radius: 1px;
}
.panel > .list-group,
.panel > .panel-collapse > .list-group {
  margin-bottom: 0;
}
.panel > .list-group .list-group-item,
.panel > .panel-collapse > .list-group .list-group-item {
  border-width: 1px 0;
  border-radius: 0;
}
.panel > .list-group:first-child .list-group-item:first-child,
.panel > .panel-collapse > .list-group:first-child .list-group-item:first-child {
  border-top: 0;
  border-top-right-radius: 1px;
  border-top-left-radius: 1px;
}
.panel > .list-group:last-child .list-group-item:last-child,
.panel > .panel-collapse > .list-group:last-child .list-group-item:last-child {
  border-bottom: 0;
  border-bottom-right-radius: 1px;
  border-bottom-left-radius: 1px;
}
.panel > .panel-heading + .panel-collapse > .list-group .list-group-item:first-child {
  border-top-right-radius: 0;
  border-top-left-radius: 0;
}
.panel-heading + .list-group .list-group-item:first-child {
  border-top-width: 0;
}
.list-group + .panel-footer {
  border-top-width: 0;
}
.panel > .table,
.panel > .table-responsive > .table,
.panel > .panel-collapse > .table {
  margin-bottom: 0;
}
.panel > .table caption,
.panel > .table-responsive > .table caption,
.panel > .panel-collapse > .table caption {
  padding-left: 15px;
  padding-right: 15px;
}
.panel > .table:first-child,
.panel > .table-responsive:first-child > .table:first-child {
  border-top-right-radius: 1px;
  border-top-left-radius: 1px;
}
.panel > .table:first-child > thead:first-child > tr:first-child,
.panel > .table-responsive:first-child > .table:first-child > thead:first-child > tr:first-child,
.panel > .table:first-child > tbody:first-child > tr:first-child,
.panel > .table-responsive:first-child > .table:first-child > tbody:first-child > tr:first-child {
  border-top-left-radius: 1px;
  border-top-right-radius: 1px;
}
.panel > .table:first-child > thead:first-child > tr:first-child td:first-child,
.panel > .table-responsive:first-child > .table:first-child > thead:first-child > tr:first-child td:first-child,
.panel > .table:first-child > tbody:first-child > tr:first-child td:first-child,
.panel > .table-responsive:first-child > .table:first-child > tbody:first-child > tr:first-child td:first-child,
.panel > .table:first-child > thead:first-child > tr:first-child th:first-child,
.panel > .table-responsive:first-child > .table:first-child > thead:first-child > tr:first-child th:first-child,
.panel > .table:first-child > tbody:first-child > tr:first-child th:first-child,
.panel > .table-responsive:first-child > .table:first-child > tbody:first-child > tr:first-child th:first-child {
  border-top-left-radius: 1px;
}
.panel > .table:first-child > thead:first-child > tr:first-child td:last-child,
.panel > .table-responsive:first-child > .table:first-child > thead:first-child > tr:first-child td:last-child,
.panel > .table:first-child > tbody:first-child > tr:first-child td:last-child,
.panel > .table-responsive:first-child > .table:first-child > tbody:first-child > tr:first-child td:last-child,
.panel > .table:first-child > thead:first-child > tr:first-child th:last-child,
.panel > .table-responsive:first-child > .table:first-child > thead:first-child > tr:first-child th:last-child,
.panel > .table:first-child > tbody:first-child > tr:first-child th:last-child,
.panel > .table-responsive:first-child > .table:first-child > tbody:first-child > tr:first-child th:last-child {
  border-top-right-radius: 1px;
}
.panel > .table:last-child,
.panel > .table-responsive:last-child > .table:last-child {
  border-bottom-right-radius: 1px;
  border-bottom-left-radius: 1px;
}
.panel > .table:last-child > tbody:last-child > tr:last-child,
.panel > .table-responsive:last-child > .table:last-child > tbody:last-child > tr:last-child,
.panel > .table:last-child > tfoot:last-child > tr:last-child,
.panel > .table-responsive:last-child > .table:last-child > tfoot:last-child > tr:last-child {
  border-bottom-left-radius: 1px;
  border-bottom-right-radius: 1px;
}
.panel > .table:last-child > tbody:last-child > tr:last-child td:first-child,
.panel > .table-responsive:last-child > .table:last-child > tbody:last-child > tr:last-child td:first-child,
.panel > .table:last-child > tfoot:last-child > tr:last-child td:first-child,
.panel > .table-responsive:last-child > .table:last-child > tfoot:last-child > tr:last-child td:first-child,
.panel > .table:last-child > tbody:last-child > tr:last-child th:first-child,
.panel > .table-responsive:last-child > .table:last-child > tbody:last-child > tr:last-child th:first-child,
.panel > .table:last-child > tfoot:last-child > tr:last-child th:first-child,
.panel > .table-responsive:last-child > .table:last-child > tfoot:last-child > tr:last-child th:first-child {
  border-bottom-left-radius: 1px;
}
.panel > .table:last-child > tbody:last-child > tr:last-child td:last-child,
.panel > .table-responsive:last-child > .table:last-child > tbody:last-child > tr:last-child td:last-child,
.panel > .table:last-child > tfoot:last-child > tr:last-child td:last-child,
.panel > .table-responsive:last-child > .table:last-child > tfoot:last-child > tr:last-child td:last-child,
.panel > .table:last-child > tbody:last-child > tr:last-child th:last-child,
.panel > .table-responsive:last-child > .table:last-child > tbody:last-child > tr:last-child th:last-child,
.panel > .table:last-child > tfoot:last-child > tr:last-child th:last-child,
.panel > .table-responsive:last-child > .table:last-child > tfoot:last-child > tr:last-child th:last-child {
  border-bottom-right-radius: 1px;
}
.panel > .panel-body + .table,
.panel > .panel-body + .table-responsive,
.panel > .table + .panel-body,
.panel > .table-responsive + .panel-body {
  border-top: 1px solid #ddd;
}
.panel > .table > tbody:first-child > tr:first-child th,
.panel > .table > tbody:first-child > tr:first-child td {
  border-top: 0;
}
.panel > .table-bordered,
.panel > .table-responsive > .table-bordered {
  border: 0;
}
.panel > .table-bordered > thead > tr > th:first-child,
.panel > .table-responsive > .table-bordered > thead > tr > th:first-child,
.panel > .table-bordered > tbody > tr > th:first-child,
.panel > .table-responsive > .table-bordered > tbody > tr > th:first-child,
.panel > .table-bordered > tfoot > tr > th:first-child,
.panel > .table-responsive > .table-bordered > tfoot > tr > th:first-child,
.panel > .table-bordered > thead > tr > td:first-child,
.panel > .table-responsive > .table-bordered > thead > tr > td:first-child,
.panel > .table-bordered > tbody > tr > td:first-child,
.panel > .table-responsive > .table-bordered > tbody > tr > td:first-child,
.panel > .table-bordered > tfoot > tr > td:first-child,
.panel > .table-responsive > .table-bordered > tfoot > tr > td:first-child {
  border-left: 0;
}
.panel > .table-bordered > thead > tr > th:last-child,
.panel > .table-responsive > .table-bordered > thead > tr > th:last-child,
.panel > .table-bordered > tbody > tr > th:last-child,
.panel > .table-responsive > .table-bordered > tbody > tr > th:last-child,
.panel > .table-bordered > tfoot > tr > th:last-child,
.panel > .table-responsive > .table-bordered > tfoot > tr > th:last-child,
.panel > .table-bordered > thead > tr > td:last-child,
.panel > .table-responsive > .table-bordered > thead > tr > td:last-child,
.panel > .table-bordered > tbody > tr > td:last-child,
.panel > .table-responsive > .table-bordered > tbody > tr > td:last-child,
.panel > .table-bordered > tfoot > tr > td:last-child,
.panel > .table-responsive > .table-bordered > tfoot > tr > td:last-child {
  border-right: 0;
}
.panel > .table-bordered > thead > tr:first-child > td,
.panel > .table-responsive > .table-bordered > thead > tr:first-child > td,
.panel > .table-bordered > tbody > tr:first-child > td,
.panel > .table-responsive > .table-bordered > tbody > tr:first-child > td,
.panel > .table-bordered > thead > tr:first-child > th,
.panel > .table-responsive > .table-bordered > thead > tr:first-child > th,
.panel > .table-bordered > tbody > tr:first-child > th,
.panel > .table-responsive > .table-bordered > tbody > tr:first-child > th {
  border-bottom: 0;
}
.panel > .table-bordered > tbody > tr:last-child > td,
.panel > .table-responsive > .table-bordered > tbody > tr:last-child > td,
.panel > .table-bordered > tfoot > tr:last-child > td,
.panel > .table-responsive > .table-bordered > tfoot > tr:last-child > td,
.panel > .table-bordered > tbody > tr:last-child > th,
.panel > .table-responsive > .table-bordered > tbody > tr:last-child > th,
.panel > .table-bordered > tfoot > tr:last-child > th,
.panel > .table-responsive > .table-bordered > tfoot > tr:last-child > th {
  border-bottom: 0;
}
.panel > .table-responsive {
  border: 0;
  margin-bottom: 0;
}
.panel-group {
  margin-bottom: 18px;
}
.panel-group .panel {
  margin-bottom: 0;
  border-radius: 2px;
}
.panel-group .panel + .panel {
  margin-top: 5px;
}
.panel-group .panel-heading {
  border-bottom: 0;
}
.panel-group .panel-heading + .panel-collapse > .panel-body,
.panel-group .panel-heading + .panel-collapse > .list-group {
  border-top: 1px solid #ddd;
}
.panel-group .panel-footer {
  border-top: 0;
}
.panel-group .panel-footer + .panel-collapse .panel-body {
  border-bottom: 1px solid #ddd;
}
.panel-default {
  border-color: #ddd;
}
.panel-default > .panel-heading {
  color: #333333;
  background-color: #f5f5f5;
  border-color: #ddd;
}
.panel-default > .panel-heading + .panel-collapse > .panel-body {
  border-top-color: #ddd;
}
.panel-default > .panel-heading .badge {
  color: #f5f5f5;
  background-color: #333333;
}
.panel-default > .panel-footer + .panel-collapse > .panel-body {
  border-bottom-color: #ddd;
}
.panel-primary {
  border-color: #337ab7;
}
.panel-primary > .panel-heading {
  color: #fff;
  background-color: #337ab7;
  border-color: #337ab7;
}
.panel-primary > .panel-heading + .panel-collapse > .panel-body {
  border-top-color: #337ab7;
}
.panel-primary > .panel-heading .badge {
  color: #337ab7;
  background-color: #fff;
}
.panel-primary > .panel-footer + .panel-collapse > .panel-body {
  border-bottom-color: #337ab7;
}
.panel-success {
  border-color: #d6e9c6;
}
.panel-success > .panel-heading {
  color: #3c763d;
  background-color: #dff0d8;
  border-color: #d6e9c6;
}
.panel-success > .panel-heading + .panel-collapse > .panel-body {
  border-top-color: #d6e9c6;
}
.panel-success > .panel-heading .badge {
  color: #dff0d8;
  background-color: #3c763d;
}
.panel-success > .panel-footer + .panel-collapse > .panel-body {
  border-bottom-color: #d6e9c6;
}
.panel-info {
  border-color: #bce8f1;
}
.panel-info > .panel-heading {
  color: #31708f;
  background-color: #d9edf7;
  border-color: #bce8f1;
}
.panel-info > .panel-heading + .panel-collapse > .panel-body {
  border-top-color: #bce8f1;
}
.panel-info > .panel-heading .badge {
  color: #d9edf7;
  background-color: #31708f;
}
.panel-info > .panel-footer + .panel-collapse > .panel-body {
  border-bottom-color: #bce8f1;
}
.panel-warning {
  border-color: #faebcc;
}
.panel-warning > .panel-heading {
  color: #8a6d3b;
  background-color: #fcf8e3;
  border-color: #faebcc;
}
.panel-warning > .panel-heading + .panel-collapse > .panel-body {
  border-top-color: #faebcc;
}
.panel-warning > .panel-heading .badge {
  color: #fcf8e3;
  background-color: #8a6d3b;
}
.panel-warning > .panel-footer + .panel-collapse > .panel-body {
  border-bottom-color: #faebcc;
}
.panel-danger {
  border-color: #ebccd1;
}
.panel-danger > .panel-heading {
  color: #a94442;
  background-color: #f2dede;
  border-color: #ebccd1;
}
.panel-danger > .panel-heading + .panel-collapse > .panel-body {
  border-top-color: #ebccd1;
}
.panel-danger > .panel-heading .badge {
  color: #f2dede;
  background-color: #a94442;
}
.panel-danger > .panel-footer + .panel-collapse > .panel-body {
  border-bottom-color: #ebccd1;
}
.embed-responsive {
  position: relative;
  display: block;
  height: 0;
  padding: 0;
  overflow: hidden;
}
.embed-responsive .embed-responsive-item,
.embed-responsive iframe,
.embed-responsive embed,
.embed-responsive object,
.embed-responsive video {
  position: absolute;
  top: 0;
  left: 0;
  bottom: 0;
  height: 100%;
  width: 100%;
  border: 0;
}
.embed-responsive-16by9 {
  padding-bottom: 56.25%;
}
.embed-responsive-4by3 {
  padding-bottom: 75%;
}
.well {
  min-height: 20px;
  padding: 19px;
  margin-bottom: 20px;
  background-color: #f5f5f5;
  border: 1px solid #e3e3e3;
  border-radius: 2px;
  -webkit-box-shadow: inset 0 1px 1px rgba(0, 0, 0, 0.05);
  box-shadow: inset 0 1px 1px rgba(0, 0, 0, 0.05);
}
.well blockquote {
  border-color: #ddd;
  border-color: rgba(0, 0, 0, 0.15);
}
.well-lg {
  padding: 24px;
  border-radius: 3px;
}
.well-sm {
  padding: 9px;
  border-radius: 1px;
}
.close {
  float: right;
  font-size: 19.5px;
  font-weight: bold;
  line-height: 1;
  color: #000;
  text-shadow: 0 1px 0 #fff;
  opacity: 0.2;
  filter: alpha(opacity=20);
}
.close:hover,
.close:focus {
  color: #000;
  text-decoration: none;
  cursor: pointer;
  opacity: 0.5;
  filter: alpha(opacity=50);
}
button.close {
  padding: 0;
  cursor: pointer;
  background: transparent;
  border: 0;
  -webkit-appearance: none;
}
.modal-open {
  overflow: hidden;
}
.modal {
  display: none;
  overflow: hidden;
  position: fixed;
  top: 0;
  right: 0;
  bottom: 0;
  left: 0;
  z-index: 1050;
  -webkit-overflow-scrolling: touch;
  outline: 0;
}
.modal.fade .modal-dialog {
  -webkit-transform: translate(0, -25%);
  -ms-transform: translate(0, -25%);
  -o-transform: translate(0, -25%);
  transform: translate(0, -25%);
  -webkit-transition: -webkit-transform 0.3s ease-out;
  -moz-transition: -moz-transform 0.3s ease-out;
  -o-transition: -o-transform 0.3s ease-out;
  transition: transform 0.3s ease-out;
}
.modal.in .modal-dialog {
  -webkit-transform: translate(0, 0);
  -ms-transform: translate(0, 0);
  -o-transform: translate(0, 0);
  transform: translate(0, 0);
}
.modal-open .modal {
  overflow-x: hidden;
  overflow-y: auto;
}
.modal-dialog {
  position: relative;
  width: auto;
  margin: 10px;
}
.modal-content {
  position: relative;
  background-color: #fff;
  border: 1px solid #999;
  border: 1px solid rgba(0, 0, 0, 0.2);
  border-radius: 3px;
  -webkit-box-shadow: 0 3px 9px rgba(0, 0, 0, 0.5);
  box-shadow: 0 3px 9px rgba(0, 0, 0, 0.5);
  background-clip: padding-box;
  outline: 0;
}
.modal-backdrop {
  position: fixed;
  top: 0;
  right: 0;
  bottom: 0;
  left: 0;
  z-index: 1040;
  background-color: #000;
}
.modal-backdrop.fade {
  opacity: 0;
  filter: alpha(opacity=0);
}
.modal-backdrop.in {
  opacity: 0.5;
  filter: alpha(opacity=50);
}
.modal-header {
  padding: 15px;
  border-bottom: 1px solid #e5e5e5;
}
.modal-header .close {
  margin-top: -2px;
}
.modal-title {
  margin: 0;
  line-height: 1.42857143;
}
.modal-body {
  position: relative;
  padding: 15px;
}
.modal-footer {
  padding: 15px;
  text-align: right;
  border-top: 1px solid #e5e5e5;
}
.modal-footer .btn + .btn {
  margin-left: 5px;
  margin-bottom: 0;
}
.modal-footer .btn-group .btn + .btn {
  margin-left: -1px;
}
.modal-footer .btn-block + .btn-block {
  margin-left: 0;
}
.modal-scrollbar-measure {
  position: absolute;
  top: -9999px;
  width: 50px;
  height: 50px;
  overflow: scroll;
}
@media (min-width: 768px) {
  .modal-dialog {
    width: 600px;
    margin: 30px auto;
  }
  .modal-content {
    -webkit-box-shadow: 0 5px 15px rgba(0, 0, 0, 0.5);
    box-shadow: 0 5px 15px rgba(0, 0, 0, 0.5);
  }
  .modal-sm {
    width: 300px;
  }
}
@media (min-width: 992px) {
  .modal-lg {
    width: 900px;
  }
}
.tooltip {
  position: absolute;
  z-index: 1070;
  display: block;
  font-family: "Helvetica Neue", Helvetica, Arial, sans-serif;
  font-style: normal;
  font-weight: normal;
  letter-spacing: normal;
  line-break: auto;
  line-height: 1.42857143;
  text-align: left;
  text-align: start;
  text-decoration: none;
  text-shadow: none;
  text-transform: none;
  white-space: normal;
  word-break: normal;
  word-spacing: normal;
  word-wrap: normal;
  font-size: 12px;
  opacity: 0;
  filter: alpha(opacity=0);
}
.tooltip.in {
  opacity: 0.9;
  filter: alpha(opacity=90);
}
.tooltip.top {
  margin-top: -3px;
  padding: 5px 0;
}
.tooltip.right {
  margin-left: 3px;
  padding: 0 5px;
}
.tooltip.bottom {
  margin-top: 3px;
  padding: 5px 0;
}
.tooltip.left {
  margin-left: -3px;
  padding: 0 5px;
}
.tooltip-inner {
  max-width: 200px;
  padding: 3px 8px;
  color: #fff;
  text-align: center;
  background-color: #000;
  border-radius: 2px;
}
.tooltip-arrow {
  position: absolute;
  width: 0;
  height: 0;
  border-color: transparent;
  border-style: solid;
}
.tooltip.top .tooltip-arrow {
  bottom: 0;
  left: 50%;
  margin-left: -5px;
  border-width: 5px 5px 0;
  border-top-color: #000;
}
.tooltip.top-left .tooltip-arrow {
  bottom: 0;
  right: 5px;
  margin-bottom: -5px;
  border-width: 5px 5px 0;
  border-top-color: #000;
}
.tooltip.top-right .tooltip-arrow {
  bottom: 0;
  left: 5px;
  margin-bottom: -5px;
  border-width: 5px 5px 0;
  border-top-color: #000;
}
.tooltip.right .tooltip-arrow {
  top: 50%;
  left: 0;
  margin-top: -5px;
  border-width: 5px 5px 5px 0;
  border-right-color: #000;
}
.tooltip.left .tooltip-arrow {
  top: 50%;
  right: 0;
  margin-top: -5px;
  border-width: 5px 0 5px 5px;
  border-left-color: #000;
}
.tooltip.bottom .tooltip-arrow {
  top: 0;
  left: 50%;
  margin-left: -5px;
  border-width: 0 5px 5px;
  border-bottom-color: #000;
}
.tooltip.bottom-left .tooltip-arrow {
  top: 0;
  right: 5px;
  margin-top: -5px;
  border-width: 0 5px 5px;
  border-bottom-color: #000;
}
.tooltip.bottom-right .tooltip-arrow {
  top: 0;
  left: 5px;
  margin-top: -5px;
  border-width: 0 5px 5px;
  border-bottom-color: #000;
}
.popover {
  position: absolute;
  top: 0;
  left: 0;
  z-index: 1060;
  display: none;
  max-width: 276px;
  padding: 1px;
  font-family: "Helvetica Neue", Helvetica, Arial, sans-serif;
  font-style: normal;
  font-weight: normal;
  letter-spacing: normal;
  line-break: auto;
  line-height: 1.42857143;
  text-align: left;
  text-align: start;
  text-decoration: none;
  text-shadow: none;
  text-transform: none;
  white-space: normal;
  word-break: normal;
  word-spacing: normal;
  word-wrap: normal;
  font-size: 13px;
  background-color: #fff;
  background-clip: padding-box;
  border: 1px solid #ccc;
  border: 1px solid rgba(0, 0, 0, 0.2);
  border-radius: 3px;
  -webkit-box-shadow: 0 5px 10px rgba(0, 0, 0, 0.2);
  box-shadow: 0 5px 10px rgba(0, 0, 0, 0.2);
}
.popover.top {
  margin-top: -10px;
}
.popover.right {
  margin-left: 10px;
}
.popover.bottom {
  margin-top: 10px;
}
.popover.left {
  margin-left: -10px;
}
.popover-title {
  margin: 0;
  padding: 8px 14px;
  font-size: 13px;
  background-color: #f7f7f7;
  border-bottom: 1px solid #ebebeb;
  border-radius: 2px 2px 0 0;
}
.popover-content {
  padding: 9px 14px;
}
.popover > .arrow,
.popover > .arrow:after {
  position: absolute;
  display: block;
  width: 0;
  height: 0;
  border-color: transparent;
  border-style: solid;
}
.popover > .arrow {
  border-width: 11px;
}
.popover > .arrow:after {
  border-width: 10px;
  content: "";
}
.popover.top > .arrow {
  left: 50%;
  margin-left: -11px;
  border-bottom-width: 0;
  border-top-color: #999999;
  border-top-color: rgba(0, 0, 0, 0.25);
  bottom: -11px;
}
.popover.top > .arrow:after {
  content: " ";
  bottom: 1px;
  margin-left: -10px;
  border-bottom-width: 0;
  border-top-color: #fff;
}
.popover.right > .arrow {
  top: 50%;
  left: -11px;
  margin-top: -11px;
  border-left-width: 0;
  border-right-color: #999999;
  border-right-color: rgba(0, 0, 0, 0.25);
}
.popover.right > .arrow:after {
  content: " ";
  left: 1px;
  bottom: -10px;
  border-left-width: 0;
  border-right-color: #fff;
}
.popover.bottom > .arrow {
  left: 50%;
  margin-left: -11px;
  border-top-width: 0;
  border-bottom-color: #999999;
  border-bottom-color: rgba(0, 0, 0, 0.25);
  top: -11px;
}
.popover.bottom > .arrow:after {
  content: " ";
  top: 1px;
  margin-left: -10px;
  border-top-width: 0;
  border-bottom-color: #fff;
}
.popover.left > .arrow {
  top: 50%;
  right: -11px;
  margin-top: -11px;
  border-right-width: 0;
  border-left-color: #999999;
  border-left-color: rgba(0, 0, 0, 0.25);
}
.popover.left > .arrow:after {
  content: " ";
  right: 1px;
  border-right-width: 0;
  border-left-color: #fff;
  bottom: -10px;
}
.carousel {
  position: relative;
}
.carousel-inner {
  position: relative;
  overflow: hidden;
  width: 100%;
}
.carousel-inner > .item {
  display: none;
  position: relative;
  -webkit-transition: 0.6s ease-in-out left;
  -o-transition: 0.6s ease-in-out left;
  transition: 0.6s ease-in-out left;
}
.carousel-inner > .item > img,
.carousel-inner > .item > a > img {
  line-height: 1;
}
@media all and (transform-3d), (-webkit-transform-3d) {
  .carousel-inner > .item {
    -webkit-transition: -webkit-transform 0.6s ease-in-out;
    -moz-transition: -moz-transform 0.6s ease-in-out;
    -o-transition: -o-transform 0.6s ease-in-out;
    transition: transform 0.6s ease-in-out;
    -webkit-backface-visibility: hidden;
    -moz-backface-visibility: hidden;
    backface-visibility: hidden;
    -webkit-perspective: 1000px;
    -moz-perspective: 1000px;
    perspective: 1000px;
  }
  .carousel-inner > .item.next,
  .carousel-inner > .item.active.right {
    -webkit-transform: translate3d(100%, 0, 0);
    transform: translate3d(100%, 0, 0);
    left: 0;
  }
  .carousel-inner > .item.prev,
  .carousel-inner > .item.active.left {
    -webkit-transform: translate3d(-100%, 0, 0);
    transform: translate3d(-100%, 0, 0);
    left: 0;
  }
  .carousel-inner > .item.next.left,
  .carousel-inner > .item.prev.right,
  .carousel-inner > .item.active {
    -webkit-transform: translate3d(0, 0, 0);
    transform: translate3d(0, 0, 0);
    left: 0;
  }
}
.carousel-inner > .active,
.carousel-inner > .next,
.carousel-inner > .prev {
  display: block;
}
.carousel-inner > .active {
  left: 0;
}
.carousel-inner > .next,
.carousel-inner > .prev {
  position: absolute;
  top: 0;
  width: 100%;
}
.carousel-inner > .next {
  left: 100%;
}
.carousel-inner > .prev {
  left: -100%;
}
.carousel-inner > .next.left,
.carousel-inner > .prev.right {
  left: 0;
}
.carousel-inner > .active.left {
  left: -100%;
}
.carousel-inner > .active.right {
  left: 100%;
}
.carousel-control {
  position: absolute;
  top: 0;
  left: 0;
  bottom: 0;
  width: 15%;
  opacity: 0.5;
  filter: alpha(opacity=50);
  font-size: 20px;
  color: #fff;
  text-align: center;
  text-shadow: 0 1px 2px rgba(0, 0, 0, 0.6);
  background-color: rgba(0, 0, 0, 0);
}
.carousel-control.left {
  background-image: -webkit-linear-gradient(left, rgba(0, 0, 0, 0.5) 0%, rgba(0, 0, 0, 0.0001) 100%);
  background-image: -o-linear-gradient(left, rgba(0, 0, 0, 0.5) 0%, rgba(0, 0, 0, 0.0001) 100%);
  background-image: linear-gradient(to right, rgba(0, 0, 0, 0.5) 0%, rgba(0, 0, 0, 0.0001) 100%);
  background-repeat: repeat-x;
  filter: progid:DXImageTransform.Microsoft.gradient(startColorstr='#80000000', endColorstr='#00000000', GradientType=1);
}
.carousel-control.right {
  left: auto;
  right: 0;
  background-image: -webkit-linear-gradient(left, rgba(0, 0, 0, 0.0001) 0%, rgba(0, 0, 0, 0.5) 100%);
  background-image: -o-linear-gradient(left, rgba(0, 0, 0, 0.0001) 0%, rgba(0, 0, 0, 0.5) 100%);
  background-image: linear-gradient(to right, rgba(0, 0, 0, 0.0001) 0%, rgba(0, 0, 0, 0.5) 100%);
  background-repeat: repeat-x;
  filter: progid:DXImageTransform.Microsoft.gradient(startColorstr='#00000000', endColorstr='#80000000', GradientType=1);
}
.carousel-control:hover,
.carousel-control:focus {
  outline: 0;
  color: #fff;
  text-decoration: none;
  opacity: 0.9;
  filter: alpha(opacity=90);
}
.carousel-control .icon-prev,
.carousel-control .icon-next,
.carousel-control .glyphicon-chevron-left,
.carousel-control .glyphicon-chevron-right {
  position: absolute;
  top: 50%;
  margin-top: -10px;
  z-index: 5;
  display: inline-block;
}
.carousel-control .icon-prev,
.carousel-control .glyphicon-chevron-left {
  left: 50%;
  margin-left: -10px;
}
.carousel-control .icon-next,
.carousel-control .glyphicon-chevron-right {
  right: 50%;
  margin-right: -10px;
}
.carousel-control .icon-prev,
.carousel-control .icon-next {
  width: 20px;
  height: 20px;
  line-height: 1;
  font-family: serif;
}
.carousel-control .icon-prev:before {
  content: '\2039';
}
.carousel-control .icon-next:before {
  content: '\203a';
}
.carousel-indicators {
  position: absolute;
  bottom: 10px;
  left: 50%;
  z-index: 15;
  width: 60%;
  margin-left: -30%;
  padding-left: 0;
  list-style: none;
  text-align: center;
}
.carousel-indicators li {
  display: inline-block;
  width: 10px;
  height: 10px;
  margin: 1px;
  text-indent: -999px;
  border: 1px solid #fff;
  border-radius: 10px;
  cursor: pointer;
  background-color: #000 \9;
  background-color: rgba(0, 0, 0, 0);
}
.carousel-indicators .active {
  margin: 0;
  width: 12px;
  height: 12px;
  background-color: #fff;
}
.carousel-caption {
  position: absolute;
  left: 15%;
  right: 15%;
  bottom: 20px;
  z-index: 10;
  padding-top: 20px;
  padding-bottom: 20px;
  color: #fff;
  text-align: center;
  text-shadow: 0 1px 2px rgba(0, 0, 0, 0.6);
}
.carousel-caption .btn {
  text-shadow: none;
}
@media screen and (min-width: 768px) {
  .carousel-control .glyphicon-chevron-left,
  .carousel-control .glyphicon-chevron-right,
  .carousel-control .icon-prev,
  .carousel-control .icon-next {
    width: 30px;
    height: 30px;
    margin-top: -10px;
    font-size: 30px;
  }
  .carousel-control .glyphicon-chevron-left,
  .carousel-control .icon-prev {
    margin-left: -10px;
  }
  .carousel-control .glyphicon-chevron-right,
  .carousel-control .icon-next {
    margin-right: -10px;
  }
  .carousel-caption {
    left: 20%;
    right: 20%;
    padding-bottom: 30px;
  }
  .carousel-indicators {
    bottom: 20px;
  }
}
.clearfix:before,
.clearfix:after,
.dl-horizontal dd:before,
.dl-horizontal dd:after,
.container:before,
.container:after,
.container-fluid:before,
.container-fluid:after,
.row:before,
.row:after,
.form-horizontal .form-group:before,
.form-horizontal .form-group:after,
.btn-toolbar:before,
.btn-toolbar:after,
.btn-group-vertical > .btn-group:before,
.btn-group-vertical > .btn-group:after,
.nav:before,
.nav:after,
.navbar:before,
.navbar:after,
.navbar-header:before,
.navbar-header:after,
.navbar-collapse:before,
.navbar-collapse:after,
.pager:before,
.pager:after,
.panel-body:before,
.panel-body:after,
.modal-header:before,
.modal-header:after,
.modal-footer:before,
.modal-footer:after,
.item_buttons:before,
.item_buttons:after {
  content: " ";
  display: table;
}
.clearfix:after,
.dl-horizontal dd:after,
.container:after,
.container-fluid:after,
.row:after,
.form-horizontal .form-group:after,
.btn-toolbar:after,
.btn-group-vertical > .btn-group:after,
.nav:after,
.navbar:after,
.navbar-header:after,
.navbar-collapse:after,
.pager:after,
.panel-body:after,
.modal-header:after,
.modal-footer:after,
.item_buttons:after {
  clear: both;
}
.center-block {
  display: block;
  margin-left: auto;
  margin-right: auto;
}
.pull-right {
  float: right !important;
}
.pull-left {
  float: left !important;
}
.hide {
  display: none !important;
}
.show {
  display: block !important;
}
.invisible {
  visibility: hidden;
}
.text-hide {
  font: 0/0 a;
  color: transparent;
  text-shadow: none;
  background-color: transparent;
  border: 0;
}
.hidden {
  display: none !important;
}
.affix {
  position: fixed;
}
@-ms-viewport {
  width: device-width;
}
.visible-xs,
.visible-sm,
.visible-md,
.visible-lg {
  display: none !important;
}
.visible-xs-block,
.visible-xs-inline,
.visible-xs-inline-block,
.visible-sm-block,
.visible-sm-inline,
.visible-sm-inline-block,
.visible-md-block,
.visible-md-inline,
.visible-md-inline-block,
.visible-lg-block,
.visible-lg-inline,
.visible-lg-inline-block {
  display: none !important;
}
@media (max-width: 767px) {
  .visible-xs {
    display: block !important;
  }
  table.visible-xs {
    display: table !important;
  }
  tr.visible-xs {
    display: table-row !important;
  }
  th.visible-xs,
  td.visible-xs {
    display: table-cell !important;
  }
}
@media (max-width: 767px) {
  .visible-xs-block {
    display: block !important;
  }
}
@media (max-width: 767px) {
  .visible-xs-inline {
    display: inline !important;
  }
}
@media (max-width: 767px) {
  .visible-xs-inline-block {
    display: inline-block !important;
  }
}
@media (min-width: 768px) and (max-width: 991px) {
  .visible-sm {
    display: block !important;
  }
  table.visible-sm {
    display: table !important;
  }
  tr.visible-sm {
    display: table-row !important;
  }
  th.visible-sm,
  td.visible-sm {
    display: table-cell !important;
  }
}
@media (min-width: 768px) and (max-width: 991px) {
  .visible-sm-block {
    display: block !important;
  }
}
@media (min-width: 768px) and (max-width: 991px) {
  .visible-sm-inline {
    display: inline !important;
  }
}
@media (min-width: 768px) and (max-width: 991px) {
  .visible-sm-inline-block {
    display: inline-block !important;
  }
}
@media (min-width: 992px) and (max-width: 1199px) {
  .visible-md {
    display: block !important;
  }
  table.visible-md {
    display: table !important;
  }
  tr.visible-md {
    display: table-row !important;
  }
  th.visible-md,
  td.visible-md {
    display: table-cell !important;
  }
}
@media (min-width: 992px) and (max-width: 1199px) {
  .visible-md-block {
    display: block !important;
  }
}
@media (min-width: 992px) and (max-width: 1199px) {
  .visible-md-inline {
    display: inline !important;
  }
}
@media (min-width: 992px) and (max-width: 1199px) {
  .visible-md-inline-block {
    display: inline-block !important;
  }
}
@media (min-width: 1200px) {
  .visible-lg {
    display: block !important;
  }
  table.visible-lg {
    display: table !important;
  }
  tr.visible-lg {
    display: table-row !important;
  }
  th.visible-lg,
  td.visible-lg {
    display: table-cell !important;
  }
}
@media (min-width: 1200px) {
  .visible-lg-block {
    display: block !important;
  }
}
@media (min-width: 1200px) {
  .visible-lg-inline {
    display: inline !important;
  }
}
@media (min-width: 1200px) {
  .visible-lg-inline-block {
    display: inline-block !important;
  }
}
@media (max-width: 767px) {
  .hidden-xs {
    display: none !important;
  }
}
@media (min-width: 768px) and (max-width: 991px) {
  .hidden-sm {
    display: none !important;
  }
}
@media (min-width: 992px) and (max-width: 1199px) {
  .hidden-md {
    display: none !important;
  }
}
@media (min-width: 1200px) {
  .hidden-lg {
    display: none !important;
  }
}
.visible-print {
  display: none !important;
}
@media print {
  .visible-print {
    display: block !important;
  }
  table.visible-print {
    display: table !important;
  }
  tr.visible-print {
    display: table-row !important;
  }
  th.visible-print,
  td.visible-print {
    display: table-cell !important;
  }
}
.visible-print-block {
  display: none !important;
}
@media print {
  .visible-print-block {
    display: block !important;
  }
}
.visible-print-inline {
  display: none !important;
}
@media print {
  .visible-print-inline {
    display: inline !important;
  }
}
.visible-print-inline-block {
  display: none !important;
}
@media print {
  .visible-print-inline-block {
    display: inline-block !important;
  }
}
@media print {
  .hidden-print {
    display: none !important;
  }
}
/*!
*
* Font Awesome
*
*/
/*!
 *  Font Awesome 4.2.0 by @davegandy - http://fontawesome.io - @fontawesome
 *  License - http://fontawesome.io/license (Font: SIL OFL 1.1, CSS: MIT License)
 */
/* FONT PATH
 * -------------------------- */
@font-face {
  font-family: 'FontAwesome';
  src: url('../components/font-awesome/fonts/fontawesome-webfont.eot?v=4.2.0');
  src: url('../components/font-awesome/fonts/fontawesome-webfont.eot?#iefix&v=4.2.0') format('embedded-opentype'), url('../components/font-awesome/fonts/fontawesome-webfont.woff?v=4.2.0') format('woff'), url('../components/font-awesome/fonts/fontawesome-webfont.ttf?v=4.2.0') format('truetype'), url('../components/font-awesome/fonts/fontawesome-webfont.svg?v=4.2.0#fontawesomeregular') format('svg');
  font-weight: normal;
  font-style: normal;
}
.fa {
  display: inline-block;
  font: normal normal normal 14px/1 FontAwesome;
  font-size: inherit;
  text-rendering: auto;
  -webkit-font-smoothing: antialiased;
  -moz-osx-font-smoothing: grayscale;
}
/* makes the font 33% larger relative to the icon container */
.fa-lg {
  font-size: 1.33333333em;
  line-height: 0.75em;
  vertical-align: -15%;
}
.fa-2x {
  font-size: 2em;
}
.fa-3x {
  font-size: 3em;
}
.fa-4x {
  font-size: 4em;
}
.fa-5x {
  font-size: 5em;
}
.fa-fw {
  width: 1.28571429em;
  text-align: center;
}
.fa-ul {
  padding-left: 0;
  margin-left: 2.14285714em;
  list-style-type: none;
}
.fa-ul > li {
  position: relative;
}
.fa-li {
  position: absolute;
  left: -2.14285714em;
  width: 2.14285714em;
  top: 0.14285714em;
  text-align: center;
}
.fa-li.fa-lg {
  left: -1.85714286em;
}
.fa-border {
  padding: .2em .25em .15em;
  border: solid 0.08em #eee;
  border-radius: .1em;
}
.pull-right {
  float: right;
}
.pull-left {
  float: left;
}
.fa.pull-left {
  margin-right: .3em;
}
.fa.pull-right {
  margin-left: .3em;
}
.fa-spin {
  -webkit-animation: fa-spin 2s infinite linear;
  animation: fa-spin 2s infinite linear;
}
@-webkit-keyframes fa-spin {
  0% {
    -webkit-transform: rotate(0deg);
    transform: rotate(0deg);
  }
  100% {
    -webkit-transform: rotate(359deg);
    transform: rotate(359deg);
  }
}
@keyframes fa-spin {
  0% {
    -webkit-transform: rotate(0deg);
    transform: rotate(0deg);
  }
  100% {
    -webkit-transform: rotate(359deg);
    transform: rotate(359deg);
  }
}
.fa-rotate-90 {
  filter: progid:DXImageTransform.Microsoft.BasicImage(rotation=1);
  -webkit-transform: rotate(90deg);
  -ms-transform: rotate(90deg);
  transform: rotate(90deg);
}
.fa-rotate-180 {
  filter: progid:DXImageTransform.Microsoft.BasicImage(rotation=2);
  -webkit-transform: rotate(180deg);
  -ms-transform: rotate(180deg);
  transform: rotate(180deg);
}
.fa-rotate-270 {
  filter: progid:DXImageTransform.Microsoft.BasicImage(rotation=3);
  -webkit-transform: rotate(270deg);
  -ms-transform: rotate(270deg);
  transform: rotate(270deg);
}
.fa-flip-horizontal {
  filter: progid:DXImageTransform.Microsoft.BasicImage(rotation=0, mirror=1);
  -webkit-transform: scale(-1, 1);
  -ms-transform: scale(-1, 1);
  transform: scale(-1, 1);
}
.fa-flip-vertical {
  filter: progid:DXImageTransform.Microsoft.BasicImage(rotation=2, mirror=1);
  -webkit-transform: scale(1, -1);
  -ms-transform: scale(1, -1);
  transform: scale(1, -1);
}
:root .fa-rotate-90,
:root .fa-rotate-180,
:root .fa-rotate-270,
:root .fa-flip-horizontal,
:root .fa-flip-vertical {
  filter: none;
}
.fa-stack {
  position: relative;
  display: inline-block;
  width: 2em;
  height: 2em;
  line-height: 2em;
  vertical-align: middle;
}
.fa-stack-1x,
.fa-stack-2x {
  position: absolute;
  left: 0;
  width: 100%;
  text-align: center;
}
.fa-stack-1x {
  line-height: inherit;
}
.fa-stack-2x {
  font-size: 2em;
}
.fa-inverse {
  color: #fff;
}
/* Font Awesome uses the Unicode Private Use Area (PUA) to ensure screen
   readers do not read off random characters that represent icons */
.fa-glass:before {
  content: "\f000";
}
.fa-music:before {
  content: "\f001";
}
.fa-search:before {
  content: "\f002";
}
.fa-envelope-o:before {
  content: "\f003";
}
.fa-heart:before {
  content: "\f004";
}
.fa-star:before {
  content: "\f005";
}
.fa-star-o:before {
  content: "\f006";
}
.fa-user:before {
  content: "\f007";
}
.fa-film:before {
  content: "\f008";
}
.fa-th-large:before {
  content: "\f009";
}
.fa-th:before {
  content: "\f00a";
}
.fa-th-list:before {
  content: "\f00b";
}
.fa-check:before {
  content: "\f00c";
}
.fa-remove:before,
.fa-close:before,
.fa-times:before {
  content: "\f00d";
}
.fa-search-plus:before {
  content: "\f00e";
}
.fa-search-minus:before {
  content: "\f010";
}
.fa-power-off:before {
  content: "\f011";
}
.fa-signal:before {
  content: "\f012";
}
.fa-gear:before,
.fa-cog:before {
  content: "\f013";
}
.fa-trash-o:before {
  content: "\f014";
}
.fa-home:before {
  content: "\f015";
}
.fa-file-o:before {
  content: "\f016";
}
.fa-clock-o:before {
  content: "\f017";
}
.fa-road:before {
  content: "\f018";
}
.fa-download:before {
  content: "\f019";
}
.fa-arrow-circle-o-down:before {
  content: "\f01a";
}
.fa-arrow-circle-o-up:before {
  content: "\f01b";
}
.fa-inbox:before {
  content: "\f01c";
}
.fa-play-circle-o:before {
  content: "\f01d";
}
.fa-rotate-right:before,
.fa-repeat:before {
  content: "\f01e";
}
.fa-refresh:before {
  content: "\f021";
}
.fa-list-alt:before {
  content: "\f022";
}
.fa-lock:before {
  content: "\f023";
}
.fa-flag:before {
  content: "\f024";
}
.fa-headphones:before {
  content: "\f025";
}
.fa-volume-off:before {
  content: "\f026";
}
.fa-volume-down:before {
  content: "\f027";
}
.fa-volume-up:before {
  content: "\f028";
}
.fa-qrcode:before {
  content: "\f029";
}
.fa-barcode:before {
  content: "\f02a";
}
.fa-tag:before {
  content: "\f02b";
}
.fa-tags:before {
  content: "\f02c";
}
.fa-book:before {
  content: "\f02d";
}
.fa-bookmark:before {
  content: "\f02e";
}
.fa-print:before {
  content: "\f02f";
}
.fa-camera:before {
  content: "\f030";
}
.fa-font:before {
  content: "\f031";
}
.fa-bold:before {
  content: "\f032";
}
.fa-italic:before {
  content: "\f033";
}
.fa-text-height:before {
  content: "\f034";
}
.fa-text-width:before {
  content: "\f035";
}
.fa-align-left:before {
  content: "\f036";
}
.fa-align-center:before {
  content: "\f037";
}
.fa-align-right:before {
  content: "\f038";
}
.fa-align-justify:before {
  content: "\f039";
}
.fa-list:before {
  content: "\f03a";
}
.fa-dedent:before,
.fa-outdent:before {
  content: "\f03b";
}
.fa-indent:before {
  content: "\f03c";
}
.fa-video-camera:before {
  content: "\f03d";
}
.fa-photo:before,
.fa-image:before,
.fa-picture-o:before {
  content: "\f03e";
}
.fa-pencil:before {
  content: "\f040";
}
.fa-map-marker:before {
  content: "\f041";
}
.fa-adjust:before {
  content: "\f042";
}
.fa-tint:before {
  content: "\f043";
}
.fa-edit:before,
.fa-pencil-square-o:before {
  content: "\f044";
}
.fa-share-square-o:before {
  content: "\f045";
}
.fa-check-square-o:before {
  content: "\f046";
}
.fa-arrows:before {
  content: "\f047";
}
.fa-step-backward:before {
  content: "\f048";
}
.fa-fast-backward:before {
  content: "\f049";
}
.fa-backward:before {
  content: "\f04a";
}
.fa-play:before {
  content: "\f04b";
}
.fa-pause:before {
  content: "\f04c";
}
.fa-stop:before {
  content: "\f04d";
}
.fa-forward:before {
  content: "\f04e";
}
.fa-fast-forward:before {
  content: "\f050";
}
.fa-step-forward:before {
  content: "\f051";
}
.fa-eject:before {
  content: "\f052";
}
.fa-chevron-left:before {
  content: "\f053";
}
.fa-chevron-right:before {
  content: "\f054";
}
.fa-plus-circle:before {
  content: "\f055";
}
.fa-minus-circle:before {
  content: "\f056";
}
.fa-times-circle:before {
  content: "\f057";
}
.fa-check-circle:before {
  content: "\f058";
}
.fa-question-circle:before {
  content: "\f059";
}
.fa-info-circle:before {
  content: "\f05a";
}
.fa-crosshairs:before {
  content: "\f05b";
}
.fa-times-circle-o:before {
  content: "\f05c";
}
.fa-check-circle-o:before {
  content: "\f05d";
}
.fa-ban:before {
  content: "\f05e";
}
.fa-arrow-left:before {
  content: "\f060";
}
.fa-arrow-right:before {
  content: "\f061";
}
.fa-arrow-up:before {
  content: "\f062";
}
.fa-arrow-down:before {
  content: "\f063";
}
.fa-mail-forward:before,
.fa-share:before {
  content: "\f064";
}
.fa-expand:before {
  content: "\f065";
}
.fa-compress:before {
  content: "\f066";
}
.fa-plus:before {
  content: "\f067";
}
.fa-minus:before {
  content: "\f068";
}
.fa-asterisk:before {
  content: "\f069";
}
.fa-exclamation-circle:before {
  content: "\f06a";
}
.fa-gift:before {
  content: "\f06b";
}
.fa-leaf:before {
  content: "\f06c";
}
.fa-fire:before {
  content: "\f06d";
}
.fa-eye:before {
  content: "\f06e";
}
.fa-eye-slash:before {
  content: "\f070";
}
.fa-warning:before,
.fa-exclamation-triangle:before {
  content: "\f071";
}
.fa-plane:before {
  content: "\f072";
}
.fa-calendar:before {
  content: "\f073";
}
.fa-random:before {
  content: "\f074";
}
.fa-comment:before {
  content: "\f075";
}
.fa-magnet:before {
  content: "\f076";
}
.fa-chevron-up:before {
  content: "\f077";
}
.fa-chevron-down:before {
  content: "\f078";
}
.fa-retweet:before {
  content: "\f079";
}
.fa-shopping-cart:before {
  content: "\f07a";
}
.fa-folder:before {
  content: "\f07b";
}
.fa-folder-open:before {
  content: "\f07c";
}
.fa-arrows-v:before {
  content: "\f07d";
}
.fa-arrows-h:before {
  content: "\f07e";
}
.fa-bar-chart-o:before,
.fa-bar-chart:before {
  content: "\f080";
}
.fa-twitter-square:before {
  content: "\f081";
}
.fa-facebook-square:before {
  content: "\f082";
}
.fa-camera-retro:before {
  content: "\f083";
}
.fa-key:before {
  content: "\f084";
}
.fa-gears:before,
.fa-cogs:before {
  content: "\f085";
}
.fa-comments:before {
  content: "\f086";
}
.fa-thumbs-o-up:before {
  content: "\f087";
}
.fa-thumbs-o-down:before {
  content: "\f088";
}
.fa-star-half:before {
  content: "\f089";
}
.fa-heart-o:before {
  content: "\f08a";
}
.fa-sign-out:before {
  content: "\f08b";
}
.fa-linkedin-square:before {
  content: "\f08c";
}
.fa-thumb-tack:before {
  content: "\f08d";
}
.fa-external-link:before {
  content: "\f08e";
}
.fa-sign-in:before {
  content: "\f090";
}
.fa-trophy:before {
  content: "\f091";
}
.fa-github-square:before {
  content: "\f092";
}
.fa-upload:before {
  content: "\f093";
}
.fa-lemon-o:before {
  content: "\f094";
}
.fa-phone:before {
  content: "\f095";
}
.fa-square-o:before {
  content: "\f096";
}
.fa-bookmark-o:before {
  content: "\f097";
}
.fa-phone-square:before {
  content: "\f098";
}
.fa-twitter:before {
  content: "\f099";
}
.fa-facebook:before {
  content: "\f09a";
}
.fa-github:before {
  content: "\f09b";
}
.fa-unlock:before {
  content: "\f09c";
}
.fa-credit-card:before {
  content: "\f09d";
}
.fa-rss:before {
  content: "\f09e";
}
.fa-hdd-o:before {
  content: "\f0a0";
}
.fa-bullhorn:before {
  content: "\f0a1";
}
.fa-bell:before {
  content: "\f0f3";
}
.fa-certificate:before {
  content: "\f0a3";
}
.fa-hand-o-right:before {
  content: "\f0a4";
}
.fa-hand-o-left:before {
  content: "\f0a5";
}
.fa-hand-o-up:before {
  content: "\f0a6";
}
.fa-hand-o-down:before {
  content: "\f0a7";
}
.fa-arrow-circle-left:before {
  content: "\f0a8";
}
.fa-arrow-circle-right:before {
  content: "\f0a9";
}
.fa-arrow-circle-up:before {
  content: "\f0aa";
}
.fa-arrow-circle-down:before {
  content: "\f0ab";
}
.fa-globe:before {
  content: "\f0ac";
}
.fa-wrench:before {
  content: "\f0ad";
}
.fa-tasks:before {
  content: "\f0ae";
}
.fa-filter:before {
  content: "\f0b0";
}
.fa-briefcase:before {
  content: "\f0b1";
}
.fa-arrows-alt:before {
  content: "\f0b2";
}
.fa-group:before,
.fa-users:before {
  content: "\f0c0";
}
.fa-chain:before,
.fa-link:before {
  content: "\f0c1";
}
.fa-cloud:before {
  content: "\f0c2";
}
.fa-flask:before {
  content: "\f0c3";
}
.fa-cut:before,
.fa-scissors:before {
  content: "\f0c4";
}
.fa-copy:before,
.fa-files-o:before {
  content: "\f0c5";
}
.fa-paperclip:before {
  content: "\f0c6";
}
.fa-save:before,
.fa-floppy-o:before {
  content: "\f0c7";
}
.fa-square:before {
  content: "\f0c8";
}
.fa-navicon:before,
.fa-reorder:before,
.fa-bars:before {
  content: "\f0c9";
}
.fa-list-ul:before {
  content: "\f0ca";
}
.fa-list-ol:before {
  content: "\f0cb";
}
.fa-strikethrough:before {
  content: "\f0cc";
}
.fa-underline:before {
  content: "\f0cd";
}
.fa-table:before {
  content: "\f0ce";
}
.fa-magic:before {
  content: "\f0d0";
}
.fa-truck:before {
  content: "\f0d1";
}
.fa-pinterest:before {
  content: "\f0d2";
}
.fa-pinterest-square:before {
  content: "\f0d3";
}
.fa-google-plus-square:before {
  content: "\f0d4";
}
.fa-google-plus:before {
  content: "\f0d5";
}
.fa-money:before {
  content: "\f0d6";
}
.fa-caret-down:before {
  content: "\f0d7";
}
.fa-caret-up:before {
  content: "\f0d8";
}
.fa-caret-left:before {
  content: "\f0d9";
}
.fa-caret-right:before {
  content: "\f0da";
}
.fa-columns:before {
  content: "\f0db";
}
.fa-unsorted:before,
.fa-sort:before {
  content: "\f0dc";
}
.fa-sort-down:before,
.fa-sort-desc:before {
  content: "\f0dd";
}
.fa-sort-up:before,
.fa-sort-asc:before {
  content: "\f0de";
}
.fa-envelope:before {
  content: "\f0e0";
}
.fa-linkedin:before {
  content: "\f0e1";
}
.fa-rotate-left:before,
.fa-undo:before {
  content: "\f0e2";
}
.fa-legal:before,
.fa-gavel:before {
  content: "\f0e3";
}
.fa-dashboard:before,
.fa-tachometer:before {
  content: "\f0e4";
}
.fa-comment-o:before {
  content: "\f0e5";
}
.fa-comments-o:before {
  content: "\f0e6";
}
.fa-flash:before,
.fa-bolt:before {
  content: "\f0e7";
}
.fa-sitemap:before {
  content: "\f0e8";
}
.fa-umbrella:before {
  content: "\f0e9";
}
.fa-paste:before,
.fa-clipboard:before {
  content: "\f0ea";
}
.fa-lightbulb-o:before {
  content: "\f0eb";
}
.fa-exchange:before {
  content: "\f0ec";
}
.fa-cloud-download:before {
  content: "\f0ed";
}
.fa-cloud-upload:before {
  content: "\f0ee";
}
.fa-user-md:before {
  content: "\f0f0";
}
.fa-stethoscope:before {
  content: "\f0f1";
}
.fa-suitcase:before {
  content: "\f0f2";
}
.fa-bell-o:before {
  content: "\f0a2";
}
.fa-coffee:before {
  content: "\f0f4";
}
.fa-cutlery:before {
  content: "\f0f5";
}
.fa-file-text-o:before {
  content: "\f0f6";
}
.fa-building-o:before {
  content: "\f0f7";
}
.fa-hospital-o:before {
  content: "\f0f8";
}
.fa-ambulance:before {
  content: "\f0f9";
}
.fa-medkit:before {
  content: "\f0fa";
}
.fa-fighter-jet:before {
  content: "\f0fb";
}
.fa-beer:before {
  content: "\f0fc";
}
.fa-h-square:before {
  content: "\f0fd";
}
.fa-plus-square:before {
  content: "\f0fe";
}
.fa-angle-double-left:before {
  content: "\f100";
}
.fa-angle-double-right:before {
  content: "\f101";
}
.fa-angle-double-up:before {
  content: "\f102";
}
.fa-angle-double-down:before {
  content: "\f103";
}
.fa-angle-left:before {
  content: "\f104";
}
.fa-angle-right:before {
  content: "\f105";
}
.fa-angle-up:before {
  content: "\f106";
}
.fa-angle-down:before {
  content: "\f107";
}
.fa-desktop:before {
  content: "\f108";
}
.fa-laptop:before {
  content: "\f109";
}
.fa-tablet:before {
  content: "\f10a";
}
.fa-mobile-phone:before,
.fa-mobile:before {
  content: "\f10b";
}
.fa-circle-o:before {
  content: "\f10c";
}
.fa-quote-left:before {
  content: "\f10d";
}
.fa-quote-right:before {
  content: "\f10e";
}
.fa-spinner:before {
  content: "\f110";
}
.fa-circle:before {
  content: "\f111";
}
.fa-mail-reply:before,
.fa-reply:before {
  content: "\f112";
}
.fa-github-alt:before {
  content: "\f113";
}
.fa-folder-o:before {
  content: "\f114";
}
.fa-folder-open-o:before {
  content: "\f115";
}
.fa-smile-o:before {
  content: "\f118";
}
.fa-frown-o:before {
  content: "\f119";
}
.fa-meh-o:before {
  content: "\f11a";
}
.fa-gamepad:before {
  content: "\f11b";
}
.fa-keyboard-o:before {
  content: "\f11c";
}
.fa-flag-o:before {
  content: "\f11d";
}
.fa-flag-checkered:before {
  content: "\f11e";
}
.fa-terminal:before {
  content: "\f120";
}
.fa-code:before {
  content: "\f121";
}
.fa-mail-reply-all:before,
.fa-reply-all:before {
  content: "\f122";
}
.fa-star-half-empty:before,
.fa-star-half-full:before,
.fa-star-half-o:before {
  content: "\f123";
}
.fa-location-arrow:before {
  content: "\f124";
}
.fa-crop:before {
  content: "\f125";
}
.fa-code-fork:before {
  content: "\f126";
}
.fa-unlink:before,
.fa-chain-broken:before {
  content: "\f127";
}
.fa-question:before {
  content: "\f128";
}
.fa-info:before {
  content: "\f129";
}
.fa-exclamation:before {
  content: "\f12a";
}
.fa-superscript:before {
  content: "\f12b";
}
.fa-subscript:before {
  content: "\f12c";
}
.fa-eraser:before {
  content: "\f12d";
}
.fa-puzzle-piece:before {
  content: "\f12e";
}
.fa-microphone:before {
  content: "\f130";
}
.fa-microphone-slash:before {
  content: "\f131";
}
.fa-shield:before {
  content: "\f132";
}
.fa-calendar-o:before {
  content: "\f133";
}
.fa-fire-extinguisher:before {
  content: "\f134";
}
.fa-rocket:before {
  content: "\f135";
}
.fa-maxcdn:before {
  content: "\f136";
}
.fa-chevron-circle-left:before {
  content: "\f137";
}
.fa-chevron-circle-right:before {
  content: "\f138";
}
.fa-chevron-circle-up:before {
  content: "\f139";
}
.fa-chevron-circle-down:before {
  content: "\f13a";
}
.fa-html5:before {
  content: "\f13b";
}
.fa-css3:before {
  content: "\f13c";
}
.fa-anchor:before {
  content: "\f13d";
}
.fa-unlock-alt:before {
  content: "\f13e";
}
.fa-bullseye:before {
  content: "\f140";
}
.fa-ellipsis-h:before {
  content: "\f141";
}
.fa-ellipsis-v:before {
  content: "\f142";
}
.fa-rss-square:before {
  content: "\f143";
}
.fa-play-circle:before {
  content: "\f144";
}
.fa-ticket:before {
  content: "\f145";
}
.fa-minus-square:before {
  content: "\f146";
}
.fa-minus-square-o:before {
  content: "\f147";
}
.fa-level-up:before {
  content: "\f148";
}
.fa-level-down:before {
  content: "\f149";
}
.fa-check-square:before {
  content: "\f14a";
}
.fa-pencil-square:before {
  content: "\f14b";
}
.fa-external-link-square:before {
  content: "\f14c";
}
.fa-share-square:before {
  content: "\f14d";
}
.fa-compass:before {
  content: "\f14e";
}
.fa-toggle-down:before,
.fa-caret-square-o-down:before {
  content: "\f150";
}
.fa-toggle-up:before,
.fa-caret-square-o-up:before {
  content: "\f151";
}
.fa-toggle-right:before,
.fa-caret-square-o-right:before {
  content: "\f152";
}
.fa-euro:before,
.fa-eur:before {
  content: "\f153";
}
.fa-gbp:before {
  content: "\f154";
}
.fa-dollar:before,
.fa-usd:before {
  content: "\f155";
}
.fa-rupee:before,
.fa-inr:before {
  content: "\f156";
}
.fa-cny:before,
.fa-rmb:before,
.fa-yen:before,
.fa-jpy:before {
  content: "\f157";
}
.fa-ruble:before,
.fa-rouble:before,
.fa-rub:before {
  content: "\f158";
}
.fa-won:before,
.fa-krw:before {
  content: "\f159";
}
.fa-bitcoin:before,
.fa-btc:before {
  content: "\f15a";
}
.fa-file:before {
  content: "\f15b";
}
.fa-file-text:before {
  content: "\f15c";
}
.fa-sort-alpha-asc:before {
  content: "\f15d";
}
.fa-sort-alpha-desc:before {
  content: "\f15e";
}
.fa-sort-amount-asc:before {
  content: "\f160";
}
.fa-sort-amount-desc:before {
  content: "\f161";
}
.fa-sort-numeric-asc:before {
  content: "\f162";
}
.fa-sort-numeric-desc:before {
  content: "\f163";
}
.fa-thumbs-up:before {
  content: "\f164";
}
.fa-thumbs-down:before {
  content: "\f165";
}
.fa-youtube-square:before {
  content: "\f166";
}
.fa-youtube:before {
  content: "\f167";
}
.fa-xing:before {
  content: "\f168";
}
.fa-xing-square:before {
  content: "\f169";
}
.fa-youtube-play:before {
  content: "\f16a";
}
.fa-dropbox:before {
  content: "\f16b";
}
.fa-stack-overflow:before {
  content: "\f16c";
}
.fa-instagram:before {
  content: "\f16d";
}
.fa-flickr:before {
  content: "\f16e";
}
.fa-adn:before {
  content: "\f170";
}
.fa-bitbucket:before {
  content: "\f171";
}
.fa-bitbucket-square:before {
  content: "\f172";
}
.fa-tumblr:before {
  content: "\f173";
}
.fa-tumblr-square:before {
  content: "\f174";
}
.fa-long-arrow-down:before {
  content: "\f175";
}
.fa-long-arrow-up:before {
  content: "\f176";
}
.fa-long-arrow-left:before {
  content: "\f177";
}
.fa-long-arrow-right:before {
  content: "\f178";
}
.fa-apple:before {
  content: "\f179";
}
.fa-windows:before {
  content: "\f17a";
}
.fa-android:before {
  content: "\f17b";
}
.fa-linux:before {
  content: "\f17c";
}
.fa-dribbble:before {
  content: "\f17d";
}
.fa-skype:before {
  content: "\f17e";
}
.fa-foursquare:before {
  content: "\f180";
}
.fa-trello:before {
  content: "\f181";
}
.fa-female:before {
  content: "\f182";
}
.fa-male:before {
  content: "\f183";
}
.fa-gittip:before {
  content: "\f184";
}
.fa-sun-o:before {
  content: "\f185";
}
.fa-moon-o:before {
  content: "\f186";
}
.fa-archive:before {
  content: "\f187";
}
.fa-bug:before {
  content: "\f188";
}
.fa-vk:before {
  content: "\f189";
}
.fa-weibo:before {
  content: "\f18a";
}
.fa-renren:before {
  content: "\f18b";
}
.fa-pagelines:before {
  content: "\f18c";
}
.fa-stack-exchange:before {
  content: "\f18d";
}
.fa-arrow-circle-o-right:before {
  content: "\f18e";
}
.fa-arrow-circle-o-left:before {
  content: "\f190";
}
.fa-toggle-left:before,
.fa-caret-square-o-left:before {
  content: "\f191";
}
.fa-dot-circle-o:before {
  content: "\f192";
}
.fa-wheelchair:before {
  content: "\f193";
}
.fa-vimeo-square:before {
  content: "\f194";
}
.fa-turkish-lira:before,
.fa-try:before {
  content: "\f195";
}
.fa-plus-square-o:before {
  content: "\f196";
}
.fa-space-shuttle:before {
  content: "\f197";
}
.fa-slack:before {
  content: "\f198";
}
.fa-envelope-square:before {
  content: "\f199";
}
.fa-wordpress:before {
  content: "\f19a";
}
.fa-openid:before {
  content: "\f19b";
}
.fa-institution:before,
.fa-bank:before,
.fa-university:before {
  content: "\f19c";
}
.fa-mortar-board:before,
.fa-graduation-cap:before {
  content: "\f19d";
}
.fa-yahoo:before {
  content: "\f19e";
}
.fa-google:before {
  content: "\f1a0";
}
.fa-reddit:before {
  content: "\f1a1";
}
.fa-reddit-square:before {
  content: "\f1a2";
}
.fa-stumbleupon-circle:before {
  content: "\f1a3";
}
.fa-stumbleupon:before {
  content: "\f1a4";
}
.fa-delicious:before {
  content: "\f1a5";
}
.fa-digg:before {
  content: "\f1a6";
}
.fa-pied-piper:before {
  content: "\f1a7";
}
.fa-pied-piper-alt:before {
  content: "\f1a8";
}
.fa-drupal:before {
  content: "\f1a9";
}
.fa-joomla:before {
  content: "\f1aa";
}
.fa-language:before {
  content: "\f1ab";
}
.fa-fax:before {
  content: "\f1ac";
}
.fa-building:before {
  content: "\f1ad";
}
.fa-child:before {
  content: "\f1ae";
}
.fa-paw:before {
  content: "\f1b0";
}
.fa-spoon:before {
  content: "\f1b1";
}
.fa-cube:before {
  content: "\f1b2";
}
.fa-cubes:before {
  content: "\f1b3";
}
.fa-behance:before {
  content: "\f1b4";
}
.fa-behance-square:before {
  content: "\f1b5";
}
.fa-steam:before {
  content: "\f1b6";
}
.fa-steam-square:before {
  content: "\f1b7";
}
.fa-recycle:before {
  content: "\f1b8";
}
.fa-automobile:before,
.fa-car:before {
  content: "\f1b9";
}
.fa-cab:before,
.fa-taxi:before {
  content: "\f1ba";
}
.fa-tree:before {
  content: "\f1bb";
}
.fa-spotify:before {
  content: "\f1bc";
}
.fa-deviantart:before {
  content: "\f1bd";
}
.fa-soundcloud:before {
  content: "\f1be";
}
.fa-database:before {
  content: "\f1c0";
}
.fa-file-pdf-o:before {
  content: "\f1c1";
}
.fa-file-word-o:before {
  content: "\f1c2";
}
.fa-file-excel-o:before {
  content: "\f1c3";
}
.fa-file-powerpoint-o:before {
  content: "\f1c4";
}
.fa-file-photo-o:before,
.fa-file-picture-o:before,
.fa-file-image-o:before {
  content: "\f1c5";
}
.fa-file-zip-o:before,
.fa-file-archive-o:before {
  content: "\f1c6";
}
.fa-file-sound-o:before,
.fa-file-audio-o:before {
  content: "\f1c7";
}
.fa-file-movie-o:before,
.fa-file-video-o:before {
  content: "\f1c8";
}
.fa-file-code-o:before {
  content: "\f1c9";
}
.fa-vine:before {
  content: "\f1ca";
}
.fa-codepen:before {
  content: "\f1cb";
}
.fa-jsfiddle:before {
  content: "\f1cc";
}
.fa-life-bouy:before,
.fa-life-buoy:before,
.fa-life-saver:before,
.fa-support:before,
.fa-life-ring:before {
  content: "\f1cd";
}
.fa-circle-o-notch:before {
  content: "\f1ce";
}
.fa-ra:before,
.fa-rebel:before {
  content: "\f1d0";
}
.fa-ge:before,
.fa-empire:before {
  content: "\f1d1";
}
.fa-git-square:before {
  content: "\f1d2";
}
.fa-git:before {
  content: "\f1d3";
}
.fa-hacker-news:before {
  content: "\f1d4";
}
.fa-tencent-weibo:before {
  content: "\f1d5";
}
.fa-qq:before {
  content: "\f1d6";
}
.fa-wechat:before,
.fa-weixin:before {
  content: "\f1d7";
}
.fa-send:before,
.fa-paper-plane:before {
  content: "\f1d8";
}
.fa-send-o:before,
.fa-paper-plane-o:before {
  content: "\f1d9";
}
.fa-history:before {
  content: "\f1da";
}
.fa-circle-thin:before {
  content: "\f1db";
}
.fa-header:before {
  content: "\f1dc";
}
.fa-paragraph:before {
  content: "\f1dd";
}
.fa-sliders:before {
  content: "\f1de";
}
.fa-share-alt:before {
  content: "\f1e0";
}
.fa-share-alt-square:before {
  content: "\f1e1";
}
.fa-bomb:before {
  content: "\f1e2";
}
.fa-soccer-ball-o:before,
.fa-futbol-o:before {
  content: "\f1e3";
}
.fa-tty:before {
  content: "\f1e4";
}
.fa-binoculars:before {
  content: "\f1e5";
}
.fa-plug:before {
  content: "\f1e6";
}
.fa-slideshare:before {
  content: "\f1e7";
}
.fa-twitch:before {
  content: "\f1e8";
}
.fa-yelp:before {
  content: "\f1e9";
}
.fa-newspaper-o:before {
  content: "\f1ea";
}
.fa-wifi:before {
  content: "\f1eb";
}
.fa-calculator:before {
  content: "\f1ec";
}
.fa-paypal:before {
  content: "\f1ed";
}
.fa-google-wallet:before {
  content: "\f1ee";
}
.fa-cc-visa:before {
  content: "\f1f0";
}
.fa-cc-mastercard:before {
  content: "\f1f1";
}
.fa-cc-discover:before {
  content: "\f1f2";
}
.fa-cc-amex:before {
  content: "\f1f3";
}
.fa-cc-paypal:before {
  content: "\f1f4";
}
.fa-cc-stripe:before {
  content: "\f1f5";
}
.fa-bell-slash:before {
  content: "\f1f6";
}
.fa-bell-slash-o:before {
  content: "\f1f7";
}
.fa-trash:before {
  content: "\f1f8";
}
.fa-copyright:before {
  content: "\f1f9";
}
.fa-at:before {
  content: "\f1fa";
}
.fa-eyedropper:before {
  content: "\f1fb";
}
.fa-paint-brush:before {
  content: "\f1fc";
}
.fa-birthday-cake:before {
  content: "\f1fd";
}
.fa-area-chart:before {
  content: "\f1fe";
}
.fa-pie-chart:before {
  content: "\f200";
}
.fa-line-chart:before {
  content: "\f201";
}
.fa-lastfm:before {
  content: "\f202";
}
.fa-lastfm-square:before {
  content: "\f203";
}
.fa-toggle-off:before {
  content: "\f204";
}
.fa-toggle-on:before {
  content: "\f205";
}
.fa-bicycle:before {
  content: "\f206";
}
.fa-bus:before {
  content: "\f207";
}
.fa-ioxhost:before {
  content: "\f208";
}
.fa-angellist:before {
  content: "\f209";
}
.fa-cc:before {
  content: "\f20a";
}
.fa-shekel:before,
.fa-sheqel:before,
.fa-ils:before {
  content: "\f20b";
}
.fa-meanpath:before {
  content: "\f20c";
}
/*!
*
* IPython base
*
*/
.modal.fade .modal-dialog {
  -webkit-transform: translate(0, 0);
  -ms-transform: translate(0, 0);
  -o-transform: translate(0, 0);
  transform: translate(0, 0);
}
code {
  color: #000;
}
pre {
  font-size: inherit;
  line-height: inherit;
}
label {
  font-weight: normal;
}
/* Make the page background atleast 100% the height of the view port */
/* Make the page itself atleast 70% the height of the view port */
.border-box-sizing {
  box-sizing: border-box;
  -moz-box-sizing: border-box;
  -webkit-box-sizing: border-box;
}
.corner-all {
  border-radius: 2px;
}
.no-padding {
  padding: 0px;
}
/* Flexible box model classes */
/* Taken from Alex Russell http://infrequently.org/2009/08/css-3-progress/ */
/* This file is a compatability layer.  It allows the usage of flexible box 
model layouts accross multiple browsers, including older browsers.  The newest,
universal implementation of the flexible box model is used when available (see
`Modern browsers` comments below).  Browsers that are known to implement this 
new spec completely include:

    Firefox 28.0+
    Chrome 29.0+
    Internet Explorer 11+ 
    Opera 17.0+

Browsers not listed, including Safari, are supported via the styling under the
`Old browsers` comments below.
*/
.hbox {
  /* Old browsers */
  display: -webkit-box;
  -webkit-box-orient: horizontal;
  -webkit-box-align: stretch;
  display: -moz-box;
  -moz-box-orient: horizontal;
  -moz-box-align: stretch;
  display: box;
  box-orient: horizontal;
  box-align: stretch;
  /* Modern browsers */
  display: flex;
  flex-direction: row;
  align-items: stretch;
}
.hbox > * {
  /* Old browsers */
  -webkit-box-flex: 0;
  -moz-box-flex: 0;
  box-flex: 0;
  /* Modern browsers */
  flex: none;
}
.vbox {
  /* Old browsers */
  display: -webkit-box;
  -webkit-box-orient: vertical;
  -webkit-box-align: stretch;
  display: -moz-box;
  -moz-box-orient: vertical;
  -moz-box-align: stretch;
  display: box;
  box-orient: vertical;
  box-align: stretch;
  /* Modern browsers */
  display: flex;
  flex-direction: column;
  align-items: stretch;
}
.vbox > * {
  /* Old browsers */
  -webkit-box-flex: 0;
  -moz-box-flex: 0;
  box-flex: 0;
  /* Modern browsers */
  flex: none;
}
.hbox.reverse,
.vbox.reverse,
.reverse {
  /* Old browsers */
  -webkit-box-direction: reverse;
  -moz-box-direction: reverse;
  box-direction: reverse;
  /* Modern browsers */
  flex-direction: row-reverse;
}
.hbox.box-flex0,
.vbox.box-flex0,
.box-flex0 {
  /* Old browsers */
  -webkit-box-flex: 0;
  -moz-box-flex: 0;
  box-flex: 0;
  /* Modern browsers */
  flex: none;
  width: auto;
}
.hbox.box-flex1,
.vbox.box-flex1,
.box-flex1 {
  /* Old browsers */
  -webkit-box-flex: 1;
  -moz-box-flex: 1;
  box-flex: 1;
  /* Modern browsers */
  flex: 1;
}
.hbox.box-flex,
.vbox.box-flex,
.box-flex {
  /* Old browsers */
  /* Old browsers */
  -webkit-box-flex: 1;
  -moz-box-flex: 1;
  box-flex: 1;
  /* Modern browsers */
  flex: 1;
}
.hbox.box-flex2,
.vbox.box-flex2,
.box-flex2 {
  /* Old browsers */
  -webkit-box-flex: 2;
  -moz-box-flex: 2;
  box-flex: 2;
  /* Modern browsers */
  flex: 2;
}
.box-group1 {
  /*  Deprecated */
  -webkit-box-flex-group: 1;
  -moz-box-flex-group: 1;
  box-flex-group: 1;
}
.box-group2 {
  /* Deprecated */
  -webkit-box-flex-group: 2;
  -moz-box-flex-group: 2;
  box-flex-group: 2;
}
.hbox.start,
.vbox.start,
.start {
  /* Old browsers */
  -webkit-box-pack: start;
  -moz-box-pack: start;
  box-pack: start;
  /* Modern browsers */
  justify-content: flex-start;
}
.hbox.end,
.vbox.end,
.end {
  /* Old browsers */
  -webkit-box-pack: end;
  -moz-box-pack: end;
  box-pack: end;
  /* Modern browsers */
  justify-content: flex-end;
}
.hbox.center,
.vbox.center,
.center {
  /* Old browsers */
  -webkit-box-pack: center;
  -moz-box-pack: center;
  box-pack: center;
  /* Modern browsers */
  justify-content: center;
}
.hbox.baseline,
.vbox.baseline,
.baseline {
  /* Old browsers */
  -webkit-box-pack: baseline;
  -moz-box-pack: baseline;
  box-pack: baseline;
  /* Modern browsers */
  justify-content: baseline;
}
.hbox.stretch,
.vbox.stretch,
.stretch {
  /* Old browsers */
  -webkit-box-pack: stretch;
  -moz-box-pack: stretch;
  box-pack: stretch;
  /* Modern browsers */
  justify-content: stretch;
}
.hbox.align-start,
.vbox.align-start,
.align-start {
  /* Old browsers */
  -webkit-box-align: start;
  -moz-box-align: start;
  box-align: start;
  /* Modern browsers */
  align-items: flex-start;
}
.hbox.align-end,
.vbox.align-end,
.align-end {
  /* Old browsers */
  -webkit-box-align: end;
  -moz-box-align: end;
  box-align: end;
  /* Modern browsers */
  align-items: flex-end;
}
.hbox.align-center,
.vbox.align-center,
.align-center {
  /* Old browsers */
  -webkit-box-align: center;
  -moz-box-align: center;
  box-align: center;
  /* Modern browsers */
  align-items: center;
}
.hbox.align-baseline,
.vbox.align-baseline,
.align-baseline {
  /* Old browsers */
  -webkit-box-align: baseline;
  -moz-box-align: baseline;
  box-align: baseline;
  /* Modern browsers */
  align-items: baseline;
}
.hbox.align-stretch,
.vbox.align-stretch,
.align-stretch {
  /* Old browsers */
  -webkit-box-align: stretch;
  -moz-box-align: stretch;
  box-align: stretch;
  /* Modern browsers */
  align-items: stretch;
}
div.error {
  margin: 2em;
  text-align: center;
}
div.error > h1 {
  font-size: 500%;
  line-height: normal;
}
div.error > p {
  font-size: 200%;
  line-height: normal;
}
div.traceback-wrapper {
  text-align: left;
  max-width: 800px;
  margin: auto;
}
/**
 * Primary styles
 *
 * Author: Jupyter Development Team
 */
body {
  background-color: #fff;
  /* This makes sure that the body covers the entire window and needs to
       be in a different element than the display: box in wrapper below */
  position: absolute;
  left: 0px;
  right: 0px;
  top: 0px;
  bottom: 0px;
  overflow: visible;
}
body > #header {
  /* Initially hidden to prevent FLOUC */
  display: none;
  background-color: #fff;
  /* Display over codemirror */
  position: relative;
  z-index: 100;
}
body > #header #header-container {
  padding-bottom: 5px;
  padding-top: 5px;
  box-sizing: border-box;
  -moz-box-sizing: border-box;
  -webkit-box-sizing: border-box;
}
body > #header .header-bar {
  width: 100%;
  height: 1px;
  background: #e7e7e7;
  margin-bottom: -1px;
}
@media print {
  body > #header {
    display: none !important;
  }
}
#header-spacer {
  width: 100%;
  visibility: hidden;
}
@media print {
  #header-spacer {
    display: none;
  }
}
#ipython_notebook {
  padding-left: 0px;
  padding-top: 1px;
  padding-bottom: 1px;
}
@media (max-width: 991px) {
  #ipython_notebook {
    margin-left: 10px;
  }
}
[dir="rtl"] #ipython_notebook {
  float: right !important;
}
#noscript {
  width: auto;
  padding-top: 16px;
  padding-bottom: 16px;
  text-align: center;
  font-size: 22px;
  color: red;
  font-weight: bold;
}
#ipython_notebook img {
  height: 28px;
}
#site {
  width: 100%;
  display: none;
  box-sizing: border-box;
  -moz-box-sizing: border-box;
  -webkit-box-sizing: border-box;
  overflow: auto;
}
@media print {
  #site {
    height: auto !important;
  }
}
/* Smaller buttons */
.ui-button .ui-button-text {
  padding: 0.2em 0.8em;
  font-size: 77%;
}
input.ui-button {
  padding: 0.3em 0.9em;
}
span#login_widget {
  float: right;
}
span#login_widget > .button,
#logout {
  color: #333;
  background-color: #fff;
  border-color: #ccc;
}
span#login_widget > .button:focus,
#logout:focus,
span#login_widget > .button.focus,
#logout.focus {
  color: #333;
  background-color: #e6e6e6;
  border-color: #8c8c8c;
}
span#login_widget > .button:hover,
#logout:hover {
  color: #333;
  background-color: #e6e6e6;
  border-color: #adadad;
}
span#login_widget > .button:active,
#logout:active,
span#login_widget > .button.active,
#logout.active,
.open > .dropdown-togglespan#login_widget > .button,
.open > .dropdown-toggle#logout {
  color: #333;
  background-color: #e6e6e6;
  border-color: #adadad;
}
span#login_widget > .button:active:hover,
#logout:active:hover,
span#login_widget > .button.active:hover,
#logout.active:hover,
.open > .dropdown-togglespan#login_widget > .button:hover,
.open > .dropdown-toggle#logout:hover,
span#login_widget > .button:active:focus,
#logout:active:focus,
span#login_widget > .button.active:focus,
#logout.active:focus,
.open > .dropdown-togglespan#login_widget > .button:focus,
.open > .dropdown-toggle#logout:focus,
span#login_widget > .button:active.focus,
#logout:active.focus,
span#login_widget > .button.active.focus,
#logout.active.focus,
.open > .dropdown-togglespan#login_widget > .button.focus,
.open > .dropdown-toggle#logout.focus {
  color: #333;
  background-color: #d4d4d4;
  border-color: #8c8c8c;
}
span#login_widget > .button:active,
#logout:active,
span#login_widget > .button.active,
#logout.active,
.open > .dropdown-togglespan#login_widget > .button,
.open > .dropdown-toggle#logout {
  background-image: none;
}
span#login_widget > .button.disabled:hover,
#logout.disabled:hover,
span#login_widget > .button[disabled]:hover,
#logout[disabled]:hover,
fieldset[disabled] span#login_widget > .button:hover,
fieldset[disabled] #logout:hover,
span#login_widget > .button.disabled:focus,
#logout.disabled:focus,
span#login_widget > .button[disabled]:focus,
#logout[disabled]:focus,
fieldset[disabled] span#login_widget > .button:focus,
fieldset[disabled] #logout:focus,
span#login_widget > .button.disabled.focus,
#logout.disabled.focus,
span#login_widget > .button[disabled].focus,
#logout[disabled].focus,
fieldset[disabled] span#login_widget > .button.focus,
fieldset[disabled] #logout.focus {
  background-color: #fff;
  border-color: #ccc;
}
span#login_widget > .button .badge,
#logout .badge {
  color: #fff;
  background-color: #333;
}
.nav-header {
  text-transform: none;
}
#header > span {
  margin-top: 10px;
}
.modal_stretch .modal-dialog {
  /* Old browsers */
  display: -webkit-box;
  -webkit-box-orient: vertical;
  -webkit-box-align: stretch;
  display: -moz-box;
  -moz-box-orient: vertical;
  -moz-box-align: stretch;
  display: box;
  box-orient: vertical;
  box-align: stretch;
  /* Modern browsers */
  display: flex;
  flex-direction: column;
  align-items: stretch;
  min-height: 80vh;
}
.modal_stretch .modal-dialog .modal-body {
  max-height: calc(100vh - 200px);
  overflow: auto;
  flex: 1;
}
@media (min-width: 768px) {
  .modal .modal-dialog {
    width: 700px;
  }
}
@media (min-width: 768px) {
  select.form-control {
    margin-left: 12px;
    margin-right: 12px;
  }
}
/*!
*
* IPython auth
*
*/
.center-nav {
  display: inline-block;
  margin-bottom: -4px;
}
/*!
*
* IPython tree view
*
*/
/* We need an invisible input field on top of the sentense*/
/* "Drag file onto the list ..." */
.alternate_upload {
  background-color: none;
  display: inline;
}
.alternate_upload.form {
  padding: 0;
  margin: 0;
}
.alternate_upload input.fileinput {
  text-align: center;
  vertical-align: middle;
  display: inline;
  opacity: 0;
  z-index: 2;
  width: 12ex;
  margin-right: -12ex;
}
.alternate_upload .btn-upload {
  height: 22px;
}
/**
 * Primary styles
 *
 * Author: Jupyter Development Team
 */
[dir="rtl"] #tabs li {
  float: right;
}
ul#tabs {
  margin-bottom: 4px;
}
[dir="rtl"] ul#tabs {
  margin-right: 0px;
}
ul#tabs a {
  padding-top: 6px;
  padding-bottom: 4px;
}
ul.breadcrumb a:focus,
ul.breadcrumb a:hover {
  text-decoration: none;
}
ul.breadcrumb i.icon-home {
  font-size: 16px;
  margin-right: 4px;
}
ul.breadcrumb span {
  color: #5e5e5e;
}
.list_toolbar {
  padding: 4px 0 4px 0;
  vertical-align: middle;
}
.list_toolbar .tree-buttons {
  padding-top: 1px;
}
[dir="rtl"] .list_toolbar .tree-buttons {
  float: left !important;
}
[dir="rtl"] .list_toolbar .pull-right {
  padding-top: 1px;
  float: left !important;
}
[dir="rtl"] .list_toolbar .pull-left {
  float: right !important;
}
.dynamic-buttons {
  padding-top: 3px;
  display: inline-block;
}
.list_toolbar [class*="span"] {
  min-height: 24px;
}
.list_header {
  font-weight: bold;
  background-color: #EEE;
}
.list_placeholder {
  font-weight: bold;
  padding-top: 4px;
  padding-bottom: 4px;
  padding-left: 7px;
  padding-right: 7px;
}
.list_container {
  margin-top: 4px;
  margin-bottom: 20px;
  border: 1px solid #ddd;
  border-radius: 2px;
}
.list_container > div {
  border-bottom: 1px solid #ddd;
}
.list_container > div:hover .list-item {
  background-color: red;
}
.list_container > div:last-child {
  border: none;
}
.list_item:hover .list_item {
  background-color: #ddd;
}
.list_item a {
  text-decoration: none;
}
.list_item:hover {
  background-color: #fafafa;
}
.list_header > div,
.list_item > div {
  padding-top: 4px;
  padding-bottom: 4px;
  padding-left: 7px;
  padding-right: 7px;
  line-height: 22px;
}
.list_header > div input,
.list_item > div input {
  margin-right: 7px;
  margin-left: 14px;
  vertical-align: baseline;
  line-height: 22px;
  position: relative;
  top: -1px;
}
.list_header > div .item_link,
.list_item > div .item_link {
  margin-left: -1px;
  vertical-align: baseline;
  line-height: 22px;
}
.new-file input[type=checkbox] {
  visibility: hidden;
}
.item_name {
  line-height: 22px;
  height: 24px;
}
.item_icon {
  font-size: 14px;
  color: #5e5e5e;
  margin-right: 7px;
  margin-left: 7px;
  line-height: 22px;
  vertical-align: baseline;
}
.item_buttons {
  line-height: 1em;
  margin-left: -5px;
}
.item_buttons .btn,
.item_buttons .btn-group,
.item_buttons .input-group {
  float: left;
}
.item_buttons > .btn,
.item_buttons > .btn-group,
.item_buttons > .input-group {
  margin-left: 5px;
}
.item_buttons .btn {
  min-width: 13ex;
}
.item_buttons .running-indicator {
  padding-top: 4px;
  color: #5cb85c;
}
.item_buttons .kernel-name {
  padding-top: 4px;
  color: #5bc0de;
  margin-right: 7px;
  float: left;
}
.toolbar_info {
  height: 24px;
  line-height: 24px;
}
.list_item input:not([type=checkbox]) {
  padding-top: 3px;
  padding-bottom: 3px;
  height: 22px;
  line-height: 14px;
  margin: 0px;
}
.highlight_text {
  color: blue;
}
#project_name {
  display: inline-block;
  padding-left: 7px;
  margin-left: -2px;
}
#project_name > .breadcrumb {
  padding: 0px;
  margin-bottom: 0px;
  background-color: transparent;
  font-weight: bold;
}
#tree-selector {
  padding-right: 0px;
}
[dir="rtl"] #tree-selector a {
  float: right;
}
#button-select-all {
  min-width: 50px;
}
#select-all {
  margin-left: 7px;
  margin-right: 2px;
}
.menu_icon {
  margin-right: 2px;
}
.tab-content .row {
  margin-left: 0px;
  margin-right: 0px;
}
.folder_icon:before {
  display: inline-block;
  font: normal normal normal 14px/1 FontAwesome;
  font-size: inherit;
  text-rendering: auto;
  -webkit-font-smoothing: antialiased;
  -moz-osx-font-smoothing: grayscale;
  content: "\f114";
}
.folder_icon:before.pull-left {
  margin-right: .3em;
}
.folder_icon:before.pull-right {
  margin-left: .3em;
}
.notebook_icon:before {
  display: inline-block;
  font: normal normal normal 14px/1 FontAwesome;
  font-size: inherit;
  text-rendering: auto;
  -webkit-font-smoothing: antialiased;
  -moz-osx-font-smoothing: grayscale;
  content: "\f02d";
  position: relative;
  top: -1px;
}
.notebook_icon:before.pull-left {
  margin-right: .3em;
}
.notebook_icon:before.pull-right {
  margin-left: .3em;
}
.running_notebook_icon:before {
  display: inline-block;
  font: normal normal normal 14px/1 FontAwesome;
  font-size: inherit;
  text-rendering: auto;
  -webkit-font-smoothing: antialiased;
  -moz-osx-font-smoothing: grayscale;
  content: "\f02d";
  position: relative;
  top: -1px;
  color: #5cb85c;
}
.running_notebook_icon:before.pull-left {
  margin-right: .3em;
}
.running_notebook_icon:before.pull-right {
  margin-left: .3em;
}
.file_icon:before {
  display: inline-block;
  font: normal normal normal 14px/1 FontAwesome;
  font-size: inherit;
  text-rendering: auto;
  -webkit-font-smoothing: antialiased;
  -moz-osx-font-smoothing: grayscale;
  content: "\f016";
  position: relative;
  top: -2px;
}
.file_icon:before.pull-left {
  margin-right: .3em;
}
.file_icon:before.pull-right {
  margin-left: .3em;
}
#notebook_toolbar .pull-right {
  padding-top: 0px;
  margin-right: -1px;
}
ul#new-menu {
  left: auto;
  right: 0;
}
[dir="rtl"] #new-menu {
  text-align: right;
}
.kernel-menu-icon {
  padding-right: 12px;
  width: 24px;
  content: "\f096";
}
.kernel-menu-icon:before {
  content: "\f096";
}
.kernel-menu-icon-current:before {
  content: "\f00c";
}
#tab_content {
  padding-top: 20px;
}
#running .panel-group .panel {
  margin-top: 3px;
  margin-bottom: 1em;
}
#running .panel-group .panel .panel-heading {
  background-color: #EEE;
  padding-top: 4px;
  padding-bottom: 4px;
  padding-left: 7px;
  padding-right: 7px;
  line-height: 22px;
}
#running .panel-group .panel .panel-heading a:focus,
#running .panel-group .panel .panel-heading a:hover {
  text-decoration: none;
}
#running .panel-group .panel .panel-body {
  padding: 0px;
}
#running .panel-group .panel .panel-body .list_container {
  margin-top: 0px;
  margin-bottom: 0px;
  border: 0px;
  border-radius: 0px;
}
#running .panel-group .panel .panel-body .list_container .list_item {
  border-bottom: 1px solid #ddd;
}
#running .panel-group .panel .panel-body .list_container .list_item:last-child {
  border-bottom: 0px;
}
[dir="rtl"] #running .col-sm-8 {
  float: right !important;
}
.delete-button {
  display: none;
}
.duplicate-button {
  display: none;
}
.rename-button {
  display: none;
}
.shutdown-button {
  display: none;
}
.dynamic-instructions {
  display: inline-block;
  padding-top: 4px;
}
/*!
*
* IPython text editor webapp
*
*/
.selected-keymap i.fa {
  padding: 0px 5px;
}
.selected-keymap i.fa:before {
  content: "\f00c";
}
#mode-menu {
  overflow: auto;
  max-height: 20em;
}
.edit_app #header {
  -webkit-box-shadow: 0px 0px 12px 1px rgba(87, 87, 87, 0.2);
  box-shadow: 0px 0px 12px 1px rgba(87, 87, 87, 0.2);
}
.edit_app #menubar .navbar {
  /* Use a negative 1 bottom margin, so the border overlaps the border of the
    header */
  margin-bottom: -1px;
}
.dirty-indicator {
  display: inline-block;
  font: normal normal normal 14px/1 FontAwesome;
  font-size: inherit;
  text-rendering: auto;
  -webkit-font-smoothing: antialiased;
  -moz-osx-font-smoothing: grayscale;
  width: 20px;
}
.dirty-indicator.pull-left {
  margin-right: .3em;
}
.dirty-indicator.pull-right {
  margin-left: .3em;
}
.dirty-indicator-dirty {
  display: inline-block;
  font: normal normal normal 14px/1 FontAwesome;
  font-size: inherit;
  text-rendering: auto;
  -webkit-font-smoothing: antialiased;
  -moz-osx-font-smoothing: grayscale;
  width: 20px;
}
.dirty-indicator-dirty.pull-left {
  margin-right: .3em;
}
.dirty-indicator-dirty.pull-right {
  margin-left: .3em;
}
.dirty-indicator-clean {
  display: inline-block;
  font: normal normal normal 14px/1 FontAwesome;
  font-size: inherit;
  text-rendering: auto;
  -webkit-font-smoothing: antialiased;
  -moz-osx-font-smoothing: grayscale;
  width: 20px;
}
.dirty-indicator-clean.pull-left {
  margin-right: .3em;
}
.dirty-indicator-clean.pull-right {
  margin-left: .3em;
}
.dirty-indicator-clean:before {
  display: inline-block;
  font: normal normal normal 14px/1 FontAwesome;
  font-size: inherit;
  text-rendering: auto;
  -webkit-font-smoothing: antialiased;
  -moz-osx-font-smoothing: grayscale;
  content: "\f00c";
}
.dirty-indicator-clean:before.pull-left {
  margin-right: .3em;
}
.dirty-indicator-clean:before.pull-right {
  margin-left: .3em;
}
#filename {
  font-size: 16pt;
  display: table;
  padding: 0px 5px;
}
#current-mode {
  padding-left: 5px;
  padding-right: 5px;
}
#texteditor-backdrop {
  padding-top: 20px;
  padding-bottom: 20px;
}
@media not print {
  #texteditor-backdrop {
    background-color: #EEE;
  }
}
@media print {
  #texteditor-backdrop #texteditor-container .CodeMirror-gutter,
  #texteditor-backdrop #texteditor-container .CodeMirror-gutters {
    background-color: #fff;
  }
}
@media not print {
  #texteditor-backdrop #texteditor-container .CodeMirror-gutter,
  #texteditor-backdrop #texteditor-container .CodeMirror-gutters {
    background-color: #fff;
  }
}
@media not print {
  #texteditor-backdrop #texteditor-container {
    padding: 0px;
    background-color: #fff;
    -webkit-box-shadow: 0px 0px 12px 1px rgba(87, 87, 87, 0.2);
    box-shadow: 0px 0px 12px 1px rgba(87, 87, 87, 0.2);
  }
}
/*!
*
* IPython notebook
*
*/
/* CSS font colors for translated ANSI colors. */
.ansibold {
  font-weight: bold;
}
/* use dark versions for foreground, to improve visibility */
.ansiblack {
  color: black;
}
.ansired {
  color: darkred;
}
.ansigreen {
  color: darkgreen;
}
.ansiyellow {
  color: #c4a000;
}
.ansiblue {
  color: darkblue;
}
.ansipurple {
  color: darkviolet;
}
.ansicyan {
  color: steelblue;
}
.ansigray {
  color: gray;
}
/* and light for background, for the same reason */
.ansibgblack {
  background-color: black;
}
.ansibgred {
  background-color: red;
}
.ansibggreen {
  background-color: green;
}
.ansibgyellow {
  background-color: yellow;
}
.ansibgblue {
  background-color: blue;
}
.ansibgpurple {
  background-color: magenta;
}
.ansibgcyan {
  background-color: cyan;
}
.ansibggray {
  background-color: gray;
}
div.cell {
  /* Old browsers */
  display: -webkit-box;
  -webkit-box-orient: vertical;
  -webkit-box-align: stretch;
  display: -moz-box;
  -moz-box-orient: vertical;
  -moz-box-align: stretch;
  display: box;
  box-orient: vertical;
  box-align: stretch;
  /* Modern browsers */
  display: flex;
  flex-direction: column;
  align-items: stretch;
  border-radius: 2px;
  box-sizing: border-box;
  -moz-box-sizing: border-box;
  -webkit-box-sizing: border-box;
  border-width: 1px;
  border-style: solid;
  border-color: transparent;
  width: 100%;
  padding: 5px;
  /* This acts as a spacer between cells, that is outside the border */
  margin: 0px;
  outline: none;
  border-left-width: 1px;
  padding-left: 5px;
  background: linear-gradient(to right, transparent -40px, transparent 1px, transparent 1px, transparent 100%);
}
div.cell.jupyter-soft-selected {
  border-left-color: #90CAF9;
  border-left-color: #E3F2FD;
  border-left-width: 1px;
  padding-left: 5px;
  border-right-color: #E3F2FD;
  border-right-width: 1px;
  background: #E3F2FD;
}
@media print {
  div.cell.jupyter-soft-selected {
    border-color: transparent;
  }
}
div.cell.selected {
  border-color: #ababab;
  border-left-width: 0px;
  padding-left: 6px;
  background: linear-gradient(to right, #42A5F5 -40px, #42A5F5 5px, transparent 5px, transparent 100%);
}
@media print {
  div.cell.selected {
    border-color: transparent;
  }
}
div.cell.selected.jupyter-soft-selected {
  border-left-width: 0;
  padding-left: 6px;
  background: linear-gradient(to right, #42A5F5 -40px, #42A5F5 7px, #E3F2FD 7px, #E3F2FD 100%);
}
.edit_mode div.cell.selected {
  border-color: #66BB6A;
  border-left-width: 0px;
  padding-left: 6px;
  background: linear-gradient(to right, #66BB6A -40px, #66BB6A 5px, transparent 5px, transparent 100%);
}
@media print {
  .edit_mode div.cell.selected {
    border-color: transparent;
  }
}
.prompt {
  /* This needs to be wide enough for 3 digit prompt numbers: In[100]: */
  min-width: 14ex;
  /* This padding is tuned to match the padding on the CodeMirror editor. */
  padding: 0.4em;
  margin: 0px;
  font-family: monospace;
  text-align: right;
  /* This has to match that of the the CodeMirror class line-height below */
  line-height: 1.21429em;
  /* Don't highlight prompt number selection */
  -webkit-touch-callout: none;
  -webkit-user-select: none;
  -khtml-user-select: none;
  -moz-user-select: none;
  -ms-user-select: none;
  user-select: none;
  /* Use default cursor */
  cursor: default;
}
@media (max-width: 540px) {
  .prompt {
    text-align: left;
  }
}
div.inner_cell {
  min-width: 0;
  /* Old browsers */
  display: -webkit-box;
  -webkit-box-orient: vertical;
  -webkit-box-align: stretch;
  display: -moz-box;
  -moz-box-orient: vertical;
  -moz-box-align: stretch;
  display: box;
  box-orient: vertical;
  box-align: stretch;
  /* Modern browsers */
  display: flex;
  flex-direction: column;
  align-items: stretch;
  /* Old browsers */
  -webkit-box-flex: 1;
  -moz-box-flex: 1;
  box-flex: 1;
  /* Modern browsers */
  flex: 1;
}
/* input_area and input_prompt must match in top border and margin for alignment */
div.input_area {
  border: 1px solid #cfcfcf;
  border-radius: 2px;
  background: #f7f7f7;
  line-height: 1.21429em;
}
/* This is needed so that empty prompt areas can collapse to zero height when there
   is no content in the output_subarea and the prompt. The main purpose of this is
   to make sure that empty JavaScript output_subareas have no height. */
div.prompt:empty {
  padding-top: 0;
  padding-bottom: 0;
}
div.unrecognized_cell {
  padding: 5px 5px 5px 0px;
  /* Old browsers */
  display: -webkit-box;
  -webkit-box-orient: horizontal;
  -webkit-box-align: stretch;
  display: -moz-box;
  -moz-box-orient: horizontal;
  -moz-box-align: stretch;
  display: box;
  box-orient: horizontal;
  box-align: stretch;
  /* Modern browsers */
  display: flex;
  flex-direction: row;
  align-items: stretch;
}
div.unrecognized_cell .inner_cell {
  border-radius: 2px;
  padding: 5px;
  font-weight: bold;
  color: red;
  border: 1px solid #cfcfcf;
  background: #eaeaea;
}
div.unrecognized_cell .inner_cell a {
  color: inherit;
  text-decoration: none;
}
div.unrecognized_cell .inner_cell a:hover {
  color: inherit;
  text-decoration: none;
}
@media (max-width: 540px) {
  div.unrecognized_cell > div.prompt {
    display: none;
  }
}
div.code_cell {
  /* avoid page breaking on code cells when printing */
}
@media print {
  div.code_cell {
    page-break-inside: avoid;
  }
}
/* any special styling for code cells that are currently running goes here */
div.input {
  page-break-inside: avoid;
  /* Old browsers */
  display: -webkit-box;
  -webkit-box-orient: horizontal;
  -webkit-box-align: stretch;
  display: -moz-box;
  -moz-box-orient: horizontal;
  -moz-box-align: stretch;
  display: box;
  box-orient: horizontal;
  box-align: stretch;
  /* Modern browsers */
  display: flex;
  flex-direction: row;
  align-items: stretch;
}
@media (max-width: 540px) {
  div.input {
    /* Old browsers */
    display: -webkit-box;
    -webkit-box-orient: vertical;
    -webkit-box-align: stretch;
    display: -moz-box;
    -moz-box-orient: vertical;
    -moz-box-align: stretch;
    display: box;
    box-orient: vertical;
    box-align: stretch;
    /* Modern browsers */
    display: flex;
    flex-direction: column;
    align-items: stretch;
  }
}
/* input_area and input_prompt must match in top border and margin for alignment */
div.input_prompt {
  color: #303F9F;
  border-top: 1px solid transparent;
}
div.input_area > div.highlight {
  margin: 0.4em;
  border: none;
  padding: 0px;
  background-color: transparent;
}
div.input_area > div.highlight > pre {
  margin: 0px;
  border: none;
  padding: 0px;
  background-color: transparent;
}
/* The following gets added to the <head> if it is detected that the user has a
 * monospace font with inconsistent normal/bold/italic height.  See
 * notebookmain.js.  Such fonts will have keywords vertically offset with
 * respect to the rest of the text.  The user should select a better font.
 * See: https://github.com/ipython/ipython/issues/1503
 *
 * .CodeMirror span {
 *      vertical-align: bottom;
 * }
 */
.CodeMirror {
  line-height: 1.21429em;
  /* Changed from 1em to our global default */
  font-size: 14px;
  height: auto;
  /* Changed to auto to autogrow */
  background: none;
  /* Changed from white to allow our bg to show through */
}
.CodeMirror-scroll {
  /*  The CodeMirror docs are a bit fuzzy on if overflow-y should be hidden or visible.*/
  /*  We have found that if it is visible, vertical scrollbars appear with font size changes.*/
  overflow-y: hidden;
  overflow-x: auto;
}
.CodeMirror-lines {
  /* In CM2, this used to be 0.4em, but in CM3 it went to 4px. We need the em value because */
  /* we have set a different line-height and want this to scale with that. */
  padding: 0.4em;
}
.CodeMirror-linenumber {
  padding: 0 8px 0 4px;
}
.CodeMirror-gutters {
  border-bottom-left-radius: 2px;
  border-top-left-radius: 2px;
}
.CodeMirror pre {
  /* In CM3 this went to 4px from 0 in CM2. We need the 0 value because of how we size */
  /* .CodeMirror-lines */
  padding: 0;
  border: 0;
  border-radius: 0;
}
/*

Original style from softwaremaniacs.org (c) Ivan Sagalaev <Maniac@SoftwareManiacs.Org>
Adapted from GitHub theme

*/
.highlight-base {
  color: #000;
}
.highlight-variable {
  color: #000;
}
.highlight-variable-2 {
  color: #1a1a1a;
}
.highlight-variable-3 {
  color: #333333;
}
.highlight-string {
  color: #BA2121;
}
.highlight-comment {
  color: #408080;
  font-style: italic;
}
.highlight-number {
  color: #080;
}
.highlight-atom {
  color: #88F;
}
.highlight-keyword {
  color: #008000;
  font-weight: bold;
}
.highlight-builtin {
  color: #008000;
}
.highlight-error {
  color: #f00;
}
.highlight-operator {
  color: #AA22FF;
  font-weight: bold;
}
.highlight-meta {
  color: #AA22FF;
}
/* previously not defined, copying from default codemirror */
.highlight-def {
  color: #00f;
}
.highlight-string-2 {
  color: #f50;
}
.highlight-qualifier {
  color: #555;
}
.highlight-bracket {
  color: #997;
}
.highlight-tag {
  color: #170;
}
.highlight-attribute {
  color: #00c;
}
.highlight-header {
  color: blue;
}
.highlight-quote {
  color: #090;
}
.highlight-link {
  color: #00c;
}
/* apply the same style to codemirror */
.cm-s-ipython span.cm-keyword {
  color: #008000;
  font-weight: bold;
}
.cm-s-ipython span.cm-atom {
  color: #88F;
}
.cm-s-ipython span.cm-number {
  color: #080;
}
.cm-s-ipython span.cm-def {
  color: #00f;
}
.cm-s-ipython span.cm-variable {
  color: #000;
}
.cm-s-ipython span.cm-operator {
  color: #AA22FF;
  font-weight: bold;
}
.cm-s-ipython span.cm-variable-2 {
  color: #1a1a1a;
}
.cm-s-ipython span.cm-variable-3 {
  color: #333333;
}
.cm-s-ipython span.cm-comment {
  color: #408080;
  font-style: italic;
}
.cm-s-ipython span.cm-string {
  color: #BA2121;
}
.cm-s-ipython span.cm-string-2 {
  color: #f50;
}
.cm-s-ipython span.cm-meta {
  color: #AA22FF;
}
.cm-s-ipython span.cm-qualifier {
  color: #555;
}
.cm-s-ipython span.cm-builtin {
  color: #008000;
}
.cm-s-ipython span.cm-bracket {
  color: #997;
}
.cm-s-ipython span.cm-tag {
  color: #170;
}
.cm-s-ipython span.cm-attribute {
  color: #00c;
}
.cm-s-ipython span.cm-header {
  color: blue;
}
.cm-s-ipython span.cm-quote {
  color: #090;
}
.cm-s-ipython span.cm-link {
  color: #00c;
}
.cm-s-ipython span.cm-error {
  color: #f00;
}
.cm-s-ipython span.cm-tab {
  background: url(data:image/png;base64,iVBORw0KGgoAAAANSUhEUgAAADAAAAAMCAYAAAAkuj5RAAAAAXNSR0IArs4c6QAAAGFJREFUSMft1LsRQFAQheHPowAKoACx3IgEKtaEHujDjORSgWTH/ZOdnZOcM/sgk/kFFWY0qV8foQwS4MKBCS3qR6ixBJvElOobYAtivseIE120FaowJPN75GMu8j/LfMwNjh4HUpwg4LUAAAAASUVORK5CYII=);
  background-position: right;
  background-repeat: no-repeat;
}
div.output_wrapper {
  /* this position must be relative to enable descendents to be absolute within it */
  position: relative;
  /* Old browsers */
  display: -webkit-box;
  -webkit-box-orient: vertical;
  -webkit-box-align: stretch;
  display: -moz-box;
  -moz-box-orient: vertical;
  -moz-box-align: stretch;
  display: box;
  box-orient: vertical;
  box-align: stretch;
  /* Modern browsers */
  display: flex;
  flex-direction: column;
  align-items: stretch;
  z-index: 1;
}
/* class for the output area when it should be height-limited */
div.output_scroll {
  /* ideally, this would be max-height, but FF barfs all over that */
  height: 24em;
  /* FF needs this *and the wrapper* to specify full width, or it will shrinkwrap */
  width: 100%;
  overflow: auto;
  border-radius: 2px;
  -webkit-box-shadow: inset 0 2px 8px rgba(0, 0, 0, 0.8);
  box-shadow: inset 0 2px 8px rgba(0, 0, 0, 0.8);
  display: block;
}
/* output div while it is collapsed */
div.output_collapsed {
  margin: 0px;
  padding: 0px;
  /* Old browsers */
  display: -webkit-box;
  -webkit-box-orient: vertical;
  -webkit-box-align: stretch;
  display: -moz-box;
  -moz-box-orient: vertical;
  -moz-box-align: stretch;
  display: box;
  box-orient: vertical;
  box-align: stretch;
  /* Modern browsers */
  display: flex;
  flex-direction: column;
  align-items: stretch;
}
div.out_prompt_overlay {
  height: 100%;
  padding: 0px 0.4em;
  position: absolute;
  border-radius: 2px;
}
div.out_prompt_overlay:hover {
  /* use inner shadow to get border that is computed the same on WebKit/FF */
  -webkit-box-shadow: inset 0 0 1px #000;
  box-shadow: inset 0 0 1px #000;
  background: rgba(240, 240, 240, 0.5);
}
div.output_prompt {
  color: #D84315;
}
/* This class is the outer container of all output sections. */
div.output_area {
  padding: 0px;
  page-break-inside: avoid;
  /* Old browsers */
  display: -webkit-box;
  -webkit-box-orient: horizontal;
  -webkit-box-align: stretch;
  display: -moz-box;
  -moz-box-orient: horizontal;
  -moz-box-align: stretch;
  display: box;
  box-orient: horizontal;
  box-align: stretch;
  /* Modern browsers */
  display: flex;
  flex-direction: row;
  align-items: stretch;
}
div.output_area .MathJax_Display {
  text-align: left !important;
}
div.output_area .rendered_html table {
  margin-left: 0;
  margin-right: 0;
}
div.output_area .rendered_html img {
  margin-left: 0;
  margin-right: 0;
}
div.output_area img,
div.output_area svg {
  max-width: 100%;
  height: auto;
}
div.output_area img.unconfined,
div.output_area svg.unconfined {
  max-width: none;
}
/* This is needed to protect the pre formating from global settings such
   as that of bootstrap */
.output {
  /* Old browsers */
  display: -webkit-box;
  -webkit-box-orient: vertical;
  -webkit-box-align: stretch;
  display: -moz-box;
  -moz-box-orient: vertical;
  -moz-box-align: stretch;
  display: box;
  box-orient: vertical;
  box-align: stretch;
  /* Modern browsers */
  display: flex;
  flex-direction: column;
  align-items: stretch;
}
@media (max-width: 540px) {
  div.output_area {
    /* Old browsers */
    display: -webkit-box;
    -webkit-box-orient: vertical;
    -webkit-box-align: stretch;
    display: -moz-box;
    -moz-box-orient: vertical;
    -moz-box-align: stretch;
    display: box;
    box-orient: vertical;
    box-align: stretch;
    /* Modern browsers */
    display: flex;
    flex-direction: column;
    align-items: stretch;
  }
}
div.output_area pre {
  margin: 0;
  padding: 0;
  border: 0;
  vertical-align: baseline;
  color: black;
  background-color: transparent;
  border-radius: 0;
}
/* This class is for the output subarea inside the output_area and after
   the prompt div. */
div.output_subarea {
  overflow-x: auto;
  padding: 0.4em;
  /* Old browsers */
  -webkit-box-flex: 1;
  -moz-box-flex: 1;
  box-flex: 1;
  /* Modern browsers */
  flex: 1;
  max-width: calc(100% - 14ex);
}
div.output_scroll div.output_subarea {
  overflow-x: visible;
}
/* The rest of the output_* classes are for special styling of the different
   output types */
/* all text output has this class: */
div.output_text {
  text-align: left;
  color: #000;
  /* This has to match that of the the CodeMirror class line-height below */
  line-height: 1.21429em;
}
/* stdout/stderr are 'text' as well as 'stream', but execute_result/error are *not* streams */
div.output_stderr {
  background: #fdd;
  /* very light red background for stderr */
}
div.output_latex {
  text-align: left;
}
/* Empty output_javascript divs should have no height */
div.output_javascript:empty {
  padding: 0;
}
.js-error {
  color: darkred;
}
/* raw_input styles */
div.raw_input_container {
  line-height: 1.21429em;
  padding-top: 5px;
}
pre.raw_input_prompt {
  /* nothing needed here. */
}
input.raw_input {
  font-family: monospace;
  font-size: inherit;
  color: inherit;
  width: auto;
  /* make sure input baseline aligns with prompt */
  vertical-align: baseline;
  /* padding + margin = 0.5em between prompt and cursor */
  padding: 0em 0.25em;
  margin: 0em 0.25em;
}
input.raw_input:focus {
  box-shadow: none;
}
p.p-space {
  margin-bottom: 10px;
}
div.output_unrecognized {
  padding: 5px;
  font-weight: bold;
  color: red;
}
div.output_unrecognized a {
  color: inherit;
  text-decoration: none;
}
div.output_unrecognized a:hover {
  color: inherit;
  text-decoration: none;
}
.rendered_html {
  color: #000;
  /* any extras will just be numbers: */
}
.rendered_html em {
  font-style: italic;
}
.rendered_html strong {
  font-weight: bold;
}
.rendered_html u {
  text-decoration: underline;
}
.rendered_html :link {
  text-decoration: underline;
}
.rendered_html :visited {
  text-decoration: underline;
}
.rendered_html h1 {
  font-size: 185.7%;
  margin: 1.08em 0 0 0;
  font-weight: bold;
  line-height: 1.0;
}
.rendered_html h2 {
  font-size: 157.1%;
  margin: 1.27em 0 0 0;
  font-weight: bold;
  line-height: 1.0;
}
.rendered_html h3 {
  font-size: 128.6%;
  margin: 1.55em 0 0 0;
  font-weight: bold;
  line-height: 1.0;
}
.rendered_html h4 {
  font-size: 100%;
  margin: 2em 0 0 0;
  font-weight: bold;
  line-height: 1.0;
}
.rendered_html h5 {
  font-size: 100%;
  margin: 2em 0 0 0;
  font-weight: bold;
  line-height: 1.0;
  font-style: italic;
}
.rendered_html h6 {
  font-size: 100%;
  margin: 2em 0 0 0;
  font-weight: bold;
  line-height: 1.0;
  font-style: italic;
}
.rendered_html h1:first-child {
  margin-top: 0.538em;
}
.rendered_html h2:first-child {
  margin-top: 0.636em;
}
.rendered_html h3:first-child {
  margin-top: 0.777em;
}
.rendered_html h4:first-child {
  margin-top: 1em;
}
.rendered_html h5:first-child {
  margin-top: 1em;
}
.rendered_html h6:first-child {
  margin-top: 1em;
}
.rendered_html ul {
  list-style: disc;
  margin: 0em 2em;
  padding-left: 0px;
}
.rendered_html ul ul {
  list-style: square;
  margin: 0em 2em;
}
.rendered_html ul ul ul {
  list-style: circle;
  margin: 0em 2em;
}
.rendered_html ol {
  list-style: decimal;
  margin: 0em 2em;
  padding-left: 0px;
}
.rendered_html ol ol {
  list-style: upper-alpha;
  margin: 0em 2em;
}
.rendered_html ol ol ol {
  list-style: lower-alpha;
  margin: 0em 2em;
}
.rendered_html ol ol ol ol {
  list-style: lower-roman;
  margin: 0em 2em;
}
.rendered_html ol ol ol ol ol {
  list-style: decimal;
  margin: 0em 2em;
}
.rendered_html * + ul {
  margin-top: 1em;
}
.rendered_html * + ol {
  margin-top: 1em;
}
.rendered_html hr {
  color: black;
  background-color: black;
}
.rendered_html pre {
  margin: 1em 2em;
}
.rendered_html pre,
.rendered_html code {
  border: 0;
  background-color: #fff;
  color: #000;
  font-size: 100%;
  padding: 0px;
}
.rendered_html blockquote {
  margin: 1em 2em;
}
.rendered_html table {
  margin-left: auto;
  margin-right: auto;
  border: 1px solid black;
  border-collapse: collapse;
}
.rendered_html tr,
.rendered_html th,
.rendered_html td {
  border: 1px solid black;
  border-collapse: collapse;
  margin: 1em 2em;
}
.rendered_html td,
.rendered_html th {
  text-align: left;
  vertical-align: middle;
  padding: 4px;
}
.rendered_html th {
  font-weight: bold;
}
.rendered_html * + table {
  margin-top: 1em;
}
.rendered_html p {
  text-align: left;
}
.rendered_html * + p {
  margin-top: 1em;
}
.rendered_html img {
  display: block;
  margin-left: auto;
  margin-right: auto;
}
.rendered_html * + img {
  margin-top: 1em;
}
.rendered_html img,
.rendered_html svg {
  max-width: 100%;
  height: auto;
}
.rendered_html img.unconfined,
.rendered_html svg.unconfined {
  max-width: none;
}
div.text_cell {
  /* Old browsers */
  display: -webkit-box;
  -webkit-box-orient: horizontal;
  -webkit-box-align: stretch;
  display: -moz-box;
  -moz-box-orient: horizontal;
  -moz-box-align: stretch;
  display: box;
  box-orient: horizontal;
  box-align: stretch;
  /* Modern browsers */
  display: flex;
  flex-direction: row;
  align-items: stretch;
}
@media (max-width: 540px) {
  div.text_cell > div.prompt {
    display: none;
  }
}
div.text_cell_render {
  /*font-family: "Helvetica Neue", Arial, Helvetica, Geneva, sans-serif;*/
  outline: none;
  resize: none;
  width: inherit;
  border-style: none;
  padding: 0.5em 0.5em 0.5em 0.4em;
  color: #000;
  box-sizing: border-box;
  -moz-box-sizing: border-box;
  -webkit-box-sizing: border-box;
}
a.anchor-link:link {
  text-decoration: none;
  padding: 0px 20px;
  visibility: hidden;
}
h1:hover .anchor-link,
h2:hover .anchor-link,
h3:hover .anchor-link,
h4:hover .anchor-link,
h5:hover .anchor-link,
h6:hover .anchor-link {
  visibility: visible;
}
.text_cell.rendered .input_area {
  display: none;
}
.text_cell.rendered .rendered_html {
  overflow-x: auto;
  overflow-y: hidden;
}
.text_cell.unrendered .text_cell_render {
  display: none;
}
.cm-header-1,
.cm-header-2,
.cm-header-3,
.cm-header-4,
.cm-header-5,
.cm-header-6 {
  font-weight: bold;
  font-family: "Helvetica Neue", Helvetica, Arial, sans-serif;
}
.cm-header-1 {
  font-size: 185.7%;
}
.cm-header-2 {
  font-size: 157.1%;
}
.cm-header-3 {
  font-size: 128.6%;
}
.cm-header-4 {
  font-size: 110%;
}
.cm-header-5 {
  font-size: 100%;
  font-style: italic;
}
.cm-header-6 {
  font-size: 100%;
  font-style: italic;
}
/*!
*
* IPython notebook webapp
*
*/
@media (max-width: 767px) {
  .notebook_app {
    padding-left: 0px;
    padding-right: 0px;
  }
}
#ipython-main-app {
  box-sizing: border-box;
  -moz-box-sizing: border-box;
  -webkit-box-sizing: border-box;
  height: 100%;
}
div#notebook_panel {
  margin: 0px;
  padding: 0px;
  box-sizing: border-box;
  -moz-box-sizing: border-box;
  -webkit-box-sizing: border-box;
  height: 100%;
}
div#notebook {
  font-size: 14px;
  line-height: 20px;
  overflow-y: hidden;
  overflow-x: auto;
  width: 100%;
  /* This spaces the page away from the edge of the notebook area */
  padding-top: 20px;
  margin: 0px;
  outline: none;
  box-sizing: border-box;
  -moz-box-sizing: border-box;
  -webkit-box-sizing: border-box;
  min-height: 100%;
}
@media not print {
  #notebook-container {
    padding: 15px;
    background-color: #fff;
    min-height: 0;
    -webkit-box-shadow: 0px 0px 12px 1px rgba(87, 87, 87, 0.2);
    box-shadow: 0px 0px 12px 1px rgba(87, 87, 87, 0.2);
  }
}
@media print {
  #notebook-container {
    width: 100%;
  }
}
div.ui-widget-content {
  border: 1px solid #ababab;
  outline: none;
}
pre.dialog {
  background-color: #f7f7f7;
  border: 1px solid #ddd;
  border-radius: 2px;
  padding: 0.4em;
  padding-left: 2em;
}
p.dialog {
  padding: 0.2em;
}
/* Word-wrap output correctly.  This is the CSS3 spelling, though Firefox seems
   to not honor it correctly.  Webkit browsers (Chrome, rekonq, Safari) do.
 */
pre,
code,
kbd,
samp {
  white-space: pre-wrap;
}
#fonttest {
  font-family: monospace;
}
p {
  margin-bottom: 0;
}
.end_space {
  min-height: 100px;
  transition: height .2s ease;
}
.notebook_app > #header {
  -webkit-box-shadow: 0px 0px 12px 1px rgba(87, 87, 87, 0.2);
  box-shadow: 0px 0px 12px 1px rgba(87, 87, 87, 0.2);
}
@media not print {
  .notebook_app {
    background-color: #EEE;
  }
}
kbd {
  border-style: solid;
  border-width: 1px;
  box-shadow: none;
  margin: 2px;
  padding-left: 2px;
  padding-right: 2px;
  padding-top: 1px;
  padding-bottom: 1px;
}
/* CSS for the cell toolbar */
.celltoolbar {
  border: thin solid #CFCFCF;
  border-bottom: none;
  background: #EEE;
  border-radius: 2px 2px 0px 0px;
  width: 100%;
  height: 29px;
  padding-right: 4px;
  /* Old browsers */
  display: -webkit-box;
  -webkit-box-orient: horizontal;
  -webkit-box-align: stretch;
  display: -moz-box;
  -moz-box-orient: horizontal;
  -moz-box-align: stretch;
  display: box;
  box-orient: horizontal;
  box-align: stretch;
  /* Modern browsers */
  display: flex;
  flex-direction: row;
  align-items: stretch;
  /* Old browsers */
  -webkit-box-pack: end;
  -moz-box-pack: end;
  box-pack: end;
  /* Modern browsers */
  justify-content: flex-end;
  display: -webkit-flex;
}
@media print {
  .celltoolbar {
    display: none;
  }
}
.ctb_hideshow {
  display: none;
  vertical-align: bottom;
}
/* ctb_show is added to the ctb_hideshow div to show the cell toolbar.
   Cell toolbars are only shown when the ctb_global_show class is also set.
*/
.ctb_global_show .ctb_show.ctb_hideshow {
  display: block;
}
.ctb_global_show .ctb_show + .input_area,
.ctb_global_show .ctb_show + div.text_cell_input,
.ctb_global_show .ctb_show ~ div.text_cell_render {
  border-top-right-radius: 0px;
  border-top-left-radius: 0px;
}
.ctb_global_show .ctb_show ~ div.text_cell_render {
  border: 1px solid #cfcfcf;
}
.celltoolbar {
  font-size: 87%;
  padding-top: 3px;
}
.celltoolbar select {
  display: block;
  width: 100%;
  height: 32px;
  padding: 6px 12px;
  font-size: 13px;
  line-height: 1.42857143;
  color: #555555;
  background-color: #fff;
  background-image: none;
  border: 1px solid #ccc;
  border-radius: 2px;
  -webkit-box-shadow: inset 0 1px 1px rgba(0, 0, 0, 0.075);
  box-shadow: inset 0 1px 1px rgba(0, 0, 0, 0.075);
  -webkit-transition: border-color ease-in-out .15s, box-shadow ease-in-out .15s;
  -o-transition: border-color ease-in-out .15s, box-shadow ease-in-out .15s;
  transition: border-color ease-in-out .15s, box-shadow ease-in-out .15s;
  height: 30px;
  padding: 5px 10px;
  font-size: 12px;
  line-height: 1.5;
  border-radius: 1px;
  width: inherit;
  font-size: inherit;
  height: 22px;
  padding: 0px;
  display: inline-block;
}
.celltoolbar select:focus {
  border-color: #66afe9;
  outline: 0;
  -webkit-box-shadow: inset 0 1px 1px rgba(0,0,0,.075), 0 0 8px rgba(102, 175, 233, 0.6);
  box-shadow: inset 0 1px 1px rgba(0,0,0,.075), 0 0 8px rgba(102, 175, 233, 0.6);
}
.celltoolbar select::-moz-placeholder {
  color: #999;
  opacity: 1;
}
.celltoolbar select:-ms-input-placeholder {
  color: #999;
}
.celltoolbar select::-webkit-input-placeholder {
  color: #999;
}
.celltoolbar select::-ms-expand {
  border: 0;
  background-color: transparent;
}
.celltoolbar select[disabled],
.celltoolbar select[readonly],
fieldset[disabled] .celltoolbar select {
  background-color: #eeeeee;
  opacity: 1;
}
.celltoolbar select[disabled],
fieldset[disabled] .celltoolbar select {
  cursor: not-allowed;
}
textarea.celltoolbar select {
  height: auto;
}
select.celltoolbar select {
  height: 30px;
  line-height: 30px;
}
textarea.celltoolbar select,
select[multiple].celltoolbar select {
  height: auto;
}
.celltoolbar label {
  margin-left: 5px;
  margin-right: 5px;
}
.completions {
  position: absolute;
  z-index: 110;
  overflow: hidden;
  border: 1px solid #ababab;
  border-radius: 2px;
  -webkit-box-shadow: 0px 6px 10px -1px #adadad;
  box-shadow: 0px 6px 10px -1px #adadad;
  line-height: 1;
}
.completions select {
  background: white;
  outline: none;
  border: none;
  padding: 0px;
  margin: 0px;
  overflow: auto;
  font-family: monospace;
  font-size: 110%;
  color: #000;
  width: auto;
}
.completions select option.context {
  color: #286090;
}
#kernel_logo_widget {
  float: right !important;
  float: right;
}
#kernel_logo_widget .current_kernel_logo {
  display: none;
  margin-top: -1px;
  margin-bottom: -1px;
  width: 32px;
  height: 32px;
}
#menubar {
  box-sizing: border-box;
  -moz-box-sizing: border-box;
  -webkit-box-sizing: border-box;
  margin-top: 1px;
}
#menubar .navbar {
  border-top: 1px;
  border-radius: 0px 0px 2px 2px;
  margin-bottom: 0px;
}
#menubar .navbar-toggle {
  float: left;
  padding-top: 7px;
  padding-bottom: 7px;
  border: none;
}
#menubar .navbar-collapse {
  clear: left;
}
.nav-wrapper {
  border-bottom: 1px solid #e7e7e7;
}
i.menu-icon {
  padding-top: 4px;
}
ul#help_menu li a {
  overflow: hidden;
  padding-right: 2.2em;
}
ul#help_menu li a i {
  margin-right: -1.2em;
}
.dropdown-submenu {
  position: relative;
}
.dropdown-submenu > .dropdown-menu {
  top: 0;
  left: 100%;
  margin-top: -6px;
  margin-left: -1px;
}
.dropdown-submenu:hover > .dropdown-menu {
  display: block;
}
.dropdown-submenu > a:after {
  display: inline-block;
  font: normal normal normal 14px/1 FontAwesome;
  font-size: inherit;
  text-rendering: auto;
  -webkit-font-smoothing: antialiased;
  -moz-osx-font-smoothing: grayscale;
  display: block;
  content: "\f0da";
  float: right;
  color: #333333;
  margin-top: 2px;
  margin-right: -10px;
}
.dropdown-submenu > a:after.pull-left {
  margin-right: .3em;
}
.dropdown-submenu > a:after.pull-right {
  margin-left: .3em;
}
.dropdown-submenu:hover > a:after {
  color: #262626;
}
.dropdown-submenu.pull-left {
  float: none;
}
.dropdown-submenu.pull-left > .dropdown-menu {
  left: -100%;
  margin-left: 10px;
}
#notification_area {
  float: right !important;
  float: right;
  z-index: 10;
}
.indicator_area {
  float: right !important;
  float: right;
  color: #777;
  margin-left: 5px;
  margin-right: 5px;
  width: 11px;
  z-index: 10;
  text-align: center;
  width: auto;
}
#kernel_indicator {
  float: right !important;
  float: right;
  color: #777;
  margin-left: 5px;
  margin-right: 5px;
  width: 11px;
  z-index: 10;
  text-align: center;
  width: auto;
  border-left: 1px solid;
}
#kernel_indicator .kernel_indicator_name {
  padding-left: 5px;
  padding-right: 5px;
}
#modal_indicator {
  float: right !important;
  float: right;
  color: #777;
  margin-left: 5px;
  margin-right: 5px;
  width: 11px;
  z-index: 10;
  text-align: center;
  width: auto;
}
#readonly-indicator {
  float: right !important;
  float: right;
  color: #777;
  margin-left: 5px;
  margin-right: 5px;
  width: 11px;
  z-index: 10;
  text-align: center;
  width: auto;
  margin-top: 2px;
  margin-bottom: 0px;
  margin-left: 0px;
  margin-right: 0px;
  display: none;
}
.modal_indicator:before {
  width: 1.28571429em;
  text-align: center;
}
.edit_mode .modal_indicator:before {
  display: inline-block;
  font: normal normal normal 14px/1 FontAwesome;
  font-size: inherit;
  text-rendering: auto;
  -webkit-font-smoothing: antialiased;
  -moz-osx-font-smoothing: grayscale;
  content: "\f040";
}
.edit_mode .modal_indicator:before.pull-left {
  margin-right: .3em;
}
.edit_mode .modal_indicator:before.pull-right {
  margin-left: .3em;
}
.command_mode .modal_indicator:before {
  display: inline-block;
  font: normal normal normal 14px/1 FontAwesome;
  font-size: inherit;
  text-rendering: auto;
  -webkit-font-smoothing: antialiased;
  -moz-osx-font-smoothing: grayscale;
  content: ' ';
}
.command_mode .modal_indicator:before.pull-left {
  margin-right: .3em;
}
.command_mode .modal_indicator:before.pull-right {
  margin-left: .3em;
}
.kernel_idle_icon:before {
  display: inline-block;
  font: normal normal normal 14px/1 FontAwesome;
  font-size: inherit;
  text-rendering: auto;
  -webkit-font-smoothing: antialiased;
  -moz-osx-font-smoothing: grayscale;
  content: "\f10c";
}
.kernel_idle_icon:before.pull-left {
  margin-right: .3em;
}
.kernel_idle_icon:before.pull-right {
  margin-left: .3em;
}
.kernel_busy_icon:before {
  display: inline-block;
  font: normal normal normal 14px/1 FontAwesome;
  font-size: inherit;
  text-rendering: auto;
  -webkit-font-smoothing: antialiased;
  -moz-osx-font-smoothing: grayscale;
  content: "\f111";
}
.kernel_busy_icon:before.pull-left {
  margin-right: .3em;
}
.kernel_busy_icon:before.pull-right {
  margin-left: .3em;
}
.kernel_dead_icon:before {
  display: inline-block;
  font: normal normal normal 14px/1 FontAwesome;
  font-size: inherit;
  text-rendering: auto;
  -webkit-font-smoothing: antialiased;
  -moz-osx-font-smoothing: grayscale;
  content: "\f1e2";
}
.kernel_dead_icon:before.pull-left {
  margin-right: .3em;
}
.kernel_dead_icon:before.pull-right {
  margin-left: .3em;
}
.kernel_disconnected_icon:before {
  display: inline-block;
  font: normal normal normal 14px/1 FontAwesome;
  font-size: inherit;
  text-rendering: auto;
  -webkit-font-smoothing: antialiased;
  -moz-osx-font-smoothing: grayscale;
  content: "\f127";
}
.kernel_disconnected_icon:before.pull-left {
  margin-right: .3em;
}
.kernel_disconnected_icon:before.pull-right {
  margin-left: .3em;
}
.notification_widget {
  color: #777;
  z-index: 10;
  background: rgba(240, 240, 240, 0.5);
  margin-right: 4px;
  color: #333;
  background-color: #fff;
  border-color: #ccc;
}
.notification_widget:focus,
.notification_widget.focus {
  color: #333;
  background-color: #e6e6e6;
  border-color: #8c8c8c;
}
.notification_widget:hover {
  color: #333;
  background-color: #e6e6e6;
  border-color: #adadad;
}
.notification_widget:active,
.notification_widget.active,
.open > .dropdown-toggle.notification_widget {
  color: #333;
  background-color: #e6e6e6;
  border-color: #adadad;
}
.notification_widget:active:hover,
.notification_widget.active:hover,
.open > .dropdown-toggle.notification_widget:hover,
.notification_widget:active:focus,
.notification_widget.active:focus,
.open > .dropdown-toggle.notification_widget:focus,
.notification_widget:active.focus,
.notification_widget.active.focus,
.open > .dropdown-toggle.notification_widget.focus {
  color: #333;
  background-color: #d4d4d4;
  border-color: #8c8c8c;
}
.notification_widget:active,
.notification_widget.active,
.open > .dropdown-toggle.notification_widget {
  background-image: none;
}
.notification_widget.disabled:hover,
.notification_widget[disabled]:hover,
fieldset[disabled] .notification_widget:hover,
.notification_widget.disabled:focus,
.notification_widget[disabled]:focus,
fieldset[disabled] .notification_widget:focus,
.notification_widget.disabled.focus,
.notification_widget[disabled].focus,
fieldset[disabled] .notification_widget.focus {
  background-color: #fff;
  border-color: #ccc;
}
.notification_widget .badge {
  color: #fff;
  background-color: #333;
}
.notification_widget.warning {
  color: #fff;
  background-color: #f0ad4e;
  border-color: #eea236;
}
.notification_widget.warning:focus,
.notification_widget.warning.focus {
  color: #fff;
  background-color: #ec971f;
  border-color: #985f0d;
}
.notification_widget.warning:hover {
  color: #fff;
  background-color: #ec971f;
  border-color: #d58512;
}
.notification_widget.warning:active,
.notification_widget.warning.active,
.open > .dropdown-toggle.notification_widget.warning {
  color: #fff;
  background-color: #ec971f;
  border-color: #d58512;
}
.notification_widget.warning:active:hover,
.notification_widget.warning.active:hover,
.open > .dropdown-toggle.notification_widget.warning:hover,
.notification_widget.warning:active:focus,
.notification_widget.warning.active:focus,
.open > .dropdown-toggle.notification_widget.warning:focus,
.notification_widget.warning:active.focus,
.notification_widget.warning.active.focus,
.open > .dropdown-toggle.notification_widget.warning.focus {
  color: #fff;
  background-color: #d58512;
  border-color: #985f0d;
}
.notification_widget.warning:active,
.notification_widget.warning.active,
.open > .dropdown-toggle.notification_widget.warning {
  background-image: none;
}
.notification_widget.warning.disabled:hover,
.notification_widget.warning[disabled]:hover,
fieldset[disabled] .notification_widget.warning:hover,
.notification_widget.warning.disabled:focus,
.notification_widget.warning[disabled]:focus,
fieldset[disabled] .notification_widget.warning:focus,
.notification_widget.warning.disabled.focus,
.notification_widget.warning[disabled].focus,
fieldset[disabled] .notification_widget.warning.focus {
  background-color: #f0ad4e;
  border-color: #eea236;
}
.notification_widget.warning .badge {
  color: #f0ad4e;
  background-color: #fff;
}
.notification_widget.success {
  color: #fff;
  background-color: #5cb85c;
  border-color: #4cae4c;
}
.notification_widget.success:focus,
.notification_widget.success.focus {
  color: #fff;
  background-color: #449d44;
  border-color: #255625;
}
.notification_widget.success:hover {
  color: #fff;
  background-color: #449d44;
  border-color: #398439;
}
.notification_widget.success:active,
.notification_widget.success.active,
.open > .dropdown-toggle.notification_widget.success {
  color: #fff;
  background-color: #449d44;
  border-color: #398439;
}
.notification_widget.success:active:hover,
.notification_widget.success.active:hover,
.open > .dropdown-toggle.notification_widget.success:hover,
.notification_widget.success:active:focus,
.notification_widget.success.active:focus,
.open > .dropdown-toggle.notification_widget.success:focus,
.notification_widget.success:active.focus,
.notification_widget.success.active.focus,
.open > .dropdown-toggle.notification_widget.success.focus {
  color: #fff;
  background-color: #398439;
  border-color: #255625;
}
.notification_widget.success:active,
.notification_widget.success.active,
.open > .dropdown-toggle.notification_widget.success {
  background-image: none;
}
.notification_widget.success.disabled:hover,
.notification_widget.success[disabled]:hover,
fieldset[disabled] .notification_widget.success:hover,
.notification_widget.success.disabled:focus,
.notification_widget.success[disabled]:focus,
fieldset[disabled] .notification_widget.success:focus,
.notification_widget.success.disabled.focus,
.notification_widget.success[disabled].focus,
fieldset[disabled] .notification_widget.success.focus {
  background-color: #5cb85c;
  border-color: #4cae4c;
}
.notification_widget.success .badge {
  color: #5cb85c;
  background-color: #fff;
}
.notification_widget.info {
  color: #fff;
  background-color: #5bc0de;
  border-color: #46b8da;
}
.notification_widget.info:focus,
.notification_widget.info.focus {
  color: #fff;
  background-color: #31b0d5;
  border-color: #1b6d85;
}
.notification_widget.info:hover {
  color: #fff;
  background-color: #31b0d5;
  border-color: #269abc;
}
.notification_widget.info:active,
.notification_widget.info.active,
.open > .dropdown-toggle.notification_widget.info {
  color: #fff;
  background-color: #31b0d5;
  border-color: #269abc;
}
.notification_widget.info:active:hover,
.notification_widget.info.active:hover,
.open > .dropdown-toggle.notification_widget.info:hover,
.notification_widget.info:active:focus,
.notification_widget.info.active:focus,
.open > .dropdown-toggle.notification_widget.info:focus,
.notification_widget.info:active.focus,
.notification_widget.info.active.focus,
.open > .dropdown-toggle.notification_widget.info.focus {
  color: #fff;
  background-color: #269abc;
  border-color: #1b6d85;
}
.notification_widget.info:active,
.notification_widget.info.active,
.open > .dropdown-toggle.notification_widget.info {
  background-image: none;
}
.notification_widget.info.disabled:hover,
.notification_widget.info[disabled]:hover,
fieldset[disabled] .notification_widget.info:hover,
.notification_widget.info.disabled:focus,
.notification_widget.info[disabled]:focus,
fieldset[disabled] .notification_widget.info:focus,
.notification_widget.info.disabled.focus,
.notification_widget.info[disabled].focus,
fieldset[disabled] .notification_widget.info.focus {
  background-color: #5bc0de;
  border-color: #46b8da;
}
.notification_widget.info .badge {
  color: #5bc0de;
  background-color: #fff;
}
.notification_widget.danger {
  color: #fff;
  background-color: #d9534f;
  border-color: #d43f3a;
}
.notification_widget.danger:focus,
.notification_widget.danger.focus {
  color: #fff;
  background-color: #c9302c;
  border-color: #761c19;
}
.notification_widget.danger:hover {
  color: #fff;
  background-color: #c9302c;
  border-color: #ac2925;
}
.notification_widget.danger:active,
.notification_widget.danger.active,
.open > .dropdown-toggle.notification_widget.danger {
  color: #fff;
  background-color: #c9302c;
  border-color: #ac2925;
}
.notification_widget.danger:active:hover,
.notification_widget.danger.active:hover,
.open > .dropdown-toggle.notification_widget.danger:hover,
.notification_widget.danger:active:focus,
.notification_widget.danger.active:focus,
.open > .dropdown-toggle.notification_widget.danger:focus,
.notification_widget.danger:active.focus,
.notification_widget.danger.active.focus,
.open > .dropdown-toggle.notification_widget.danger.focus {
  color: #fff;
  background-color: #ac2925;
  border-color: #761c19;
}
.notification_widget.danger:active,
.notification_widget.danger.active,
.open > .dropdown-toggle.notification_widget.danger {
  background-image: none;
}
.notification_widget.danger.disabled:hover,
.notification_widget.danger[disabled]:hover,
fieldset[disabled] .notification_widget.danger:hover,
.notification_widget.danger.disabled:focus,
.notification_widget.danger[disabled]:focus,
fieldset[disabled] .notification_widget.danger:focus,
.notification_widget.danger.disabled.focus,
.notification_widget.danger[disabled].focus,
fieldset[disabled] .notification_widget.danger.focus {
  background-color: #d9534f;
  border-color: #d43f3a;
}
.notification_widget.danger .badge {
  color: #d9534f;
  background-color: #fff;
}
div#pager {
  background-color: #fff;
  font-size: 14px;
  line-height: 20px;
  overflow: hidden;
  display: none;
  position: fixed;
  bottom: 0px;
  width: 100%;
  max-height: 50%;
  padding-top: 8px;
  -webkit-box-shadow: 0px 0px 12px 1px rgba(87, 87, 87, 0.2);
  box-shadow: 0px 0px 12px 1px rgba(87, 87, 87, 0.2);
  /* Display over codemirror */
  z-index: 100;
  /* Hack which prevents jquery ui resizable from changing top. */
  top: auto !important;
}
div#pager pre {
  line-height: 1.21429em;
  color: #000;
  background-color: #f7f7f7;
  padding: 0.4em;
}
div#pager #pager-button-area {
  position: absolute;
  top: 8px;
  right: 20px;
}
div#pager #pager-contents {
  position: relative;
  overflow: auto;
  width: 100%;
  height: 100%;
}
div#pager #pager-contents #pager-container {
  position: relative;
  padding: 15px 0px;
  box-sizing: border-box;
  -moz-box-sizing: border-box;
  -webkit-box-sizing: border-box;
}
div#pager .ui-resizable-handle {
  top: 0px;
  height: 8px;
  background: #f7f7f7;
  border-top: 1px solid #cfcfcf;
  border-bottom: 1px solid #cfcfcf;
  /* This injects handle bars (a short, wide = symbol) for 
        the resize handle. */
}
div#pager .ui-resizable-handle::after {
  content: '';
  top: 2px;
  left: 50%;
  height: 3px;
  width: 30px;
  margin-left: -15px;
  position: absolute;
  border-top: 1px solid #cfcfcf;
}
.quickhelp {
  /* Old browsers */
  display: -webkit-box;
  -webkit-box-orient: horizontal;
  -webkit-box-align: stretch;
  display: -moz-box;
  -moz-box-orient: horizontal;
  -moz-box-align: stretch;
  display: box;
  box-orient: horizontal;
  box-align: stretch;
  /* Modern browsers */
  display: flex;
  flex-direction: row;
  align-items: stretch;
  line-height: 1.8em;
}
.shortcut_key {
  display: inline-block;
  width: 21ex;
  text-align: right;
  font-family: monospace;
}
.shortcut_descr {
  display: inline-block;
  /* Old browsers */
  -webkit-box-flex: 1;
  -moz-box-flex: 1;
  box-flex: 1;
  /* Modern browsers */
  flex: 1;
}
span.save_widget {
  margin-top: 6px;
}
span.save_widget span.filename {
  height: 1em;
  line-height: 1em;
  padding: 3px;
  margin-left: 16px;
  border: none;
  font-size: 146.5%;
  border-radius: 2px;
}
span.save_widget span.filename:hover {
  background-color: #e6e6e6;
}
span.checkpoint_status,
span.autosave_status {
  font-size: small;
}
@media (max-width: 767px) {
  span.save_widget {
    font-size: small;
  }
  span.checkpoint_status,
  span.autosave_status {
    display: none;
  }
}
@media (min-width: 768px) and (max-width: 991px) {
  span.checkpoint_status {
    display: none;
  }
  span.autosave_status {
    font-size: x-small;
  }
}
.toolbar {
  padding: 0px;
  margin-left: -5px;
  margin-top: 2px;
  margin-bottom: 5px;
  box-sizing: border-box;
  -moz-box-sizing: border-box;
  -webkit-box-sizing: border-box;
}
.toolbar select,
.toolbar label {
  width: auto;
  vertical-align: middle;
  margin-right: 2px;
  margin-bottom: 0px;
  display: inline;
  font-size: 92%;
  margin-left: 0.3em;
  margin-right: 0.3em;
  padding: 0px;
  padding-top: 3px;
}
.toolbar .btn {
  padding: 2px 8px;
}
.toolbar .btn-group {
  margin-top: 0px;
  margin-left: 5px;
}
#maintoolbar {
  margin-bottom: -3px;
  margin-top: -8px;
  border: 0px;
  min-height: 27px;
  margin-left: 0px;
  padding-top: 11px;
  padding-bottom: 3px;
}
#maintoolbar .navbar-text {
  float: none;
  vertical-align: middle;
  text-align: right;
  margin-left: 5px;
  margin-right: 0px;
  margin-top: 0px;
}
.select-xs {
  height: 24px;
}
.pulse,
.dropdown-menu > li > a.pulse,
li.pulse > a.dropdown-toggle,
li.pulse.open > a.dropdown-toggle {
  background-color: #F37626;
  color: white;
}
/**
 * Primary styles
 *
 * Author: Jupyter Development Team
 */
/** WARNING IF YOU ARE EDITTING THIS FILE, if this is a .css file, It has a lot
 * of chance of beeing generated from the ../less/[samename].less file, you can
 * try to get back the less file by reverting somme commit in history
 **/
/*
 * We'll try to get something pretty, so we
 * have some strange css to have the scroll bar on
 * the left with fix button on the top right of the tooltip
 */
@-moz-keyframes fadeOut {
  from {
    opacity: 1;
  }
  to {
    opacity: 0;
  }
}
@-webkit-keyframes fadeOut {
  from {
    opacity: 1;
  }
  to {
    opacity: 0;
  }
}
@-moz-keyframes fadeIn {
  from {
    opacity: 0;
  }
  to {
    opacity: 1;
  }
}
@-webkit-keyframes fadeIn {
  from {
    opacity: 0;
  }
  to {
    opacity: 1;
  }
}
/*properties of tooltip after "expand"*/
.bigtooltip {
  overflow: auto;
  height: 200px;
  -webkit-transition-property: height;
  -webkit-transition-duration: 500ms;
  -moz-transition-property: height;
  -moz-transition-duration: 500ms;
  transition-property: height;
  transition-duration: 500ms;
}
/*properties of tooltip before "expand"*/
.smalltooltip {
  -webkit-transition-property: height;
  -webkit-transition-duration: 500ms;
  -moz-transition-property: height;
  -moz-transition-duration: 500ms;
  transition-property: height;
  transition-duration: 500ms;
  text-overflow: ellipsis;
  overflow: hidden;
  height: 80px;
}
.tooltipbuttons {
  position: absolute;
  padding-right: 15px;
  top: 0px;
  right: 0px;
}
.tooltiptext {
  /*avoid the button to overlap on some docstring*/
  padding-right: 30px;
}
.ipython_tooltip {
  max-width: 700px;
  /*fade-in animation when inserted*/
  -webkit-animation: fadeOut 400ms;
  -moz-animation: fadeOut 400ms;
  animation: fadeOut 400ms;
  -webkit-animation: fadeIn 400ms;
  -moz-animation: fadeIn 400ms;
  animation: fadeIn 400ms;
  vertical-align: middle;
  background-color: #f7f7f7;
  overflow: visible;
  border: #ababab 1px solid;
  outline: none;
  padding: 3px;
  margin: 0px;
  padding-left: 7px;
  font-family: monospace;
  min-height: 50px;
  -moz-box-shadow: 0px 6px 10px -1px #adadad;
  -webkit-box-shadow: 0px 6px 10px -1px #adadad;
  box-shadow: 0px 6px 10px -1px #adadad;
  border-radius: 2px;
  position: absolute;
  z-index: 1000;
}
.ipython_tooltip a {
  float: right;
}
.ipython_tooltip .tooltiptext pre {
  border: 0;
  border-radius: 0;
  font-size: 100%;
  background-color: #f7f7f7;
}
.pretooltiparrow {
  left: 0px;
  margin: 0px;
  top: -16px;
  width: 40px;
  height: 16px;
  overflow: hidden;
  position: absolute;
}
.pretooltiparrow:before {
  background-color: #f7f7f7;
  border: 1px #ababab solid;
  z-index: 11;
  content: "";
  position: absolute;
  left: 15px;
  top: 10px;
  width: 25px;
  height: 25px;
  -webkit-transform: rotate(45deg);
  -moz-transform: rotate(45deg);
  -ms-transform: rotate(45deg);
  -o-transform: rotate(45deg);
}
ul.typeahead-list i {
  margin-left: -10px;
  width: 18px;
}
ul.typeahead-list {
  max-height: 80vh;
  overflow: auto;
}
ul.typeahead-list > li > a {
  /** Firefox bug **/
  /* see https://github.com/jupyter/notebook/issues/559 */
  white-space: normal;
}
.cmd-palette .modal-body {
  padding: 7px;
}
.cmd-palette form {
  background: white;
}
.cmd-palette input {
  outline: none;
}
.no-shortcut {
  display: none;
}
.command-shortcut:before {
  content: "(command)";
  padding-right: 3px;
  color: #777777;
}
.edit-shortcut:before {
  content: "(edit)";
  padding-right: 3px;
  color: #777777;
}
#find-and-replace #replace-preview .match,
#find-and-replace #replace-preview .insert {
  background-color: #BBDEFB;
  border-color: #90CAF9;
  border-style: solid;
  border-width: 1px;
  border-radius: 0px;
}
#find-and-replace #replace-preview .replace .match {
  background-color: #FFCDD2;
  border-color: #EF9A9A;
  border-radius: 0px;
}
#find-and-replace #replace-preview .replace .insert {
  background-color: #C8E6C9;
  border-color: #A5D6A7;
  border-radius: 0px;
}
#find-and-replace #replace-preview {
  max-height: 60vh;
  overflow: auto;
}
#find-and-replace #replace-preview pre {
  padding: 5px 10px;
}
.terminal-app {
  background: #EEE;
}
.terminal-app #header {
  background: #fff;
  -webkit-box-shadow: 0px 0px 12px 1px rgba(87, 87, 87, 0.2);
  box-shadow: 0px 0px 12px 1px rgba(87, 87, 87, 0.2);
}
.terminal-app .terminal {
  width: 100%;
  float: left;
  font-family: monospace;
  color: white;
  background: black;
  padding: 0.4em;
  border-radius: 2px;
  -webkit-box-shadow: 0px 0px 12px 1px rgba(87, 87, 87, 0.4);
  box-shadow: 0px 0px 12px 1px rgba(87, 87, 87, 0.4);
}
.terminal-app .terminal,
.terminal-app .terminal dummy-screen {
  line-height: 1em;
  font-size: 14px;
}
.terminal-app .terminal .xterm-rows {
  padding: 10px;
}
.terminal-app .terminal-cursor {
  color: black;
  background: white;
}
.terminal-app #terminado-container {
  margin-top: 20px;
}
/*# sourceMappingURL=style.min.css.map */
    </style>
<style type="text/css">
    .highlight .hll { background-color: #ffffcc }
.highlight  { background: #f8f8f8; }
.highlight .c { color: #408080; font-style: italic } /* Comment */
.highlight .err { border: 1px solid #FF0000 } /* Error */
.highlight .k { color: #008000; font-weight: bold } /* Keyword */
.highlight .o { color: #666666 } /* Operator */
.highlight .ch { color: #408080; font-style: italic } /* Comment.Hashbang */
.highlight .cm { color: #408080; font-style: italic } /* Comment.Multiline */
.highlight .cp { color: #BC7A00 } /* Comment.Preproc */
.highlight .cpf { color: #408080; font-style: italic } /* Comment.PreprocFile */
.highlight .c1 { color: #408080; font-style: italic } /* Comment.Single */
.highlight .cs { color: #408080; font-style: italic } /* Comment.Special */
.highlight .gd { color: #A00000 } /* Generic.Deleted */
.highlight .ge { font-style: italic } /* Generic.Emph */
.highlight .gr { color: #FF0000 } /* Generic.Error */
.highlight .gh { color: #000080; font-weight: bold } /* Generic.Heading */
.highlight .gi { color: #00A000 } /* Generic.Inserted */
.highlight .go { color: #888888 } /* Generic.Output */
.highlight .gp { color: #000080; font-weight: bold } /* Generic.Prompt */
.highlight .gs { font-weight: bold } /* Generic.Strong */
.highlight .gu { color: #800080; font-weight: bold } /* Generic.Subheading */
.highlight .gt { color: #0044DD } /* Generic.Traceback */
.highlight .kc { color: #008000; font-weight: bold } /* Keyword.Constant */
.highlight .kd { color: #008000; font-weight: bold } /* Keyword.Declaration */
.highlight .kn { color: #008000; font-weight: bold } /* Keyword.Namespace */
.highlight .kp { color: #008000 } /* Keyword.Pseudo */
.highlight .kr { color: #008000; font-weight: bold } /* Keyword.Reserved */
.highlight .kt { color: #B00040 } /* Keyword.Type */
.highlight .m { color: #666666 } /* Literal.Number */
.highlight .s { color: #BA2121 } /* Literal.String */
.highlight .na { color: #7D9029 } /* Name.Attribute */
.highlight .nb { color: #008000 } /* Name.Builtin */
.highlight .nc { color: #0000FF; font-weight: bold } /* Name.Class */
.highlight .no { color: #880000 } /* Name.Constant */
.highlight .nd { color: #AA22FF } /* Name.Decorator */
.highlight .ni { color: #999999; font-weight: bold } /* Name.Entity */
.highlight .ne { color: #D2413A; font-weight: bold } /* Name.Exception */
.highlight .nf { color: #0000FF } /* Name.Function */
.highlight .nl { color: #A0A000 } /* Name.Label */
.highlight .nn { color: #0000FF; font-weight: bold } /* Name.Namespace */
.highlight .nt { color: #008000; font-weight: bold } /* Name.Tag */
.highlight .nv { color: #19177C } /* Name.Variable */
.highlight .ow { color: #AA22FF; font-weight: bold } /* Operator.Word */
.highlight .w { color: #bbbbbb } /* Text.Whitespace */
.highlight .mb { color: #666666 } /* Literal.Number.Bin */
.highlight .mf { color: #666666 } /* Literal.Number.Float */
.highlight .mh { color: #666666 } /* Literal.Number.Hex */
.highlight .mi { color: #666666 } /* Literal.Number.Integer */
.highlight .mo { color: #666666 } /* Literal.Number.Oct */
.highlight .sa { color: #BA2121 } /* Literal.String.Affix */
.highlight .sb { color: #BA2121 } /* Literal.String.Backtick */
.highlight .sc { color: #BA2121 } /* Literal.String.Char */
.highlight .dl { color: #BA2121 } /* Literal.String.Delimiter */
.highlight .sd { color: #BA2121; font-style: italic } /* Literal.String.Doc */
.highlight .s2 { color: #BA2121 } /* Literal.String.Double */
.highlight .se { color: #BB6622; font-weight: bold } /* Literal.String.Escape */
.highlight .sh { color: #BA2121 } /* Literal.String.Heredoc */
.highlight .si { color: #BB6688; font-weight: bold } /* Literal.String.Interpol */
.highlight .sx { color: #008000 } /* Literal.String.Other */
.highlight .sr { color: #BB6688 } /* Literal.String.Regex */
.highlight .s1 { color: #BA2121 } /* Literal.String.Single */
.highlight .ss { color: #19177C } /* Literal.String.Symbol */
.highlight .bp { color: #008000 } /* Name.Builtin.Pseudo */
.highlight .fm { color: #0000FF } /* Name.Function.Magic */
.highlight .vc { color: #19177C } /* Name.Variable.Class */
.highlight .vg { color: #19177C } /* Name.Variable.Global */
.highlight .vi { color: #19177C } /* Name.Variable.Instance */
.highlight .vm { color: #19177C } /* Name.Variable.Magic */
.highlight .il { color: #666666 } /* Literal.Number.Integer.Long */
    </style>
<style type="text/css">
    
/* Temporary definitions which will become obsolete with Notebook release 5.0 */
.ansi-black-fg { color: #3E424D; }
.ansi-black-bg { background-color: #3E424D; }
.ansi-black-intense-fg { color: #282C36; }
.ansi-black-intense-bg { background-color: #282C36; }
.ansi-red-fg { color: #E75C58; }
.ansi-red-bg { background-color: #E75C58; }
.ansi-red-intense-fg { color: #B22B31; }
.ansi-red-intense-bg { background-color: #B22B31; }
.ansi-green-fg { color: #00A250; }
.ansi-green-bg { background-color: #00A250; }
.ansi-green-intense-fg { color: #007427; }
.ansi-green-intense-bg { background-color: #007427; }
.ansi-yellow-fg { color: #DDB62B; }
.ansi-yellow-bg { background-color: #DDB62B; }
.ansi-yellow-intense-fg { color: #B27D12; }
.ansi-yellow-intense-bg { background-color: #B27D12; }
.ansi-blue-fg { color: #208FFB; }
.ansi-blue-bg { background-color: #208FFB; }
.ansi-blue-intense-fg { color: #0065CA; }
.ansi-blue-intense-bg { background-color: #0065CA; }
.ansi-magenta-fg { color: #D160C4; }
.ansi-magenta-bg { background-color: #D160C4; }
.ansi-magenta-intense-fg { color: #A03196; }
.ansi-magenta-intense-bg { background-color: #A03196; }
.ansi-cyan-fg { color: #60C6C8; }
.ansi-cyan-bg { background-color: #60C6C8; }
.ansi-cyan-intense-fg { color: #258F8F; }
.ansi-cyan-intense-bg { background-color: #258F8F; }
.ansi-white-fg { color: #C5C1B4; }
.ansi-white-bg { background-color: #C5C1B4; }
.ansi-white-intense-fg { color: #A1A6B2; }
.ansi-white-intense-bg { background-color: #A1A6B2; }

.ansi-bold { font-weight: bold; }

    </style>


<style type="text/css">
/* Overrides of notebook CSS for static HTML export */
body {
  overflow: visible;
  padding: 8px;
}

div#notebook {
  overflow: visible;
  border-top: none;
}@media print {
  div.cell {
    display: block;
    page-break-inside: avoid;
  } 
  div.output_wrapper { 
    display: block;
    page-break-inside: avoid; 
  }
  div.output { 
    display: block;
    page-break-inside: avoid; 
  }
}
</style>

<!-- Custom stylesheet, it must be in the same directory as the html file -->
<link rel="stylesheet" href="custom.css">

<!-- Loading mathjax macro -->
<!-- Load mathjax -->
    <script src="https://cdnjs.cloudflare.com/ajax/libs/mathjax/2.7.1/MathJax.js?config=TeX-AMS_HTML"></script>
    <!-- MathJax configuration -->
    <script type="text/x-mathjax-config">
    MathJax.Hub.Config({
        tex2jax: {
            inlineMath: [ ['$','$'], ["\\(","\\)"] ],
            displayMath: [ ['$$','$$'], ["\\[","\\]"] ],
            processEscapes: true,
            processEnvironments: true
        },
        // Center justify equations in code and markdown cells. Elsewhere
        // we use CSS to left justify single line equations in code cells.
        displayAlign: 'center',
        "HTML-CSS": {
            styles: {'.MathJax_Display': {"margin": 0}},
            linebreaks: { automatic: true }
        }
    });
    </script>
    <!-- End of mathjax configuration --></head>
<body>
  <div tabindex="-1" id="notebook" class="border-box-sizing">
    <div class="container" id="notebook-container">

<div class="cell border-box-sizing text_cell rendered"><div class="prompt input_prompt">
</div>
<div class="inner_cell">
<div class="text_cell_render border-box-sizing rendered_html">
<h1 id="NBL-Canada-2017-2018-Player-Stats">NBL Canada 2017-2018 Player Stats<a class="anchor-link" href="#NBL-Canada-2017-2018-Player-Stats">&#182;</a></h1>
</div>
</div>
</div>
<div class="cell border-box-sizing text_cell rendered"><div class="prompt input_prompt">
</div>
<div class="inner_cell">
<div class="text_cell_render border-box-sizing rendered_html">
<p>Let's take a look at player stats over the season—we'll pick a player and chart their numbers for all of the games they've played in 2017-2018.</p>
<p>We're using <a href="https://docs.python.org/3/">Python 3</a> with a few dependencies:</p>
<ul>
<li><a href="http://docs.python-requests.org/"><code>requests</code></a> is used to make HTTP requests</li>
<li><a href="https://www.crummy.com/software/BeautifulSoup/bs4/doc/"><code>bs4</code></a> (Beautiful Soup 4) is used to parse HTML</li>
</ul>
<p>And first thing out of the gate we'll need to import those:</p>

</div>
</div>
</div>
<div class="cell border-box-sizing code_cell rendered">
<div class="input">
<div class="prompt input_prompt">In&nbsp;[1]:</div>
<div class="inner_cell">
    <div class="input_area">
<div class=" highlight hl-ipython3"><pre><span></span><span class="kn">import</span> <span class="nn">requests</span>
<span class="kn">from</span> <span class="nn">bs4</span> <span class="k">import</span> <span class="n">BeautifulSoup</span>
</pre></div>

</div>
</div>
</div>

</div>
<div class="cell border-box-sizing text_cell rendered"><div class="prompt input_prompt">
</div>
<div class="inner_cell">
<div class="text_cell_render border-box-sizing rendered_html">
<p>And a few <a href="https://docs.python.org/3/library/">standard library</a> dependencies:</p>

</div>
</div>
</div>
<div class="cell border-box-sizing code_cell rendered">
<div class="input">
<div class="prompt input_prompt">In&nbsp;[2]:</div>
<div class="inner_cell">
    <div class="input_area">
<div class=" highlight hl-ipython3"><pre><span></span><span class="kn">import</span> <span class="nn">itertools</span>
</pre></div>

</div>
</div>
</div>

</div>
<div class="cell border-box-sizing text_cell rendered"><div class="prompt input_prompt">
</div>
<div class="inner_cell">
<div class="text_cell_render border-box-sizing rendered_html">
<h2 id="Team-Calendar">Team Calendar<a class="anchor-link" href="#Team-Calendar">&#182;</a></h2>
</div>
</div>
</div>
<div class="cell border-box-sizing text_cell rendered"><div class="prompt input_prompt">
</div>
<div class="inner_cell">
<div class="text_cell_render border-box-sizing rendered_html">
<p><a href="http://nblcanada.ca">The NBL Canada website</a> has two formats for its calendar, one is a month view, the other is a day view. We'll use the month view here to lower the number of requests we need to make to get all of the games in the season (that is, one request for each month of the season instead of one for each day). The monthly calendar (shown below) shows each of the events on that day with a Box Score link.</p>
<p><img src="./nblcanada.ca_composite_y_2017_m_11.png" alt="November 2017 NBLC Schedule"></p>

</div>
</div>
</div>
<div class="cell border-box-sizing text_cell rendered"><div class="prompt input_prompt">
</div>
<div class="inner_cell">
<div class="text_cell_render border-box-sizing rendered_html">
<p>The URL structure for the calendar has <code>year</code> and <code>month</code> query parameters:</p>

<pre><code>http://nblcanada.ca/composite?y=2017&amp;m=11</code></pre>

</div>
</div>
</div>
<div class="cell border-box-sizing text_cell rendered"><div class="prompt input_prompt">
</div>
<div class="inner_cell">
<div class="text_cell_render border-box-sizing rendered_html">
<p>Inspecting the page, the markup for a single event (a few attributes removed for brevity):</p>
<div class="highlight"><pre><span></span><span class="p">&lt;</span><span class="nt">div</span> <span class="na">class</span><span class="o">=</span><span class="s">&quot;cal-event&quot;</span><span class="p">&gt;</span>
    <span class="p">&lt;</span><span class="nt">div</span> <span class="na">class</span><span class="o">=</span><span class="s">&quot;cal-sport&quot;</span><span class="p">&gt;</span>
        <span class="p">&lt;</span><span class="nt">a</span> <span class="na">href</span><span class="o">=</span><span class="s">&quot;/sports/mbkb/2017-18/schedule&quot;</span><span class="p">&gt;</span>Men&#39;s Basketball<span class="p">&lt;/</span><span class="nt">a</span><span class="p">&gt;</span>
    <span class="p">&lt;/</span><span class="nt">div</span><span class="p">&gt;</span>
    <span class="p">&lt;</span><span class="nt">div</span> <span class="na">class</span><span class="o">=</span><span class="s">&quot;teams&quot;</span><span class="p">&gt;</span>
        <span class="p">&lt;</span><span class="nt">div</span> <span class="na">class</span><span class="o">=</span><span class="s">&quot;team-name&quot;</span><span class="p">&gt;</span>St. John&#39;s Edge<span class="p">&lt;/</span><span class="nt">div</span><span class="p">&gt;</span>
        <span class="p">&lt;</span><span class="nt">div</span> <span class="na">class</span><span class="o">=</span><span class="s">&quot;team-name&quot;</span><span class="p">&gt;</span> <span class="p">&lt;</span><span class="nt">span</span> <span class="na">class</span><span class="o">=</span><span class="s">&quot;va&quot;</span><span class="p">&gt;</span>at<span class="p">&lt;/</span><span class="nt">span</span><span class="p">&gt;</span> Island Storm<span class="p">&lt;/</span><span class="nt">div</span><span class="p">&gt;</span>
    <span class="p">&lt;/</span><span class="nt">div</span><span class="p">&gt;</span>
    <span class="p">&lt;</span><span class="nt">div</span> <span class="na">class</span><span class="o">=</span><span class="s">&quot;cal-status&quot;</span><span class="p">&gt;</span>Final<span class="p">&lt;/</span><span class="nt">div</span><span class="p">&gt;</span>
    <span class="p">&lt;</span><span class="nt">a</span> <span class="na">href</span><span class="o">=</span><span class="s">&quot;/sports/mbkb/2017-18/boxscores/20171118_by41.xml&quot;</span> <span class="na">class</span><span class="o">=</span><span class="s">&quot;cal-result&quot;</span><span class="p">&gt;</span>97 - 96<span class="p">&lt;/</span><span class="nt">a</span><span class="p">&gt;</span>
    <span class="p">&lt;</span><span class="nt">div</span> <span class="na">class</span><span class="o">=</span><span class="s">&quot;cal-links&quot;</span><span class="p">&gt;</span>
        <span class="p">&lt;</span><span class="nt">a</span> <span class="na">href</span><span class="o">=</span><span class="s">&quot;/sports/mbkb/2017-18/boxscores/20171118_by41.xml&quot;</span> <span class="na">title</span><span class="o">=</span><span class="s">&quot;Box Score&quot;</span><span class="p">&gt;</span>BX<span class="p">&lt;/</span><span class="nt">a</span><span class="p">&gt;</span>
    <span class="p">&lt;/</span><span class="nt">div</span><span class="p">&gt;</span>
<span class="p">&lt;/</span><span class="nt">div</span><span class="p">&gt;</span>
</pre></div>

</div>
</div>
</div>
<div class="cell border-box-sizing text_cell rendered"><div class="prompt input_prompt">
</div>
<div class="inner_cell">
<div class="text_cell_render border-box-sizing rendered_html">
<p>To get a list of all the events played this season we will iterate over all of the months, format a link to the calendar for that month, and append it to a running list of all the calendar links:</p>

</div>
</div>
</div>
<div class="cell border-box-sizing code_cell rendered">
<div class="input">
<div class="prompt input_prompt">In&nbsp;[3]:</div>
<div class="inner_cell">
    <div class="input_area">
<div class=" highlight hl-ipython3"><pre><span></span><span class="n">calendar_links</span> <span class="o">=</span> <span class="p">[]</span>
<span class="k">for</span> <span class="n">month</span> <span class="ow">in</span> <span class="nb">range</span><span class="p">(</span><span class="mi">11</span><span class="p">,</span> <span class="mi">13</span><span class="p">):</span>
    <span class="n">calendar_links</span><span class="o">.</span><span class="n">append</span><span class="p">(</span>
        <span class="s2">&quot;http://nblcanada.ca/composite?y=</span><span class="si">{year}</span><span class="s2">&amp;m=</span><span class="si">{month:02d}</span><span class="s2">&quot;</span><span class="o">.</span><span class="n">format</span><span class="p">(</span><span class="n">year</span> <span class="o">=</span> <span class="s2">&quot;2017&quot;</span><span class="p">,</span> <span class="n">month</span> <span class="o">=</span> <span class="n">month</span><span class="p">))</span>
<span class="k">for</span> <span class="n">month</span> <span class="ow">in</span> <span class="nb">range</span><span class="p">(</span> <span class="mi">1</span><span class="p">,</span>  <span class="mi">7</span><span class="p">):</span>
    <span class="n">calendar_links</span><span class="o">.</span><span class="n">append</span><span class="p">(</span>
        <span class="s2">&quot;http://nblcanada.ca/composite?y=</span><span class="si">{year}</span><span class="s2">&amp;m=</span><span class="si">{month:02d}</span><span class="s2">&quot;</span><span class="o">.</span><span class="n">format</span><span class="p">(</span><span class="n">year</span> <span class="o">=</span> <span class="s2">&quot;2018&quot;</span><span class="p">,</span> <span class="n">month</span> <span class="o">=</span> <span class="n">month</span><span class="p">))</span>
</pre></div>

</div>
</div>
</div>

</div>
<div class="cell border-box-sizing text_cell rendered"><div class="prompt input_prompt">
</div>
<div class="inner_cell">
<div class="text_cell_render border-box-sizing rendered_html">
<p>Alright, now we have a list of all the calendars:</p>

</div>
</div>
</div>
<div class="cell border-box-sizing code_cell rendered">
<div class="input">
<div class="prompt input_prompt">In&nbsp;[4]:</div>
<div class="inner_cell">
    <div class="input_area">
<div class=" highlight hl-ipython3"><pre><span></span><span class="n">calendar_links</span>
</pre></div>

</div>
</div>
</div>

<div class="output_wrapper">
<div class="output">


<div class="output_area">

<div class="prompt output_prompt">Out[4]:</div>




<div class="output_text output_subarea output_execute_result">
<pre>[&#39;http://nblcanada.ca/composite?y=2017&amp;m=11&#39;,
 &#39;http://nblcanada.ca/composite?y=2017&amp;m=12&#39;,
 &#39;http://nblcanada.ca/composite?y=2018&amp;m=01&#39;,
 &#39;http://nblcanada.ca/composite?y=2018&amp;m=02&#39;,
 &#39;http://nblcanada.ca/composite?y=2018&amp;m=03&#39;,
 &#39;http://nblcanada.ca/composite?y=2018&amp;m=04&#39;,
 &#39;http://nblcanada.ca/composite?y=2018&amp;m=05&#39;,
 &#39;http://nblcanada.ca/composite?y=2018&amp;m=06&#39;]</pre>
</div>

</div>

</div>
</div>

</div>
<div class="cell border-box-sizing text_cell rendered"><div class="prompt input_prompt">
</div>
<div class="inner_cell">
<div class="text_cell_render border-box-sizing rendered_html">
<p>Before we go any futher, let's pick a team:</p>

</div>
</div>
</div>
<div class="cell border-box-sizing code_cell rendered">
<div class="input">
<div class="prompt input_prompt">In&nbsp;[5]:</div>
<div class="inner_cell">
    <div class="input_area">
<div class=" highlight hl-ipython3"><pre><span></span><span class="n">team_name</span> <span class="o">=</span> <span class="s2">&quot;St. John&#39;s Edge&quot;</span>
</pre></div>

</div>
</div>
</div>

</div>
<div class="cell border-box-sizing text_cell rendered"><div class="prompt input_prompt">
</div>
<div class="inner_cell">
<div class="text_cell_render border-box-sizing rendered_html">
<p>Additionally, if you want to look at just $x$ games, we can set a <code>total_game_count</code> to that value (or <code>None</code> if we want to look at everything):</p>

</div>
</div>
</div>
<div class="cell border-box-sizing code_cell rendered">
<div class="input">
<div class="prompt input_prompt">In&nbsp;[6]:</div>
<div class="inner_cell">
    <div class="input_area">
<div class=" highlight hl-ipython3"><pre><span></span><span class="n">total_game_count</span> <span class="o">=</span> <span class="mi">45</span> <span class="c1"># The St. John&#39;s Edge played 45 regular season games</span>
</pre></div>

</div>
</div>
</div>

</div>
<div class="cell border-box-sizing text_cell rendered"><div class="prompt input_prompt">
</div>
<div class="inner_cell">
<div class="text_cell_render border-box-sizing rendered_html">
<p>Let's map each of those links to the HTML for the calendar and then to the list of all of the events on the calendar for our team:</p>

</div>
</div>
</div>
<div class="cell border-box-sizing code_cell rendered">
<div class="input">
<div class="prompt input_prompt">In&nbsp;[7]:</div>
<div class="inner_cell">
    <div class="input_area">
<div class=" highlight hl-ipython3"><pre><span></span><span class="n">events</span> <span class="o">=</span> <span class="p">[]</span>
<span class="k">for</span> <span class="n">calendar_link</span> <span class="ow">in</span> <span class="n">calendar_links</span><span class="p">:</span>
    <span class="n">calendar_html</span> <span class="o">=</span> <span class="n">BeautifulSoup</span><span class="p">(</span><span class="n">requests</span><span class="o">.</span><span class="n">get</span><span class="p">(</span><span class="n">calendar_link</span><span class="p">)</span><span class="o">.</span><span class="n">text</span><span class="p">,</span> <span class="s2">&quot;html.parser&quot;</span><span class="p">)</span>
    <span class="n">events</span><span class="o">.</span><span class="n">append</span><span class="p">(</span><span class="n">calendar_html</span><span class="o">.</span><span class="n">select</span><span class="p">(</span><span class="s2">&quot;.cal-event&quot;</span><span class="p">))</span>
<span class="c1"># Hand-wavy bit, we&#39;ll need to &quot;flatten&quot; the list</span>
<span class="n">events</span> <span class="o">=</span> <span class="nb">list</span><span class="p">(</span><span class="n">itertools</span><span class="o">.</span><span class="n">chain</span><span class="p">(</span><span class="o">*</span><span class="n">events</span><span class="p">))</span>
</pre></div>

</div>
</div>
</div>

</div>
<div class="cell border-box-sizing code_cell rendered">
<div class="input">
<div class="prompt input_prompt">In&nbsp;[8]:</div>
<div class="inner_cell">
    <div class="input_area">
<div class=" highlight hl-ipython3"><pre><span></span><span class="n">our_events</span> <span class="o">=</span> <span class="p">[]</span>
<span class="k">for</span> <span class="n">event</span> <span class="ow">in</span> <span class="n">events</span><span class="p">:</span>
    <span class="n">away_team</span><span class="p">,</span> <span class="n">home_team</span> <span class="o">=</span> <span class="nb">map</span><span class="p">(</span>
        <span class="c1"># The home team has a &quot;at&quot; prefix which adds whitespace, so we&#39;ll use .stripped_strings and have to</span>
        <span class="c1"># index into the list of children: [&quot;at&quot;, &quot;team name&quot;]</span>
        <span class="k">lambda</span> <span class="n">e</span><span class="p">:</span> <span class="n">e</span><span class="o">.</span><span class="n">string</span> <span class="k">if</span> <span class="n">e</span><span class="o">.</span><span class="n">string</span> <span class="k">else</span> <span class="nb">list</span><span class="p">(</span><span class="n">e</span><span class="o">.</span><span class="n">stripped_strings</span><span class="p">)[</span><span class="mi">1</span><span class="p">],</span>
        <span class="n">event</span><span class="o">.</span><span class="n">select</span><span class="p">(</span><span class="s2">&quot;.team-name&quot;</span><span class="p">))</span>
    <span class="k">if</span> <span class="n">home_team</span> <span class="o">==</span> <span class="n">team_name</span> <span class="ow">or</span> <span class="n">away_team</span> <span class="o">==</span> <span class="n">team_name</span><span class="p">:</span>
        <span class="n">our_events</span><span class="o">.</span><span class="n">append</span><span class="p">(</span><span class="n">event</span><span class="p">)</span>
</pre></div>

</div>
</div>
</div>

</div>
<div class="cell border-box-sizing text_cell rendered"><div class="prompt input_prompt">
</div>
<div class="inner_cell">
<div class="text_cell_render border-box-sizing rendered_html">
<p>With the list of all our events in hand (in <code>our_events</code>) we can pick out the "Box Score" link for each event and append them to a running list of all the box score links:</p>

</div>
</div>
</div>
<div class="cell border-box-sizing code_cell rendered">
<div class="input">
<div class="prompt input_prompt">In&nbsp;[9]:</div>
<div class="inner_cell">
    <div class="input_area">
<div class=" highlight hl-ipython3"><pre><span></span><span class="n">our_box_score_links</span> <span class="o">=</span> <span class="p">[]</span>
<span class="k">for</span> <span class="n">event</span> <span class="ow">in</span> <span class="n">our_events</span><span class="p">:</span>
    <span class="n">box_score_links</span> <span class="o">=</span> <span class="n">event</span><span class="o">.</span><span class="n">select</span><span class="p">(</span><span class="s2">&quot;a[title=&#39;Box Score&#39;]&quot;</span><span class="p">)</span>
    <span class="k">if</span> <span class="ow">not</span> <span class="n">box_score_links</span><span class="p">:</span>
        <span class="c1"># We&#39;ve discovered a live or upcoming game</span>
        <span class="k">continue</span>
    <span class="n">box_score_link</span><span class="p">,</span> <span class="o">=</span> <span class="n">box_score_links</span>
    <span class="n">our_box_score_links</span><span class="o">.</span><span class="n">append</span><span class="p">(</span><span class="n">box_score_link</span><span class="o">.</span><span class="n">attrs</span><span class="o">.</span><span class="n">get</span><span class="p">(</span><span class="s2">&quot;href&quot;</span><span class="p">))</span>
</pre></div>

</div>
</div>
</div>

</div>
<div class="cell border-box-sizing text_cell rendered"><div class="prompt input_prompt">
</div>
<div class="inner_cell">
<div class="text_cell_render border-box-sizing rendered_html">
<p>The way the links work in the HTML, we have a relative path to the file, not the whole URL. Let's take a peek at the first link to get an idea of what we're working with:</p>

</div>
</div>
</div>
<div class="cell border-box-sizing code_cell rendered">
<div class="input">
<div class="prompt input_prompt">In&nbsp;[10]:</div>
<div class="inner_cell">
    <div class="input_area">
<div class=" highlight hl-ipython3"><pre><span></span><span class="n">our_box_score_links</span><span class="p">[</span><span class="mi">0</span><span class="p">]</span>
</pre></div>

</div>
</div>
</div>

<div class="output_wrapper">
<div class="output">


<div class="output_area">

<div class="prompt output_prompt">Out[10]:</div>




<div class="output_text output_subarea output_execute_result">
<pre>&#39;/sports/mbkb/2017-18/boxscores/20171118_by41.xml&#39;</pre>
</div>

</div>

</div>
</div>

</div>
<div class="cell border-box-sizing text_cell rendered"><div class="prompt input_prompt">
</div>
<div class="inner_cell">
<div class="text_cell_render border-box-sizing rendered_html">
<p>We'll need to format the links to get a complete URL. Let's write a function to do that:</p>

</div>
</div>
</div>
<div class="cell border-box-sizing code_cell rendered">
<div class="input">
<div class="prompt input_prompt">In&nbsp;[11]:</div>
<div class="inner_cell">
    <div class="input_area">
<div class=" highlight hl-ipython3"><pre><span></span><span class="k">def</span> <span class="nf">format_box_score_link</span><span class="p">(</span><span class="n">link</span><span class="p">):</span>
    <span class="k">return</span> <span class="s2">&quot;http://nblcanada.ca&quot;</span> <span class="o">+</span> <span class="n">link</span>
</pre></div>

</div>
</div>
</div>

</div>
<div class="cell border-box-sizing text_cell rendered"><div class="prompt input_prompt">
</div>
<div class="inner_cell">
<div class="text_cell_render border-box-sizing rendered_html">
<p>Let's take a look at the complete list formatted:</p>

</div>
</div>
</div>
<div class="cell border-box-sizing code_cell rendered">
<div class="input">
<div class="prompt input_prompt">In&nbsp;[12]:</div>
<div class="inner_cell">
    <div class="input_area">
<div class=" highlight hl-ipython3"><pre><span></span><span class="k">for</span> <span class="n">box_score_link</span> <span class="ow">in</span> <span class="n">our_box_score_links</span><span class="p">:</span>
    <span class="nb">print</span><span class="p">(</span><span class="n">format_box_score_link</span><span class="p">(</span><span class="n">box_score_link</span><span class="p">))</span>
</pre></div>

</div>
</div>
</div>

<div class="output_wrapper">
<div class="output">


<div class="output_area">

<div class="prompt"></div>


<div class="output_subarea output_stream output_stdout output_text">
<pre>http://nblcanada.ca/sports/mbkb/2017-18/boxscores/20171118_by41.xml
http://nblcanada.ca/sports/mbkb/2017-18/boxscores/20171119_ktrq.xml
http://nblcanada.ca/sports/mbkb/2017-18/boxscores/20171121_c5zt.xml
http://nblcanada.ca/sports/mbkb/2017-18/boxscores/20171122_28lb.xml
http://nblcanada.ca/sports/mbkb/2017-18/boxscores/20171124_j0ft.xml
http://nblcanada.ca/sports/mbkb/2017-18/boxscores/20171201_1j6s.xml
http://nblcanada.ca/sports/mbkb/2017-18/boxscores/20171202_mamv.xml
http://nblcanada.ca/sports/mbkb/2017-18/boxscores/20171201_1j6s.xml
http://nblcanada.ca/sports/mbkb/2017-18/boxscores/20171202_mamv.xml
http://nblcanada.ca/sports/mbkb/2017-18/boxscores/20171205_l26a.xml
http://nblcanada.ca/sports/mbkb/2017-18/boxscores/20171206_yxks.xml
http://nblcanada.ca/sports/mbkb/2017-18/boxscores/20171213_lto8.xml
http://nblcanada.ca/sports/mbkb/2017-18/boxscores/20171215_crx9.xml
http://nblcanada.ca/sports/mbkb/2017-18/boxscores/20171217_vlts.xml
http://nblcanada.ca/sports/mbkb/2017-18/boxscores/20180109_3isi.xml
http://nblcanada.ca/sports/mbkb/2017-18/boxscores/20180110_cmmb.xml
http://nblcanada.ca/sports/mbkb/2017-18/boxscores/20180112_llg6.xml
http://nblcanada.ca/sports/mbkb/2017-18/boxscores/20180113_mjx3.xml
http://nblcanada.ca/sports/mbkb/2017-18/boxscores/20180116_hdfa.xml
http://nblcanada.ca/sports/mbkb/2017-18/boxscores/20180117_mvju.xml
http://nblcanada.ca/sports/mbkb/2017-18/boxscores/20180119_8ryn.xml
http://nblcanada.ca/sports/mbkb/2017-18/boxscores/20180120_ctmq.xml
http://nblcanada.ca/sports/mbkb/2017-18/boxscores/20180121_5knv.xml
http://nblcanada.ca/sports/mbkb/2017-18/boxscores/20180202_2gug.xml
http://nblcanada.ca/sports/mbkb/2017-18/boxscores/20180203_ybph.xml
http://nblcanada.ca/sports/mbkb/2017-18/boxscores/20180202_2gug.xml
http://nblcanada.ca/sports/mbkb/2017-18/boxscores/20180203_ybph.xml
http://nblcanada.ca/sports/mbkb/2017-18/boxscores/20180206_d3rp.xml
http://nblcanada.ca/sports/mbkb/2017-18/boxscores/20180207_hx7n.xml
http://nblcanada.ca/sports/mbkb/2017-18/boxscores/20180215_qill.xml
http://nblcanada.ca/sports/mbkb/2017-18/boxscores/20180217_axyd.xml
http://nblcanada.ca/sports/mbkb/2017-18/boxscores/20180219_a79n.xml
http://nblcanada.ca/sports/mbkb/2017-18/boxscores/20180221_ae4e.xml
http://nblcanada.ca/sports/mbkb/2017-18/boxscores/20180302_v3sg.xml
http://nblcanada.ca/sports/mbkb/2017-18/boxscores/20180303_t2bc.xml
http://nblcanada.ca/sports/mbkb/2017-18/boxscores/20180302_v3sg.xml
http://nblcanada.ca/sports/mbkb/2017-18/boxscores/20180303_t2bc.xml
http://nblcanada.ca/sports/mbkb/2017-18/boxscores/20180306_n7gn.xml
http://nblcanada.ca/sports/mbkb/2017-18/boxscores/20180307_hkll.xml
http://nblcanada.ca/sports/mbkb/2017-18/boxscores/20180310_gsnh.xml
http://nblcanada.ca/sports/mbkb/2017-18/boxscores/20180311_eszh.xml
http://nblcanada.ca/sports/mbkb/2017-18/boxscores/20180317_9bff.xml
http://nblcanada.ca/sports/mbkb/2017-18/boxscores/20180321_hu35.xml
http://nblcanada.ca/sports/mbkb/2017-18/boxscores/20180322_8ngy.xml
http://nblcanada.ca/sports/mbkb/2017-18/boxscores/20180331_2y7t.xml
http://nblcanada.ca/sports/mbkb/2017-18/boxscores/20180402_wffm.xml
http://nblcanada.ca/sports/mbkb/2017-18/boxscores/20180406_hwxb.xml
http://nblcanada.ca/sports/mbkb/2017-18/boxscores/20180408_td9o.xml
http://nblcanada.ca/sports/mbkb/2017-18/boxscores/20180411_943c.xml
http://nblcanada.ca/sports/mbkb/2017-18/boxscores/20180417_5ts6.xml
http://nblcanada.ca/sports/mbkb/2017-18/boxscores/20180419_cw2b.xml
</pre>
</div>
</div>

</div>
</div>

</div>
<div class="cell border-box-sizing text_cell rendered"><div class="prompt input_prompt">
</div>
<div class="inner_cell">
<div class="text_cell_render border-box-sizing rendered_html">
<p>Alrighty, let's take a look at the box scores for our games. We will need to iterate over each of the links above and request the HTML for the page.</p>
<p>If you have a keen eye, you'll notice that there are duplicates in the list. That's due to overlap in, for example, the November calendar and the December calendar, where we'll have games showing up on both. Let's format the links <strong>and deduplicate</strong> while iterating. Here we're using <a href="https://docs.python.org/3/library/stdtypes.html#dict.fromkeys"><code>dict.fromkeys</code></a> to construct an ordered set (in the mathemtatical sense) of all the links:</p>

</div>
</div>
</div>
<div class="cell border-box-sizing code_cell rendered">
<div class="input">
<div class="prompt input_prompt">In&nbsp;[13]:</div>
<div class="inner_cell">
    <div class="input_area">
<div class=" highlight hl-ipython3"><pre><span></span><span class="n">box_scores</span> <span class="o">=</span> <span class="p">[]</span>
<span class="k">for</span> <span class="n">box_score_link</span> <span class="ow">in</span> <span class="nb">map</span><span class="p">(</span><span class="n">format_box_score_link</span><span class="p">,</span> <span class="nb">dict</span><span class="o">.</span><span class="n">fromkeys</span><span class="p">(</span><span class="n">our_box_score_links</span><span class="p">)</span><span class="o">.</span><span class="n">keys</span><span class="p">()):</span>
    <span class="n">box_scores</span><span class="o">.</span><span class="n">append</span><span class="p">(</span><span class="n">requests</span><span class="o">.</span><span class="n">get</span><span class="p">(</span><span class="n">box_score_link</span><span class="p">)</span><span class="o">.</span><span class="n">text</span><span class="p">)</span>
</pre></div>

</div>
</div>
</div>

</div>
<div class="cell border-box-sizing text_cell rendered"><div class="prompt input_prompt">
</div>
<div class="inner_cell">
<div class="text_cell_render border-box-sizing rendered_html">
<h2 id="Box-Scores">Box Scores<a class="anchor-link" href="#Box-Scores">&#182;</a></h2>
</div>
</div>
</div>
<div class="cell border-box-sizing text_cell rendered"><div class="prompt input_prompt">
</div>
<div class="inner_cell">
<div class="text_cell_render border-box-sizing rendered_html">
<p>The Box Score page (example shown below) displays the stats for a game along with the game information. The table containing the player stats unfortunately doesn't contain percentages so will be doing a bit of text parsing once we get to that (spoliers!).</p>
<p><img src="./nblcanada.ca_sports_mbkb_2017-18_boxscores_20180402_wffm.xml.png" alt="Niagara River Lions at St. John&#39;s Edge Box Score"></p>

</div>
</div>
</div>
<div class="cell border-box-sizing text_cell rendered"><div class="prompt input_prompt">
</div>
<div class="inner_cell">
<div class="text_cell_render border-box-sizing rendered_html">
<p>Inspecing the page, the table for the two teams are separate in the markup (thankfully!) and each have a <code>caption</code> with the team name:</p>
<div class="highlight"><pre><span></span><span class="p">&lt;</span><span class="nt">table</span><span class="p">&gt;</span>
    <span class="p">&lt;</span><span class="nt">caption</span> <span class="na">class</span><span class="o">=</span><span class="s">&quot;caption&quot;</span><span class="p">&gt;</span>
        <span class="p">&lt;</span><span class="nt">h2</span><span class="p">&gt;&lt;</span><span class="nt">span</span> <span class="na">class</span><span class="o">=</span><span class="s">&quot;team-name&quot;</span><span class="p">&gt;</span>Niagara River Lions<span class="p">&lt;/</span><span class="nt">span</span><span class="p">&gt;&lt;/</span><span class="nt">h2</span><span class="p">&gt;</span>
    <span class="p">&lt;/</span><span class="nt">caption</span><span class="p">&gt;</span>
    <span class="p">&lt;</span><span class="nt">thead</span><span class="p">&gt;</span>
        <span class="p">&lt;</span><span class="nt">tr</span><span class="p">&gt;</span>
            <span class="p">&lt;</span><span class="nt">th</span> <span class="na">scope</span><span class="o">=</span><span class="s">&quot;col&quot;</span> <span class="na">class</span><span class="o">=</span><span class="s">&quot;col-head pinned-col text&quot;</span><span class="p">&gt;</span>Player<span class="p">&lt;/</span><span class="nt">th</span><span class="p">&gt;</span>
            <span class="p">&lt;</span><span class="nt">th</span> <span class="na">scope</span><span class="o">=</span><span class="s">&quot;col&quot;</span> <span class="na">class</span><span class="o">=</span><span class="s">&quot;col-head&quot;</span><span class="p">&gt;</span>MIN<span class="p">&lt;/</span><span class="nt">th</span><span class="p">&gt;</span>
            <span class="p">&lt;</span><span class="nt">th</span> <span class="na">scope</span><span class="o">=</span><span class="s">&quot;col&quot;</span> <span class="na">class</span><span class="o">=</span><span class="s">&quot;col-head&quot;</span><span class="p">&gt;</span>FGM-A<span class="p">&lt;/</span><span class="nt">th</span><span class="p">&gt;</span>
            <span class="p">&lt;</span><span class="nt">th</span> <span class="na">scope</span><span class="o">=</span><span class="s">&quot;col&quot;</span> <span class="na">class</span><span class="o">=</span><span class="s">&quot;col-head&quot;</span><span class="p">&gt;</span>3PM-A<span class="p">&lt;/</span><span class="nt">th</span><span class="p">&gt;</span>
            <span class="p">&lt;</span><span class="nt">th</span> <span class="na">scope</span><span class="o">=</span><span class="s">&quot;col&quot;</span> <span class="na">class</span><span class="o">=</span><span class="s">&quot;col-head&quot;</span><span class="p">&gt;</span>FTM-A<span class="p">&lt;/</span><span class="nt">th</span><span class="p">&gt;</span>
            <span class="p">&lt;</span><span class="nt">th</span> <span class="na">scope</span><span class="o">=</span><span class="s">&quot;col&quot;</span> <span class="na">class</span><span class="o">=</span><span class="s">&quot;col-head&quot;</span><span class="p">&gt;</span>OREB<span class="p">&lt;/</span><span class="nt">th</span><span class="p">&gt;</span>
            <span class="p">&lt;</span><span class="nt">th</span> <span class="na">scope</span><span class="o">=</span><span class="s">&quot;col&quot;</span> <span class="na">class</span><span class="o">=</span><span class="s">&quot;col-head&quot;</span><span class="p">&gt;</span>DREB<span class="p">&lt;/</span><span class="nt">th</span><span class="p">&gt;</span>
            <span class="p">&lt;</span><span class="nt">th</span> <span class="na">scope</span><span class="o">=</span><span class="s">&quot;col&quot;</span> <span class="na">class</span><span class="o">=</span><span class="s">&quot;col-head&quot;</span><span class="p">&gt;</span>REB<span class="p">&lt;/</span><span class="nt">th</span><span class="p">&gt;</span>
            <span class="p">&lt;</span><span class="nt">th</span> <span class="na">scope</span><span class="o">=</span><span class="s">&quot;col&quot;</span> <span class="na">class</span><span class="o">=</span><span class="s">&quot;col-head&quot;</span><span class="p">&gt;</span>AST<span class="p">&lt;/</span><span class="nt">th</span><span class="p">&gt;</span>
            <span class="p">&lt;</span><span class="nt">th</span> <span class="na">scope</span><span class="o">=</span><span class="s">&quot;col&quot;</span> <span class="na">class</span><span class="o">=</span><span class="s">&quot;col-head&quot;</span><span class="p">&gt;</span>STL<span class="p">&lt;/</span><span class="nt">th</span><span class="p">&gt;</span>
            <span class="p">&lt;</span><span class="nt">th</span> <span class="na">scope</span><span class="o">=</span><span class="s">&quot;col&quot;</span> <span class="na">class</span><span class="o">=</span><span class="s">&quot;col-head&quot;</span><span class="p">&gt;</span>BLK<span class="p">&lt;/</span><span class="nt">th</span><span class="p">&gt;</span>
            <span class="p">&lt;</span><span class="nt">th</span> <span class="na">scope</span><span class="o">=</span><span class="s">&quot;col&quot;</span> <span class="na">class</span><span class="o">=</span><span class="s">&quot;col-head&quot;</span><span class="p">&gt;</span>TO<span class="p">&lt;/</span><span class="nt">th</span><span class="p">&gt;</span>
            <span class="p">&lt;</span><span class="nt">th</span> <span class="na">scope</span><span class="o">=</span><span class="s">&quot;col&quot;</span> <span class="na">class</span><span class="o">=</span><span class="s">&quot;col-head&quot;</span><span class="p">&gt;</span>PF<span class="p">&lt;/</span><span class="nt">th</span><span class="p">&gt;</span>
            <span class="p">&lt;</span><span class="nt">th</span> <span class="na">scope</span><span class="o">=</span><span class="s">&quot;col&quot;</span> <span class="na">class</span><span class="o">=</span><span class="s">&quot;col-head&quot;</span><span class="p">&gt;</span>PTS<span class="p">&lt;/</span><span class="nt">th</span><span class="p">&gt;</span>
        <span class="p">&lt;/</span><span class="nt">tr</span><span class="p">&gt;</span>
    <span class="p">&lt;/</span><span class="nt">thead</span><span class="p">&gt;</span>
    <span class="p">&lt;</span><span class="nt">tbody</span><span class="p">&gt;</span>
        <span class="p">&lt;</span><span class="nt">tr</span> <span class="na">class</span><span class="o">=</span><span class="s">&quot;group-head&quot;</span><span class="p">&gt;</span>
            <span class="p">&lt;</span><span class="nt">th</span> <span class="na">scope</span><span class="o">=</span><span class="s">&quot;rowgroup&quot;</span> <span class="na">class</span><span class="o">=</span><span class="s">&quot;row-head pinned-col text&quot;</span><span class="p">&gt;&lt;</span><span class="nt">strong</span><span class="p">&gt;</span>STARTERS<span class="p">&lt;/</span><span class="nt">strong</span><span class="p">&gt;&lt;/</span><span class="nt">th</span><span class="p">&gt;</span>
            <span class="p">&lt;</span><span class="nt">td</span> <span class="na">colspan</span><span class="o">=</span><span class="s">&quot;13&quot;</span><span class="p">&gt;</span><span class="ni">&amp;nbsp;</span><span class="p">&lt;/</span><span class="nt">td</span><span class="p">&gt;</span>
        <span class="p">&lt;/</span><span class="nt">tr</span><span class="p">&gt;</span>
        <span class="p">&lt;</span><span class="nt">tr</span><span class="p">&gt;</span>
            <span class="p">&lt;</span><span class="nt">th</span> <span class="na">scope</span><span class="o">=</span><span class="s">&quot;row&quot;</span> <span class="na">class</span><span class="o">=</span><span class="s">&quot;row-head pinned-col text&quot;</span><span class="p">&gt;</span>
                <span class="p">&lt;</span><span class="nt">span</span> <span class="na">class</span><span class="o">=</span><span class="s">&quot;uniform&quot;</span><span class="p">&gt;</span>0 - <span class="p">&lt;/</span><span class="nt">span</span><span class="p">&gt;</span>
                <span class="p">&lt;</span><span class="nt">a</span> <span class="na">href</span><span class="o">=</span><span class="s">&quot;../players?id=3t3p5fmhkhk7qgu2&quot;</span> <span class="na">class</span><span class="o">=</span><span class="s">&quot;player-name&quot;</span><span class="p">&gt;</span>Jaylon Tate<span class="p">&lt;/</span><span class="nt">a</span><span class="p">&gt;</span>
            <span class="p">&lt;/</span><span class="nt">th</span><span class="p">&gt;</span>
            <span class="p">&lt;</span><span class="nt">td</span><span class="p">&gt;</span>34<span class="p">&lt;/</span><span class="nt">td</span><span class="p">&gt;</span>
            <span class="p">&lt;</span><span class="nt">td</span><span class="p">&gt;</span>1-5<span class="p">&lt;/</span><span class="nt">td</span><span class="p">&gt;</span>
            <span class="p">&lt;</span><span class="nt">td</span><span class="p">&gt;</span>0-1<span class="p">&lt;/</span><span class="nt">td</span><span class="p">&gt;</span>
            <span class="p">&lt;</span><span class="nt">td</span><span class="p">&gt;</span>1-2<span class="p">&lt;/</span><span class="nt">td</span><span class="p">&gt;</span>
            <span class="p">&lt;</span><span class="nt">td</span><span class="p">&gt;</span>0<span class="p">&lt;/</span><span class="nt">td</span><span class="p">&gt;</span>
            <span class="p">&lt;</span><span class="nt">td</span><span class="p">&gt;</span>2<span class="p">&lt;/</span><span class="nt">td</span><span class="p">&gt;</span>
            <span class="p">&lt;</span><span class="nt">td</span><span class="p">&gt;</span>2<span class="p">&lt;/</span><span class="nt">td</span><span class="p">&gt;</span>
            <span class="p">&lt;</span><span class="nt">td</span><span class="p">&gt;</span>4<span class="p">&lt;/</span><span class="nt">td</span><span class="p">&gt;</span>
            <span class="p">&lt;</span><span class="nt">td</span><span class="p">&gt;</span>0<span class="p">&lt;/</span><span class="nt">td</span><span class="p">&gt;</span>
            <span class="p">&lt;</span><span class="nt">td</span><span class="p">&gt;</span>0<span class="p">&lt;/</span><span class="nt">td</span><span class="p">&gt;</span>
            <span class="p">&lt;</span><span class="nt">td</span><span class="p">&gt;</span>0<span class="p">&lt;/</span><span class="nt">td</span><span class="p">&gt;</span>
            <span class="p">&lt;</span><span class="nt">td</span><span class="p">&gt;</span>1<span class="p">&lt;/</span><span class="nt">td</span><span class="p">&gt;</span>
            <span class="p">&lt;</span><span class="nt">td</span><span class="p">&gt;</span>3<span class="p">&lt;/</span><span class="nt">td</span><span class="p">&gt;</span>
        <span class="p">&lt;/</span><span class="nt">tr</span><span class="p">&gt;</span>
        <span class="c">&lt;!-- And so on, repeated for each starter --&gt;</span>
    <span class="p">&lt;/</span><span class="nt">tbody</span><span class="p">&gt;</span>
    <span class="p">&lt;</span><span class="nt">tbody</span><span class="p">&gt;</span>
        <span class="p">&lt;</span><span class="nt">tr</span> <span class="na">class</span><span class="o">=</span><span class="s">&quot;group-head&quot;</span><span class="p">&gt;</span>
            <span class="p">&lt;</span><span class="nt">th</span> <span class="na">scope</span><span class="o">=</span><span class="s">&quot;rowgroup&quot;</span> <span class="na">class</span><span class="o">=</span><span class="s">&quot;row-head pinned-col text&quot;</span><span class="p">&gt;&lt;</span><span class="nt">strong</span><span class="p">&gt;</span>RESERVES<span class="p">&lt;/</span><span class="nt">strong</span><span class="p">&gt;&lt;/</span><span class="nt">th</span><span class="p">&gt;</span>
            <span class="p">&lt;</span><span class="nt">td</span> <span class="na">colspan</span><span class="o">=</span><span class="s">&quot;13&quot;</span><span class="p">&gt;</span><span class="ni">&amp;nbsp;</span><span class="p">&lt;/</span><span class="nt">td</span><span class="p">&gt;</span>
        <span class="p">&lt;/</span><span class="nt">tr</span><span class="p">&gt;</span>
        <span class="p">&lt;</span><span class="nt">tr</span><span class="p">&gt;</span>
            <span class="p">&lt;</span><span class="nt">th</span> <span class="na">scope</span><span class="o">=</span><span class="s">&quot;row&quot;</span> <span class="na">class</span><span class="o">=</span><span class="s">&quot;row-head pinned-col text&quot;</span><span class="p">&gt;</span>
                <span class="p">&lt;</span><span class="nt">span</span> <span class="na">class</span><span class="o">=</span><span class="s">&quot;uniform&quot;</span><span class="p">&gt;</span>2 - <span class="p">&lt;/</span><span class="nt">span</span><span class="p">&gt;</span>
                <span class="p">&lt;</span><span class="nt">a</span> <span class="na">href</span><span class="o">=</span><span class="s">&quot;../players?id=gt2kpg91kerqhajg&quot;</span> <span class="na">class</span><span class="o">=</span><span class="s">&quot;player-name&quot;</span><span class="p">&gt;</span>Joe Rocca<span class="p">&lt;/</span><span class="nt">a</span><span class="p">&gt;</span>
            <span class="p">&lt;/</span><span class="nt">th</span><span class="p">&gt;</span>
            <span class="p">&lt;</span><span class="nt">td</span><span class="p">&gt;</span>3<span class="p">&lt;/</span><span class="nt">td</span><span class="p">&gt;</span>
            <span class="p">&lt;</span><span class="nt">td</span><span class="p">&gt;</span> 0-1
            <span class="p">&lt;/</span><span class="nt">td</span><span class="p">&gt;</span>
            <span class="p">&lt;</span><span class="nt">td</span><span class="p">&gt;</span> 0-1
            <span class="p">&lt;/</span><span class="nt">td</span><span class="p">&gt;</span>
            <span class="p">&lt;</span><span class="nt">td</span><span class="p">&gt;</span> 0-0
            <span class="p">&lt;/</span><span class="nt">td</span><span class="p">&gt;</span>
            <span class="p">&lt;</span><span class="nt">td</span><span class="p">&gt;</span>1<span class="p">&lt;/</span><span class="nt">td</span><span class="p">&gt;</span>
            <span class="p">&lt;</span><span class="nt">td</span><span class="p">&gt;</span>1<span class="p">&lt;/</span><span class="nt">td</span><span class="p">&gt;</span>
            <span class="p">&lt;</span><span class="nt">td</span><span class="p">&gt;</span>2<span class="p">&lt;/</span><span class="nt">td</span><span class="p">&gt;</span>
            <span class="p">&lt;</span><span class="nt">td</span><span class="p">&gt;</span>0<span class="p">&lt;/</span><span class="nt">td</span><span class="p">&gt;</span>
            <span class="p">&lt;</span><span class="nt">td</span><span class="p">&gt;</span>0<span class="p">&lt;/</span><span class="nt">td</span><span class="p">&gt;</span>
            <span class="p">&lt;</span><span class="nt">td</span><span class="p">&gt;</span>0<span class="p">&lt;/</span><span class="nt">td</span><span class="p">&gt;</span>
            <span class="p">&lt;</span><span class="nt">td</span><span class="p">&gt;</span>0<span class="p">&lt;/</span><span class="nt">td</span><span class="p">&gt;</span>
            <span class="p">&lt;</span><span class="nt">td</span><span class="p">&gt;</span>1<span class="p">&lt;/</span><span class="nt">td</span><span class="p">&gt;</span>
            <span class="p">&lt;</span><span class="nt">td</span><span class="p">&gt;</span> 0
            <span class="p">&lt;/</span><span class="nt">td</span><span class="p">&gt;</span>
        <span class="p">&lt;/</span><span class="nt">tr</span><span class="p">&gt;</span>
        <span class="c">&lt;!-- And so on, repeated for each reserve --&gt;</span>
    <span class="p">&lt;/</span><span class="nt">tbody</span><span class="p">&gt;</span>
    <span class="p">&lt;</span><span class="nt">tbody</span><span class="p">&gt;</span>
        <span class="p">&lt;</span><span class="nt">tr</span> <span class="na">class</span><span class="o">=</span><span class="s">&quot;totals&quot;</span><span class="p">&gt;</span>
            <span class="p">&lt;</span><span class="nt">th</span> <span class="na">scope</span><span class="o">=</span><span class="s">&quot;rowgroup&quot;</span> <span class="na">class</span><span class="o">=</span><span class="s">&quot;row-head pinned-col text&quot;</span><span class="p">&gt;</span>TOTALS<span class="p">&lt;/</span><span class="nt">th</span><span class="p">&gt;</span>
            <span class="p">&lt;</span><span class="nt">td</span><span class="p">&gt;</span><span class="ni">&amp;nbsp;</span><span class="p">&lt;/</span><span class="nt">td</span><span class="p">&gt;</span>
            <span class="p">&lt;</span><span class="nt">td</span><span class="p">&gt;</span> 35-83
            <span class="p">&lt;/</span><span class="nt">td</span><span class="p">&gt;</span>
            <span class="p">&lt;</span><span class="nt">td</span><span class="p">&gt;</span> 8-29
            <span class="p">&lt;/</span><span class="nt">td</span><span class="p">&gt;</span>
            <span class="p">&lt;</span><span class="nt">td</span><span class="p">&gt;</span> 21-29
            <span class="p">&lt;/</span><span class="nt">td</span><span class="p">&gt;</span>
            <span class="p">&lt;</span><span class="nt">td</span><span class="p">&gt;</span>11<span class="p">&lt;/</span><span class="nt">td</span><span class="p">&gt;</span>
            <span class="p">&lt;</span><span class="nt">td</span><span class="p">&gt;</span>31<span class="p">&lt;/</span><span class="nt">td</span><span class="p">&gt;</span>
            <span class="p">&lt;</span><span class="nt">td</span><span class="p">&gt;</span>42<span class="p">&lt;/</span><span class="nt">td</span><span class="p">&gt;</span>
            <span class="p">&lt;</span><span class="nt">td</span><span class="p">&gt;</span>14<span class="p">&lt;/</span><span class="nt">td</span><span class="p">&gt;</span>
            <span class="p">&lt;</span><span class="nt">td</span><span class="p">&gt;</span>6<span class="p">&lt;/</span><span class="nt">td</span><span class="p">&gt;</span>
            <span class="p">&lt;</span><span class="nt">td</span><span class="p">&gt;</span>6<span class="p">&lt;/</span><span class="nt">td</span><span class="p">&gt;</span>
            <span class="p">&lt;</span><span class="nt">td</span><span class="p">&gt;</span>6<span class="p">&lt;/</span><span class="nt">td</span><span class="p">&gt;</span>
            <span class="p">&lt;</span><span class="nt">td</span><span class="p">&gt;</span>22<span class="p">&lt;/</span><span class="nt">td</span><span class="p">&gt;</span>
            <span class="p">&lt;</span><span class="nt">td</span><span class="p">&gt;</span> 99
            <span class="p">&lt;/</span><span class="nt">td</span><span class="p">&gt;</span>
        <span class="p">&lt;/</span><span class="nt">tr</span><span class="p">&gt;</span>
        <span class="p">&lt;</span><span class="nt">tr</span> <span class="na">class</span><span class="o">=</span><span class="s">&quot;totals&quot;</span><span class="p">&gt;</span>
            <span class="p">&lt;</span><span class="nt">td</span> <span class="na">class</span><span class="o">=</span><span class="s">&quot;pinned-col&quot;</span><span class="p">&gt;</span><span class="ni">&amp;nbsp;</span><span class="p">&lt;/</span><span class="nt">td</span><span class="p">&gt;</span>
            <span class="p">&lt;</span><span class="nt">td</span><span class="p">&gt;</span><span class="ni">&amp;nbsp;</span><span class="p">&lt;/</span><span class="nt">td</span><span class="p">&gt;</span>
            <span class="p">&lt;</span><span class="nt">td</span><span class="p">&gt;</span> 42.2%
            <span class="p">&lt;/</span><span class="nt">td</span><span class="p">&gt;</span>
            <span class="p">&lt;</span><span class="nt">td</span><span class="p">&gt;</span> 27.6%
            <span class="p">&lt;/</span><span class="nt">td</span><span class="p">&gt;</span>
            <span class="p">&lt;</span><span class="nt">td</span><span class="p">&gt;</span> 72.4%
            <span class="p">&lt;/</span><span class="nt">td</span><span class="p">&gt;</span>
            <span class="p">&lt;</span><span class="nt">td</span> <span class="na">colspan</span><span class="o">=</span><span class="s">&quot;9&quot;</span><span class="p">&gt;</span><span class="ni">&amp;nbsp;</span><span class="p">&lt;/</span><span class="nt">td</span><span class="p">&gt;</span>
        <span class="p">&lt;/</span><span class="nt">tr</span><span class="p">&gt;</span>
    <span class="p">&lt;/</span><span class="nt">tbody</span><span class="p">&gt;</span>
<span class="p">&lt;/</span><span class="nt">table</span><span class="p">&gt;</span>
</pre></div>

</div>
</div>
</div>
<div class="cell border-box-sizing text_cell rendered"><div class="prompt input_prompt">
</div>
<div class="inner_cell">
<div class="text_cell_render border-box-sizing rendered_html">
<p>To get our bearings, let's take a look at the first game we've played before trying to parse <em>all</em> of the games at once. (It might help to open up the box score for the first game in your browser to double-check the results.)</p>

</div>
</div>
</div>
<div class="cell border-box-sizing code_cell rendered">
<div class="input">
<div class="prompt input_prompt">In&nbsp;[14]:</div>
<div class="inner_cell">
    <div class="input_area">
<div class=" highlight hl-ipython3"><pre><span></span><span class="n">first_box_score</span> <span class="o">=</span> <span class="n">box_scores</span><span class="p">[</span><span class="mi">0</span><span class="p">]</span>
</pre></div>

</div>
</div>
</div>

</div>
<div class="cell border-box-sizing text_cell rendered"><div class="prompt input_prompt">
</div>
<div class="inner_cell">
<div class="text_cell_render border-box-sizing rendered_html">
<p>As both teams have their stats on the same page, we will only need to look at the first table (the outer <a href="https://docs.python.org/3/library/functions.html#next"><code>next</code></a> call) that has the correct team name (the outer <a href="https://docs.python.org/3/library/functions.html#filter"><code>filter</code></a> call):</p>

</div>
</div>
</div>
<div class="cell border-box-sizing code_cell rendered">
<div class="input">
<div class="prompt input_prompt">In&nbsp;[15]:</div>
<div class="inner_cell">
    <div class="input_area">
<div class=" highlight hl-ipython3"><pre><span></span><span class="n">first_game_table</span> <span class="o">=</span> <span class="nb">next</span><span class="p">(</span><span class="nb">filter</span><span class="p">(</span>
    <span class="c1"># The first table caption with the correct team name is the element we want</span>
    <span class="k">lambda</span> <span class="n">table</span><span class="p">:</span> <span class="nb">next</span><span class="p">(</span><span class="nb">iter</span><span class="p">(</span><span class="n">table</span><span class="o">.</span><span class="n">select</span><span class="p">(</span><span class="s2">&quot;caption &gt; h2 &gt; .team-name&quot;</span><span class="p">)))</span><span class="o">.</span><span class="n">string</span> <span class="o">==</span> <span class="n">team_name</span><span class="p">,</span>
    <span class="n">BeautifulSoup</span><span class="p">(</span><span class="n">first_box_score</span><span class="p">,</span> <span class="s2">&quot;html.parser&quot;</span><span class="p">)</span><span class="o">.</span><span class="n">select</span><span class="p">(</span><span class="s2">&quot;div.stats-box table&quot;</span><span class="p">)))</span>
</pre></div>

</div>
</div>
</div>

</div>
<div class="cell border-box-sizing text_cell rendered"><div class="prompt input_prompt">
</div>
<div class="inner_cell">
<div class="text_cell_render border-box-sizing rendered_html">
<h2 id="Parsing-Box-Scores">Parsing Box Scores<a class="anchor-link" href="#Parsing-Box-Scores">&#182;</a></h2><p>With our hands on the first game table, we need to parse out the HTML (shown above) into something useful. The goal of this whole exercise is to be able to look at stats for individual players, so let's construct a list of dictionaries with player names as keys and their stats as values.</p>
<p>The following two functions parse the table HTML into the desired structure:</p>

</div>
</div>
</div>
<div class="cell border-box-sizing code_cell rendered">
<div class="input">
<div class="prompt input_prompt">In&nbsp;[16]:</div>
<div class="inner_cell">
    <div class="input_area">
<div class=" highlight hl-ipython3"><pre><span></span><span class="k">def</span> <span class="nf">cols_from_row</span><span class="p">(</span><span class="n">row</span><span class="p">):</span>
    <span class="sd">&quot;&quot;&quot;Returns a list of column values in the given row.&quot;&quot;&quot;</span>
    <span class="n">cols</span> <span class="o">=</span> <span class="n">row</span><span class="o">.</span><span class="n">find_all</span><span class="p">(</span><span class="s2">&quot;th&quot;</span><span class="p">)</span> <span class="o">+</span> <span class="n">row</span><span class="o">.</span><span class="n">find_all</span><span class="p">(</span><span class="s2">&quot;td&quot;</span><span class="p">)</span>
    <span class="n">cols</span> <span class="o">=</span> <span class="p">[</span><span class="s1">&#39; &#39;</span><span class="o">.</span><span class="n">join</span><span class="p">(</span><span class="nb">list</span><span class="p">(</span><span class="n">ele</span><span class="o">.</span><span class="n">stripped_strings</span><span class="p">))</span> <span class="k">for</span> <span class="n">ele</span> <span class="ow">in</span> <span class="n">cols</span><span class="p">]</span>
    <span class="k">return</span> <span class="n">cols</span>

<span class="k">def</span> <span class="nf">stats_from_table</span><span class="p">(</span><span class="n">table</span><span class="p">):</span>
    <span class="sd">&quot;&quot;&quot;Returns a dictionary with player names as keys and their stats as values.&quot;&quot;&quot;</span>
    <span class="n">stats</span> <span class="o">=</span> <span class="p">{}</span>
    <span class="n">rows</span> <span class="o">=</span> <span class="n">table</span><span class="o">.</span><span class="n">find_all</span><span class="p">(</span><span class="s2">&quot;tr&quot;</span><span class="p">)</span>
    <span class="n">heading_row</span><span class="p">,</span> <span class="o">*</span><span class="n">body_rows</span> <span class="o">=</span> <span class="n">rows</span>
    <span class="n">headings</span> <span class="o">=</span> <span class="n">cols_from_row</span><span class="p">(</span><span class="n">heading_row</span><span class="p">)</span>
    <span class="n">heading_count</span> <span class="o">=</span> <span class="nb">len</span><span class="p">(</span><span class="n">headings</span><span class="p">)</span>
    <span class="k">for</span> <span class="n">row</span> <span class="ow">in</span> <span class="n">body_rows</span><span class="p">:</span>
        <span class="n">cols</span> <span class="o">=</span> <span class="n">cols_from_row</span><span class="p">(</span><span class="n">row</span><span class="p">)</span>
        <span class="k">if</span> <span class="ow">not</span> <span class="nb">len</span><span class="p">(</span><span class="n">cols</span><span class="p">)</span> <span class="o">==</span> <span class="n">heading_count</span><span class="p">:</span>
            <span class="k">continue</span>
        <span class="n">player</span><span class="p">,</span> <span class="n">minutes</span><span class="p">,</span> <span class="o">*</span><span class="n">rest</span> <span class="o">=</span> <span class="n">cols</span>
        <span class="k">if</span> <span class="ow">not</span> <span class="n">minutes</span><span class="p">:</span>
            <span class="c1"># The team totals doesn&#39;t have minutes</span>
            <span class="c1"># And though this isn&#39;t an individual stat, we&#39;ll hold on to these numbers</span>
            <span class="n">stats</span><span class="p">[</span><span class="s2">&quot;TEAM&quot;</span><span class="p">]</span> <span class="o">=</span> <span class="nb">dict</span><span class="p">(</span><span class="nb">zip</span><span class="p">(</span><span class="n">headings</span><span class="p">[</span><span class="mi">2</span><span class="p">:],</span> <span class="n">rest</span><span class="p">))</span>
            <span class="k">continue</span>
        <span class="n">player_stats</span> <span class="o">=</span> <span class="nb">dict</span><span class="p">(</span><span class="nb">zip</span><span class="p">(</span><span class="n">headings</span><span class="p">,</span> <span class="n">cols</span><span class="p">))</span>
        <span class="c1"># We don&#39;t need the player name in their stats too</span>
        <span class="n">player_stats</span><span class="o">.</span><span class="n">pop</span><span class="p">(</span><span class="s2">&quot;Player&quot;</span><span class="p">)</span>
        <span class="n">stats</span><span class="p">[</span><span class="n">player</span><span class="p">]</span> <span class="o">=</span> <span class="n">player_stats</span>
    <span class="k">return</span> <span class="n">stats</span>
</pre></div>

</div>
</div>
</div>

</div>
<div class="cell border-box-sizing text_cell rendered"><div class="prompt input_prompt">
</div>
<div class="inner_cell">
<div class="text_cell_render border-box-sizing rendered_html">
<p>Uncomment this to see how the stats are structured:</p>

</div>
</div>
</div>
<div class="cell border-box-sizing code_cell rendered">
<div class="input">
<div class="prompt input_prompt">In&nbsp;[17]:</div>
<div class="inner_cell">
    <div class="input_area">
<div class=" highlight hl-ipython3"><pre><span></span><span class="c1"># stats_from_table(first_game_table)</span>
</pre></div>

</div>
</div>
</div>

</div>
<div class="cell border-box-sizing text_cell rendered"><div class="prompt input_prompt">
</div>
<div class="inner_cell">
<div class="text_cell_render border-box-sizing rendered_html">
<p>Having that working, we can iterate over all of the box scores and accumulate them into a single list of stats:</p>
<p>Note: we're using <code>total_game_count</code> here (defined above) to limit the number of games if necessary.</p>

</div>
</div>
</div>
<div class="cell border-box-sizing code_cell rendered">
<div class="input">
<div class="prompt input_prompt">In&nbsp;[18]:</div>
<div class="inner_cell">
    <div class="input_area">
<div class=" highlight hl-ipython3"><pre><span></span><span class="n">all_game_stats</span> <span class="o">=</span> <span class="p">[]</span>
<span class="k">for</span> <span class="n">box_score</span> <span class="ow">in</span> <span class="n">box_scores</span><span class="p">[:</span><span class="n">total_game_count</span><span class="p">]:</span>
    <span class="n">markup</span> <span class="o">=</span> <span class="n">BeautifulSoup</span><span class="p">(</span><span class="n">box_score</span><span class="p">,</span> <span class="s2">&quot;html.parser&quot;</span><span class="p">)</span>
    <span class="n">game_title</span><span class="p">,</span> <span class="n">game_date</span> <span class="o">=</span> <span class="nb">list</span><span class="p">(</span>
        <span class="n">markup</span><span class="o">.</span><span class="n">select</span><span class="p">(</span><span class="s2">&quot;.game-boxscore h1:nth-of-type(1)&quot;</span><span class="p">)[</span><span class="mi">0</span><span class="p">]</span><span class="o">.</span><span class="n">stripped_strings</span><span class="p">)</span>
    <span class="n">stats</span> <span class="o">=</span> <span class="n">stats_from_table</span><span class="p">(</span><span class="nb">next</span><span class="p">(</span><span class="nb">filter</span><span class="p">(</span>
        <span class="k">lambda</span> <span class="n">table</span><span class="p">:</span> <span class="nb">next</span><span class="p">(</span><span class="nb">iter</span><span class="p">(</span><span class="n">table</span><span class="o">.</span><span class="n">select</span><span class="p">(</span><span class="s2">&quot;caption &gt; h2 &gt; .team-name&quot;</span><span class="p">)))</span><span class="o">.</span><span class="n">string</span> <span class="o">==</span> <span class="n">team_name</span><span class="p">,</span>
        <span class="n">markup</span><span class="o">.</span><span class="n">select</span><span class="p">(</span><span class="s2">&quot;div.stats-box table&quot;</span><span class="p">))))</span>
    <span class="n">all_game_stats</span><span class="o">.</span><span class="n">append</span><span class="p">({</span>
        <span class="s2">&quot;game_date&quot;</span><span class="p">:</span> <span class="n">game_date</span><span class="p">,</span>
        <span class="s2">&quot;game_title&quot;</span><span class="p">:</span> <span class="n">game_title</span><span class="p">,</span>
        <span class="s2">&quot;stats&quot;</span><span class="p">:</span> <span class="n">stats</span><span class="p">,</span>
    <span class="p">})</span>
</pre></div>

</div>
</div>
</div>

</div>
<div class="cell border-box-sizing text_cell rendered"><div class="prompt input_prompt">
</div>
<div class="inner_cell">
<div class="text_cell_render border-box-sizing rendered_html">
<p>Uncomment this to peek inside the structure:</p>

</div>
</div>
</div>
<div class="cell border-box-sizing code_cell rendered">
<div class="input">
<div class="prompt input_prompt">In&nbsp;[19]:</div>
<div class="inner_cell">
    <div class="input_area">
<div class=" highlight hl-ipython3"><pre><span></span><span class="c1"># all_game_stats</span>
</pre></div>

</div>
</div>
</div>

</div>
<div class="cell border-box-sizing text_cell rendered"><div class="prompt input_prompt">
</div>
<div class="inner_cell">
<div class="text_cell_render border-box-sizing rendered_html">
<h2 id="Individual-Player-Stats">Individual Player Stats<a class="anchor-link" href="#Individual-Player-Stats">&#182;</a></h2><p>Everything leading up to this section was getting our hands on the data in a usable form. Now for the fun bit:</p>
<ol>
<li>Pick a player (note the format)</li>
<li>Turn just their data into a <a href="https://pandas.pydata.org/pandas-docs/stable/generated/pandas.DataFrame.html"><code>pandas.DataFrame</code></a></li>
<li>Compute additional stats that the NBL doesn't have on their site</li>
<li>Plot stuff</li>
</ol>
<p>(If you're new to Pandas I'd recommend reading through <a href="https://pandas.pydata.org/pandas-docs/stable/10min.html">10 Minutes to pandas</a>.)</p>

</div>
</div>
</div>
<div class="cell border-box-sizing code_cell rendered">
<div class="input">
<div class="prompt input_prompt">In&nbsp;[20]:</div>
<div class="inner_cell">
    <div class="input_area">
<div class=" highlight hl-ipython3"><pre><span></span><span class="n">player</span> <span class="o">=</span> <span class="s2">&quot;3 - Alex Johnson&quot;</span>
</pre></div>

</div>
</div>
</div>

</div>
<div class="cell border-box-sizing code_cell rendered">
<div class="input">
<div class="prompt input_prompt">In&nbsp;[21]:</div>
<div class="inner_cell">
    <div class="input_area">
<div class=" highlight hl-ipython3"><pre><span></span><span class="kn">import</span> <span class="nn">pandas</span>
<span class="kn">import</span> <span class="nn">seaborn</span>
</pre></div>

</div>
</div>
</div>

</div>
<div class="cell border-box-sizing code_cell rendered">
<div class="input">
<div class="prompt input_prompt">In&nbsp;[22]:</div>
<div class="inner_cell">
    <div class="input_area">
<div class=" highlight hl-ipython3"><pre><span></span><span class="n">data</span> <span class="o">=</span> <span class="n">pandas</span><span class="o">.</span><span class="n">DataFrame</span><span class="p">(</span><span class="nb">list</span><span class="p">(</span><span class="nb">map</span><span class="p">(</span>
    <span class="k">lambda</span> <span class="n">game_stats</span><span class="p">:</span> <span class="n">game_stats</span><span class="p">[</span><span class="s2">&quot;stats&quot;</span><span class="p">]</span><span class="o">.</span><span class="n">get</span><span class="p">(</span><span class="n">player</span><span class="p">),</span>
    <span class="nb">filter</span><span class="p">(</span>
        <span class="k">lambda</span> <span class="n">game_stats</span><span class="p">:</span> <span class="n">player</span> <span class="ow">in</span> <span class="n">game_stats</span><span class="p">[</span><span class="s2">&quot;stats&quot;</span><span class="p">],</span>
        <span class="n">all_game_stats</span><span class="p">))),</span>
    <span class="n">columns</span><span class="o">=</span><span class="p">[</span><span class="s2">&quot;MIN&quot;</span><span class="p">,</span> <span class="s2">&quot;FGM-A&quot;</span><span class="p">,</span> <span class="s2">&quot;3PM-A&quot;</span><span class="p">,</span> <span class="s2">&quot;PTS&quot;</span><span class="p">])</span>
<span class="n">data</span><span class="p">[</span><span class="s2">&quot;Game&quot;</span><span class="p">]</span> <span class="o">=</span> <span class="n">data</span><span class="o">.</span><span class="n">apply</span><span class="p">(</span><span class="k">lambda</span> <span class="n">r</span><span class="p">:</span> <span class="n">r</span><span class="o">.</span><span class="n">name</span> <span class="o">+</span> <span class="mi">1</span><span class="p">,</span> <span class="n">axis</span><span class="o">=</span><span class="mi">1</span><span class="p">)</span>
<span class="n">data</span><span class="p">[</span><span class="s2">&quot;FGM&quot;</span><span class="p">]</span> <span class="o">=</span> <span class="n">data</span><span class="o">.</span><span class="n">apply</span><span class="p">(</span><span class="k">lambda</span> <span class="n">r</span><span class="p">:</span> <span class="nb">int</span><span class="p">(</span><span class="n">r</span><span class="p">[</span><span class="s2">&quot;FGM-A&quot;</span><span class="p">]</span><span class="o">.</span><span class="n">split</span><span class="p">(</span><span class="s2">&quot;-&quot;</span><span class="p">)[</span><span class="mi">0</span><span class="p">]),</span> <span class="n">axis</span><span class="o">=</span><span class="mi">1</span><span class="p">)</span>
<span class="n">data</span><span class="p">[</span><span class="s2">&quot;FGA&quot;</span><span class="p">]</span> <span class="o">=</span> <span class="n">data</span><span class="o">.</span><span class="n">apply</span><span class="p">(</span><span class="k">lambda</span> <span class="n">r</span><span class="p">:</span> <span class="nb">int</span><span class="p">(</span><span class="n">r</span><span class="p">[</span><span class="s2">&quot;FGM-A&quot;</span><span class="p">]</span><span class="o">.</span><span class="n">split</span><span class="p">(</span><span class="s2">&quot;-&quot;</span><span class="p">)[</span><span class="mi">1</span><span class="p">]),</span> <span class="n">axis</span><span class="o">=</span><span class="mi">1</span><span class="p">)</span>
<span class="n">data</span><span class="p">[</span><span class="s2">&quot;FG%&quot;</span><span class="p">]</span> <span class="o">=</span> <span class="n">data</span><span class="o">.</span><span class="n">apply</span><span class="p">(</span><span class="k">lambda</span> <span class="n">r</span><span class="p">:</span> <span class="n">r</span><span class="p">[</span><span class="s2">&quot;FGM&quot;</span><span class="p">]</span> <span class="o">/</span> <span class="n">r</span><span class="p">[</span><span class="s2">&quot;FGA&quot;</span><span class="p">]</span> <span class="k">if</span> <span class="n">r</span><span class="p">[</span><span class="s2">&quot;FGA&quot;</span><span class="p">]</span> <span class="o">!=</span> <span class="mi">0</span> <span class="k">else</span> <span class="kc">None</span><span class="p">,</span> <span class="n">axis</span><span class="o">=</span><span class="mi">1</span><span class="p">)</span>
<span class="n">data</span><span class="p">[</span><span class="s2">&quot;3PM&quot;</span><span class="p">]</span> <span class="o">=</span> <span class="n">data</span><span class="o">.</span><span class="n">apply</span><span class="p">(</span><span class="k">lambda</span> <span class="n">r</span><span class="p">:</span> <span class="nb">int</span><span class="p">(</span><span class="n">r</span><span class="p">[</span><span class="s2">&quot;3PM-A&quot;</span><span class="p">]</span><span class="o">.</span><span class="n">split</span><span class="p">(</span><span class="s2">&quot;-&quot;</span><span class="p">)[</span><span class="mi">0</span><span class="p">]),</span> <span class="n">axis</span><span class="o">=</span><span class="mi">1</span><span class="p">)</span>
<span class="n">data</span><span class="p">[</span><span class="s2">&quot;3PA&quot;</span><span class="p">]</span> <span class="o">=</span> <span class="n">data</span><span class="o">.</span><span class="n">apply</span><span class="p">(</span><span class="k">lambda</span> <span class="n">r</span><span class="p">:</span> <span class="nb">int</span><span class="p">(</span><span class="n">r</span><span class="p">[</span><span class="s2">&quot;3PM-A&quot;</span><span class="p">]</span><span class="o">.</span><span class="n">split</span><span class="p">(</span><span class="s2">&quot;-&quot;</span><span class="p">)[</span><span class="mi">1</span><span class="p">]),</span> <span class="n">axis</span><span class="o">=</span><span class="mi">1</span><span class="p">)</span>
<span class="n">data</span><span class="p">[</span><span class="s2">&quot;3P%&quot;</span><span class="p">]</span> <span class="o">=</span> <span class="n">data</span><span class="o">.</span><span class="n">apply</span><span class="p">(</span><span class="k">lambda</span> <span class="n">r</span><span class="p">:</span> <span class="n">r</span><span class="p">[</span><span class="s2">&quot;3PM&quot;</span><span class="p">]</span> <span class="o">/</span> <span class="n">r</span><span class="p">[</span><span class="s2">&quot;3PA&quot;</span><span class="p">]</span> <span class="k">if</span> <span class="n">r</span><span class="p">[</span><span class="s2">&quot;3PA&quot;</span><span class="p">]</span> <span class="o">!=</span> <span class="mi">0</span> <span class="k">else</span> <span class="kc">None</span><span class="p">,</span> <span class="n">axis</span><span class="o">=</span><span class="mi">1</span><span class="p">)</span>
<span class="n">data</span> <span class="o">=</span> <span class="n">data</span><span class="o">.</span><span class="n">drop</span><span class="p">(</span><span class="n">columns</span><span class="o">=</span><span class="p">[</span><span class="s2">&quot;FGM-A&quot;</span><span class="p">,</span> <span class="s2">&quot;3PM-A&quot;</span><span class="p">])</span>
</pre></div>

</div>
</div>
</div>

</div>
<div class="cell border-box-sizing code_cell rendered">
<div class="input">
<div class="prompt input_prompt">In&nbsp;[23]:</div>
<div class="inner_cell">
    <div class="input_area">
<div class=" highlight hl-ipython3"><pre><span></span><span class="n">data</span>
<span class="c1"># Use data.to_csv() for quick export</span>
</pre></div>

</div>
</div>
</div>

<div class="output_wrapper">
<div class="output">


<div class="output_area">

<div class="prompt output_prompt">Out[23]:</div>



<div class="output_html rendered_html output_subarea output_execute_result">
<div>
<style scoped>
    .dataframe tbody tr th:only-of-type {
        vertical-align: middle;
    }

    .dataframe tbody tr th {
        vertical-align: top;
    }

    .dataframe thead th {
        text-align: right;
    }
</style>
<table border="1" class="dataframe">
  <thead>
    <tr style="text-align: right;">
      <th></th>
      <th>MIN</th>
      <th>PTS</th>
      <th>Game</th>
      <th>FGM</th>
      <th>FGA</th>
      <th>FG%</th>
      <th>3PM</th>
      <th>3PA</th>
      <th>3P%</th>
    </tr>
  </thead>
  <tbody>
    <tr>
      <th>0</th>
      <td>30</td>
      <td>10</td>
      <td>1</td>
      <td>3</td>
      <td>8</td>
      <td>0.375000</td>
      <td>2</td>
      <td>4</td>
      <td>0.500000</td>
    </tr>
    <tr>
      <th>1</th>
      <td>36</td>
      <td>17</td>
      <td>2</td>
      <td>7</td>
      <td>13</td>
      <td>0.538462</td>
      <td>3</td>
      <td>6</td>
      <td>0.500000</td>
    </tr>
    <tr>
      <th>2</th>
      <td>32</td>
      <td>11</td>
      <td>3</td>
      <td>1</td>
      <td>7</td>
      <td>0.142857</td>
      <td>1</td>
      <td>5</td>
      <td>0.200000</td>
    </tr>
    <tr>
      <th>3</th>
      <td>34</td>
      <td>19</td>
      <td>4</td>
      <td>8</td>
      <td>15</td>
      <td>0.533333</td>
      <td>2</td>
      <td>5</td>
      <td>0.400000</td>
    </tr>
    <tr>
      <th>4</th>
      <td>30</td>
      <td>13</td>
      <td>5</td>
      <td>3</td>
      <td>9</td>
      <td>0.333333</td>
      <td>3</td>
      <td>4</td>
      <td>0.750000</td>
    </tr>
    <tr>
      <th>5</th>
      <td>25</td>
      <td>7</td>
      <td>6</td>
      <td>3</td>
      <td>7</td>
      <td>0.428571</td>
      <td>0</td>
      <td>2</td>
      <td>0.000000</td>
    </tr>
    <tr>
      <th>6</th>
      <td>28</td>
      <td>2</td>
      <td>7</td>
      <td>1</td>
      <td>4</td>
      <td>0.250000</td>
      <td>0</td>
      <td>2</td>
      <td>0.000000</td>
    </tr>
    <tr>
      <th>7</th>
      <td>26</td>
      <td>13</td>
      <td>8</td>
      <td>5</td>
      <td>9</td>
      <td>0.555556</td>
      <td>2</td>
      <td>5</td>
      <td>0.400000</td>
    </tr>
    <tr>
      <th>8</th>
      <td>27</td>
      <td>11</td>
      <td>9</td>
      <td>5</td>
      <td>7</td>
      <td>0.714286</td>
      <td>1</td>
      <td>1</td>
      <td>1.000000</td>
    </tr>
    <tr>
      <th>9</th>
      <td>37</td>
      <td>11</td>
      <td>10</td>
      <td>4</td>
      <td>7</td>
      <td>0.571429</td>
      <td>1</td>
      <td>3</td>
      <td>0.333333</td>
    </tr>
    <tr>
      <th>10</th>
      <td>36</td>
      <td>15</td>
      <td>11</td>
      <td>6</td>
      <td>12</td>
      <td>0.500000</td>
      <td>2</td>
      <td>5</td>
      <td>0.400000</td>
    </tr>
    <tr>
      <th>11</th>
      <td>29</td>
      <td>6</td>
      <td>12</td>
      <td>3</td>
      <td>5</td>
      <td>0.600000</td>
      <td>0</td>
      <td>1</td>
      <td>0.000000</td>
    </tr>
    <tr>
      <th>12</th>
      <td>31</td>
      <td>17</td>
      <td>13</td>
      <td>5</td>
      <td>9</td>
      <td>0.555556</td>
      <td>3</td>
      <td>4</td>
      <td>0.750000</td>
    </tr>
    <tr>
      <th>13</th>
      <td>31</td>
      <td>18</td>
      <td>14</td>
      <td>5</td>
      <td>10</td>
      <td>0.500000</td>
      <td>2</td>
      <td>5</td>
      <td>0.400000</td>
    </tr>
    <tr>
      <th>14</th>
      <td>38</td>
      <td>19</td>
      <td>15</td>
      <td>7</td>
      <td>13</td>
      <td>0.538462</td>
      <td>1</td>
      <td>5</td>
      <td>0.200000</td>
    </tr>
    <tr>
      <th>15</th>
      <td>26</td>
      <td>9</td>
      <td>16</td>
      <td>4</td>
      <td>7</td>
      <td>0.571429</td>
      <td>1</td>
      <td>3</td>
      <td>0.333333</td>
    </tr>
    <tr>
      <th>16</th>
      <td>21</td>
      <td>9</td>
      <td>17</td>
      <td>4</td>
      <td>6</td>
      <td>0.666667</td>
      <td>1</td>
      <td>1</td>
      <td>1.000000</td>
    </tr>
    <tr>
      <th>17</th>
      <td>36</td>
      <td>13</td>
      <td>18</td>
      <td>4</td>
      <td>10</td>
      <td>0.400000</td>
      <td>2</td>
      <td>5</td>
      <td>0.400000</td>
    </tr>
    <tr>
      <th>18</th>
      <td>32</td>
      <td>12</td>
      <td>19</td>
      <td>4</td>
      <td>8</td>
      <td>0.500000</td>
      <td>1</td>
      <td>3</td>
      <td>0.333333</td>
    </tr>
    <tr>
      <th>19</th>
      <td>26</td>
      <td>10</td>
      <td>20</td>
      <td>4</td>
      <td>8</td>
      <td>0.500000</td>
      <td>0</td>
      <td>1</td>
      <td>0.000000</td>
    </tr>
    <tr>
      <th>20</th>
      <td>27</td>
      <td>6</td>
      <td>21</td>
      <td>2</td>
      <td>5</td>
      <td>0.400000</td>
      <td>1</td>
      <td>2</td>
      <td>0.500000</td>
    </tr>
    <tr>
      <th>21</th>
      <td>47</td>
      <td>17</td>
      <td>22</td>
      <td>7</td>
      <td>9</td>
      <td>0.777778</td>
      <td>1</td>
      <td>2</td>
      <td>0.500000</td>
    </tr>
    <tr>
      <th>22</th>
      <td>28</td>
      <td>15</td>
      <td>23</td>
      <td>5</td>
      <td>9</td>
      <td>0.555556</td>
      <td>0</td>
      <td>2</td>
      <td>0.000000</td>
    </tr>
    <tr>
      <th>23</th>
      <td>24</td>
      <td>9</td>
      <td>24</td>
      <td>4</td>
      <td>9</td>
      <td>0.444444</td>
      <td>1</td>
      <td>4</td>
      <td>0.250000</td>
    </tr>
    <tr>
      <th>24</th>
      <td>38</td>
      <td>30</td>
      <td>25</td>
      <td>11</td>
      <td>17</td>
      <td>0.647059</td>
      <td>4</td>
      <td>7</td>
      <td>0.571429</td>
    </tr>
    <tr>
      <th>25</th>
      <td>34</td>
      <td>6</td>
      <td>26</td>
      <td>2</td>
      <td>6</td>
      <td>0.333333</td>
      <td>0</td>
      <td>1</td>
      <td>0.000000</td>
    </tr>
    <tr>
      <th>26</th>
      <td>29</td>
      <td>19</td>
      <td>27</td>
      <td>7</td>
      <td>13</td>
      <td>0.538462</td>
      <td>1</td>
      <td>3</td>
      <td>0.333333</td>
    </tr>
    <tr>
      <th>27</th>
      <td>17</td>
      <td>5</td>
      <td>28</td>
      <td>2</td>
      <td>3</td>
      <td>0.666667</td>
      <td>1</td>
      <td>2</td>
      <td>0.500000</td>
    </tr>
    <tr>
      <th>28</th>
      <td>34</td>
      <td>16</td>
      <td>29</td>
      <td>4</td>
      <td>8</td>
      <td>0.500000</td>
      <td>1</td>
      <td>3</td>
      <td>0.333333</td>
    </tr>
    <tr>
      <th>29</th>
      <td>23</td>
      <td>7</td>
      <td>30</td>
      <td>3</td>
      <td>8</td>
      <td>0.375000</td>
      <td>1</td>
      <td>3</td>
      <td>0.333333</td>
    </tr>
    <tr>
      <th>30</th>
      <td>22</td>
      <td>6</td>
      <td>31</td>
      <td>3</td>
      <td>8</td>
      <td>0.375000</td>
      <td>0</td>
      <td>1</td>
      <td>0.000000</td>
    </tr>
    <tr>
      <th>31</th>
      <td>32</td>
      <td>9</td>
      <td>32</td>
      <td>3</td>
      <td>11</td>
      <td>0.272727</td>
      <td>1</td>
      <td>4</td>
      <td>0.250000</td>
    </tr>
    <tr>
      <th>32</th>
      <td>13</td>
      <td>3</td>
      <td>33</td>
      <td>1</td>
      <td>2</td>
      <td>0.500000</td>
      <td>0</td>
      <td>1</td>
      <td>0.000000</td>
    </tr>
    <tr>
      <th>33</th>
      <td>11</td>
      <td>0</td>
      <td>34</td>
      <td>0</td>
      <td>3</td>
      <td>0.000000</td>
      <td>0</td>
      <td>1</td>
      <td>0.000000</td>
    </tr>
    <tr>
      <th>34</th>
      <td>8</td>
      <td>2</td>
      <td>35</td>
      <td>1</td>
      <td>1</td>
      <td>1.000000</td>
      <td>0</td>
      <td>0</td>
      <td>NaN</td>
    </tr>
    <tr>
      <th>35</th>
      <td>13</td>
      <td>2</td>
      <td>36</td>
      <td>1</td>
      <td>5</td>
      <td>0.200000</td>
      <td>0</td>
      <td>2</td>
      <td>0.000000</td>
    </tr>
    <tr>
      <th>36</th>
      <td>2</td>
      <td>0</td>
      <td>37</td>
      <td>0</td>
      <td>2</td>
      <td>0.000000</td>
      <td>0</td>
      <td>1</td>
      <td>0.000000</td>
    </tr>
  </tbody>
</table>
</div>
</div>

</div>

</div>
</div>

</div>
<div class="cell border-box-sizing code_cell rendered">
<div class="input">
<div class="prompt input_prompt">In&nbsp;[24]:</div>
<div class="inner_cell">
    <div class="input_area">
<div class=" highlight hl-ipython3"><pre><span></span><span class="n">stat</span> <span class="o">=</span> <span class="s2">&quot;3P%&quot;</span>
<span class="n">plot</span> <span class="o">=</span> <span class="n">seaborn</span><span class="o">.</span><span class="n">regplot</span><span class="p">(</span><span class="s2">&quot;Game&quot;</span><span class="p">,</span> <span class="n">stat</span><span class="p">,</span> <span class="n">data</span><span class="o">=</span><span class="n">data</span><span class="p">)</span>
<span class="n">plot</span><span class="o">.</span><span class="n">set_title</span><span class="p">(</span><span class="s2">&quot;</span><span class="si">{}</span><span class="s2"> - </span><span class="si">{}</span><span class="s2">&quot;</span><span class="o">.</span><span class="n">format</span><span class="p">(</span><span class="n">player</span><span class="p">,</span> <span class="n">stat</span><span class="p">))</span>
<span class="n">plot</span><span class="o">.</span><span class="n">set_ylim</span><span class="p">(</span><span class="o">-</span><span class="mf">0.05</span><span class="p">,</span> <span class="mf">1.05</span><span class="p">)</span>
<span class="kc">None</span>
</pre></div>

</div>
</div>
</div>

<div class="output_wrapper">
<div class="output">


<div class="output_area">

<div class="prompt"></div>




<div class="output_png output_subarea ">
<img src="data:image/png;base64,iVBORw0KGgoAAAANSUhEUgAAAYUAAAEWCAYAAACJ0YulAAAABHNCSVQICAgIfAhkiAAAAAlwSFlzAAALEgAACxIB0t1+/AAAADl0RVh0U29mdHdhcmUAbWF0cGxvdGxpYiB2ZXJzaW9uIDIuMS4yLCBodHRwOi8vbWF0cGxvdGxpYi5vcmcvNQv5yAAAIABJREFUeJzt3Xt4XHd54PHvO2dmNLqNLF9kW7Idx4kTJzIkASfQpRhDQjew3aTtsiShbKEtjduFtmy3+yzt8qRtljzLdlsubWlxlrIUWkjTK27LLqUFY2gLsQOBWL7FUS6WZFu+yBpJM5rLmXf/OGeORvJIGtkzmovez/PokWbm+Mw7Z6x59bu9P1FVjDHGGIBQrQMwxhhTPywpGGOMCVhSMMYYE7CkYIwxJmBJwRhjTMCSgjHGmIAlBdNwRORFEbmnhs+/R0SGavX8xlSTJQVzzUTkj0XkjIgkROSkiLynAudsF5FJEflSJWIs8zlVRG5cruerJRF5v4gM+u/ZiIh8VETCRY+riEz578GwiHxERBz/sY+JyJiI/IuI9BX9mx8XkY/X4vWYyrGkYCrhfwBbVTUO3Ad8SERefY3nfBuQBn5IRDZea4DmCn8DvMp/z3YCtwG/MOeY21S1A7gbeAfwMyJyF/BqYAPwTeBXAESkC/hl4JHlCd9UiyUFc81UdUBV04Wb/tcN13jadwGfBL4P/Ph8B4lISEQ+ICLPi8hFEXlSRFb7jz3g/zUc92+/RUTOisi6xZ5cRFr8v4hH/K+PiUjLnGP+s4iM+q2knyy6/zMi8gkR+TsRmRCRb4vIDf5j4v9VPioi4yLyfRHZ6T/WJSKfFZHzIvKSiHxQREL+Y+8WkW+KyG/5f6W/ICJvWfJV9anq86p6uRAykAdKtpJU9TjwDbzkcT3wTf/9/kdgm3/YY8D/UtXxq43J1AdLCqYiROT3RSQJHAfOAFfd7SMiW4A9wJ/4Xz+xwOG/APwI8AagFxgDPgGgqn8K/AvwOyKyBvhD4D2qer6MMP4b8Frgdry/ou8CPlj0+AagC+gDfhr4hIh0Fz3+EPAbQDdwCu9DE+CHgN3ATcAq4AHgov/Y7/rn3Oa/np8AfnLmlLwGOAGsBX4T+EMRkTJeS0ki8g4RSQAX/Ne4b57jbgVeD3wXGABeLyKteC2IARHZBdysqp+/2lhMHVFV+7KvinwBDvCDeB+ekWs4zweBZ/yfewEXuKPo8ReBe/yfjwF3Fz22EcgCYf/2KuBl4Flg3yLPq8CN/s/PA28teuxfAy/6P+8BUoXn8O8bBV7r//wZ4FNFj70VOO7//CbgJF7CCc25dmng1qL79gIH/J/fDZwqeqzNj3dDBd637cB/Lz6Xf+4EXpJ9HvhQIV7gPwHfA/4UL0H9E3ALXoI+iJfIV9X6/6N9Xd2XtRRMxaiqq6rfBDYBP1fqGBEZ8AcvJ0Xk9fOc6ifwPlhQ1RHg63jdSaVcB/yViFwWkct4ScIF1vv//jLwZ3hdH7+9hJfTC7xUdPsl/76Ci6qaK7qdBDqKbp8t9ZiqfhX4PbzWzDkRedzv3loLREs8Z1/R7eCcqpr0fyx+TiAY8C1c4/+74Kv0zvUcXgvg9+c89CpV7VbVG1T1g6qa94//qKrepqoP4LV0voHX6/AwXuvhGPCBxZ7X1CdLCqYawswzpqCq/ara4X99Y+7jIvKv8P5y/RW///8sXrfJQ8WzY4qcBt6iqquKvmKqOuyf73bgp4AvAL+zhNcwgpdwCrb4910zVf0dVX010I/XjfRf8LpwsiWec/gqzv8nRde43HGHed+z+YjIerzWzKN4Sff7qpoFDgGvXMq5TP2wpGCuiYj0iMiDItIhIo6I/Gu8/vSvXuUp3wV8BbgVrz//drwPnDag1AfcJ4HHROQ6P551InK//3MM+GPgV/H65vtE5D+WGccXgA/651uLN6vmj6/yNQVE5E4ReY2IRIApYBpwVdUFnvRfS6f/en6pEs85TxzvEZEe/+db8WYR/eMST/MR4Nf8VssLwJ0i0oHXvTZYwXDNMrKkYK6V4nUVDeH1P/8W8H5V/eJST+R/iL8d+F1VPVv09QLwOUp3IX0c2A/8vYhMAN/Ca1mAN1V2SFX/QL3ZMu/Emy67fZHXA14f+mG82U/PAt/x77tWceB/412rl/AGmX/Lf+zn8RLFIN50z88Dn67Ac5byOuBZEZnCmxTwJbzkWRYReSPeuMFfAajqU8Df4bXc3gh8uOIRm2UhqrbJjjF+v/440K0zUzWNWXGspWCM5wHgeUsIZqUrNXBnzIoiIv+MN3X1mstzGNPorPvIGGNMwLqPjDHGBBqu+2jt2rW6devWWodhjDEN5emnn76gqovW/Wq4pLB161YOHz5c6zCMMaahiMhLix9l3UfGGGOKWFIwxhgTsKRgjDEmYEnBGGNMwJKCMcaYQNVmH4nIp4EfBkZVdWeJxwWvmNlb8erNv1tVv1OteMyMA8dH2XdwkNNjSTZ3t7F39zb27OipdVg1Y9fDmBnVbCl8Brh3gcffglc3fzve5hx/UMVYjO/A8VEe2T/A6MQ0q1ojjE5M88j+AQ4cH611aDVh18OY2aqWFFT1IHBpgUPuBz6rnm8Bq0RkY7XiMZ59BweJOEJbNIyI9z3iCPsOrszy93Y9jJmtlmMKfXi11wuGmL31YEBEHhaRwyJy+Pz5cvZcN/M5PZakNeLMuq814jA0lpznXzQ3ux7GzFbLpCAl7itZnU9VH1fVXaq6a926RVdpmwVs7m4jlXVn3ZfKumzqbqtRRLVl18OY2WqZFIaAzUW3N1GhPXDN/Pbu3kbWVZKZHKre96yr7N29rdah1YRdD2Nmq2VS2A/8hHheC4yr6pkaxrMi7NnRw6P39dPTGWM8laWnM8aj9/Wv2Nk2dj2Mma1q+ymIyBfwNvBeC5wDfg2IAKjqJ/0pqb+HN0MpCfykqi5a6W7Xrl1qBfGMMWZpRORpVd212HFVW6egqg8t8rgC763W8xtjjFk6W9FsjDEmYEnBGGNMwJKCMcaYgCUFY4wxAUsKxhhjApYUjDHGBCwpGGOMCVhSMMYYE7CkYIwxJmBJwRhjTMCSgjHGmIAlBWOMMQFLCsYYYwKWFIwxxgQsKRhjjAlYUjDGGBOwpGCMMSZgScEYY0zAkoIxxpiAJQVjjDEBSwrGGGMClhSMMcYELCkYY4wJWFIwxhgTsKRgjDEmYEnBGGNMwJKCMcaYgCUFY4wxAUsKxhhjApYUjDHGBCwpGGOMCVQ1KYjIvSJyQkROicgHSjy+RUS+JiLfFZHvi8hbqxmPMcaYhVUtKYiIA3wCeAtwK/CQiNw657APAk+q6h3Ag8DvVyseY4wxi6tmS+Eu4JSqDqpqBngCuH/OMQrE/Z+7gJEqxmOMMWYR1UwKfcDpottD/n3Ffh14p4gMAV8Cfr7UiUTkYRE5LCKHz58/X41YjTHGUN2kICXu0zm3HwI+o6qbgLcCnxORK2JS1cdVdZeq7lq3bl0VQjXGGAPVTQpDwOai25u4snvop4EnAVT1X4AYsLaKMRljjFlANZPCIWC7iFwvIlG8geT9c455GbgbQERuwUsK1j9kjDE1UrWkoKo54H3Al4FjeLOMBkTkURG5zz/sPwM/IyLfA74AvFtV53YxGWOMWSbhap5cVb+EN4BcfN8jRT8fBV5XzRiMMcaUz1Y0G2OMCVS1pWBmO3B8lH0HBzk9lmRzdxt7d29jz46eWodVM3Y9jKk/1lJYJgeOj/LI/gFGJ6ZZ1RphdGKaR/YPcOD4aK1Dqwm7HsbUJ0sKy2TfwUEijtAWDSPifY84wr6Dg7UOrSbsehhTnywpLJPTY0laI86s+1ojDkNjyRpFVFt2PYypT5YUlsnm7jZSWXfWfamsy6buthpFVFt2PYypT5YUlsne3dvIukoyk0PV+551lb27t9U6tJqw62FMfbKksEz27Ojh0fv66emMMZ7K0tMZ49H7+lfsbBu7HsbUJ2m0BcS7du3Sw4cP1zoMY4xpKCLytKruWuw4aykYY4wJWFIwxhgTsKRgjDEm0HBJwc0rmVy+1mEYY0xTarjaR25eGRpLEg2H6IxF6GgJ44RKbfJmjDFmqRouKRRkcnkuTqa5NJWhNeLQEQvTHnUQsQRhjDFXq2GTQkFh4VMyk8MJeTV0OmNhYnNKKBhjjFlcwyeFYm5emZjOMjGdJeKE6IyFaW8JE3EabujEGGNqoqmSQrGsm+fSVMbrXoo6tLeE6YiGCdn4gzHGzKtpk0KxVMYllXG5KBnaWxw6WsK0RVfESzfGmCVZUZ+MqsrkdI7J6RzhUIj2FofOWIRo2LqXjDEGVlhSKJbL5xlP5RlPZYlFHDpjYTpawjZ7yRizoq3YpFBsOusynXW5NJXxxh5abPaSMWZlsqRQxM0riVSWRGpm9lJHS5iwzV4yxqwQlhTmMXf2UkdLmHabvWSMaXKWFMpQmL10QTK0R73V0zZ7yRjTjOyTbQlUlcl0jsm0N3upM+atnrbuJWNMs7CkcJVy+TxjyQxjyUxQWqO9xS6nMaax2adYBRRqL1nrwRjT6CwpVFBx66E16i2Ms8qtxphGYkmhSgqD005IaG/xWg8tYVv7YIypb1Xt4xCRe0XkhIicEpEPzHPM20XkqIgMiMjnqxlPLRTWPgyPpRi+nCIxnSWf11qHZYwxJVWtpSAiDvAJ4M3AEHBIRPar6tGiY7YDvwK8TlXHRKSnWvHUg3TWJZ2dKcwXj0Vs5bQxpq5Us/voLuCUqg4CiMgTwP3A0aJjfgb4hKqOAajqaBXjqRvFhfls5bQxpp5U81OoDzhddHvIv6/YTcBNIvJPIvItEbm31IlE5GEROSwihy9dvFClcGujsHL65UtJzo5PM5XOoWrdS8aY2qhmS6HUlJu5n3ZhYDuwB9gEfENEdqrq5Vn/SPVx4HGAV97+qqb9xCye2toRCxO3qa3GmGVWzU+cIWBz0e1NwEiJY76oqllVfQE4gZckVrRcPs/lpNd6OJeYZjrr1jokY8wKUc2WwiFgu4hcDwwDDwLvmHPMXwMPAZ8RkbV43UmDVYyp4Uylc0ylc7REHLpaI3TYqmlTRQeOj7Lv4CCnx5Js7m5j7+5t7NnR1PM/zBxVaymoag54H/Bl4BjwpKoOiMijInKff9iXgYsichT4GvBfVPVitWJqZOmsy2himtOXkownbVqrqbwDx0d5ZP8AoxPTrGqNMDoxzSP7BzhwfEXM/zA+abRBzVfe/ir9668crHUYNeeEhM5YxMYdTMU89Pi3GJ2YnlUBOJnJ0dMZ4wsPv7aGkZlKEJGnVXXXYsdZX0SDcvPK5WSG8VSW9haHVa1R22vaXJPTY0lWtUZm3dcacRgaS9YoIlMLlhQaXPGah1jE2+uhPRrGsc2AzBJt7m67oqWQyrps6m6rYVRmudmflk1kOutyYSIdrHkYT2XJ5PK1Dss0iL27t5F1lWTGWyuTzOTIusre3dtqHZpZRtZSaEKFX+hkJgdAOBSiNerQ3uLQGrGqraa0PTt6eBTYd3CQobEkm2z20YpkSWEFyOXzTEznmZjOEhKhrcWhsyVCa9TqLpnZ9uzosSSwwllSWGHyVnfJGLOAJScFEYkBUVVNVCEes4wKdZcuTc1sKdpmmwIZs6ItKSmIyHuA/wCEROQbqvqr1QnLLLfCGIQTkiBBWFlvY1aeBfsMROTfzrnrHlV9g6q+Hvg31QvL1IqbVyams4xcTnH6UpKxqQw512YwGbNSLNaRfJuIfFFEbvNvf19E/kRE/hgYqHJspsayrrfndGGK66SV9Tam6S3YfaSqHxKRDcCjfj/zI0AH0Kaq31+G+EydKO5eam/xBqete8mY5lPOmMIU8H68ktaP41U//V/VDGohQ2MpPvetl9jZG2fHxjitZXwwPTV4iScOneZMIsXGeCsP3rmZu7atXvIxZmbP6UQqS8QJ0RZ1aLcEcc3KqU7aLBVMm+V1NKsFC+KJyIeA3UAE+FNV/Zhf4fQXgc+o6ueWJ8wZLRu368Z3fQyAkMCNPR3s7O1iZ1+c/t4u1nW2zDr+qcFLfPyrzxEOCbFIiOlsnlxe+cU3bQ8+9Ms5xizMprdevUJ10ogjtEYcUlmXrKs8el9/8GFZzjGNoFleRyOqVEG8H1bV28XrO3oa+Jiq7heRLwHvrUSgS9XVGmHrmjZevJgkr3Dy3CQnz03yl98dBmB9vIX+3i529sbZ2dfFF556mXBIghZF4T/iE4dOBx/4Txw6vegxZmHF01tbow5t0TDtUccSRBn2HRwk4khQc6gtGiaZybHv4GDwQVnOMY2gWV5HM1ssKRwRkc8BrcDXC3f6eyV8vJqBzWdDPMan330nE9NZBkYS/tc4x85MkM7lOZdIcy4xylf9GvACxCIhWiMOrVGH1rBDLBLibCIVnPNMIkU8NvtSzD3GlC+VcUllXC4CrVGHzliEdlv/MK9yqpM2SwXTZnkdzWyxgeZ3isgrgIyqnlimmMrSGYvw2m1reO22NQDk3Dynzk9yZDjBkZFxBkYSXJzMoEAqmyeVzUMyC0DEEbpiEf7x2Cj9fXE2dMa4lMzMGp+YzubZEG+txUtrKoUEUdh3ur3FoSVs4w/FyqlO2iwVTJvldTSzBZOCiGwHPgTcICLPAr+sqsPLEtkShZ0QOzbE2bEhzttevQlV5VwizRefGeZvvn+GrJsn63rjJ1lXuTCV4bEvHQMgHguTcfPEwg6dMQdVcBUevHPzQk9plqCw7/TlJDZAPcfe3dt4ZP8AyUxuVj97cXXSco5pBM3yOprZYgPN3wA+CxwE7gN+QFV/bJliK+lqdl4rzCwaGU/S0RLh+rXtjCUzHD2TYDp75cKskMDWNe38wA1rvAHsjV10xKxMVDU4IfEquEZXdomNwoychaqTlnNMI2iW19Foyh1oXiwpPKOqtxfd/o6qvqpCMV6VSm7H6eaVwfOTHPHHJo4MjzM6kb7iOAG2rm1nZ2+c/r4u+nvj9HbFVuwHWLWICG1Rx2tFRMOEbKMgYyqmUrOPYiJyB97nIkCriARJQVW/cw0x1pwTErav72T7+k5+9I4+AM5PpDkyPO4ninFOjU6SV3jhwhQvXJjib75/BoDV7VH6e+PBLKcbezqI2Eyba6KqTKVzTKVzXJBM0MVkg9TGLJ/FWgoHgDwzSQFA/duqqm+qanQlVLKlUI5UxuXY2QQD/gD20ZEEUxn3iuOi4RA3r+9kZ1+cnb1eayI+Z5aFuTohvwXR3rKyu5iMuRYV6T7yT/QaIK+qh0SkH7gXOKaqX6pMqEuz3ElhLjevvHhxKpgOe2R4nDPj0yWPvW51G/1+l9PO3jibulvtA+0ahUSIt0aIx2yRnDFLUakxhV8D3oLXzfQV4C689Qr3AF9W1ccqE275ap0USrk4mfYSxMg4R4YTPDc6iZu/8rp2tUaCLqf+3i5u3tBJNGwfbFdDROhosRLfxpSrUknhWeB2oAU4C2xS1YSItALfVtVXVirgctVjUpgrnXU5fm4i6HIaGEkwMZ274riII2zvKepy6ovT3RatQcSNzWYwGbO4Sg0051TVBZIi8nxhtzVVTYmIFdmfR0vE4bZNq7ht0yrA2wLz5UtJjgx7g9cDIwmGxlJkXeXomQRHzyR4kiEANnW3el1Ofj2nLavbCNmH3ILc/MwWo4VNgrwqriFLEMYs0WJJISMibaqaBF5duFNEuvAGoE0ZQiJsXdPO1jXt/PArNwJ46yT8MYkjIwlOnpsg6ypDYymGxlJ8eeAcAJ2xsN/l5A1e37yh07pLFlDYJGhiOouIEA2HiIVDXomTiLUijFnMYt1HLap6xcR9EVkLbFTVZ6sZXCmN0H10NTK5PCfPTXhTYf1EMZ7KXnGcExK293R4icIfwF7T0VLijGauwiymtpYwbRHH1kGYFaVis4/qTbMmhblUvVZDYb3EwHCCly6VLhq2sSs2q8tp65p2HPvAW5CIVya90NVk18s0O0sKTWg8lfW6nPxxieNnJ8jkruzFa4863FrU5XTLxjitUetymo+I0N7i0NUasWJ9pmlZUlgBsm6eU6OTwbjEkeFxxpJXdjmFBG5Y1xF0N+3su3IzIuNpiTh0xsK0R631YJqLJYUVSFU5Mz4drJkYGE7wwoUpSr3DPZ0ts7qcbljXYR+CRYrrMLVGbLMg0/gqNSX1WoO4F28zHgf4lKp+eJ7j3gb8GXCnqh6uZkzVVOt9nkWE3lWtDF1KcfpiiqlMjv7eOHduXU02n2dgJMGxkQTTuTyjE2lGT5znayfOA95GJ7ds7AzWS9yyMU5Hy/z/PZbjtdbyehbXYXpq8BJPHj7NmcQ0m7pbefj127jn1vU2k8k0paq1FETEAU4CbwaGgEPAQ6p6dM5xncDfAVHgfYslhXptKdTLPs+LxZFz8wxemPK6nPzFdRcmM1ecR4Dr17UH+1/v7O1ifbwFEVmW11rv1/P9d2/njTt6rB6TaRj10FK4CzilqoN+QE8A9wNH5xz334HfBH65irFUXb3s87xYHGEnxE3rO7lpfSc/9irvL+JzE+mZ1dfDCQYveJVhB89PMXh+iv3fGwFgTYdXGfbUOa+MR0fUQZCqvNZ6v55feOo0d16/msl0jpAILZEQsbATfLfprqZRVTMp9AGni24PAa8pPsAvy71ZVf9WROZNCiLyMPAwQN+m+twNrV72eV5qHCLChniMDfEYd9/ibXQylc5x/OxEMIB97EyCZMbl4mSGgycvBP/2/ESaWMShNRIiFgkxMl65fXYb6XrmVYNtR2FmPKLd1kOYBlTNpFDqNyHoqxKREPBR4N2LnUhVHwceB6/7qELxVdTGeCsXp9I13+e5EnG0t4R59XXdvPq6bsCvDHthKij4d/C582Rd9fe/dkllZ0qJ/9RnDgWD1zt7u+hddXWbETXy9SwejxARIo7Q4rciWiOO7bth6lo1k8IQUPxn/SZgpOh2J7ATOOB/aGwA9ovIfY042PzgnZv5+FefI5V1Z/U9L/c+z9WIwwkJN/R0cENPB/ff3sebB9fzkX84iZvP4+aVqYwb7H/94sUkL15M8nfPepsRdbdFgjUTO/vibO8przJss1xPVSWTUzK5PBN+hfWIEwrGIlrCVp/J1JdqDjSH8Qaa7waG8Qaa36GqA/McfwD45UYdaIaZ2TJnEyk21GD20XLGMfc5fuyOPtpjTlCmY+BMgqn0lZsRRRxhx4ZO+v2FdTt7u+hqK70Z0Uq4nsUtiagTIuwIYUeIOpYsTGXVxToFEXkr8DG8KamfVtXHRORR4LCq7p9z7AEaPCmYGXlVXrqY5MjweLBuYuRy6c2INne3Bgvr+nu72LzaNiMSEVrCIWIRh1gk5CcM63YyV68ukkI1WFJoXJemMsFudQMj45w8N0muxGZE8Vh4VpfTzes7abHKsIT8qq+Fr5ZwyFoUpmyWFEzdS2ddTpybYGAkwbPD3v7XiRKbEYVDwk3rO7wuJ38Ae3W7bUYEM91P0XCIFschEhYiTsgGs80VLCmYhqOqnL6UCmY5HRkZZ2is9BTU3lWxoCXR39vFdWtsM6JixXtJeF1QjpUxWeEsKZimcDnpdTkVup1O+JsRzdXRUuhy8gr+7bDNiK4QDhV1O/nfbZxi5bCkYJpSJpfnudGJoCUxMJzg8jybEd1Y2IzIb1Gstc2IruCEvBZFOOSNT1j3U/OypGCuWq0L+y2FqjJyeXpWl9NLF0uvrI46IW7d2Mkbbl7Hzt4utq6tzGZEjXS9ylUYq4g4IZyQEA4JTsi7HQ7Jgi2MA8dH2XdwkNNjSTZ3t7F39zb27OhZ0vMvdo5KPMdK07RJYdeuXXro0CHcvOKq4uaVrOt9z/mLqXL+7XyDvbZ6UC+F6K5FIpXl6JkEXxk4xz89fyFYfT1XW9Thlo0zXU63bOykLbq09ZzNcL2uhoiXKLxWhhAJh4iEQvzzqQv8xt8eJeLM1MTKusqj9/WX/aF94Pgoj+wfmPcciz1uSquHgnhVI+It8FkseFUlly8kDO97IXlkXSXneknEzKiXQnTXIt4a4bXb1vDkoSHWx2PEwiHSuTyprMtkOue993klmXF5+qUxnn5pDPA2I9q2bnaX0/p4bMHnaobrdTVUvT/Gsu7snf9+96unACXiOLh5pSXsoJpj38HBsj+w9x0cJOJIkKDbomGSmZlzLPa4uTYNmRTKNdMEnv+YfL44ceSDxOGqks97i7Dy/s+uKo3WslqqeilEVwmF1yJIMANnVVuERCrLRx+4Y1aX0wvnp8grnBqd5NToJF98xqvIsq7D24xoZ5/Xmpi7GVEzXa9KKFyPfPDHluKEhBcuTDJ8OUXUCdEadYgtMMh9eizJqtbZq9xbIw5DY8myHjfXpqmTQjlCISEa/JIvPlulOHkE3VZunmxeyebyDd9lVS+F6CphvteysauNDV0xNnTFuOeW9QBMpnMcO5OYVRl2Opvn/GSaAyfPc+CktxlRLBxix8Z4UPCvpyPG5VSmKa5XJSz0/yeddUlnXSamvYkBEWdmxXbx7nabu9sYnZie1ZWXyrps6m4r63FzbVZ8UlgqJyQ4ofmTx6yxDX98I+fmybh5cm79j3PUSyG6SljKa+loCXPn1tXcudXr8nHzyvPnJzkynGBgxCvVMTqRZjqX55nTl3nm9GXAKwXshLySFB0tDiER1H/ulWgp1zzr5sm6M4UCQ+INZr/tVX389j+cxM0rrRGHdM4ll4e9u7cB3vdH9g+QzORmjSkUHjfXpiEHmg8fbrgiqoF8XskWtTRyrvdLk8srrqt10UVVL4XoKqGSr2U0Mc2RkZnWxOB5bzOiuTpbwtyxZZXf7dTFjT0dK2qKZyWu+RXnuGszu29aF6yt+OdTF/g///QiI5eT9HW38bO7t/FGv9VnSmvq2UeNnBTKMbe14boziSTnD5I22vvWjFIZl2NnE8GudUdHEkxlrqwMGw2H2LGhMyj4198bJ95aujKsuXohmakwG3FCRPzaUOWUal8JLCk0uazfHTUreRR9eQPkWPJYRm5eefHiVNDldGQ4wdlE6cqw161uo98v0bGzN86mbqsMWy0hkVkJolBIcKXtiGdJwQBeUsgr5PJ+EikkkqIZVXk/idj03Mq7MJn0/4ZtAAAVHklEQVQOSnQcGUlwanSy5HVe1RqhvzdOv19C/Kb15W1GZK5exE8SUb9VEWnyfSwsKZirknXzpHN5Mrm8N8Bn3VUVNZ11OXF2IpgOe/RMgokSlWEjjnDT+s5gYV1/b5xVbVYZdjmEQyFCIe97sJrbmVnVXbi/0VhSMBVV3C2lfsujsHgpk8tb4rhKeVVevpSc1eU0fLn0GodN3a2zFtZtXm2VYWulsKK7kDTCc8qBLFYKpBYsKZhlVbzCtZAgikuRWIujfGPJTDB4fWQ4wXOjpSvDFm9G1N8b52arDFt3wqFQ0MoIF1oZzuzksVzdVZYUTF0qzE3P5pRM4WcrN7KgTC7PyXMTwbjEwEiC8Xkqw27v6QgW1u3ss82IGoEzp1sq4sy+HQ5JRQbFLSmYhpJz/e6ofJ5szvvZ65bKL/6PVxhV5fRYioFg/+sEL18qXeJhY1csWC+xszfO1rXt1uXUgAolziPO1W/FaknBNIV83mtRpLN5pnMu6awlilLGU9lg5fWR4QQnzk2QyV15ndpbHPo3erOc+nvj3LIxPqskhWkchdpuTkgIiSD+fSHxkkgoJERCIcJ+CXRLCqZp5dw807k86axLxh/otu6n2bJunlOjk0GX05HhccaSV3Y5hQRu7OkIxiV29nWxrnNlbEbUjPtgzCfihNiypt2Sglk53LzX3VQ8TpHNqbUqfKrK/3v2LI9/8wW/qy5PpsTgNUBPZ8usLqdtcyrDNoOVtg/GUpKCFcQzTcEJCa1Rh9Y5lW4L3U+FqbMrdaxCRPjKsVHisXDQXeTmlfHpLI4IG1fFOHZmgnQuz+hEmtET5/naCa8ybGvE4daNnV6Jjr44t26M097S2B8dK3UfjHI09jtrzCJCISEWcq6Yqpl180xnXVJZb5xi7mYxzWju3g9OSOhuizAxneMjb7+dnJvn+fNTs/aZuDiZIZV1efrlyzz9slcZNiRw/dr2YL1Ef18X6ztbGmolsO2DMT9LCmZFKmxO3xnzCtPlXG9ntsJq7macJrvYXhlhJ8TNGzq5eUMn/+5VXpfTuYk0A4WpsMMJBi94lWGfPz/F8+en+OL3vM2I1nZEvTpOfXH6e+PcuK6j7hZvFWumfUMqzZKCMXgfiJ1OiM6i+4qnyeb8bqdG7npa6l4ZIsKGeIwN8Rh3+2WppwqbEfnrJY6OJEhlXS5MZvj6yfN8fdZmRJ1BVdj+3niQgOtBM+0bUmk20GzMEgWD2v7AdsbNN8yue5XeK8PNKy9cmJo1y2l0Il3y2K1r2oLB6/6+Lnq7YjXtcmqmfUMWY7OPjKmBIEnk8g3fqrgW5yfSQR2nIyPjnBotvRlRd1sk6HLa2dvF9vUrazOi5WRJwZg6kfOrzqb9qrPT2fyKq/+UyrocL+pyGhgZZypdejOim9d3BuMS/b1ddNlmRBVhU1KNqRNhx9s+st1fD6aqTGe9Qe1U1iWTa/4k0RpxuGNLN3ds6Qa8yrAvXUzO6nI6Mz5NJpfn2eFxnh0eD/7tltVtfmVYr8tps21GVHVVbSmIyL3AxwEH+JSqfnjO478EvAfIAeeBn1LVlxY6Z61aCgeOj7Lv4CCnx5Js7m5j7+5t7NnRs+xxmNka/X1R1VktiZUyPXauS1MZjoyMB9VhT54rvRlRPBae1eV08wbbjKgcddF9JCIOcBJ4MzAEHAIeUtWjRce8Efi2qiZF5OeAPar6wELnrUVSOHB8lEf2DxBxJFjkknWVR+/rb6gPoGbTrO9LUO/JTxSFRXfN3qIols66HD83MWv/68Q8mxFt7+mcWYHdF6fbNiO6Qr10H90FnFLVQQAReQK4HwiSgqp+rej4bwHvrGI8V23fwUEijtAW9S5XWzRMMpNj38HBhv7waXTN+r7MXnDn9amvtBZFS8Thtk2ruG3TKsDrcjrtb0Z0xC/8NzSWIusqR894O9j92dNDAPStavXHJbzpsNetsc2IlqKaSaEPOF10ewh4zQLH/zTwf0s9ICIPAw8DbNmypVLxle30WJJVcwa8WiMOQ2OlyxWb5bGS3hcRIRaZnSjcvDJdtOAunXObbsFdQUiE69a0c92adv7NKzcCcDmZ8QeuvXGJE+e8zYiGL6cYvpziywPnAOhoKWxG5LUmdthmRAuqZlIolZpL/o8VkXcCu4A3lHpcVR8HHgev+6hSAZZrc3cboxPTwV+k4M2o2NTdttyhmCIr/X1xQkJ7SzgYxIaZPbbTWZdpP1k0a7fTqrYor7txLa+7cS0wsxmRt8eENz5xOZVlMp3jqRcu8dQLlwDvut3Y0zFra9O1HSujMmw5qpkUhoDi5YGbgJG5B4nIPcB/A96gqqVXvdTY3t3beGT/AMlMblbf9d7d22od2opm78uVCuU7OvyCdUG3U9bvdso1b7dTNBzyxxW6eIDNqHqthqDLaTjBS5eSuHnlxNkJTpyd4C+/MwzAhngs6HIqbEbUbJVhy1XNgeYw3kDz3cAw3kDzO1R1oOiYO4A/B+5V1efKOW+tZx8NjSXZ1ICzXJqVvS9L5+Y1GJdI57zCgI2wGrsSEqksR8943U0DIwmOn/Uqw87VHnW4ZWM8mOV0y8Y4rdHG7XKqi9lHACLyVuBjeFNSP62qj4nIo8BhVd0vIv8AvAI44/+Tl1X1voXOaYvXjKm8TNHiuums27Stiblybp7nRidndTldnMpccVxI4IZ1HcEsp/7eOOvjsRpEfHXqJilUgyUFY6ovk/MX2GXcFdWSUFXOJqZndTm9cGGq5GDouo6WmS6nvjg31PFmRJYUjDEVNZ11/a+V1d0EMFmoDOuvwD52JsF09sqWVCwS8rqc/NbELRvjwdhOrdXLOgVjTJOYmQ7rKXQ1pf1E0cyF/zpawty5dTV3bvUqqLp55fnzkxwZTgSF/85PppnO5vnuy5f5rr8ZkQDXr2ufNctpQ7y2lWHLYS0FY8w1K+w9Udj6NN3k02HnOpeYDtZLHBlJMHi+dGXYNe1R+otmOW3vWZ7NiKz7yBhTc6pekih0OU1nm3dx3VypjOtvRuS1JI6eSZDMXFkZtiXs7XZX6HK6dWOceBUqw1pSMMbUpemsy1Q6x1Tabeoup7ncvPLixalZXU5nE9Mlj71uTdusLqe+VddeGdaSgjGm7k1nXZIZl2QmR6bEWoFmd2EyPWuW06nzpSvDdrdF/DId3lTYm9YvvTKsJQVjTEPJut4U2OmMt8/ESulmKpbKupw4OxG0JAZGEkymS1eG9TYj6gpaFF1tC3c52ewjY0xDKZTniMe8D7eVNLupoDXicPvmVdy+eaYy7EsXkwz4VWGPDCcYvuxVhj0y4u1kV7CpuzVoSezsi7NlddtVdzlZS8EYU/cyuTzJTI6pjEs6e+WA7UpxaSoTzHIaGElw8twEuXk2I7q1aFxiZ28X2zfEraVgjGkO0XCIaDjKqjZv0DaV9cYiUpmV1dW0uj3K67ev5fXbZyrDnjg7EcxyGhgZJzGdIzGd41uDl/jWoFcZNryEldaWFIwxDcUJCR0t4WC1cGHAeiqdWzE1mwqi4RCv2NTFKzZ1Ad404NNjKQaK9r8+PZYq2ZqYjyUFY0xDK6y2Xt0eJZPLM5nOrcgEAd5mTFtWt7FldRtveYW3GdF4MsvxsxO843+Wdw5LCsaYphENh1gdjrK6PeoNVmf8WU0rrF5Tsa62CD/odzeVw5KCMaYptYQdWsIOXURQ1aCLaSrjrpjyG1fDkoIxpumJFLYuDZPPK1MZb1V1KmsJYi5LCsaYFSUUEjpjETpjEVw/QUxM51b0VNdilhSMMSuWExLisQjxWIR0ziWRypHM5FbUNNe5LCkYYwzeGMS6TgfVKKmsy2Q6RzK98gaoLSkYY0wREaEtGqYtGkY7lHQuv6IK91lSMMaYeYjIrHUQ6ZzLxLS3DqJZu5gsKRhjTJlawg4tHQ5r2qMkM34XU5NNcbWkYIwxS9TMU1wtKRhjzDUoNcV1Ku0V62tElhSMMaZCiqe4unkN6jBNN9AaCEsKxhhTBU5I6GqN0NUaaahCfZYUjDGmyooL9WVyeVIZl2Q2x3Q2X3djEJYUjDFmGXkbBoXoYqaLaTJdP2U2LCkYY0yNzO1imvITRC27mCwpGGNMHShsOdrdHmU66y2Sq0UdJksKxhhTZwqrqFW9RXJTy7gftSUFY4ypU8WL5MDbjzrlr6SuVhdTVZOCiNwLfBxwgE+p6ofnPN4CfBZ4NXAReEBVX6xmTPXuwPFR9h0c5PRYks3dbezdvY09O3rKfrxeNEqcy2U5rsdyXfNGeW8rEedy/D6Wc45Sx7z2hjXBGEQlWxBSrelQIuIAJ4E3A0PAIeAhVT1adMx/BF6pqj8rIg8CP6qqDyx03l27dunhw4erEnOtHTg+yiP7B4g4QmvEIZV1ybrKo/f1s2dHz6KP14tGiXO5LMf1WK5r3ijvbSXiXI7fx3LOsdgxqt4MpsQCGwVFnBBb1rQ/raq7FospVFbkV+cu4JSqDqpqBngCuH/OMfcDf+T//OfA3SIiVYypru07OEjE8cr2Fsr3Rhxh38HBsh6vF40S53JZjuuxXNe8Ud7bSsS5HL+P5ZxjsWNEvDIbfata6V3VSrw1ghO6+o/RaiaFPuB00e0h/76Sx6hqDhgH1sw9kYg8LCKHReTw+fPnqxRu7Z0eS9IacWbd1xpxGBpLlvV4vWiUOJfLclyP5brmjfLeViLO5fh9LOccS3meWMRhbUcLW1a30ROP0d7iJZKlqGZSKBXJ3L6qco5BVR9X1V2qumvdunUVCa4ebe5uIzWn+ZfKumzqbivr8XrRKHEul+W4Hst1zRvlva1EnMvx+1jOOa7meUSEjpYw6+Mxtqxuo7s9WnZM1UwKQ8DmotubgJH5jhGRMNAFXKpiTHVt7+5tZF0lmcmh6n3Pusre3dvKerxeNEqcy2U5rsdyXfNGeW8rEedy/D6Wc45rfR4n5CWIclVzoDmMN9B8NzCMN9D8DlUdKDrmvcArigaaf0xV377QeZt5oBlmZhkMjSXZtMBsh/kerxeNEudyWY7rsVzXvFHe20rEuRy/j+WcoxLPIyJlDTRXLSn4QbwV+BjelNRPq+pjIvIocFhV94tIDPgccAdeC+FBVV1wlKbZk4IxxlRDuUmhqusUVPVLwJfm3PdI0c/TwL+vZgzGGGPKV80xBWOMMQ3GkoIxxpiAJQVjjDEBSwrGGGMCVZ19VA0ich54aZ6H1wIXljGcq2VxVl6jxGpxVlajxAm1j/U6VV109W/DJYWFiMjhcqZc1ZrFWXmNEqvFWVmNEic0TqzWfWSMMSZgScEYY0yg2ZLC47UOoEwWZ+U1SqwWZ2U1SpzQILE21ZiCMcaYa9NsLQVjjDHXwJKCMcaYQNMkBRG5V0ROiMgpEflAreOZj4i8KCLPisgzIlI35V5F5NMiMioiR4ruWy0iXxGR5/zv3bWM0Y+pVJy/LiLD/jV9xq/OW1MisllEviYix0RkQER+0b+/Hq/pfLHW1XUVkZiIPCUi3/Pj/A3//utF5Nv+Nf1TESl/R5nljfMzIvJC0fW8vZZxzqcpxhRExMHbu+HNeBv3HAIeUtWjNQ2sBBF5EdilqnW14EZEdgOTwGdVdad/328Cl1T1w36i7VbV/1qHcf46MKmqv1XL2IqJyEZgo6p+R0Q6gaeBHwHeTf1d0/lifTt1dF39/dvbVXVSRCLAN4FfBH4J+EtVfUJEPgl8T1X/oA7j/Fngb1X1z2sVWzmapaVwF3BKVQdVNQM8Adxf45gaiqoe5Mpd7+4H/sj/+Y/wPihqap44646qnlHV7/g/TwDH8PYkr8drOl+sdUU9k/7NiP+lwJuAwgdtza/pAnE2hGZJCn3A6aLbQ9Thf2qfAn8vIk+LyMO1DmYR61X1DHgfHED9ba81430i8n2/e6nmXTLFRGQr3kZS36bOr+mcWKHOrquIOCLyDDAKfAV4Hrisqjn/kLr43Z8bp6oWrudj/vX8qIi01DDEeTVLUpAS99VrZn6dqr4KeAvwXr87xFybPwBuAG4HzgC/XdtwZohIB/AXwPtVNVHreBZSIta6u66q6qrq7Xh7vt8F3FLqsOWNqkQAc+IUkZ3ArwA7gDuB1UBNuw3n0yxJYQjYXHR7EzBSo1gWpKoj/vdR4K/w/mPXq3N+f3Oh33m0xvGUpKrn/F/CPPC/qZNr6vcn/wXwJ6r6l/7ddXlNS8Var9cVQFUvAweA1wKr/D3hoc5+94vivNfvplNVTQP/hzq6nsWaJSkcArb7sxCiwIPA/hrHdAURafcH8hCRduCHgCML/6ua2g+8y//5XcAXaxjLvAofsr4fpQ6uqT/Y+IfAMVX9SNFDdXdN54u13q6riKwTkVX+z63APXjjH18D3uYfVvNrOk+cx4v+GBC8cY+a/z8tpSlmHwH40+U+BjjAp1X1sRqHdAUR2YbXOgBvf+zP10ucIvIFYA9eed9zwK8Bfw08CWwBXgb+varWdJB3njj34HVxKPAisLfQb18rIvKDwDeAZ4G8f/ev4vXV19s1nS/Wh6ij6yoir8QbSHbw/qB9UlUf9X+vnsDrkvku8E7/r/F6i/OrwDq87u5ngJ8tGpCuG02TFIwxxly7Zuk+MsYYUwGWFIwxxgQsKRhjjAlYUjDGGBOwpGCMMSZgScGYEkRkvYh8XkQG/ZIk/yIiP1rruIypNksKxszhLy76a+Cgqm5T1VfjLYjcVNvIjKk+SwrGXOlNQEZVP1m4Q1VfUtXfFZGtIvINEfmO//WvAERkj4h8XUSeFJGTIvJhEflxv67+syJyg3/cOhH5CxE55H+9rkav0ZiSwosfYsyK0w98Z57HRoE3q+q0iGwHvgDs8h+7Da9A2yVgEPiUqt4l3qY1Pw+8H/g48FFV/aaIbAG+TOmibsbUhCUFYxYhIp8AfhDI4NWx+T1/1ywXuKno0EOFMhAi8jzw9/79zwJv9H++B7jV66ECIC4inf4+BsbUnCUFY640APy7wg1Vfa+IrAUOA/8Jr+bSbXjdr9NF/6643k6+6Haemd+1EPADqpqqTujGXBsbUzDmSl8FYiLyc0X3tfnfu4Azfjnp/4BX9Gwp/h54X+FGve7Ta1YuSwrGzKFelcgfAd7gb7T+FF7Vy/8K/D7wLhH5Fl7X0dQST/8LwC5/962jePv2GlM3rEqqMcaYgLUUjDHGBCwpGGOMCVhSMMYYE7CkYIwxJmBJwRhjTMCSgjHGmIAlBWOMMYH/D8GaYl1tz2HfAAAAAElFTkSuQmCC
"
>
</div>

</div>

</div>
</div>

</div>
<div class="cell border-box-sizing code_cell rendered">
<div class="input">
<div class="prompt input_prompt">In&nbsp;[25]:</div>
<div class="inner_cell">
    <div class="input_area">
<div class=" highlight hl-ipython3"><pre><span></span><span class="kn">import</span> <span class="nn">statsmodels.api</span> <span class="k">as</span> <span class="nn">sm</span>
<span class="kn">import</span> <span class="nn">statsmodels.formula.api</span> <span class="k">as</span> <span class="nn">smf</span>
<span class="kn">import</span> <span class="nn">scipy</span>
<span class="kn">import</span> <span class="nn">numpy</span> <span class="k">as</span> <span class="nn">np</span>
</pre></div>

</div>
</div>
</div>

<div class="output_wrapper">
<div class="output">


<div class="output_area">

<div class="prompt"></div>


<div class="output_subarea output_stream output_stderr output_text">
<pre>C:\ProgramData\Anaconda3\lib\site-packages\statsmodels\compat\pandas.py:56: FutureWarning: The pandas.core.datetools module is deprecated and will be removed in a future version. Please use the pandas.tseries module instead.
  from pandas.core import datetools
</pre>
</div>
</div>

</div>
</div>

</div>
<div class="cell border-box-sizing code_cell rendered">
<div class="input">
<div class="prompt input_prompt">In&nbsp;[31]:</div>
<div class="inner_cell">
    <div class="input_area">
<div class=" highlight hl-ipython3"><pre><span></span><span class="n">x</span><span class="p">,</span><span class="n">y</span> <span class="o">=</span> <span class="n">data</span><span class="p">[</span><span class="s2">&quot;Game&quot;</span><span class="p">],</span> <span class="n">data</span><span class="p">[</span><span class="n">stat</span><span class="p">]</span>
<span class="n">slope</span><span class="p">,</span> <span class="n">intercept</span><span class="p">,</span> <span class="n">r_value</span><span class="p">,</span> <span class="n">p_value</span><span class="p">,</span> <span class="n">std_err</span> <span class="o">=</span> <span class="n">scipy</span><span class="o">.</span><span class="n">stats</span><span class="o">.</span><span class="n">linregress</span><span class="p">(</span><span class="n">x</span><span class="o">=</span><span class="n">x</span><span class="p">,</span><span class="n">y</span><span class="o">=</span><span class="n">y</span><span class="p">)</span>
<span class="nb">print</span><span class="p">(</span><span class="s2">&quot;scipy.stats.linregress - descriptive, but only fits first order functions&quot;</span><span class="p">)</span>
<span class="nb">print</span><span class="p">(</span><span class="s2">&quot;slope, intercept, r_value, p_value, std_err&quot;</span><span class="p">)</span>
<span class="nb">print</span><span class="p">(</span><span class="n">slope</span><span class="p">,</span> <span class="n">intercept</span><span class="p">,</span> <span class="n">r_value</span><span class="p">,</span> <span class="n">p_value</span><span class="p">,</span> <span class="n">std_err</span><span class="p">)</span>
<span class="nb">print</span><span class="p">()</span>

<span class="nb">print</span><span class="p">(</span><span class="s2">&quot;numpy.polyfit - faster but less descriptive&quot;</span><span class="p">)</span>
<span class="n">slope</span><span class="p">,</span> <span class="n">intercept</span> <span class="o">=</span> <span class="n">np</span><span class="o">.</span><span class="n">polyfit</span><span class="p">(</span><span class="n">x</span><span class="p">,</span><span class="n">y</span><span class="p">,</span><span class="mi">1</span><span class="p">)</span>
<span class="nb">print</span><span class="p">(</span><span class="n">slope</span><span class="p">,</span> <span class="n">intercept</span><span class="p">)</span>
<span class="nb">print</span><span class="p">()</span>

<span class="nb">print</span><span class="p">(</span><span class="s2">&quot;statsmodels.api.OLS - super descriptive, not as user friendly&quot;</span><span class="p">)</span>
<span class="n">model</span> <span class="o">=</span> <span class="n">sm</span><span class="o">.</span><span class="n">OLS</span><span class="p">(</span><span class="n">y</span><span class="p">,</span> <span class="n">sm</span><span class="o">.</span><span class="n">add_constant</span><span class="p">(</span><span class="n">x</span><span class="p">))</span>
<span class="n">results</span> <span class="o">=</span> <span class="n">model</span><span class="o">.</span><span class="n">fit</span><span class="p">()</span>
<span class="nb">print</span><span class="p">(</span><span class="n">results</span><span class="o">.</span><span class="n">params</span><span class="p">)</span>
<span class="nb">print</span><span class="p">(</span><span class="n">results</span><span class="o">.</span><span class="n">summary</span><span class="p">())</span>
<span class="nb">print</span><span class="p">()</span>

<span class="n">stat</span> <span class="o">=</span> <span class="s2">&quot;FG%&quot;</span>
<span class="n">plot</span> <span class="o">=</span> <span class="n">seaborn</span><span class="o">.</span><span class="n">regplot</span><span class="p">(</span><span class="s2">&quot;Game&quot;</span><span class="p">,</span> <span class="n">stat</span><span class="p">,</span> <span class="n">data</span><span class="o">=</span><span class="n">data</span><span class="p">)</span>
<span class="n">plot</span><span class="o">.</span><span class="n">set_title</span><span class="p">(</span><span class="s2">&quot;</span><span class="si">{}</span><span class="s2"> - </span><span class="si">{}</span><span class="s2">&quot;</span><span class="o">.</span><span class="n">format</span><span class="p">(</span><span class="n">player</span><span class="p">,</span> <span class="n">stat</span><span class="p">))</span>
<span class="n">plot</span><span class="o">.</span><span class="n">set_ylim</span><span class="p">(</span><span class="o">-</span><span class="mf">0.05</span><span class="p">,</span> <span class="mf">1.05</span><span class="p">)</span>
<span class="kc">None</span>
</pre></div>

</div>
</div>
</div>

<div class="output_wrapper">
<div class="output">


<div class="output_area">

<div class="prompt"></div>


<div class="output_subarea output_stream output_stdout output_text">
<pre>scipy.stats.linregress - descriptive, but only fits first order functions
slope, intercept, r_value, p_value, std_err
-0.002201912921727163 0.5110515985515985 -0.12032460025456458 0.4780956405787573 0.003070752754499597

numpy.polyfit - faster but less descriptive
-0.00220191292172717 0.5110515985515988

statsmodels.api.OLS - super descriptive, not as user friendly
const    0.511052
Game    -0.002202
dtype: float64
                            OLS Regression Results                            
==============================================================================
Dep. Variable:                    FG%   R-squared:                       0.014
Model:                            OLS   Adj. R-squared:                 -0.014
Method:                 Least Squares   F-statistic:                    0.5142
Date:                Sat, 21 Apr 2018   Prob (F-statistic):              0.478
Time:                        16:27:49   Log-Likelihood:                 8.1815
No. Observations:                  37   AIC:                            -12.36
Df Residuals:                      35   BIC:                            -9.141
Df Model:                           1                                         
Covariance Type:            nonrobust                                         
==============================================================================
                 coef    std err          t      P&gt;|t|      [0.025      0.975]
------------------------------------------------------------------------------
const          0.5111      0.067      7.636      0.000       0.375       0.647
Game          -0.0022      0.003     -0.717      0.478      -0.008       0.004
==============================================================================
Omnibus:                        2.873   Durbin-Watson:                   2.238
Prob(Omnibus):                  0.238   Jarque-Bera (JB):                1.985
Skew:                           0.008   Prob(JB):                        0.371
Kurtosis:                       4.134   Cond. No.                         44.6
==============================================================================

Warnings:
[1] Standard Errors assume that the covariance matrix of the errors is correctly specified.

</pre>
</div>
</div>

<div class="output_area">

<div class="prompt"></div>




<div class="output_png output_subarea ">
<img src="data:image/png;base64,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
"
>
</div>

</div>

</div>
</div>

</div>
<div class="cell border-box-sizing code_cell rendered">
<div class="input">
<div class="prompt input_prompt">In&nbsp;[32]:</div>
<div class="inner_cell">
    <div class="input_area">
<div class=" highlight hl-ipython3"><pre><span></span><span class="n">stat</span> <span class="o">=</span> <span class="s2">&quot;FG%&quot;</span>
<span class="n">plot</span> <span class="o">=</span> <span class="n">seaborn</span><span class="o">.</span><span class="n">lmplot</span><span class="p">(</span><span class="s2">&quot;Game&quot;</span><span class="p">,</span> <span class="n">stat</span><span class="p">,</span> <span class="n">data</span><span class="o">=</span><span class="n">data</span><span class="p">,</span> <span class="n">order</span><span class="o">=</span><span class="mi">2</span><span class="p">)</span>
<span class="n">p</span> <span class="o">=</span> <span class="n">plot</span><span class="o">.</span><span class="n">axes</span><span class="p">[</span><span class="mi">0</span><span class="p">][</span><span class="mi">0</span><span class="p">]</span>
<span class="n">p</span><span class="o">.</span><span class="n">set_title</span><span class="p">(</span><span class="s2">&quot;</span><span class="si">{}</span><span class="s2"> - </span><span class="si">{}</span><span class="s2">&quot;</span><span class="o">.</span><span class="n">format</span><span class="p">(</span><span class="n">player</span><span class="p">,</span> <span class="n">stat</span><span class="p">))</span>
<span class="n">p</span><span class="o">.</span><span class="n">set_ylim</span><span class="p">(</span><span class="o">-</span><span class="mf">0.05</span><span class="p">,</span> <span class="mf">1.05</span><span class="p">)</span>
<span class="kc">None</span>

<span class="n">x2</span><span class="p">,</span><span class="n">x1</span><span class="p">,</span><span class="n">intercept</span> <span class="o">=</span> <span class="n">np</span><span class="o">.</span><span class="n">polyfit</span><span class="p">(</span><span class="n">x</span><span class="p">,</span><span class="n">y</span><span class="p">,</span><span class="mi">2</span><span class="p">)</span>
<span class="nb">print</span><span class="p">(</span><span class="s2">&quot;numpy.polyfit&quot;</span><span class="p">)</span>
<span class="nb">print</span><span class="p">(</span><span class="s2">&quot;x2,x1,intercept&quot;</span><span class="p">)</span>
<span class="nb">print</span><span class="p">(</span><span class="n">x2</span><span class="p">,</span><span class="n">x1</span><span class="p">,</span><span class="n">intercept</span><span class="p">)</span>
<span class="nb">print</span><span class="p">()</span>

<span class="n">X</span> <span class="o">=</span> <span class="n">np</span><span class="o">.</span><span class="n">column_stack</span><span class="p">((</span><span class="n">x</span><span class="p">,</span> <span class="n">x</span><span class="o">**</span><span class="mi">2</span><span class="p">,</span> <span class="n">np</span><span class="o">.</span><span class="n">ones</span><span class="p">(</span><span class="nb">len</span><span class="p">(</span><span class="n">y</span><span class="p">))))</span>
<span class="n">model</span> <span class="o">=</span> <span class="n">sm</span><span class="o">.</span><span class="n">OLS</span><span class="p">(</span><span class="n">y</span><span class="p">,</span> <span class="n">X</span><span class="p">)</span>
<span class="n">results</span> <span class="o">=</span> <span class="n">model</span><span class="o">.</span><span class="n">fit</span><span class="p">()</span>
<span class="nb">print</span><span class="p">(</span><span class="s2">&quot;statsmodels.api.OLS&quot;</span><span class="p">)</span>
<span class="nb">print</span><span class="p">(</span><span class="n">results</span><span class="o">.</span><span class="n">params</span><span class="p">)</span>
<span class="nb">print</span><span class="p">(</span><span class="n">results</span><span class="o">.</span><span class="n">summary</span><span class="p">())</span>
<span class="nb">print</span><span class="p">()</span>

<span class="c1"># # Other ways to skin the cat: Statsmodels can interact with Pandas Dataframes in an R-like way</span>

<span class="c1"># # statsmodel&#39;s patsy language won&#39;t like the percent character</span>
<span class="c1"># data[&#39;FGP&#39;] = data[&#39;FG%&#39;] </span>
<span class="c1"># # It can also get confused with **2 applied to Pandas&#39;s column names</span>
<span class="c1"># data[&#39;Game2&#39;] = data[&#39;Game&#39;]**2  </span>

<span class="c1"># model = smf.ols(formula=&quot;FGP ~ Game + Game2&quot;, data=data)</span>
<span class="c1"># results = model.fit()</span>
<span class="c1"># print(&quot;statsmodels.formula.api.ols - note the lowercase! note the formula package!&quot;)</span>
<span class="c1"># print(results.params)</span>
<span class="c1"># print(results.summary())</span>
<span class="c1"># print()</span>

<span class="c1"># # Patsy can understand numpy functions. It&#39;ll give x2 as &#39;np.power(Game,2)&#39;</span>
<span class="c1"># model = smf.ols(formula=&quot;FGP ~ Game + np.power(Game,2)&quot;, data=data) </span>
<span class="c1"># results = model.fit()</span>
<span class="c1"># print(results.params)</span>
<span class="c1"># print(results.summary())</span>
<span class="c1"># print()</span>
</pre></div>

</div>
</div>
</div>

<div class="output_wrapper">
<div class="output">


<div class="output_area">

<div class="prompt"></div>


<div class="output_subarea output_stream output_stdout output_text">
<pre>numpy.polyfit
x2,x1,intercept
-0.0008117614839453394 0.028645023468195734 0.3105465120170998

statsmodels.api.OLS
x1       0.028645
x2      -0.000812
const    0.310547
dtype: float64
                            OLS Regression Results                            
==============================================================================
Dep. Variable:                    FG%   R-squared:                       0.194
Model:                            OLS   Adj. R-squared:                  0.146
Method:                 Least Squares   F-statistic:                     4.080
Date:                Sat, 21 Apr 2018   Prob (F-statistic):             0.0258
Time:                        16:27:59   Log-Likelihood:                 11.891
No. Observations:                  37   AIC:                            -17.78
Df Residuals:                      34   BIC:                            -12.95
Df Model:                           2                                         
Covariance Type:            nonrobust                                         
==============================================================================
                 coef    std err          t      P&gt;|t|      [0.025      0.975]
------------------------------------------------------------------------------
x1             0.0286      0.012      2.475      0.018       0.005       0.052
x2            -0.0008      0.000     -2.748      0.010      -0.001      -0.000
const          0.3105      0.095      3.256      0.003       0.117       0.504
==============================================================================
Omnibus:                       19.717   Durbin-Watson:                   2.714
Prob(Omnibus):                  0.000   Jarque-Bera (JB):               36.678
Skew:                           1.276   Prob(JB):                     1.08e-08
Kurtosis:                       7.157   Cond. No.                     2.02e+03
==============================================================================

Warnings:
[1] Standard Errors assume that the covariance matrix of the errors is correctly specified.
[2] The condition number is large, 2.02e+03. This might indicate that there are
strong multicollinearity or other numerical problems.

</pre>
</div>
</div>

<div class="output_area">

<div class="prompt"></div>




<div class="output_png output_subarea ">
<img src="data:image/png;base64,iVBORw0KGgoAAAANSUhEUgAAAWAAAAFtCAYAAAA5/7CSAAAABHNCSVQICAgIfAhkiAAAAAlwSFlzAAALEgAACxIB0t1+/AAAADl0RVh0U29mdHdhcmUAbWF0cGxvdGxpYiB2ZXJzaW9uIDIuMS4yLCBodHRwOi8vbWF0cGxvdGxpYi5vcmcvNQv5yAAAIABJREFUeJzt3Xl8XGW9+PHPd/bJvjTplnRJKZQW2gKlAkItKAh4Lais9yLoT4Wr4nIRtwuiFr0XUVFUVHBDvVfK4kJFLyBCrSC1LXSB0tIlpU26pUuabTKZ7fn9cU7CJM3azMyZmXzfr1demeXMmW9OZr7zzHOe5/uIMQallFKZ53I6AKWUGqs0ASullEM0ASullEM0ASullEM0ASullEM0ASullEM0AauMEJE3ROQdDj7/YhFpdOr5leqPJuAxSkT+R0T2iUiriGwVkQ+nYJ+FItIuIn9ORYzDfE4jIidk6vmcJCIPikjEPsbdP1cn3X+NiPxTRDpEpMm+/DEREfv+f7X/5ztFZHHS42aIyD9ExO3AnzWmaQIeu/4bmGaMKQGWAF8TkTNGuc8rgC7gIhGZONoAVb/uNsYUJf08DCAinwHuBb4JTADGA/8OvBXwiYgHuAs4HfgE8IOkfX4PuMUYE8/g36HQBDxmGWM2GWO6uq/aPzNGudsbgB8DG4F/G2gjEXGJyBdEZIeIHBaRR0Skwr7vahGpF5ES+/olIrJfRKqGenIR8YvId0Vkr/3zXRHx99nmM3brcJ+IfDDp9gdF5D4R+ZOItNmtxxn2fSIi37Ef1yIiG0XkFPu+UhH5lYgcFJFdInK7iLjs+z4gIs+LyLdEpNlueV4y4qM69N9dCiwFPmaMecwY02Ys64wx/2b/nyuBPcaYfcAzQJ392Cvs21elOi41NE3AY5iI/FBEQsAWYB9w3F0HIjIFWAz8r/1z/SCbfxK4HHgbMAloBu4DsFt0LwLfE5FK4GfAh40xB4cRxm3AWcB8YB6wELg96f4JQCkwGfgQcJ+IlCfdfy3wVaAc2A583b79ImARcCJQBlwNHLbv+769zzr777ke+OCbu+QtwOvAOOBu4GfdXQIpdDbgBx4fZJuDQKWI1AAXAptEpAjr+HwxxfGo4TLG6M8Y/gHcwLlYb0TvKPZzO7DevjwJiAOnJd3/BvAO+/Jm4O1J900EooDHvl4G7AZeAe4f4nkNcIJ9eQdwadJ97wTesC8vBjq7n8O+rQk4y778IPDTpPsuBbbYly8AtmIld1efY9cFzE667SZghX35A8D2pPsK7HgnHOcxfhAIA0ftn0P27dcB+/ts+w97m05gkX3b24FVwN+wPqTuwfogWgw8BzwFnOL0a3Is/WgLeIwzxsSNMc8DNcBH+9tGRDYlnfQ5b4BdXY/V8sUYsxfrTX7DANtOBX4vIkdF5ChWQo5j9VtijDkKPAqcAnx7BH/OJGBX0vVd9m3dDhtjYknXQ0BR0vX9/d1njHkWq8/0PuCAiDxgd5GMA3z9POfk/vZpjAnZF5OfEwAR+bekY/x/g/yN3zLGlNk/47r/LmCc3c/b/VznGGPK7Ptc9m1/NcacZYx5G5AAFmAl9V9jfVjcCfx0kOdWKaYJWHXzMEAfsDFmjnnzpM/f+94vIucAM4Ev2v21+7G+el+bnBSSNACXJCWSMmNMwBizx97ffOD/AQ9hnSAarr1Yyb3bFPu2UTPGfM8YcwYwB6sr4rPAIayWe9/n3HMc+//fpGM80n7iF7Fa4pcNZ2O7C+QHWF1B4wC3MWYXsAaYO8LnVqOgCXgMEpFqe8hSkYi4ReSdWP2fzx7nLm8A/gLMxvpqOx+r9VoA9JdMfgx8XUSm2vFUichl9uUA8D/Af2L1pU4WkY8NM46HgNvt/Y0D7rD3NSoicqaIvEVEvEAHVjdA3FijBh6x/5Zi+++5JRXPORL2N4avAj8UkSvs/6vL/iAr7OchHwbWGWPWY7WQgyIyGzgfqM9Y4Ir+Wicq/xms7oYfY30I7wI+bYwZ7CROv+yEeRVwvTFmf5/7fo2VnP/Y52H3AgI8LSKTsPpiH8Y6ifTfQKMx5kf2Pq4DnhORvxhjtg3y9wB8DSjBGoUBVjfG10b6N/WjBPgO1om2MFZf6bfs+z6BdSKu3r7vJ8DPU/CcI2KMuVtE9gCfA36F9UFRD3weqz8YAPuD6VPAOfbjYiJyM9aHb5jeJxBVmokxWpBd5Sa7H7YFKLdbgUrlFO2CULnsamCHJl+Vq7QLQuUkEfkH1nC1UU+hVsop2gWhlFIO0S4IpZRyiCZgpZRySM71AV988cXmySefdDoMpZQazLDqfeRcC/jQoUNOh6CUUimRcwlYKaXyhSZgpZRyiCZgpZRyiCZgpZRyiCZgpZRyiCZgpZRyiCZgpZRyiCZgpZRySNoSsIj83F7G+9UB7hcR+Z6IbLeX+T49XbEopVQ2SudU5Aex1p361QD3X4K1jthMrPXDfmT/Vkqp47ZiSxP3r6ynoTlEbXkBNy2qY/GsaqfD6lfaWsDGmJXAkUE2uQz4lbGsAspEZGK64lFK5b8VW5q4Y/kmmtrClAW9NLWFuWP5JlZsaXI6tH452Qc8GWt13G6N9F7OWymlRuT+lfV43UKBz4OI9dvrFu5fmZ1rjTqZgPurFtRvdXgRuVFE1orI2oMHD6Y5LKVUrmpoDhH0unvdFvS6aWwOORTR4JxMwI1AbdL1GmBvfxsaYx4wxiwwxiyoqqrKSHBKqdxTW15AZzTe67bOaJya8gKHIhqckwl4OXC9PRriLKDFGLPPwXiUUjnupkV1ROOGUCSGMdbvaNxw06I6p0PrV9pGQYjIQ8BiYJyINAJfBrwAxpgfA38GLgW2AyHgg+mKRSk1NiyeVc1SrL7gxuYQNVk+CiLnFuVcsGCBWbt2rdNhKKXUYPJzRQyllMoXmoCVUsohmoCVUsohmoCVUsohmoCVUsohmoCVUsohmoCVUsohmoCVUsohmoCVUsohmoCVUsohmoCVUsohmoCVUsohmoCVUsohmoCVUsohmoCVUsohmoCVUsohmoCVUsohmoCVUsohmoCVUsohmoCVUsohmoCVUsohmoCVUsohmoCVUsohmoCVUsohmoCVUsohmoCVUsohmoCVUsohmoCVUsohmoCVUsohmoCVUsohmoCVUsohmoCVUsohmoCVUsohmoCVUsohmoCVUsohmoCVUsohmoCVUsohmoCVUsohmoCVUsohmoCVUsohmoCVUsohmoCVUsohmoCVUsohmoCVUsohmoCVUsohmoCVUsohaU3AInKxiLwuIttF5Av93D9FRJ4TkXUislFELk1nPEoplU3SloBFxA3cB1wCzAauFZHZfTa7HXjEGHMacA3ww3TFo5RS2SadLeCFwHZjTL0xJgIsAy7rs40BSuzLpcDeNMajlFJZxZPGfU8GGpKuNwJv6bPNV4CnReQTQCHwjjTGo5RSWSWdLWDp5zbT5/q1wIPGmBrgUuDXInJMTCJyo4isFZG1Bw8eTEOoSimVeelMwI1AbdL1Go7tYvgQ8AiAMeZFIACM67sjY8wDxpgFxpgFVVVVaQpXKaUyK50JeA0wU0Smi4gP6yTb8j7b7AbeDiAiJ2MlYG3iKqXGhLT1ARtjYiJyM/AU4AZ+bozZJCJLgbXGmOXAZ4CfiMh/YHVPfMAY07ebQqmcsmJLE/evrKehOURteQE3Lapj8axqp8NSWUhyLd8tWLDArF271ukwlOrXii1N3LF8E163EPS66YzGicYNS5fM0SQ8tvR3DuwYOhNOqRS6f2U9XrdQ4PMgYv32uoX7V9Y7HZrKQpqAlUqhhuYQQa+7121Br5vG5pBDEalspglYqRSqLS+gMxrvdVtnNE5NeYFDEalspglYqRS6aVEd0bghFIlhjPU7GjfctKjO6dBUFtIErFQKLZ5VzdIlc6guDtDSGaW6OKAn4NSA0jkVWakxafGsak24ali0BayUUg7RBKyUUg7RBKyUUg7RBKyUUg7RBKyUUg7RBKyUUg7RBKyUUg7RBKyUUg7RBKyUUg7RBKyUUg7Rqch5SFdkUCo3aAs4z3SvyNDUFqYs6KWpLcwdyzexYkuT06EppfrQBJxndEUGpXKHJuA8oysyKJU7NAHnGV2RQancoQk4z+iKDErlDk3AeUZXZFAqd+gwtDykKzIolRu0BayUUg7RBKyUUg7RBKyUUg7RBKyUUg7RBKyUUg7RURAqp2nhodHTY+gcbQGrnKWFh0ZPj6GzNAGrnKWFh0ZPj6GzNAGrnKWFh0ZPj6GzNAGrnKWFh0ZPj6GzNAGrnDXWCg+t2NLEtQ+s4txvPMu1D6xKST/tWDuG2UYTsMpZY6nwULpOlo2lY5iNxBjjdAwjsmDBArN27Vqnw1Aqo659YBVNbWEKfG+OHA1FYlQXB3joxrMcjEwNQIazkbaAlcoBerIsP2kCVioH6Mmy/KQJWKkcoCfL8pMmYKVygJ4sy09aC0KpHKErneQfTcAqZxljiCcMcWNIJCBuDMYYusf1CCAiuATcLsHrcuFyDevktFIZoQlYZR1jDJF4gmjcELN/v5loDQljSBhru5FyuwRBEHnzuksElwu8Lhcet+B1u/C6Xbg1Was00wSsHBeJJQjH4oSjcbqiCaLxRNqeK54wwJuJu8/Agl5cIng9LoJeNwU+N4E+w8CUGi1NwMoR8YShvStGe1eMrsGyoIMSxtAVjdMVjXM0BB6XC7/Xhd/jwu9xE/C6ENFWsjp+moBVRkTjCTrtFm5XLE4klr5WbrrEEgliXQk6uqzrbpdVvrHI79FkPAbFE4Zw1P7mFuv9zW1qZeGw9pHWBCwiFwP3Am7gp8aYu/rZ5irgK1jfCzcYY/41nTGp0Rnu6gnGGMLRBB2RGJ2ReFq7FZwSTxjawlHawlFcIgS8boI+N4U+Nx63jvDMZZFYglgiQfdphuSzDbF4glDESryjlbYELCJu4D7gQqARWCMiy40xryVtMxP4IvBWY0yziOgYmyzWXRDG65ZeBWGWYg2RSiQMndF4T9K1+lvHhoQ9OSIUiXEY8HutROz3uPF59IReLuiwu8TC0cy9dtPZAl4IbDfG1AOIyDLgMuC1pG0+AtxnjGkGMMboOihZLHn1BIACn4eOrij3PbedWRNL6IzGj2tkQj7q7jvu5nG5KPC77e4KPZmXLYwxtHXFaAlFHfmWls4EPBloSLreCLylzzYnAojIC1jdFF8xxjzZd0ciciNwI8CUKVPSEqwaWkNziLKg1xoGlrCGgrldQkNziFAk5nR4WS2WSNDamaC1M4rX7aIk4KUk6NF+Y4d0dx+1dEYd/aaWzgTc3yur71/qAWYCi4Ea4O8icoox5mivBxnzAPAAWOUoUx+qGkwsniAUjTO+OMDB9jABz5stuHA0wYSSoIPR5Z5oPMHhji6OdkYoCXjxe109Y49VekXjCVo6o7SHYySy4NtaOhNwI1CbdL0G2NvPNquMMVFgp4i8jpWQ16QxLjUMxhg6InHawlE6I9ZX6SvPqOHeZ7dhTJyA10U4miCWMFxzZu0Qe1P9iScMzaFIz3URIeC1xh0HfW58bh1ZkSqdkTit4SgdXdn1TS2dCXgNMFNEpgN7gGuAviMc/gBcCzwoIuOwuiR0OVYHReMJ2sIx2sMxYonefWIL6yr4FDNZtqaB/a2dTCgJcs2ZtSysq3Ao2vxijKEzErc+8Dqs27xua3ZegddDgd+treRh6p5N2RmJ0xaOZe0onLQlYGNMTERuBp7C6t/9uTFmk4gsBdYaY5bb910kIq8BceCzxpjD6YpJ9c8qb2i9UIfqy11YV6EJN4Oi8QTRuNWCO9xhJeSgPSsv4HGNqeFu4WicSDyBSWBPR7fqfiSMwZg3f8cTJmsTbl+6JNEY1D2Wd/eRDiaWBrnqjBoWTM/epLq6/gjL1jSwr7WTidrqPoZLxKpxYRcd6i485PNYP6loNRu7/ka3WCJBJGb9JAyIHHvSJ7lIEoDbjtMlVswuEcTVffnN21wCCWM9RzRu6IrFc25YY11V0bD6jjQBjzErtjTxpcdfxSXg87zZj/upC2ZmZVJbXX+Ee5/dhsclvfqdszXebCQieFzSMx7ZLdJTFc70KWxkeLOKnACxhJUAo3GjQwxHYLgJWKcijxFdsTgdXXHu/es2APz2SIag101nNM6yNQ1ZmdCWrWnA45Ke9dCyPd5sZIwhGs+dr+VjiSbgPBeJJWgORXrO/u5t6aQk0PvfHvC62N/a6UR4Q9rXmlvxKjUSmoDzVCRmj3fsivX66jixJMjhjq5eK+xm81jeiSVBDrWH8bldxBJWXeDOaJyA180vXthJe5fVP9gVixOOJognEj21g+HNvkWv2+oP9Xusk1hFfg+FPjelQS+lBV7Kgj4qi3xUFvrG1Ikt5SxNwDlqoKI4oUiM1s6BRzNcc2Yt9z67zU5iqR3LO5qTZdF4gsbmTnYdDrH3aCeNzZ3sbemk4UiI5lC0v0fw61W7Rx1zXwJUFPoYXxJgUlmAiaUBaisKmFJRQG15AUHf6KcR60lF1U1PwuWg5KI43X2iXbEEn377TE6fWj7k47sTQCrH8o7kZFlrZ5TXD7Sxvamd7U3t7DjYQWNziOGc5BagJOilsshHsd9DUcBD0GsNy/J5XHhdgsftorv2TSJpWFIknqAralWy6ohYY51bOq3pqF3DLI85oSTAjKpCZlQVMXN8ESdNKGZckT8tx0nlLj0Jl8e6i+IEvW4Sxir0EiHB/6zaPawEnI6xvAOdLHto9W7Gl/p5ZU8Lr+xpZfO+VhqbB+6/LfC5qSkPMrksyKSyIONLAowv8VNV7Key0EeRPz31EzojcQ62d3GovYuDbV3sbwmzryXMnqNWK7w1bH2j2N8aZn9rmBd2vDlcvbLIx5yJJZwyuZRTJpcws7p4wOpnelJRJdMEnIN2H+mg2O8hEk/0VNdw+sRU8smyaDxBRyROKBJjz9FOPvjgsd9YXAJTKgo4obqIE6qLmD6ukGmVhYwr8jky/TboczPF7mroT0soyhtHOth5sIMdBzvYfrCd+oPtROOGw+0RVm47xMpthwDrQ2RuTSnza8tYMLWc6eMKe/4mPamokmkCtg230LiTYvEERzujVBUHONyePSfSovEERT4P+1rC9soAx/YllAa9nDq5lNmTSjh5YjEnji/uFf/q+iP895+3ZG2/aGmBl3kFZcyrKeu5LRpPsPNQB5v3tbJpbyuv7mllf2uYUCTOqvojrKo/Algt5IXTKnhLXQXVRQGOdkYy/r/TfufspH3A9N+nGo0bli6Z43gSTiQMHZEYHV3xnnq72dCP2BmNs3rnEZ7fdohVOw/T0dV7dQCXgM/t4uI5E7jstElMqSgYsGWbDX9Pqhxs62Jdw1HW7z7Ky7ubaWrr6nW/x56pVuBzU17gtVZ+TvPfmk/HN1doH/AI9FdoPBSJcf/K+mEl4HS0no0xtHRGaQ5Fj5mB5FRRnEgswaqdh1mx5SCr6g8T7nPiqqY8SDSWIJpIUFtWwLULpwwrpnzqF60q9nPR7PFcNHs8xhh2HwmxeucR/rnzCBsaW4gljD27LEFzKEqx38NFs8cze1JJ2mLKp+ObbzQB82ah8WRBr5vG5tCQjx1qmZ7j0RmJc6i9a9CZS5kqimOMYdPeVp5+7QDPvd7Uq6XrcQmnTSnj3BPGcc6MSipHMBogWb72i4oIUysLmVpZyJULamnvirF65xFe2H6IF+sPE44maOuK8dt1e1i+cS9n11Vy4ezxvGV6RUrHIufr8c0HmoCB2vICmtrCPS1gsL5i15T3f0Im2Whbz8k6uqxhUalY7G+0Drd38dSmAzy5aX+vUQsugTOmlrP4pGrOPaGS4oB3kL0MT65NDjleRX4PF8yq5oJZ1XRF46x5o5nnXm/iHzsO0xVL9JzIKy/wcuHs8Vx6ykSmVA79GhzKWDm+uWjECVhE3g4UAE/ahdRz3k2L6rhj+SZCkVivPuCbFtUN+djRtJ7B+TWp+saybvdRHt+wlxe2H+o1LvfE8UVcNHs858+qprzAl9LnTefkkGzl97o5d+Y4zp05jlAkxvPbD/PMawd4aVczzaEoj6xt5JG1jcyvLeXdcydx7sxxx13VbCwe31wxopNwIvJtIAIkgNOMMZemK7CBpGsiRnc/bmNziJoR9ONe+8CqY1rPoUiM6uIAD9141oCP6y583hZ2dk0qsLo8ntq0n9+v20NDUmu3JOCxWmKnTmT6uMK0xpCOySG56EBrmKdfO8CTr+5nX0u45/aKQh/vnjuRd8+bREXhyD8A9fhmVkrKUYrIt4A7jTEt9vVHgavsu18xxpwy2kBHKttmwo1kBEUkZlXob4/Eeq2Y65Sm1jC/X7eHP72yn/akpVpOnVzCknmTOG9mFT6P1kVwQsIYXtrVzPINe3lxx+GebyMel3DBrGquWlBDXVWRs0GqAaUqAb8V+BLwJ+CHwKXA7UAA+Jkx5nujD3Vksi0Bw8Ct5+7CMaFIjHAkccwSP07ZeaiDR9Y28Mzmpp7Wt8/j4sKTx3P5aZOYoW/srNLUGmb5hr08sXFfz4w8gIXTyrn6zFrm15bp2nFZJqUF2UXk/cD1wPeMMX8cZWyjko0JOFl3n25bODtaucm2Hmjj1y/u6jWNtqLQx+XzJ/HuuZMoLRj9CTWVPl3ROH/Z3MSjaxt6dRXNnljCdWdN4S3TKzQRZ4lUtYA9wDuBKPAP4BZgAXC7MWZjCuIcsWxLwN3FrmOJhDWsKAv6dPvavK+VX764i9U7j/TcVlMe5KoFtVw0e7x2M+SYhDG8uOMwy9Y0sGlva8/tM6uLuOGcqZxdV6mJ2GGpSsBPAOuxRj1UGmNuEJFJwFLAGGM+kopgR8LpBGyMNYi+MxLvqUKWrbMJtx1o4xf/eKNnSixAXVUh171lKufNHNdvwZh0TVnNxqmwg8WUjfH2ZYxhY2ML//PP3by0q7nn9pPGF/PBt07jzGnlKUnEThyLXDj+g0lVAn7FGHOqiPiAVcaY05Pum2+MWT/6UEcmUwk4Fk8QisZJ2DOX4glDJJZwfKjYcOxp7uRnz+9kxdaDPbedUF3EDWdP5ewZlbgyPCU4G6fCDhYTkHXxDuW1va388sU3WPPGm4l4bk0pHz53OqdMLj3u/Trxv8vG18tIpWoq8gMish6r5ta3k+9wIvmmUyJhLXMdsYeHdXQNvjx7NmoORfjVi7t4YuO+nm6QaZUFfOCt0zjvhHFDtobSNWU1G6fCDhYTkHXxDmX2pBK+8b65vLqnhV/84w3W7T7KxsYWPrlsPW+dUclHFtUNWOltME7877Lx9ZIugyZgY8z3ge9nKJaMiCdMz3LX3UvZRIZZjDtbRWIJHnupkd+s3k0oYp34G1/i54Nvnc7bZ1UPWJu2r3RNWc3GqbCDxWQg6+IdrlMml/LtK+fx0q5mfvL3erYeaOeFHYd5sf4w7543iRvOnkrZCCbSOPG/y8bXS7oMmoBFZA4wwxiz3L7+HaD7+8wPjDEvpzm+ETHG6i6I2SfFYnalqe7LcbuVmy+MMfxt60HuX1nPgVar6lZJwMN1Z01lybxJIz65lq4pq9k4FXaomA53dBH0ubEWZ7cmq+TS1N0zppZz+pTT+dvWg/zk7zvZ1xLm8fV7eWbzAW44exqXz580rHoTTvzvsvH1ki5D/QfuAg4lXX8n1pjg54A70hXUYIyx3gyt4SjNHRGa2sLsPdrJ7sMhdh7qoOFIiH0tnRxs66I5FKEtHKUzEicaT+RV8q0/2M5nHt3A0ic2c6C1C49LuPKMGn79oYVccUbNcY1suObMWmL22GWD9TsVU1bTtd+hiAgusco/di/KGfC6KQ54+ch50zFANJHA7RIi8QTGwI2LpnPT26wp6LF4Aq9biCUSiAifvOAEJpcHmVAaYFyxn8pCPxWFPsoLfBT6PXhc2TWaRERYfFI1v/jAmXx08QyK/B46uuL8cMUOPvyrl1jzxpEh9+HE/86p14sThjoJt9YYsyDp+ipjzFn25eeNMedmIMZe5s4/3fzhLysz/bRZo6MrxoP/eIPfr9vTMzvqnBmVfPRtM5hcPvoWQrqmrI5mvy4RvEnrvXncdmIVQQTrx26pdq+C7BpGt8tg08+Pd2p6LG6dMErY38bCkTihSDwrPvxbQlF+8Y83eGLj3p7XzqKZ4/jY4hlUlwQGfJwT05hzfep0qkZBvG6MOWmA+7YaY048zviO21hNwMYYVrx+kB+u2MHhjghgjeW9+fwTWDg9d16YQ/G4rJZqz4/dcs1lxhhC9rDFcNT5cw47Drbzg2e3s6GxBYCAx8X150zjitMnp7QM5liWqlEQe0XkLcaYfybfKCJnAXuPNzg1Mvtbwnz3ma2stocY+T0urj97KlecUXPcFbIyye91E/C48HvdCD3L2AFWi1UQPG7B45K8nEAgIhT6PRT6rbdbImEIx+J0RuKEY4mMz5icUVXEPVfN469bmvjRih00h6I8sLKeZzYf4DMXnsjJE9NXHF71NlQLeCHwMPAg0H3C7QzgBuBqY8zqdAfY11hqAccTht+t28Mvnt/Zs/rE2XWVfOKCE5hQOvBXRqd43S77R6wl4t1WC3Y43QFjWTSeoMOevp7pcebtXTF+/vxOHl+/FwMI8J7TJvOhc6cT9LmHergaQMpqQYhINXAzMMe+aRNwnzHmwKgiPE5jJQG/cbiDu598nS372wCoLPTxibefwKKZVQ5H1pvP46Ik6KXI59FEmwJdsTgdXXHaw7GMFm/avK+Vbz+9lfpDHQBMKAlw60UncvrU8ozFkE9S1Qc8xRizO2VRpUC+J+B4wvDwmgZ++eIbPasLv3vuRD5yXh1FAWcXMHG7BL/Hjc9jnQjze1z4PdpKSpdQxGoVhyLxjEx3j8UTPLK2sddr712nTuSji+t61btWQ0tVAn65e/qxiPzWGPO+FMV33PI5Ae8+EuKu/9vS0+qdWBrgs+88ifm1ZUM8Mj1ErNV7gz43ATvxqsyLxRMc7YzSFo5lJBHvPhzi7qde57V9VqGfCSUBPnexc6/DXJSqBLzOGHNa38tOyscEnDCGP6zby0/+Xk+X3df7ntMm8+HzpvcajJ4pPo+LsgIfBV63ditkkWgQzBu3AAAgAElEQVQ8QXMoQns4/dPk4wnD715u5KfP7+xpDb/39MnceF6dfhAPQ6pGQZgBLqsUOdTexTeefL2nmlV1sZ/PX3wSp03JfN+bz+PqmVSgso/X7aK6OEBJIM7BtsFXzR4tt0u4ckEtC6dXcNeTr/P6/jZ+9/IeXt7VzG2XnsyMai3anwpDtYDjQAfWydEg0L3SpGCVo8z4eJV8agG/sP0Q33zq9Z5VDt45ZzwfP/8EijKcAANeN2UFXu3nywLdE0AamkPUDjIBxBhDcyhKS2c07d0S8YThf/+5i1+9uIuEAa9b+PC503nfGTUDVtYb61K6IkY2yYcE3BWN86O/1bN8gzWUujjg4TMXnsiiEzM3wsEam+qmJOAl4EA3hzrWSNYX7BaOpr813G3zvlb+689b2HPUKoqzcFo5n79kVspXyc4Hw03A2pmTYbsOd/Dx36zrSb6nTSnjp9cvyFjy9bpdVBb5mVpRQHVxQJNvFrl/ZT1et1Dg89gnQD143cL9K+sHfEzA66amPEhJMP3LSZ08sYQH3n8Gl54yAYDVbzTz4V+u7VUMXo2MfufMoKc27efeZ7YRjiVwCfy/t07nmoW1Gfka53G5KCv0Uuz35OVss3zQ0ByirE8iDXrdNDaHBniERUQYV+Sn0OfhYFtXWscPB31ubn3nSZwxtZx7/rKV5lCUzz22kevOmsL1Z08bdulTZdEEnAFd0Tjfe3Y7//fqfsA60Xb7u04e1UoFwyUilAa9lBd4NfFmudryAprawr364jujcWrKh1dIPeizWsOH2rtoT/OCAufPqmbWxGLufGIzW/a38etVu3llTyu3v+tkKgq1S2K4tAsizRqbQ3z8oXU9yffsukoeeP8ZnDK5lNX1R7jl4Q1c+5NV3PLwBlbXD10ecCR8HheTygJUFPo0+eaAmxbVEY0bQpGYXcAnRjRuuGlR3bD34XIJ1SUBxpcE0l4ec2JpkHuvmc/7Tp8MwPqGo9z465fY2Hg0rc+bT/QkXBq9sP0Qd/3fFjoicVwCHz6vjqsX1CAiaV33yiVCeYFPl5nPQcdbBrM/8YThcEdXRsYN/33bIe5+agsdXdZr/aa3zeCK0yeP2Q9+HQXhoHjC8MsX3+B/VlmzuCsLfXzpX05mbs2bM4lueXjDMVX/O6NxKgv93HP1vON+7gKfh8oiX05USVOZ0RqOcrg9kvbhanuaO/nyHzdRf9CqJ7H4xCo+e/FJjkwmcpqOgnBIezjGbX94tSf5njq5hPvff0av5AvWulcBb+/DP5p1r0SEyiI/E0oDmnxVLyUBLxNL098lMbk8yA+uPY0LZ48HYMXWg3ziN+vYezT/1nJLFX2nptDuwyE+9puXWb3T6st972mT+faV8/o9KTGxJEg42vts9fGue+V1W329pRkYiqRyU8DrZlJZ+j+cA143X7j4JD5xwQm4XUL9oQ4+9r8vs3YYyx+NRZqAU2RV/WE+/puXaWzuxOsWPn/xSdx8wQkDrjCQqnWvSoJeasqDWpVMDcnjdjGpLJj2Wg4iwntOm8y3rphLWdBLazjGF373Cr97uTEjxYRyiSbgUTLG8OjaBm77/at0ROJUFvr47tXzeeecCYM+bmFdBZ+6YCaVhX7awjEqC/0jOgHncbmYWBpkXJF/zJ7oUCPndgkTS9OfhAHm1Zbxo+tO54TqIhIGfvDcDu75y7aMF53PZmk9CSciFwP3Am7gp8aYuwbY7grgUeBMY8zawfaZTSfhovEE9/51G39+xRpidtKEYu68bA7jivxpfd6SoJeKAp9WKhuG4dZWyJb9Zko8YdjX0pmR9ek6o3G+8eQWVm61FlifV1PKV5fMycjsPac4fhJORNzAfcAlwGzgWhGZ3c92xcAngX/2vS+btYWjfP63G3uS7/knVfHdq+alNfla43qtVq8m36F111ZoagtTFvTS1BbmjuWbWLGlKSv3m0ndLWF/BkYoBL1u7viX2dxw9lQANjS2cPND64ac4TcWpPN7yEJguzGm3hgTAZYBl/Wz3Z3A3UA4jbGk1N6jndz8m3Wsb7BWlb3h7Knc/q6T0/piLg16mVwW1NoNI3A8tRWc3G+muV3CxJJARpKwS4QbzpnGl951Ml630NhsvYfG+qSNdCbgyUBD0vVG+7YeInIaUGuMeWKwHYnIjSKyVkTWHjl8KPWRjsDmfa3c/Jt1NNgn2267dBY3nDMtbf2wbpcwoTRApfb1jlhDc+iYMajDqa3g1H6d4MpgEgZrCvM9V83rOTn32cc28mwOfXNItXQm4P6yRU+Hs4i4gO8AnxlqR8aYB4wxC4wxCyoqx6UwxJF5Yfsh/uORDRztjFIS8PDNK+by9pPHp+35vPZZa63Te3xqywvo7LPk+0hqK2R6v07pTsKZWulizqRS7vu305hSUUA0bvjanzazbE3DmBwhkc4j3ggkj6mqAfYmXS8GTgFWiMgbwFnAchFZkMaYjtvj6/fy5eWbiMQSTCoL8P1rTztmckUqed0unVQxSqmorZDJ/TrJlcHREWDVkfj+tfOZW2MVpHpgZT3fe3Y78cTYSsLpPNprgJkiMl1EfMA1wPLuO40xLcaYccaYacaYacAqYMlQoyAyzRjDz57fyb1/3UbCWCMdvn/tadRWpK+1o8k3NRbPqmbpkjlUFwdo6YxSXRwYtLi50/t1WveJuUy97ooDXu5+31zOP8mqhf34+r3c+afXMjIyI1uk7butMSYmIjcDT2ENQ/u5MWaTiCwF1hpjlg++h9RaXX+EZWsa2NfaycSSINecWTvkmNt4wvCdZ7b2jHQ4q66CL/3L7LTObfe6Xda0UU2+KbF4VnVaEmO69uu07nMOe492Dqs1Otj7ajjvOZ/HxW3vOplxRX4efamRlVsP0RLayJ2Xn5LxpbmcMCaK8RxP5bFILMGdf3qNF7YfBuCSUyZwy4UnprXgtM9jTa7QotbKaeFonH0t4UH7ZQd7XwEjfs89sraBH//NGklSV1XI3e+bm7O1hR0fB5xNlq1pwOOy1tkSrN8el7BsTUO/23d0xfjC7zb2JN9rF9Zy60XpTb4Br5tJmnxVlgh43YwvGXzkzWDvq5G+5wCuWlDLFy+ZZdWQONjBJ5etY19LfhfyGRMJeCSVx1pCUW59dGPPGN+Pvq2Oj5xXl9YhYD6PiwklAZ1cobJKgc9jvS4HeO0P9r463mp/F84ez52XzcHvcbH3aJhPPrSenYc6RveHZLExkYCHW3nsYFsXn354Pa8faMMl8PmLT+LKBSMrjjNSHpcmX5W9gj43E0oD/X4zG+x9NZpqf2fVVXL3++ZS6HdzuCPCfzy8ni37W0f3h2SpMZGAh1N5bF9LJ59+eD27joTwuoUvv3vOkAV1RsslwvhSv55wU1kt4LWScN+W8GDvq9FW+zu1ppTvXjWf8gJrwsatj27klcaWdPx5jhoT7/yhKo81HAnx6WUb2NcSJuBx8fXLT+G8memd8CEijC8JaBlJlRP8HjfjSwK9bhvsfTXaan8AM6qL+O7V86kq8hOKxPncbzfmXV3hMTEKYjA7D3Vw66MbaA5FKfC5ueu9p2ZkteLqksCYGGaj8ktLZ5TD7V0Zfc79LWE+86jVQPK6ha8umcNZdZUZjWGkdBTEMOxoaueWR6zkWxzw8K0r52Yk+VYW+TX5qpxUGvRmvIzkhNIA3716fs/U5Tse38QL252tCZMqYzYBbzvQxmce3UBLZ5TSoJd7rpzHrAklaX/esgKfLh2kctq4Ij9BX2a7zqqK/dxz1TymVRYQSxi+8sfX+NvWgxmNIR3GZALeeqCNWx/bSGs4RnmBl3uumseM6qK0P2+h35OzA8uVSja+OPNT5SsKfdxz1TzqqgqJJwx3PvEaK17P7SQ85hLw1gNt3ProRtrs5Pvtq+YxfVxh2p/X63ZRleaVMpTKFJfLOomc6YlDZQU+vn3lvJ5ljr72p9xOwmOqI3LbgTY++9hG2rti1qfplfOYUpneEoKr64+wbG0DB9vCTKkozLmla1TuyPQyST6Pi+riQMZnq5UGvXzrirnc+thGtje187U/vYbIbN52YlVG40iFMdMC3tHUzmcfe7Plm6nke++z22jpjFBe4MvJpWtUbnBqmaSgz+1It1qJnYS7W8J3PvEaz2/LvRNzYyIB7zzU0avP99tXpT/5gjVX3ucRivzenF66RmU/J5dJKivwObJoQE8SrrKS8NInXmNV/eGMxzEaeZ+AG46EuDVptMO3rpzHtMr09/kC7G/tpKjPCzNXl65R2c3pZZKqiv2O1K8uCXr55hVzmT6ukFjC8OXlm1iTQ5M18joB72vp5NZHN9IcilLk9/T8ozJlSkUh4T7FpXN56RqVvZxeJsntEqqHqJ6WLqUFVhJOHie8IUcW+8zbBHywrYtbH93IwfYuCnxu7r7iVE7IwFCzbkUBDx9bPCPvlq5R2Skblknye9yMK3JmmGVFoY9vXTmXSWUBumIJbvv9qzlRwCcvE/DRUITPPbaxp7bDf7/n1IxMsujmcbkYV+jP26VrVPbJltdacSDzM+W6jSvy860r51FdbNWO+PxvX6H+YLsjsQxX3tWCaO+K8ZlHNrCtqR2vW/iv95zKGVPLMxihteBgpmcKKZUtjDHsbQnT1adLJFMajoT49MPraQ5FKS/w8r1rTmNy+dBlMFNpTNaCCEfj3Pb7V9jW1I5L4Evvmp3x5Fsa9GryVWOaiDC+2O/Y6i61FQV884q5FAc8NIeifPaxjRxsy2wBoeHKmwQciydY+sRrvLLH6vf53MWzODfNJSX78nlcOtVYKcDjtiZpOKWuqoj/fs+p9iocYT732420dEYdi2cgeZGAE8Zw91Ovs6reGn5y8/kncNHs8RmNQUSoKnbmLLBS2cipSRrdZk8qYemSOXhcwq7DIb74u1fojDjTLTKQnE/Axhh+tGIHz2y2Zvy8/6wpvPf0yRmPo6LAp8XVlerDqUka3RZMq+C2d52MS2DL/ja+vHwT0Xhi6AdmSM4n4IfXNPDbl/cAsGTeJD5wzrSMxxD0uSkt0BKTSvWnqtiPx+VcqnnbiVV8+h0nArB2VzPffOp1Elky+CCnE/DTm/bzwN93ArDoxHF84oITMt4F4HaJVjlTahDdkzSc9C9zJ/JBu3H2zOYmfvy3HWTDCLCcTcCrdx7hm09vBWB+bSn/ecnJjpx1rSzSRTWVGkrA66a8wNkT1NedNYXL5k8C4LGX9vDoS42OxgM5moC3HmjjK3/cRDxhmFFVyNLLTsHnyfyfUuDz6NJCSg1TeaGPgNe58yQiws3nn8Aie3TUj/9Wz7MOVybMuQQcjSf44u9eIRxNML7Ez13vPdWRJCgiOuRMqRGqKvYfs7x9Jrldwn9eejKn2ms/fuPJLaxvcK5uRM4l4Mbmzp5FNO9676lUOtT/Whr0OtLqViqXed0uKu16Eavrj3DLwxu49ieruOXhDayuz0wVM5/HxZ2XzWGqXbznS4+/ys5DHRl57r5yLoNE4gm8brEOYIbKSvblcbko04U1lTouxQEvGxqOcu+z2zjc0UVJwMPhji7ufXZbxpJwSdDLXe87lcpCHx1dcb74u1c40hHJyHMny7kEDPDFS2Yxt6bMseevKPLhcmiapVL54OE1DXjdQtDrRrB+e1zCsjUNGYthfEmA/3rPKQS8LprauvjP379yTEnPdMu5BFxd7GfxSc5VEwt43XriTalRajx67GIF1rThzK4vN3N8MXf8y2xcAlsPtPO1JzYTT2RueFrOJWCnh7JUOlTvVKl8UlteQFc80eubZDiaYEJJZquWAZxVV8kn3z4TgBfrD/Pjv+3I2HPnXAJ2UknQq9ONlUqB7gLykZj1lb8zGieWMFxzZq0j8SyZN4krz6gB4Lcv7+Hx9Xsz8rz6XXqY3C7JeOs708uMK5Upi2dVsxRrMdHdRzqoKgpwzZm1LKyrcCymGxfVsedoJ//YcZjvP7uNSWUBzpyW3njyriB7uowr9lMSyNzIh+5lxrtPVHRG40TjRlfUUHmpqTVMe1fM6TDojMT51MPr2d7UTqHPzff/9bTjWsR3TBZkTxe/153R5AvOLjOuVKZVFjlXwD1Z0Ofm65efQmWRj45InNt+/2pa6whrAh6CiDiy0KDTy4wrlUlulzg2qaqvqmI/X7vsFPweF/tawnz1j+krYakJeAglAY8jJ96cXmZcqUwr8nscrR2c7KQJxXz+4pMAWN/Qwvef3Z6W6mmagAfhcbkcG/aWDcuMK5Vp44p8jtaKSLb4pGquP3sqAE9s3Mcf0jAyQhPwICodnPGWLcuMK5VJHreL8iwqcnXD2VN524lVANz33HbW7W5O6f51FMQAAl43k8oyPyhcKQV7jnY6tqx9X53ROJ98aB07DnZQEvDwo+tOZ2Lp4LlBR0GMkpaaVMo5lVn0/gt63dx5+SmUBr20hmPc/odNKVvcUxNwPwp8HkcLRys11gW8boozPPRzMBNKAnxlyWzcLmHnoQ6+8dSWlJyU0wTcj/LC7PnHKzVWVRT6smJscLd5NWXcfP4MAFZuPZSSym2agPsocmjYmVKqN7dLKHO4+FZfS+ZN4uI5EwD46d93suaN0dUv1gScRCTz9R6UUgPLtpVnRIRPv2MmJ00oxgBf+9Nm9h49/hKaaf3LRORiEXldRLaLyBf6uf8WEXlNRDaKyF9FZGo64xlKadCLV1c4ViqrjMuSGXLdfB4XS5fMobzAS1s4xpeXbyJ8nCM20pZtRMQN3AdcAswGrhWR2X02WwcsMMbMBR4D7k5XPENxu0SXGVIqCwW8booCqZkhl6p16KqK/XzJLuS+42AH331m23GdlEtnc28hsN0YU2+MiQDLgMuSNzDGPGeM6S5usAqoSWM8gyov1GWGlMpWFQWjnyG3uv5IStehm19bxo32zNSnXzvA8g37RryPdCbgyUDyacJG+7aBfAj4vzTGMyCfx5XxamdKqeHzuEdfFmDZmgY8rtSuQ3flGTW9Zsq9trd1RI9PZwLu7+Oq3za6iFwHLAC+OcD9N4rIWhFZe+TwoRSGaMm2Pial1LFKgp5RnZDb19pJwNv78aNdh05E+Ow7T2RqRQGxhGHpE6/REhp++cp0JuBGIHl9kRrgmGoWIvIO4DZgiTGmq78dGWMeMMYsMMYsqKgcl9IgC/066UKpXGCVhj3+xtLEkiDhaO+ykqlYh67A5+ErS2b3rK789T9vHvZj05mA1wAzRWS6iPiAa4DlyRuIyGnA/VjJtymNsfRLRHTKsVI5JOB1U3KcJ8uvObOWWMLQGY1jMCldh25qZSG3XmSVr1y7a/gFe9KWgI0xMeBm4ClgM/CIMWaTiCwVkSX2Zt8EioBHRWS9iCwfYHdpURLw6LAzpXJMRYEPj2vk79uFdRV86oKZVBb6aQvHqCz086kLZqZsHboLZlVz+fxJI3pMWqsfG2P+DPy5z213JF1+RzqffzBOLLKplBo9l0uoKPLR1Boe8WMX1lWkdeHPjy6ewesH2oa9/Zht/pUV6LAzpXJVNq2ekczrdvGVd88Z9vZjMgF73S5KUjSwWynljMosWj0jWVXx8E8UjskEXFbgRbLwH6eUGj5vCsYGO23MJWCv20WRX1u/SuWD0Y4NdlruRn6ctPWrVP4Y7dhgp42pBKytX6XyT7atnjESYyoBa+tXqfxUUZidJ+SGMmYSsNftytlPSaXU4KzVM3Lv/T1mvo9XFh3/2dIVW5q4f2U9Dc0hassLuGlRHYtnVacwOqXUaJUGrQLp0Xhi6I2zxJhoAQd97uMetL1iSxN3LN9EU1uYsqCXprYwdyzfxIotGS9doZQaRC7WdhkTCXg0YwXvX1mP1y0U+DyIWL+9buH+lfUpjFAplQqFfg9BX+5UN8z7BFw0ynKTDc0hgn0eH/S6aWwODfAIpZSTcqkVnNcJWEQoH+U/o7a8gM4+C+51RuPUlBeMar9KqfTwe46/ZGWm5XUCTkW5yZsW1RGNG0KRGMZYv6Nxw032WlBKqexTXuDDnQPFtvI2AbtEKEvBPPHFs6pZumQO1cUBWjqjVBcHWLpkjo6CUCqLWcPSsr8rIm+HoZUVeFP2Cbh4VrUmXKVyTEnAQ2tnNKuHpeVlC9jjclGaI31ASqn0yIVhaXmZgMsLdcqxUsoalubP4kV38y4B65RjpVSyyixuBeddAs72rxxKqcwKeI9/Jmy65VUC9nvdFGq5SaVUH9naMMurBJzNXzWUUs7xeVwUZeE6kHmTgAt8o5tyrJTKb2XB7Gug5U0CLi/UE29KqYFlYys4LxJwkd+D36OtX6XU4MoLfFk1RDUvEnAuTDlUSjkv29aFzPkEXBTI7WWplVKZlU1rQ+Z05hKRURVbV0qNPdnUCs7pBFycgnKTSqmxJ1sW8MzZ7CUilGnBHaXUcfC6s2NERM4m4NKgF4+2fpVSxykbxgXnZAZziWi5SaXUqPg8zvcF52QCLg2mrti6UmrsKnW4LzhnE7BSSo2W3+NspbScS8But+DS1q9SKkWcHBGRewk4SwZQK6XyQ8DrdqyQV84lYKWUSjWnWsGagJVSY16Bz5mSBpqAlVIKZ4p6aQJWSimssraZLm2gCVgppWyZHhesCVgppWzFfk9GJ3lpAlZKKZtkuMyBJmCllEpSHPDiytB8A03ASimVxO0SijNUqlITsFJK9VEazMyyRWlNwCJysYi8LiLbReQL/dzvF5GH7fv/KSLT0hmPUkoNh8ftotCf/unJaWtni4gbuA+4EGgE1ojIcmPMa0mbfQhoNsacICLXAN8Ark5XTEqp/LBiSxP3r6ynoTlEbXkBNy2qY/Gs6pTud3JZkPfMn8zCuooURNy/dLaAFwLbjTH1xpgIsAy4rM82lwG/tC8/BrxdsmW5UqVUVlqxpYk7lm+iqS1MWdBLU1uYO5ZvYsWWppTu91B7F997bhur64+kKPJjpTMBTwYakq432rf1u40xJga0AJVpjEkplePuX1mP1y0U+DyIWL+9buH+lfUp32/A42LZmoahH3yc0pmA+2vJmuPYBhG5UUTWisjagwcPpiQ4pVRuamgOEexTPjLoddPYHEr5fgt8Hg60hUe138GkMwE3ArVJ12uAvQNtIyIeoBQ4pr1vjHnAGLPAGLOgqqoqTeEqpXJBbXkBndF4r9s6o3FqygvSst/aUe53MOlMwGuAmSIyXUR8wDXA8j7bLAdusC9fATxrjDmmBayUUt1uWlRHNG4IRWIYY/2Oxg03LapLy34/tnhG2gq2py0B2326NwNPAZuBR4wxm0RkqYgssTf7GVApItuBW4BjhqoppVSyxbOqWbpkDtXFAVo6o1QXB1i6ZM6oR0EMtt90TU+WXGtwLliwwKxdu9bpMJRSY0zDkRDReGJY29ZVFQ1rNJfOhFNKqWFIR6lKTcBKKTUM6ShVqQlYKaWGIR2lKjUBK6XUMKW6VKUmYKWUGia3SyhKYalKTcBKKTUCqeyG0ASslFIj4HW7KPSnphWsCVgppUYoVa1gTcBKKTVCAa87JdOTc24mnIgcBHYNsdk44FAGwhkJjWl4si2mbIsHNKbhcjKmQ8aYi4faKOcS8HCIyFpjzAKn40imMQ1PtsWUbfGAxjRc2RhTX9oFoZRSDtEErJRSDsnXBPyA0wH0Q2ManmyLKdviAY1puLIxpl7ysg9YKaVyQb62gJVSKuvlXQIWkYtF5HUR2S4iWbHChoi8ISKviMh6EXGkmryI/FxEmkTk1aTbKkTkLyKyzf5d7nA8XxGRPfZxWi8il2YqHvv5a0XkORHZLCKbRORT9u1OHqeBYnLsWIlIQERWi8gGO6av2rdPF5F/2sfpYXspMifjeVBEdiYdo/mZiGdEjDF58wO4gR1AHeADNgCzsyCuN4BxDsewCDgdeDXptruBL9iXvwB8w+F4vgLc6uAxmgicbl8uBrYCsx0+TgPF5NixwlrNvMi+7AX+CZwFPAJcY9/+Y+CjDsfzIHCFU6+n4fzkWwt4IbDdGFNvjIkAy4DLHI4pKxhjVnLsitOXAb+0L/8SuNzheBxljNlnjHnZvtyGtZbhZJw9TgPF5Bhjabeveu0fA1wAPGbfnrHjNEg8WS/fEvBkoCHpeiMOv1htBnhaRF4SkRudDibJeGPMPrDe6MDoVjVMjZtFZKPdRZGxr/p9icg04DSs1lRWHKc+MYGDx0pE3CKyHmgC/oL1zfOosRbjhQy/9/rGY4zpPkZft4/Rd0TEn6l4hivfEnB/lZKz4ZPwrcaY04FLgI+LyCKnA8pSPwJmAPOBfcC3nQhCRIqA3wKfNsa0OhFDX/3E5OixMsbEjTHzgRqsb54n97eZU/GIyCnAF4FZwJlABfD5TMUzXPmWgBuB2qTrNcBeh2LpYYzZa/9uAn6P9YLNBgdEZCKA/bvJyWCMMQfsN1IC+AkOHCcR8WIluv81xvzOvtnR49RfTNlwrOw4jgIrsPpcy0Sku06jI++9pHgutrtvjDGmC/gF2fO+65FvCXgNMNM+G+sDrgGWOxmQiBSKSHH3ZeAi4NXBH5Uxy4Eb7Ms3AI87GEt3cuv2HjJ8nEREgJ8Bm40x9yTd5dhxGigmJ4+ViFSJSJl9OQi8A6tv+jngCnuzjB2nAeLZkvShKVj90dnyvuuRdxMx7OE438UaEfFzY8zXHY6nDqvVC+ABfuNETCLyELAYq0LUAeDLwB+wzlxPAXYDVxpjMnJibIB4FmN9pTZYI0du6u57zVBM5wJ/B14BEvbN/4nV5+rUcRoopmtx6FiJyFysk2xurEbcI8aYpfZrfRnW1/11wHV269OpeJ4FqrC6JtcD/550si4r5F0CVkqpXJFvXRBKKZUzNAErpZRDNAErpZRDNAErpZRDNAErpZRDNAGrvCIi40XkNyJSb0/9flFE3uN0XEr1RxOwyhv2gPs/ACuNMXXGmDOwJuPUOBuZUv3TBKzyyQVAxBjz4+4bjDG7jDHfF7x58E8AAAFySURBVJFpIvJ3EXnZ/jkHQEQWi8jfROQREdkqIneJyL/Z9WVfEZEZ9nZVIvJbEVlj/7zVob9R5RHP0JsolTPmAC8PcF8TcKExJiwiM4GHgO4ly+dhFZM5AtQDPzXGLLSLn38C+DRwL/AdY8zzIjIFeIr+C9AoNWyagFXeEpH7gHOBCFZ9gB/YqyLEgROTNl3TPY1XRHYAT9u3vwKcb19+BzDb6uUAoEREiu0avUodF03AKp9sAt7XfcUY83ERGQesBf4Dq+bEPKyut3DS45LrFSSSrid48z3iAs42xnSmJ3Q1FmkfsMonzwIBEflo0m0F9u9SYJ9dvvH9WIVbRuJp4ObuK1m5vpjKOZqAVd4wVmWpy4G32YsxrsaqkvV54IfADSKyCqv7oWOEu/8ksMBeXeE14N9TGLoao7QamlJKOURbwEop5RBNwEop5RBNwEop5RBNwEop5RBNwEop5RBNwEop5RBNwEop5RBNwEop5ZD/D9PA1BnBgi/PAAAAAElFTkSuQmCC
"
>
</div>

</div>

</div>
</div>

</div>
<div class="cell border-box-sizing text_cell rendered"><div class="prompt input_prompt">
</div>
<div class="inner_cell">
<div class="text_cell_render border-box-sizing rendered_html">
<p>The R^2 of 0.194 (the coefficient of determination) suggests this is a better fit, it's explaining 19% of the variance in the data, which isn't great if you want to make predictions but is alright for trying to understand the data compared with not understanding it.</p>
<p>The Prob (F) suggests the there's a 2.58 chance in 100 that all of the regression parameters are zero and we got lucky, lot of people might say anything below 5/100 is significant enough to talk about.</p>

</div>
</div>
</div>
<div class="cell border-box-sizing code_cell rendered">
<div class="input">
<div class="prompt input_prompt">In&nbsp;[33]:</div>
<div class="inner_cell">
    <div class="input_area">
<div class=" highlight hl-ipython3"><pre><span></span><span class="n">stat</span> <span class="o">=</span> <span class="s2">&quot;FG%&quot;</span>
<span class="n">plot</span> <span class="o">=</span> <span class="n">seaborn</span><span class="o">.</span><span class="n">lmplot</span><span class="p">(</span><span class="s2">&quot;Game&quot;</span><span class="p">,</span> <span class="n">stat</span><span class="p">,</span> <span class="n">data</span><span class="o">=</span><span class="n">data</span><span class="p">,</span> <span class="n">order</span><span class="o">=</span><span class="mi">2</span><span class="p">)</span>
<span class="n">p</span> <span class="o">=</span> <span class="n">plot</span><span class="o">.</span><span class="n">axes</span><span class="p">[</span><span class="mi">0</span><span class="p">][</span><span class="mi">0</span><span class="p">]</span>
<span class="n">p</span><span class="o">.</span><span class="n">set_title</span><span class="p">(</span><span class="s2">&quot;</span><span class="si">{}</span><span class="s2"> - </span><span class="si">{}</span><span class="s2">&quot;</span><span class="o">.</span><span class="n">format</span><span class="p">(</span><span class="n">player</span><span class="p">,</span> <span class="n">stat</span><span class="p">))</span>
<span class="n">p</span><span class="o">.</span><span class="n">set_ylim</span><span class="p">(</span><span class="o">-</span><span class="mf">0.05</span><span class="p">,</span> <span class="mf">1.05</span><span class="p">)</span>
<span class="kc">None</span>

<span class="n">x3</span><span class="p">,</span><span class="n">x2</span><span class="p">,</span><span class="n">x1</span><span class="p">,</span><span class="n">intercept</span> <span class="o">=</span> <span class="n">np</span><span class="o">.</span><span class="n">polyfit</span><span class="p">(</span><span class="n">x</span><span class="p">,</span><span class="n">y</span><span class="p">,</span><span class="mi">3</span><span class="p">)</span>
<span class="nb">print</span><span class="p">(</span><span class="s2">&quot;x3,x2,x1,intercept&quot;</span><span class="p">)</span>
<span class="nb">print</span><span class="p">(</span><span class="n">x3</span><span class="p">,</span><span class="n">x2</span><span class="p">,</span><span class="n">x1</span><span class="p">,</span><span class="n">intercept</span><span class="p">)</span>
<span class="nb">print</span><span class="p">()</span>

<span class="n">X</span> <span class="o">=</span> <span class="n">np</span><span class="o">.</span><span class="n">column_stack</span><span class="p">((</span><span class="n">x</span><span class="p">,</span> <span class="n">x</span><span class="o">**</span><span class="mi">2</span><span class="p">,</span> <span class="n">x</span><span class="o">**</span><span class="mi">3</span><span class="p">,</span> <span class="n">np</span><span class="o">.</span><span class="n">ones</span><span class="p">(</span><span class="nb">len</span><span class="p">(</span><span class="n">y</span><span class="p">))))</span>
<span class="n">model</span> <span class="o">=</span> <span class="n">sm</span><span class="o">.</span><span class="n">OLS</span><span class="p">(</span><span class="n">y</span><span class="p">,</span> <span class="n">X</span><span class="p">)</span>
<span class="n">results</span> <span class="o">=</span> <span class="n">model</span><span class="o">.</span><span class="n">fit</span><span class="p">()</span>
<span class="nb">print</span><span class="p">(</span><span class="n">results</span><span class="o">.</span><span class="n">params</span><span class="p">)</span>
<span class="nb">print</span><span class="p">(</span><span class="n">results</span><span class="o">.</span><span class="n">summary</span><span class="p">())</span>
<span class="nb">print</span><span class="p">()</span>
</pre></div>

</div>
</div>
</div>

<div class="output_wrapper">
<div class="output">


<div class="output_area">

<div class="prompt"></div>


<div class="output_subarea output_stream output_stdout output_text">
<pre>x3,x2,x1,intercept
-1.0238482137720208e-05 -0.0002281680020952854 0.01965563615127731 0.3408933730733027

x1       0.019656
x2      -0.000228
x3      -0.000010
const    0.340893
dtype: float64
                            OLS Regression Results                            
==============================================================================
Dep. Variable:                    FG%   R-squared:                       0.196
Model:                            OLS   Adj. R-squared:                  0.123
Method:                 Least Squares   F-statistic:                     2.682
Date:                Sat, 21 Apr 2018   Prob (F-statistic):             0.0628
Time:                        16:28:03   Log-Likelihood:                 11.948
No. Observations:                  37   AIC:                            -15.90
Df Residuals:                      33   BIC:                            -9.453
Df Model:                           3                                         
Covariance Type:            nonrobust                                         
==============================================================================
                 coef    std err          t      P&gt;|t|      [0.025      0.975]
------------------------------------------------------------------------------
x1             0.0197      0.030      0.645      0.523      -0.042       0.082
x2            -0.0002      0.002     -0.123      0.903      -0.004       0.004
x3         -1.024e-05    3.2e-05     -0.320      0.751   -7.54e-05    5.49e-05
const          0.3409      0.135      2.516      0.017       0.065       0.617
==============================================================================
Omnibus:                       21.130   Durbin-Watson:                   2.718
Prob(Omnibus):                  0.000   Jarque-Bera (JB):               41.847
Skew:                           1.347   Prob(JB):                     8.19e-10
Kurtosis:                       7.459   Cond. No.                     9.09e+04
==============================================================================

Warnings:
[1] Standard Errors assume that the covariance matrix of the errors is correctly specified.
[2] The condition number is large, 9.09e+04. This might indicate that there are
strong multicollinearity or other numerical problems.

</pre>
</div>
</div>

<div class="output_area">

<div class="prompt"></div>




<div class="output_png output_subarea ">
<img src="data:image/png;base64,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
"
>
</div>

</div>

</div>
</div>

</div>
<div class="cell border-box-sizing code_cell rendered">
<div class="input">
<div class="prompt input_prompt">In&nbsp;[34]:</div>
<div class="inner_cell">
    <div class="input_area">
<div class=" highlight hl-ipython3"><pre><span></span><span class="n">stat</span> <span class="o">=</span> <span class="s2">&quot;FG%&quot;</span>
<span class="n">plot</span> <span class="o">=</span> <span class="n">seaborn</span><span class="o">.</span><span class="n">lmplot</span><span class="p">(</span><span class="s2">&quot;Game&quot;</span><span class="p">,</span> <span class="n">stat</span><span class="p">,</span> <span class="n">data</span><span class="o">=</span><span class="n">data</span><span class="p">,</span> <span class="n">order</span><span class="o">=</span><span class="mi">2</span><span class="p">)</span>
<span class="n">p</span> <span class="o">=</span> <span class="n">plot</span><span class="o">.</span><span class="n">axes</span><span class="p">[</span><span class="mi">0</span><span class="p">][</span><span class="mi">0</span><span class="p">]</span>
<span class="n">p</span><span class="o">.</span><span class="n">set_title</span><span class="p">(</span><span class="s2">&quot;</span><span class="si">{}</span><span class="s2"> - </span><span class="si">{}</span><span class="s2">&quot;</span><span class="o">.</span><span class="n">format</span><span class="p">(</span><span class="n">player</span><span class="p">,</span> <span class="n">stat</span><span class="p">))</span>
<span class="n">p</span><span class="o">.</span><span class="n">set_ylim</span><span class="p">(</span><span class="o">-</span><span class="mf">0.05</span><span class="p">,</span> <span class="mf">1.05</span><span class="p">)</span>
<span class="kc">None</span>

<span class="n">x3</span><span class="p">,</span><span class="n">x2</span><span class="p">,</span><span class="n">x1</span><span class="p">,</span><span class="n">intercept</span> <span class="o">=</span> <span class="n">np</span><span class="o">.</span><span class="n">polyfit</span><span class="p">(</span><span class="n">x</span><span class="p">,</span><span class="n">y</span><span class="p">,</span><span class="mi">3</span><span class="p">)</span>
<span class="nb">print</span><span class="p">(</span><span class="s2">&quot;x3,x2,x1,intercept&quot;</span><span class="p">)</span>
<span class="nb">print</span><span class="p">(</span><span class="n">x3</span><span class="p">,</span><span class="n">x2</span><span class="p">,</span><span class="n">x1</span><span class="p">,</span><span class="n">intercept</span><span class="p">)</span>
<span class="nb">print</span><span class="p">()</span>

<span class="n">X</span> <span class="o">=</span> <span class="n">np</span><span class="o">.</span><span class="n">column_stack</span><span class="p">((</span><span class="n">x</span><span class="p">,</span> <span class="n">x</span><span class="o">**</span><span class="mi">2</span><span class="p">,</span> <span class="n">x</span><span class="o">**</span><span class="mi">3</span><span class="p">,</span> <span class="n">np</span><span class="o">.</span><span class="n">ones</span><span class="p">(</span><span class="nb">len</span><span class="p">(</span><span class="n">y</span><span class="p">))))</span>
<span class="n">model</span> <span class="o">=</span> <span class="n">sm</span><span class="o">.</span><span class="n">OLS</span><span class="p">(</span><span class="n">y</span><span class="p">,</span> <span class="n">X</span><span class="p">)</span>
<span class="n">results</span> <span class="o">=</span> <span class="n">model</span><span class="o">.</span><span class="n">fit</span><span class="p">()</span>
<span class="nb">print</span><span class="p">(</span><span class="n">results</span><span class="o">.</span><span class="n">params</span><span class="p">)</span>
<span class="nb">print</span><span class="p">(</span><span class="n">results</span><span class="o">.</span><span class="n">summary</span><span class="p">())</span>
<span class="nb">print</span><span class="p">()</span>
</pre></div>

</div>
</div>
</div>

<div class="output_wrapper">
<div class="output">


<div class="output_area">

<div class="prompt"></div>


<div class="output_subarea output_stream output_stdout output_text">
<pre>x3,x2,x1,intercept
-1.0238482137720208e-05 -0.0002281680020952854 0.01965563615127731 0.3408933730733027

x1       0.019656
x2      -0.000228
x3      -0.000010
const    0.340893
dtype: float64
                            OLS Regression Results                            
==============================================================================
Dep. Variable:                    FG%   R-squared:                       0.196
Model:                            OLS   Adj. R-squared:                  0.123
Method:                 Least Squares   F-statistic:                     2.682
Date:                Sat, 21 Apr 2018   Prob (F-statistic):             0.0628
Time:                        16:28:13   Log-Likelihood:                 11.948
No. Observations:                  37   AIC:                            -15.90
Df Residuals:                      33   BIC:                            -9.453
Df Model:                           3                                         
Covariance Type:            nonrobust                                         
==============================================================================
                 coef    std err          t      P&gt;|t|      [0.025      0.975]
------------------------------------------------------------------------------
x1             0.0197      0.030      0.645      0.523      -0.042       0.082
x2            -0.0002      0.002     -0.123      0.903      -0.004       0.004
x3         -1.024e-05    3.2e-05     -0.320      0.751   -7.54e-05    5.49e-05
const          0.3409      0.135      2.516      0.017       0.065       0.617
==============================================================================
Omnibus:                       21.130   Durbin-Watson:                   2.718
Prob(Omnibus):                  0.000   Jarque-Bera (JB):               41.847
Skew:                           1.347   Prob(JB):                     8.19e-10
Kurtosis:                       7.459   Cond. No.                     9.09e+04
==============================================================================

Warnings:
[1] Standard Errors assume that the covariance matrix of the errors is correctly specified.
[2] The condition number is large, 9.09e+04. This might indicate that there are
strong multicollinearity or other numerical problems.

</pre>
</div>
</div>

<div class="output_area">

<div class="prompt"></div>




<div class="output_png output_subarea ">
<img src="data:image/png;base64,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
"
>
</div>

</div>

</div>
</div>

</div>
<div class="cell border-box-sizing text_cell rendered"><div class="prompt input_prompt">
</div>
<div class="inner_cell">
<div class="text_cell_render border-box-sizing rendered_html">
<p>Diminishing returns on the order here, that cubic term has a tiny weight, the Prob(F) is saying 1 in 16 times you'd get this good by fluke</p>

</div>
</div>
</div>
<div class="cell border-box-sizing text_cell rendered"><div class="prompt input_prompt">
</div>
<div class="inner_cell">
<div class="text_cell_render border-box-sizing rendered_html">
<hr>
<p>What else can be done?</p>
<p>The warning is sorta concerning, multicollinearity is when you can predict the value of one factor from another so you don't need both. It's look at the matrix of data, the worst condition is when it's singular (a matrix that does not have a matrix inverse) Since OLS requires this (X′X)^-1 term it kinda sucks if you can't do that. Identity matricies are always invertible so if you add one to your data you get Ridge Regression (The identity diagonal is the 'ridge'; this model also called L2 regularization). Sorta fixes the issue.</p>
<p>Scikit and statsmodels both have one:</p>
<p><a href="http://scikit-learn.org/stable/modules/generated/sklearn.linear_model.Ridge.html">http://scikit-learn.org/stable/modules/generated/sklearn.linear_model.Ridge.html</a></p>
<p><a href="http://www.statsmodels.org/dev/generated/statsmodels.regression.linear_model.OLS.fit_regularized.html">http://www.statsmodels.org/dev/generated/statsmodels.regression.linear_model.OLS.fit_regularized.html</a></p>
<p>Sweet free book with a good chapter on this if you want to be extra boring at parties:</p>
<p><a href="https://web.stanford.edu/~hastie/ElemStatLearn/">https://web.stanford.edu/~hastie/ElemStatLearn/</a></p>
<p>Whats L2?</p>
<ul>
<li><p>Least squares has a distance you minimize. You can compute distance in different ways.
The P in $L_{P}$ is roughly the order of the distance.</p>
</li>
<li><p>$L_{1}$ or Manhattan distance is used in LASSO regression</p>
</li>
</ul>
<p>\begin{equation*}
\sum _{i=1}^{n}|p_{i}-q_{i}|,
\end{equation*}</p>
<ul>
<li>$L_{2}$ or Euclidean distance is used in Ridge Regression </li>
</ul>
<p>\begin{equation*}
\sqrt {\sum _{i=1}^{n}(q_{i}-p_{i})^{2}}
\end{equation*}</p>
<ul>
<li>$L_{P}$ is the general case. ElasticNet is an $L_{1}$/$L_{2}$ compromise</li>
</ul>
<p>\begin{equation*}
 \left\|\mathbf {x} \right\|_{p}:={\bigg (}\sum _{i=1}^{n}\left|x_{i}\right|^{p}{\bigg )}^{1/p}.
\end{equation*}</p>
<p><a href="https://www.kaggle.com/residentmario/l1-norms-versus-l2-norms">https://www.kaggle.com/residentmario/l1-norms-versus-l2-norms</a></p>
<p><a href="https://en.wikipedia.org/wiki/Regularization_(mathematics)#Regularizers_for_sparsity">https://en.wikipedia.org/wiki/Regularization_(mathematics)#Regularizers_for_sparsity</a></p>
<p>So zero regularization is OLS, Ridge uses more and somewhere in between might be good.</p>

</div>
</div>
</div>
<div class="cell border-box-sizing code_cell rendered">
<div class="input">
<div class="prompt input_prompt">In&nbsp;[35]:</div>
<div class="inner_cell">
    <div class="input_area">
<div class=" highlight hl-ipython3"><pre><span></span><span class="kn">from</span> <span class="nn">sklearn.linear_model</span> <span class="k">import</span> <span class="n">Ridge</span>
<span class="kn">from</span> <span class="nn">pprint</span> <span class="k">import</span> <span class="n">pprint</span>

<span class="k">def</span> <span class="nf">evaluate_single_factor_with_elasticnet_regression</span><span class="p">(</span><span class="n">x</span><span class="p">,</span><span class="n">y</span><span class="p">):</span>
    <span class="n">X</span> <span class="o">=</span> <span class="n">np</span><span class="o">.</span><span class="n">column_stack</span><span class="p">((</span><span class="n">x</span><span class="p">,</span> <span class="n">x</span><span class="o">**</span><span class="mi">2</span><span class="p">,</span> <span class="n">x</span><span class="o">**</span><span class="mi">3</span><span class="p">,</span> <span class="n">np</span><span class="o">.</span><span class="n">ones</span><span class="p">(</span><span class="nb">len</span><span class="p">(</span><span class="n">y</span><span class="p">))))</span>
    <span class="n">model</span> <span class="o">=</span> <span class="n">sm</span><span class="o">.</span><span class="n">OLS</span><span class="p">(</span><span class="n">y</span><span class="p">,</span> <span class="n">X</span><span class="p">)</span>
    <span class="n">results</span> <span class="o">=</span> <span class="n">model</span><span class="o">.</span><span class="n">fit_regularized</span><span class="p">()</span>
    <span class="nb">print</span><span class="p">(</span><span class="s2">&quot;statsmodels.OLS.fit_regularized  - uses elastic_net: &quot;</span><span class="p">)</span>
    <span class="nb">print</span><span class="p">(</span><span class="n">results</span><span class="o">.</span><span class="n">params</span><span class="p">)</span>
    <span class="nb">print</span><span class="p">()</span>
    <span class="k">return</span> <span class="n">results</span>

<span class="k">def</span> <span class="nf">elasticnet_predict</span><span class="p">(</span><span class="n">x_i</span><span class="p">,</span> <span class="n">params</span><span class="p">):</span>
    <span class="n">w1</span><span class="p">,</span><span class="n">w2</span><span class="p">,</span><span class="n">w3</span><span class="p">,</span><span class="n">const</span> <span class="o">=</span> <span class="n">params</span>
    <span class="k">return</span> <span class="n">x_i</span><span class="o">*</span><span class="n">w1</span> <span class="o">+</span> <span class="n">x_i</span><span class="o">**</span><span class="mi">2</span><span class="o">*</span><span class="n">w2</span> <span class="o">+</span> <span class="n">x_i</span><span class="o">**</span><span class="mi">3</span><span class="o">*</span><span class="n">w3</span> <span class="o">+</span> <span class="n">const</span>



<span class="k">def</span> <span class="nf">ridge_fit</span><span class="p">(</span><span class="n">X</span><span class="p">,</span> <span class="n">y</span><span class="p">,</span> <span class="n">alpha</span><span class="p">):</span>
    <span class="n">model</span> <span class="o">=</span> <span class="n">Ridge</span><span class="p">(</span><span class="n">fit_intercept</span><span class="o">=</span><span class="kc">True</span><span class="p">,</span> <span class="n">alpha</span><span class="o">=</span><span class="n">alpha</span><span class="p">,</span> <span class="n">random_state</span><span class="o">=</span><span class="mi">0</span><span class="p">,</span> <span class="n">normalize</span><span class="o">=</span><span class="kc">True</span><span class="p">)</span>
    <span class="n">model</span><span class="o">.</span><span class="n">fit</span><span class="p">(</span><span class="n">X</span><span class="p">,</span><span class="n">y</span><span class="p">)</span>
    <span class="k">return</span> <span class="n">model</span>

<span class="k">def</span> <span class="nf">print_ridge_stats</span><span class="p">(</span><span class="n">model</span><span class="p">):</span>
    <span class="nb">print</span><span class="p">(</span><span class="s2">&quot;sklearn.linear_model.Ridge coefficients:&quot;</span><span class="p">)</span>
    <span class="k">for</span> <span class="n">i</span><span class="p">,</span><span class="n">c</span> <span class="ow">in</span> <span class="nb">enumerate</span><span class="p">(</span><span class="n">model</span><span class="o">.</span><span class="n">coef_</span><span class="p">):</span>
        <span class="nb">print</span><span class="p">(</span><span class="s2">&quot;x</span><span class="si">{}</span><span class="se">\t</span><span class="s2">&quot;</span><span class="o">.</span><span class="n">format</span><span class="p">(</span><span class="n">i</span><span class="p">),</span><span class="n">c</span><span class="p">)</span> 
    <span class="nb">print</span><span class="p">(</span><span class="s2">&quot;const</span><span class="se">\t</span><span class="s2">&quot;</span><span class="p">,</span> <span class="n">model</span><span class="o">.</span><span class="n">intercept_</span><span class="p">)</span>

<span class="k">def</span> <span class="nf">ridge_predict</span><span class="p">(</span><span class="n">x</span><span class="p">,</span> <span class="n">model</span><span class="p">):</span>
    <span class="n">w1</span><span class="p">,</span> <span class="n">w2</span><span class="p">,</span> <span class="n">w3</span><span class="p">,</span> <span class="n">const</span> <span class="o">=</span> <span class="n">model</span><span class="o">.</span><span class="n">coef_</span><span class="p">[</span><span class="mi">0</span><span class="p">],</span> <span class="n">model</span><span class="o">.</span><span class="n">coef_</span><span class="p">[</span><span class="mi">1</span><span class="p">],</span>  <span class="n">model</span><span class="o">.</span><span class="n">coef_</span><span class="p">[</span><span class="mi">2</span><span class="p">],</span> <span class="n">model</span><span class="o">.</span><span class="n">intercept_</span>
    <span class="k">return</span> <span class="n">x</span><span class="o">*</span><span class="n">w1</span> <span class="o">+</span> <span class="n">x</span><span class="o">**</span><span class="mi">2</span><span class="o">*</span><span class="n">w2</span> <span class="o">+</span> <span class="n">x</span><span class="o">**</span><span class="mi">3</span><span class="o">*</span><span class="n">w3</span> <span class="o">+</span><span class="n">const</span>
    
<span class="k">def</span> <span class="nf">ridge_param_search</span><span class="p">(</span><span class="n">X</span><span class="p">,</span> <span class="n">y</span><span class="p">):</span>
    <span class="sd">&quot;&quot;&quot;</span>
<span class="sd">    p hacking since optimizing on test set</span>
<span class="sd">    should use bootstrap or cross validation with holdout</span>
<span class="sd">    &quot;&quot;&quot;</span>
    
    <span class="n">alphas</span> <span class="o">=</span> <span class="n">np</span><span class="o">.</span><span class="n">linspace</span><span class="p">(</span><span class="mf">0.0</span><span class="p">,</span> <span class="mf">1.0</span><span class="p">,</span> <span class="mi">100</span><span class="p">)</span>
    <span class="n">best_alpha</span> <span class="o">=</span> <span class="n">best_rs</span> <span class="o">=</span> <span class="o">-</span><span class="mi">1</span>
    
    <span class="k">for</span> <span class="n">a</span> <span class="ow">in</span> <span class="n">alphas</span><span class="p">:</span>
        <span class="n">fitted</span> <span class="o">=</span> <span class="n">ridge_fit</span><span class="p">(</span><span class="n">X</span><span class="p">,</span> <span class="n">y</span><span class="p">,</span> <span class="n">a</span><span class="p">)</span>
        <span class="n">rsquare</span> <span class="o">=</span> <span class="n">fitted</span><span class="o">.</span><span class="n">score</span><span class="p">(</span><span class="n">X</span><span class="p">,</span><span class="n">y</span><span class="p">)</span>
        
        <span class="k">if</span> <span class="p">(</span><span class="n">rsquare</span> <span class="o">&gt;=</span> <span class="n">best_rs</span><span class="p">):</span>
            <span class="n">best_alpha</span><span class="p">,</span> <span class="n">best_rs</span> <span class="o">=</span> <span class="n">a</span><span class="p">,</span> <span class="n">rsquare</span>
            
    <span class="k">return</span> <span class="n">best_alpha</span>
            
<span class="k">def</span> <span class="nf">evaluate_single_factor_with_ridge_regression</span><span class="p">(</span><span class="n">x</span><span class="p">,</span><span class="n">y</span><span class="p">):</span>
    <span class="n">X</span> <span class="o">=</span> <span class="n">np</span><span class="o">.</span><span class="n">column_stack</span><span class="p">((</span><span class="n">x</span><span class="p">,</span> <span class="n">x</span><span class="o">**</span><span class="mi">2</span><span class="p">,</span> <span class="n">x</span><span class="o">**</span><span class="mi">3</span><span class="p">))</span>
    <span class="n">alpha</span> <span class="o">=</span> <span class="n">ridge_param_search</span><span class="p">(</span><span class="n">X</span><span class="p">,</span> <span class="n">y</span><span class="p">)</span>
    <span class="n">result</span> <span class="o">=</span> <span class="n">ridge_fit</span><span class="p">(</span><span class="n">X</span><span class="p">,</span> <span class="n">y</span><span class="p">,</span> <span class="n">alpha</span><span class="p">)</span>
    <span class="n">print_ridge_stats</span><span class="p">(</span><span class="n">result</span><span class="p">)</span>
    <span class="nb">print</span><span class="p">(</span><span class="s2">&quot;alpha: &quot;</span><span class="p">,</span> <span class="n">alpha</span><span class="p">)</span>
    <span class="nb">print</span><span class="p">(</span><span class="s2">&quot;r-squared</span><span class="se">\t</span><span class="s2">&quot;</span><span class="p">,</span> <span class="n">result</span><span class="o">.</span><span class="n">score</span><span class="p">(</span><span class="n">X</span><span class="p">,</span><span class="n">y</span><span class="p">))</span>
    <span class="nb">print</span><span class="p">()</span>
    <span class="k">return</span> <span class="n">result</span>

<span class="n">input_range</span> <span class="o">=</span> <span class="n">np</span><span class="o">.</span><span class="n">arange</span><span class="p">(</span><span class="nb">min</span><span class="p">(</span><span class="n">x</span><span class="p">),</span> <span class="nb">max</span><span class="p">(</span><span class="n">x</span><span class="p">))</span>

<span class="n">model_elastic</span> <span class="o">=</span> <span class="n">evaluate_single_factor_with_elasticnet_regression</span><span class="p">(</span><span class="n">x</span><span class="p">,</span><span class="n">y</span><span class="p">)</span>
<span class="n">y_elastic</span> <span class="o">=</span> <span class="n">elasticnet_predict</span><span class="p">(</span><span class="n">input_range</span><span class="p">,</span> <span class="n">model_elastic</span><span class="o">.</span><span class="n">params</span><span class="p">)</span>

<span class="n">model_ridge</span> <span class="o">=</span> <span class="n">evaluate_single_factor_with_ridge_regression</span><span class="p">(</span><span class="n">x</span><span class="p">,</span><span class="n">y</span><span class="p">)</span>
<span class="n">y_ridge</span> <span class="o">=</span> <span class="n">ridge_predict</span><span class="p">(</span><span class="n">input_range</span><span class="p">,</span> <span class="n">model_ridge</span><span class="p">)</span>

<span class="n">plot</span> <span class="o">=</span> <span class="n">seaborn</span><span class="o">.</span><span class="n">lmplot</span><span class="p">(</span><span class="s2">&quot;Game&quot;</span><span class="p">,</span> <span class="n">stat</span><span class="p">,</span> <span class="n">data</span><span class="o">=</span><span class="n">data</span><span class="p">,</span> <span class="n">order</span><span class="o">=</span><span class="mi">2</span><span class="p">)</span>
<span class="n">p</span> <span class="o">=</span> <span class="n">plot</span><span class="o">.</span><span class="n">axes</span><span class="p">[</span><span class="mi">0</span><span class="p">][</span><span class="mi">0</span><span class="p">]</span>
<span class="n">p</span><span class="o">.</span><span class="n">set_title</span><span class="p">(</span><span class="s2">&quot;</span><span class="si">{}</span><span class="s2"> - </span><span class="si">{}</span><span class="s2">&quot;</span><span class="o">.</span><span class="n">format</span><span class="p">(</span><span class="n">player</span><span class="p">,</span> <span class="n">stat</span><span class="p">))</span>
<span class="n">p</span><span class="o">.</span><span class="n">set_ylim</span><span class="p">(</span><span class="o">-</span><span class="mf">0.05</span><span class="p">,</span> <span class="mf">1.05</span><span class="p">)</span>
<span class="n">p</span><span class="o">.</span><span class="n">plot</span><span class="p">(</span><span class="n">y_elastic</span><span class="p">,</span> <span class="n">color</span><span class="o">=</span><span class="n">seaborn</span><span class="o">.</span><span class="n">xkcd_rgb</span><span class="p">[</span><span class="s2">&quot;slime green&quot;</span><span class="p">],</span> <span class="n">lw</span><span class="o">=</span><span class="mi">3</span><span class="p">)</span>
<span class="n">p</span><span class="o">.</span><span class="n">plot</span><span class="p">(</span><span class="n">y_ridge</span><span class="p">,</span> <span class="n">color</span><span class="o">=</span><span class="n">seaborn</span><span class="o">.</span><span class="n">xkcd_rgb</span><span class="p">[</span><span class="s2">&quot;orangey yellow&quot;</span><span class="p">],</span> <span class="n">lw</span><span class="o">=</span><span class="mi">3</span><span class="p">)</span>
<span class="kc">None</span>
</pre></div>

</div>
</div>
</div>

<div class="output_wrapper">
<div class="output">


<div class="output_area">

<div class="prompt"></div>


<div class="output_subarea output_stream output_stdout output_text">
<pre>statsmodels.OLS.fit_regularized  - uses elastic_net: 
x1       0.019528
x2      -0.000314
x3      -0.000008
const    0.351950
dtype: float64

sklearn.linear_model.Ridge coefficients:
x0	 0.019655636151275982
x1	 -0.00022816800209520392
x2	 -1.0238482137721585e-05
const	 0.3408933730733078
alpha:  0.0
r-squared	 0.1960318499680973

</pre>
</div>
</div>

<div class="output_area">

<div class="prompt"></div>




<div class="output_png output_subarea ">
<img src="data:image/png;base64,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
"
>
</div>

</div>

</div>
</div>

</div>
<div class="cell border-box-sizing text_cell rendered"><div class="prompt input_prompt">
</div>
<div class="inner_cell">
<div class="text_cell_render border-box-sizing rendered_html">
<p>The regularization didn't help in this single-feature case, when tuning the ridge model it picked an alpha that made it very similar to the previous non-regularized models. It also had a similar score to the previous models.</p>
<p>These regularizing models can also use additional variables, if the other columns in the dataframe are used it may be possible to make some good predictions.</p>

</div>
</div>
</div>
<div class="cell border-box-sizing code_cell rendered">
<div class="input">
<div class="prompt input_prompt">In&nbsp;[36]:</div>
<div class="inner_cell">
    <div class="input_area">
<div class=" highlight hl-ipython3"><pre><span></span><span class="k">def</span> <span class="nf">predict_stat</span><span class="p">(</span><span class="n">stat</span><span class="p">):</span>
    <span class="nb">print</span><span class="p">(</span><span class="n">stat</span><span class="p">)</span>
    <span class="n">multi_y</span> <span class="o">=</span> <span class="n">data</span><span class="p">[</span><span class="n">stat</span><span class="p">]</span>
    <span class="n">multi_y</span> <span class="o">=</span> <span class="n">multi_y</span><span class="o">.</span><span class="n">fillna</span><span class="p">(</span><span class="n">multi_y</span><span class="o">.</span><span class="n">mean</span><span class="p">())</span>
    <span class="n">multi_X</span> <span class="o">=</span> <span class="n">data</span><span class="o">.</span><span class="n">drop</span><span class="p">([</span><span class="n">stat</span><span class="p">],</span> <span class="n">axis</span><span class="o">=</span><span class="mi">1</span><span class="p">)</span>
    <span class="n">multi_X</span> <span class="o">=</span> <span class="n">multi_X</span><span class="o">.</span><span class="n">fillna</span><span class="p">(</span><span class="n">multi_X</span><span class="o">.</span><span class="n">mean</span><span class="p">())</span>
    <span class="n">result</span> <span class="o">=</span> <span class="n">ridge_fit</span><span class="p">(</span><span class="n">multi_X</span><span class="p">,</span> <span class="n">multi_y</span><span class="p">,</span> <span class="mf">0.0</span><span class="p">)</span>
    <span class="k">for</span> <span class="n">weight</span><span class="p">,</span><span class="n">factor</span> <span class="ow">in</span> <span class="nb">sorted</span><span class="p">(</span><span class="nb">zip</span><span class="p">(</span><span class="n">result</span><span class="o">.</span><span class="n">coef_</span><span class="p">,</span> <span class="nb">list</span><span class="p">(</span><span class="n">multi_X</span><span class="p">)),</span> <span class="n">key</span><span class="o">=</span><span class="k">lambda</span> <span class="n">p</span> <span class="p">:</span> <span class="n">p</span><span class="p">[</span><span class="mi">0</span><span class="p">],</span> <span class="n">reverse</span><span class="o">=</span><span class="kc">True</span><span class="p">):</span>
        <span class="nb">print</span><span class="p">(</span><span class="n">weight</span><span class="p">,</span> <span class="n">factor</span><span class="p">)</span>
    <span class="nb">print</span><span class="p">(</span><span class="s2">&quot;r-squared</span><span class="se">\t</span><span class="s2">&quot;</span><span class="p">,</span> <span class="n">result</span><span class="o">.</span><span class="n">score</span><span class="p">(</span><span class="n">multi_X</span><span class="p">,</span><span class="n">multi_y</span><span class="p">))</span>
    <span class="nb">print</span><span class="p">()</span>
    
<span class="k">for</span> <span class="n">stat</span> <span class="ow">in</span> <span class="nb">list</span><span class="p">(</span><span class="n">data</span><span class="p">):</span>
    <span class="n">predict_stat</span><span class="p">(</span><span class="n">stat</span><span class="p">)</span>
</pre></div>

</div>
</div>
</div>

<div class="output_wrapper">
<div class="output">


<div class="output_area">

<div class="prompt"></div>


<div class="output_subarea output_stream output_stdout output_text">
<pre>MIN
4.997387944679985 FG%
1.2580647254289807 FGA
1.0983587486747541 PTS
0.3421502548878199 3P%
-0.20733953126004098 3PA
-0.2986478955706145 Game
-1.6900329595260604 FGM
-2.3659540994935995 3PM
r-squared	 0.6944680539166538

PTS
1.671695942732648 FGM
0.8371135496102814 3PM
0.5515863674628383 3PA
0.23700062128333582 3P%
0.15316830999864772 FG%
0.13152431160991118 MIN
0.04542000956595446 Game
0.041601871982725 FGA
r-squared	 0.9251842117724344

Game
0.9866369075953545 FG%
0.9587665424778065 FGA
0.9394004275855011 PTS
0.4159906419271798 3PM
-0.7396475359267456 MIN
-1.2133676949216643 FGM
-3.4028195496040263 3PA
-10.776632819874301 3P%
r-squared	 0.4458957069637043

FGM
3.0330646896731484 FG%
0.4352264797536633 FGA
0.20536330428355934 3PM
0.1487839318369256 PTS
-0.005221408102763539 Game
-0.018011742982620545 MIN
-0.3055796897606115 3PA
-0.39657924111934717 3P%
r-squared	 0.9509451234771717

FGA
1.2440705456882648 FGM
0.6750375604205745 3PA
0.44930130188854267 3P%
0.03832597832204664 MIN
0.011793366046522825 Game
0.01058379242528528 PTS
-0.48374326502542425 3PM
-4.680141741735166 FG%
r-squared	 0.9389302086155411

FG%
0.22141885241013057 3P%
0.1302838906569288 FGM
0.010940782964637122 3PA
0.0022877716706683838 MIN
0.0005855671564180489 PTS
0.00018237345023239582 Game
-0.055865467360512094 3PM
-0.07032963363772483 FGA
r-squared	 0.6941529140821877

3PM
1.7044354210249406 3P%
0.4032168256667933 3PA
0.08073186100600598 FGM
0.029289046588604123 PTS
0.0007037216171760936 Game
-0.009912632419762087 MIN
-0.06652844222262586 FGA
-0.5112772991934948 FG%
r-squared	 0.8979840697189619

3PA
1.252711012141736 3PM
0.3110811715118495 FG%
0.2884248067278099 FGA
0.05995793074585619 PTS
-0.002698839440954442 MIN
-0.017884158048332304 Game
-0.37321479765849197 FGM
-1.9627376640653942 3P%
r-squared	 0.8882205366800646

3P%
0.38324317148043097 FG%
0.32234972708796633 3PM
0.01168629528719646 FGA
0.0015682565268328634 PTS
0.00027111048306321174 MIN
-0.0034478405484693678 Game
-0.029484845307070972 FGM
-0.11948042630115867 3PA
r-squared	 0.7248675009048969

</pre>
</div>
</div>

</div>
</div>

</div>
    </div>
  </div>
</body>

 


</html>
